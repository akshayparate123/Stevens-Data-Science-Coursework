{
 "cells": [
  {
   "cell_type": "code",
   "execution_count": 3,
   "id": "195e4840",
   "metadata": {},
   "outputs": [
    {
     "name": "stdout",
     "output_type": "stream",
     "text": [
      "       day         t  epsilon      dZ_t  Z_t         S_t      dR_t\n",
      "0      0.0  0.000000      NaN       NaN  0.0  200.000000       NaN\n",
      "1      1.0  0.000000      NaN       NaN  NaN         NaN       NaN\n",
      "2      2.0  0.003968   0.1503  0.002840  NaN  200.652476  0.003257\n",
      "3      3.0  0.007937   0.2729  0.005157  NaN  201.117911  0.005574\n",
      "4      4.0  0.011905   0.6755  0.012766  NaN  202.653938  0.013182\n",
      "..     ...       ...      ...       ...  ...         ...       ...\n",
      "500  500.0  1.980159   0.7330  0.013852  NaN  202.874271  0.014269\n",
      "501  501.0  1.984127  -0.9904 -0.018717  NaN  196.373259 -0.018300\n",
      "502  502.0  1.988095  -0.6412 -0.012118  NaN  197.673463 -0.011701\n",
      "503  503.0  1.992063   0.4384  0.008285  NaN  201.747923  0.008702\n",
      "504  504.0  1.996032  -0.4946 -0.009347  NaN  198.221873 -0.008930\n",
      "\n",
      "[505 rows x 7 columns]\n"
     ]
    }
   ],
   "source": [
    "import numpy as np\n",
    "import pandas as pd\n",
    "\n",
    "# Initialize parameters\n",
    "mu = 0.15\n",
    "sigma = 0.30\n",
    "delta_t = 1/252\n",
    "S0 = 200\n",
    "\n",
    "# Load random numbers from the Innovations tab\n",
    "random_numbers = pd.read_excel(\"Q2.xlsx\", sheet_name=\"Sheet2\")[\"t\"].values\n",
    "\n",
    "# Initialize the table\n",
    "simulation_results = pd.DataFrame(columns=[\"day\", \"t\", \"epsilon\", \"dZ_t\", \"Z_t\", \"S_t\", \"dR_t\"])\n",
    "\n",
    "# Initialize the first row with the first value of the random numbers sequence\n",
    "simulation_results.loc[0] = [0, 0, random_numbers[0], np.nan, 0, S0, np.nan]\n",
    "\n",
    "# Simulate the price path\n",
    "for day in range(1, 505):\n",
    "    epsilon_t = random_numbers[day - 1]\n",
    "    dZ_t = sigma * np.sqrt(delta_t) * epsilon_t\n",
    "    Z_t = simulation_results.loc[day - 1, \"Z_t\"] + dZ_t\n",
    "    S_t = S0 * np.exp((mu - 0.5 * sigma**2) * delta_t + sigma * np.sqrt(delta_t) * epsilon_t)\n",
    "    dR_t = np.log(S_t / S0)\n",
    "    \n",
    "    # Append the results to the table\n",
    "    simulation_results.loc[day] = [day, (day - 1) * delta_t, epsilon_t, dZ_t, Z_t, S_t, dR_t]\n",
    "\n",
    "# Display the results\n",
    "print(simulation_results)\n"
   ]
  },
  {
   "cell_type": "code",
   "execution_count": null,
   "id": "57f75b32",
   "metadata": {},
   "outputs": [],
   "source": []
  }
 ],
 "metadata": {
  "kernelspec": {
   "display_name": "Python 3 (ipykernel)",
   "language": "python",
   "name": "python3"
  },
  "language_info": {
   "codemirror_mode": {
    "name": "ipython",
    "version": 3
   },
   "file_extension": ".py",
   "mimetype": "text/x-python",
   "name": "python",
   "nbconvert_exporter": "python",
   "pygments_lexer": "ipython3",
   "version": "3.11.4"
  }
 },
 "nbformat": 4,
 "nbformat_minor": 5
}
