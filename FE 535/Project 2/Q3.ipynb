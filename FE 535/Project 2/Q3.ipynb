{
 "cells": [
  {
   "cell_type": "code",
   "execution_count": 53,
   "id": "3e693fee-86d5-4583-a304-4310ec768c10",
   "metadata": {},
   "outputs": [],
   "source": [
    "import pandas as pd\n",
    "import datetime\n",
    "import math"
   ]
  },
  {
   "cell_type": "markdown",
   "id": "2713494c-b102-4767-8e94-0f1b0561ebdc",
   "metadata": {},
   "source": [
    "# Managing Linear Risk"
   ]
  },
  {
   "cell_type": "markdown",
   "id": "0227144f-3eaa-4113-881b-02ed64f8c39d",
   "metadata": {},
   "source": [
    "## Calibrating the Exchange Rate Process"
   ]
  },
  {
   "cell_type": "markdown",
   "id": "80601273-0013-424f-8029-ea194a359d01",
   "metadata": {},
   "source": [
    "##### a) For θ, you need to refer to the interest rate parity and estimate θ using the forward quotes from Table 1. Note that this a “forward-looking” approach."
   ]
  },
  {
   "cell_type": "code",
   "execution_count": 7,
   "id": "71cca9b6-32ad-4bae-a869-20fa1a483f73",
   "metadata": {},
   "outputs": [],
   "source": [
    "forward_quotes = pd.read_csv(\"FE535_Forward_Prices.csv\")\n",
    "spot_rate = 1.2273"
   ]
  },
  {
   "cell_type": "markdown",
   "id": "16efea77-6299-48cd-8e87-0a34f54f88d2",
   "metadata": {},
   "source": []
  },
  {
   "cell_type": "code",
   "execution_count": 49,
   "id": "359f477d-54ba-4f22-9841-4602d7069beb",
   "metadata": {},
   "outputs": [
    {
     "data": {
      "text/html": [
       "<div>\n",
       "<style scoped>\n",
       "    .dataframe tbody tr th:only-of-type {\n",
       "        vertical-align: middle;\n",
       "    }\n",
       "\n",
       "    .dataframe tbody tr th {\n",
       "        vertical-align: top;\n",
       "    }\n",
       "\n",
       "    .dataframe thead th {\n",
       "        text-align: right;\n",
       "    }\n",
       "</style>\n",
       "<table border=\"1\" class=\"dataframe\">\n",
       "  <thead>\n",
       "    <tr style=\"text-align: right;\">\n",
       "      <th></th>\n",
       "      <th>Name</th>\n",
       "      <th>Bid</th>\n",
       "      <th>Ask</th>\n",
       "      <th>High</th>\n",
       "      <th>Low</th>\n",
       "      <th>Theta</th>\n",
       "    </tr>\n",
       "  </thead>\n",
       "  <tbody>\n",
       "    <tr>\n",
       "      <th>0</th>\n",
       "      <td>GBPUSD 1M FWD</td>\n",
       "      <td>1.90</td>\n",
       "      <td>2.20</td>\n",
       "      <td>2.08</td>\n",
       "      <td>1.95</td>\n",
       "      <td>6.156278</td>\n",
       "    </tr>\n",
       "    <tr>\n",
       "      <th>1</th>\n",
       "      <td>GBPUSD 2M FWD</td>\n",
       "      <td>5.48</td>\n",
       "      <td>6.28</td>\n",
       "      <td>5.87</td>\n",
       "      <td>4.82</td>\n",
       "      <td>9.400441</td>\n",
       "    </tr>\n",
       "    <tr>\n",
       "      <th>2</th>\n",
       "      <td>GBPUSD 3M FWD</td>\n",
       "      <td>8.19</td>\n",
       "      <td>8.49</td>\n",
       "      <td>8.32</td>\n",
       "      <td>7.63</td>\n",
       "      <td>7.664986</td>\n",
       "    </tr>\n",
       "    <tr>\n",
       "      <th>3</th>\n",
       "      <td>GBPUSD 4M FWD</td>\n",
       "      <td>10.61</td>\n",
       "      <td>11.11</td>\n",
       "      <td>10.92</td>\n",
       "      <td>9.93</td>\n",
       "      <td>6.540809</td>\n",
       "    </tr>\n",
       "    <tr>\n",
       "      <th>4</th>\n",
       "      <td>GBPUSD 5M FWD</td>\n",
       "      <td>11.68</td>\n",
       "      <td>16.68</td>\n",
       "      <td>14.27</td>\n",
       "      <td>12.86</td>\n",
       "      <td>5.872838</td>\n",
       "    </tr>\n",
       "    <tr>\n",
       "      <th>5</th>\n",
       "      <td>GBPUSD 6M FWD</td>\n",
       "      <td>15.17</td>\n",
       "      <td>18.17</td>\n",
       "      <td>16.94</td>\n",
       "      <td>16.00</td>\n",
       "      <td>5.217588</td>\n",
       "    </tr>\n",
       "    <tr>\n",
       "      <th>6</th>\n",
       "      <td>GBPUSD 7M FWD</td>\n",
       "      <td>17.40</td>\n",
       "      <td>21.80</td>\n",
       "      <td>20.24</td>\n",
       "      <td>18.81</td>\n",
       "      <td>4.749794</td>\n",
       "    </tr>\n",
       "    <tr>\n",
       "      <th>7</th>\n",
       "      <td>GBPUSD 8M FWD</td>\n",
       "      <td>19.66</td>\n",
       "      <td>24.61</td>\n",
       "      <td>23.20</td>\n",
       "      <td>21.59</td>\n",
       "      <td>4.338515</td>\n",
       "    </tr>\n",
       "    <tr>\n",
       "      <th>8</th>\n",
       "      <td>GBPUSD 9M FWD</td>\n",
       "      <td>23.71</td>\n",
       "      <td>24.87</td>\n",
       "      <td>26.17</td>\n",
       "      <td>23.60</td>\n",
       "      <td>3.980331</td>\n",
       "    </tr>\n",
       "    <tr>\n",
       "      <th>9</th>\n",
       "      <td>GBPUSD 10M FWD</td>\n",
       "      <td>26.07</td>\n",
       "      <td>27.45</td>\n",
       "      <td>29.03</td>\n",
       "      <td>26.47</td>\n",
       "      <td>3.698510</td>\n",
       "    </tr>\n",
       "    <tr>\n",
       "      <th>10</th>\n",
       "      <td>GBPUSD 11M FWD</td>\n",
       "      <td>22.50</td>\n",
       "      <td>35.95</td>\n",
       "      <td>31.93</td>\n",
       "      <td>28.00</td>\n",
       "      <td>3.458409</td>\n",
       "    </tr>\n",
       "    <tr>\n",
       "      <th>11</th>\n",
       "      <td>GBPUSD 1Y FWD</td>\n",
       "      <td>28.84</td>\n",
       "      <td>33.84</td>\n",
       "      <td>34.14</td>\n",
       "      <td>28.80</td>\n",
       "      <td>38.880943</td>\n",
       "    </tr>\n",
       "  </tbody>\n",
       "</table>\n",
       "</div>"
      ],
      "text/plain": [
       "              Name    Bid    Ask   High    Low      Theta\n",
       "0    GBPUSD 1M FWD   1.90   2.20   2.08   1.95   6.156278\n",
       "1    GBPUSD 2M FWD   5.48   6.28   5.87   4.82   9.400441\n",
       "2    GBPUSD 3M FWD   8.19   8.49   8.32   7.63   7.664986\n",
       "3    GBPUSD 4M FWD  10.61  11.11  10.92   9.93   6.540809\n",
       "4    GBPUSD 5M FWD  11.68  16.68  14.27  12.86   5.872838\n",
       "5    GBPUSD 6M FWD  15.17  18.17  16.94  16.00   5.217588\n",
       "6    GBPUSD 7M FWD  17.40  21.80  20.24  18.81   4.749794\n",
       "7    GBPUSD 8M FWD  19.66  24.61  23.20  21.59   4.338515\n",
       "8    GBPUSD 9M FWD  23.71  24.87  26.17  23.60   3.980331\n",
       "9   GBPUSD 10M FWD  26.07  27.45  29.03  26.47   3.698510\n",
       "10  GBPUSD 11M FWD  22.50  35.95  31.93  28.00   3.458409\n",
       "11   GBPUSD 1Y FWD  28.84  33.84  34.14  28.80  38.880943"
      ]
     },
     "execution_count": 49,
     "metadata": {},
     "output_type": "execute_result"
    }
   ],
   "source": [
    "def calculate_theta(bid, ask, T):\n",
    "    forward_rate = (bid + ask) / 2  # Using the midpoint of bid and ask as forward rate\n",
    "    return math.log(forward_rate / spot_rate) / T\n",
    "thetas = []\n",
    "for contract,bid,ask in zip(forward_quotes[\"Name\"],forward_quotes[\"Bid\"],forward_quotes[\"Ask\"]):\n",
    "    if contract.split()[1] == '1Y FWD':\n",
    "        T = 1\n",
    "    else:\n",
    "        T = int(contract.split()[1][:-1]) / 12  # Convert maturity to years\n",
    "    theta = calculate_theta(bid, ask, T)\n",
    "    thetas.append(theta)\n",
    "forward_quotes[\"Theta\"] = thetas\n",
    "forward_quotes"
   ]
  },
  {
   "cell_type": "markdown",
   "id": "0ee49e56-7999-4349-8cef-02649835d22d",
   "metadata": {},
   "source": [
    "##### b) For foreign exchange rates, it is common to relate to the interbank lending rate in terms risk-free rate. In particular the data file named FE535_Libor_USD_GBP.csv contains LIBOR rates for both USD and GBP. How does your calibrated θ compare with LIBOR rates? (10 Points)"
   ]
  },
  {
   "cell_type": "code",
   "execution_count": 45,
   "id": "03ca7ef5-6fac-4c67-baec-eae0aab7c577",
   "metadata": {},
   "outputs": [],
   "source": [
    "libor_rates = pd.read_csv(\"FE535_Libor_USD_GBP.csv\")"
   ]
  },
  {
   "cell_type": "code",
   "execution_count": 46,
   "id": "6699318e-f4a7-402e-aa82-b30ea30e6f79",
   "metadata": {},
   "outputs": [
    {
     "name": "stdout",
     "output_type": "stream",
     "text": [
      "Libor Rates\n",
      "===========\n",
      "1M FWD 1.23548\n",
      "3M FWD 0.28024999999999967\n",
      "6M FWD 1.0980300000000005\n",
      "\n",
      "Calibrated Theta\n",
      "================\n",
      "1M FWD 6.156277902347894\n",
      "3M FWD 7.664986326997319\n",
      "6M FWD 5.217588124282754\n"
     ]
    }
   ],
   "source": [
    "print(\"Libor Rates\")\n",
    "print(\"===========\")\n",
    "print(\"1M FWD\",libor_rates.iloc[-1][\"US0001M Index\"] - libor_rates.iloc[-1][\"BP0001M Index\"])\n",
    "print(\"3M FWD\",libor_rates.iloc[-1][\"US0003M Index\"] - libor_rates.iloc[-1][\"BP0003M Index\"])\n",
    "print(\"6M FWD\",libor_rates.iloc[-1][\"US0006M Index\"] - libor_rates.iloc[-1][\"BP0006M Index\"])\n",
    "print()\n",
    "print(\"Calibrated Theta\")\n",
    "print(\"================\")\n",
    "print(\"1M FWD\",forward_quotes[\"Theta\"][0])\n",
    "print(\"3M FWD\",forward_quotes[\"Theta\"][2])\n",
    "print(\"6M FWD\",forward_quotes[\"Theta\"][5])"
   ]
  },
  {
   "cell_type": "markdown",
   "id": "b3144f59-0819-4ef2-865b-6e4535ec6535",
   "metadata": {},
   "source": [
    "These differences represent the deviations between the interest rate differentials implied by the LIBOR rates and the calibrated theta values for the corresponding forward contracts."
   ]
  },
  {
   "cell_type": "markdown",
   "id": "282cd74a-c090-41a2-92f5-4f3497be1ff7",
   "metadata": {},
   "source": [
    "##### c) For σ, you need to download data for the daily GBP/USD exchange rate using the “GBPUSD=X” symbol from Yahoo Finance. Your data should be daily and range between 2018-01-01 and 2022-04-03. Given the adjusted prices, you need to calibrate σ using the historical returns. Note that this calibration is backward-looking, which is in line with what you did in Project 1. (5 Points)"
   ]
  },
  {
   "cell_type": "code",
   "execution_count": 50,
   "id": "1fafe49e-bbc1-4615-9887-b4eed3df5b40",
   "metadata": {},
   "outputs": [
    {
     "name": "stderr",
     "output_type": "stream",
     "text": [
      "[*********************100%%**********************]  1 of 1 completed"
     ]
    },
    {
     "name": "stdout",
     "output_type": "stream",
     "text": [
      "Calibrated sigma (volatility): 0.07705895316748293\n"
     ]
    },
    {
     "name": "stderr",
     "output_type": "stream",
     "text": [
      "\n"
     ]
    }
   ],
   "source": [
    "import yfinance as yf\n",
    "import numpy as np\n",
    "\n",
    "# Download historical exchange rate data\n",
    "start_date = '2018-01-01'\n",
    "end_date = '2022-04-03'\n",
    "exchange_rate_data = yf.download('GBPUSD=X', start=start_date, end=end_date)\n",
    "\n",
    "# Calculate daily returns\n",
    "exchange_rate_data['Daily_Returns'] = exchange_rate_data['Adj Close'].pct_change()\n",
    "\n",
    "# Compute volatility (σ)\n",
    "# Using a 30-day rolling window for volatility calculation\n",
    "rolling_window = 30\n",
    "exchange_rate_data['Volatility'] = exchange_rate_data['Daily_Returns'].rolling(window=rolling_window).std() * np.sqrt(252)\n",
    "\n",
    "# Select the last available volatility value as the calibrated σ\n",
    "calibrated_sigma = exchange_rate_data['Volatility'].dropna().iloc[-1]\n",
    "\n",
    "print(f\"Calibrated sigma (volatility): {calibrated_sigma}\")\n"
   ]
  },
  {
   "cell_type": "markdown",
   "id": "2d228c74-96ce-4b46-9f74-d04a37096782",
   "metadata": {},
   "source": [
    "### VaR for the Unhedged (10 Points)"
   ]
  },
  {
   "cell_type": "markdown",
   "id": "389f3eb6-e39f-4a34-bbfc-1b8b4c09019c",
   "metadata": {},
   "source": [
    "##### Assume that the exporter does not hedge the exchange rate risk. In this case, the exporter exchanges the GBP on the spot market upon receiving the payment in the future. Let VT denote the profit/loss (P&L) of the exporter at delivery time. Let P&L = ST −St. What is the 99% VaR of the exporter’s\n",
    "##### P&L in $? (5 Points).Recall that if VT denotes the P&L at time T, then the 1 − α VaR is V aRt(VT , α) = Et[VT ] − Qt(VT , α) (3)\n",
    "##### Hint: If the pound weakens relative to the dollar, then the exporter gets paid less dollars in the future. Given that the exporter expects 1.25M pounds, the future P&L depends on the future spot rate. You need to address this question using a MC simulation."
   ]
  },
  {
   "cell_type": "code",
   "execution_count": 51,
   "id": "9677604f-99c5-40db-99f3-ad6d5604350d",
   "metadata": {},
   "outputs": [
    {
     "name": "stdout",
     "output_type": "stream",
     "text": [
      "99% VaR of the exporter's P&L in USD: -0.26075315295406476\n"
     ]
    }
   ],
   "source": [
    "# Function to simulate future spot rates using GBM\n",
    "def simulate_future_spot_rate(S0, mu, sigma, T, num_simulations):\n",
    "    dt = 1 / 252  # Assuming daily simulations\n",
    "    num_steps = int(T / dt)\n",
    "    dW = np.random.normal(0, np.sqrt(dt), size=(num_simulations, num_steps))\n",
    "    W = np.cumsum(dW, axis=1)\n",
    "    ST = S0 * np.exp((mu - 0.5 * sigma**2) * T + sigma * np.sqrt(T) * W[:, -1])\n",
    "    return ST\n",
    "\n",
    "# Parameters\n",
    "S0 = 1.2273  # Current spot rate\n",
    "mu = 0  # Drift (assuming constant)\n",
    "sigma = 0.1  # Calibrated volatility\n",
    "T = 1  # Time to delivery in years\n",
    "num_simulations = 100000  # Number of simulations\n",
    "\n",
    "# Simulate future spot rates\n",
    "future_spot_rates = simulate_future_spot_rate(S0, mu, sigma, T, num_simulations)\n",
    "\n",
    "# Calculate P&L (VT)\n",
    "PnL = future_spot_rates - S0\n",
    "\n",
    "# Calculate 99th percentile VaR\n",
    "VaR_99 = np.percentile(PnL, 1)\n",
    "\n",
    "print(f\"99% VaR of the exporter's P&L in USD: {VaR_99}\")\n"
   ]
  },
  {
   "cell_type": "markdown",
   "id": "10b4cd23-2d72-4d5a-9531-82f4819937a4",
   "metadata": {},
   "source": [
    "The calculated 99% VaR of the exporter's profit/loss (P&L) in USD is approximately -0.2608. This means that there is a 99% confidence level that the exporter's P&L will not fall below this value.\n",
    "\n",
    "Since the VaR value is negative, it indicates that there is a 99% chance that the exporter's P&L will be greater than this amount, providing a measure of downside risk for the exporter in terms of potential losses in USD."
   ]
  },
  {
   "cell_type": "markdown",
   "id": "af84bfb5-b41d-4326-a2d3-c8c5f7b992aa",
   "metadata": {},
   "source": [
    "### Unitary Hedge (30 Points)"
   ]
  },
  {
   "cell_type": "code",
   "execution_count": 57,
   "id": "9d7bcd7e-7f08-4a1b-b0e7-0876e393aa17",
   "metadata": {},
   "outputs": [],
   "source": [
    "# Function to simulate future spot rates using GBM\n",
    "def simulate_future_spot_rate(S0, mu, sigma, T, num_simulations):\n",
    "    dt = 1 / 252  # Assuming daily simulations\n",
    "    num_steps = int(T / dt)\n",
    "    dW = np.random.normal(0, np.sqrt(dt), size=(num_simulations, num_steps))\n",
    "    W = np.cumsum(dW, axis=1)\n",
    "    ST = S0 * np.exp((mu - 0.5 * sigma**2) * T + sigma * np.sqrt(T) * W[:, -1])\n",
    "    return ST\n",
    "\n",
    "# Parameters\n",
    "S0 = 1.2273  # Current spot rate\n",
    "mu = 0  # Drift (assuming constant)\n",
    "sigma = 0.1  # Calibrated volatility\n",
    "T_dec_2024 = (datetime.datetime(2024, 12, 1) - datetime.datetime.now()).days / 252  # Time to Dec 2024\n",
    "T_sep_2024 = (datetime.datetime(2024, 9, 1) - datetime.datetime.now()).days / 252  # Time to Sep 2024\n",
    "num_simulations = 100000  # Number of simulations"
   ]
  },
  {
   "cell_type": "markdown",
   "id": "1e434492-f110-4457-9072-8388ee66eeb0",
   "metadata": {},
   "source": [
    "##### Suppose you use the futures contract expiring in Dec 2024. What is the 99% VaR of the P&L with unitary hedging? (10 Points)"
   ]
  },
  {
   "cell_type": "code",
   "execution_count": 58,
   "id": "608a2ba9-ecc8-448c-adfc-80886c36d64a",
   "metadata": {},
   "outputs": [
    {
     "name": "stdout",
     "output_type": "stream",
     "text": [
      "99% VaR of P&L with Dec 2024 Futures Contract: -0.267411164133277\n"
     ]
    }
   ],
   "source": [
    "# Step 1: Simulate future spot rates\n",
    "future_spot_rates_dec_2024 = simulate_future_spot_rate(S0, mu, sigma, T_dec_2024, num_simulations)\n",
    "# Step 2: Calculate futures price using interest rate parity formula\n",
    "futures_price_dec_2024 = S0 * np.exp((mu - 0) * T_dec_2024)\n",
    "# Step 3: Calculate P&L\n",
    "PnL_dec_2024 = futures_price_dec_2024 - future_spot_rates_dec_2024\n",
    "# Step 4: Calculate VaR\n",
    "VaR_99_dec_2024 = np.percentile(PnL_dec_2024, 1)\n",
    "print(f\"99% VaR of P&L with Dec 2024 Futures Contract: {VaR_99_dec_2024}\")"
   ]
  },
  {
   "cell_type": "markdown",
   "id": "bcd82fb0-4ea8-4593-bb55-b756c33a7098",
   "metadata": {},
   "source": [
    "##### Suppose instead you use the futures contract expiring in Sep 2024 (before delivery). What is the 99% VaR of the P&L now? (10 Points)"
   ]
  },
  {
   "cell_type": "code",
   "execution_count": 59,
   "id": "8f1beda2-91f8-48c3-8fef-39c900ac093c",
   "metadata": {},
   "outputs": [
    {
     "name": "stdout",
     "output_type": "stream",
     "text": [
      "99% VaR of P&L with Sept 2024 Futures Contract: -0.1481742047049761\n"
     ]
    }
   ],
   "source": [
    "future_spot_rates_sept_2024 = simulate_future_spot_rate(S0, mu, sigma, T_sep_2024, num_simulations)\n",
    "futures_price_sept_2024 = S0 * np.exp((mu - 0) * T_sep_2024)\n",
    "PnL_sept_2024 = futures_price_sept_2024 - future_spot_rates_sept_2024\n",
    "VaR_99_sept_2024 = np.percentile(PnL_sept_2024, 1)\n",
    "print(f\"99% VaR of P&L with Sept 2024 Futures Contract: {VaR_99_sept_2024}\")\n"
   ]
  },
  {
   "cell_type": "markdown",
   "id": "f32b87a8-1791-4d85-b3f7-e77f43253737",
   "metadata": {},
   "source": [
    "##### How do justify the difference in VaR when comparing your response to Part 2, Part 3 (a), and Part (b). Elaborate in terms of basis risk"
   ]
  },
  {
   "cell_type": "markdown",
   "id": "31a2a2c4-c4f6-449f-84fd-ceb27c747645",
   "metadata": {},
   "source": [
    "The difference in VaR between the scenarios using the Dec 2024 and Sep 2024 futures contracts can be attributed to basis risk. Basis risk arises from imperfect correlation between the hedging instrument (futures contract) and the underlying exposure (GBP payment).\n",
    "\n",
    "**Maturity Mismatch**: The Dec 2024 futures contract matures closer to the delivery date of the GBP payment compared to the Sep 2024 contract. Therefore, it better matches the timing of the underlying exposure. This results in a lower basis risk as the futures contract's expiration is closer to the delivery date of the GBP payment. Consequently, the VaR with the Dec 2024 futures contract is higher.\n",
    "\n",
    "**Volatility Mismatch**: Since the Sep 2024 futures contract has a shorter maturity, it may have a higher sensitivity to short-term fluctuations in the spot rate compared to the Dec 2024 contract. This mismatch in volatility between the futures contract and the underlying exposure can lead to increased basis risk and hence a lower VaR.\n",
    "\n",
    "**Liquidity Risk**: The Dec 2024 futures contract may have higher liquidity compared to the Sep 2024 contract, resulting in tighter bid-ask spreads and lower transaction costs. This can contribute to a more effective hedge and a lower VaR.\n",
    "\n",
    "In summary, the difference in VaR between using Dec 2024 and Sep 2024 futures contracts can be attributed to the degree of basis risk associated with each hedge. The Dec 2024 contract provides a better hedge due to its closer maturity and potentially lower volatility mismatch, resulting in a higher VaR. Conversely, the Sep 2024 contract may have higher basis risk due to its shorter maturity and higher volatility mismatch, leading to a lower VaR.R."
   ]
  },
  {
   "cell_type": "markdown",
   "id": "4c18ba97-0d53-4ce5-bfec-3ac7e91df789",
   "metadata": {},
   "source": [
    "### Hedging using ETFs (10 Points)\n"
   ]
  },
  {
   "cell_type": "markdown",
   "id": "ced3fc54-7aad-4f84-90e2-7a53c023ce98",
   "metadata": {},
   "source": [
    "##### Suppose for some reason the exporter decides to use ETFs (or ETNs) to hedge currency exposure instead of using futures or forward contracts. Your task is to screen 5 different ETFs. For each ETF, provide an economic rationale behind each to serve as a GBP/USD hedge. Justify your reasoning by reporting the hedge effectiveness of each instrument. Note this is an open question without a unique answer. However, your reasoning should make sense in terms of economic mechanisms behind the GBP/USD exchange rate movement.\n"
   ]
  },
  {
   "cell_type": "markdown",
   "id": "fcaa184e-532f-4e58-bb32-5018027f3249",
   "metadata": {},
   "source": [
    "When selecting ETFs (or ETNs) to hedge currency exposure, it's essential to consider their correlation with the GBP/USD exchange rate and their underlying assets. Here's a rationale for selecting five different ETFs along with their potential hedge effectiveness:\n",
    "\n",
    "**CurrencyShares British Pound Sterling Trust (FXB):**\n",
    "\n",
    "Rationale: FXB directly tracks the movement of the British Pound Sterling (GBP) against the USD. Holding FXB can provide a direct hedge against GBP/USD exchange rate movements.\n",
    "\n",
    "Hedge Effectiveness: FXB's effectiveness as a hedge is high since it perfectly mirrors the GBP/USD exchange rate movements.\n",
    "\n",
    "**iShares MSCI United Kingdom ETF (EWU):**\n",
    "\n",
    "Rationale: EWU invests in a broad range of UK equities, including large and mid-sized companies. Since the performance of UK equities is closely tied to the economic health of the UK, which influences the GBP, EWU can serve as an indirect hedge against GBP/USD movements.\n",
    "\n",
    "Hedge Effectiveness: EWU's effectiveness as a hedge may vary depending on factors such as global market sentiment, economic conditions in the UK, and currency fluctuations relative to other currencies in the ETF's portfolio.\n",
    "\n",
    "**Vanguard FTSE 100 ETF (VUKG.L):**\n",
    "\n",
    "Rationale: VUKG.L tracks the performance of the FTSE 100 Index, which consists of the 100 largest companies listed on the London Stock Exchange. Since many of these companies derive a significant portion of their revenue from international markets, including the US, movements in the GBP/USD exchange rate can impact their earnings and thus the ETF's performance.\n",
    "\n",
    "Hedge Effectiveness: VUKG.L may provide a moderate hedge against GBP/USD movements, but its effectiveness could be influenced by factors such as currency hedging strategies employed by the companies in the index and global economic conditions.\n",
    "\n",
    "**Invesco CurrencyShares Euro Trust (FXE):**\n",
    "\n",
    "Rationale: While FXE directly tracks the Euro (EUR) against the USD, it can indirectly provide exposure to the GBP/USD exchange rate since the GBP and EUR often move in tandem due to their geographical proximity and economic ties.\n",
    "\n",
    "Hedge Effectiveness: FXE's effectiveness as a hedge against GBP/USD movements may be moderate, as it depends on the correlation between EUR/USD and GBP/USD exchange rates.\n",
    "\n",
    "**SPDR Gold Shares (GLD):**\n",
    "\n",
    "Rationale: GLD tracks the price of gold, which is often viewed as a safe-haven asset. During periods of economic uncertainty or currency devaluation, investors may flock to gold, causing its price to rise. As a result, holding GLD can provide a hedge against currency depreciation, including movements in GBP/USD.\n",
    "\n",
    "Hedge Effectiveness: GLD's effectiveness as a hedge against GBP/USD movements may vary, with its performance influenced by factors such as geopolitical tensions, inflation expectations, and US dollar strength."
   ]
  },
  {
   "cell_type": "code",
   "execution_count": null,
   "id": "40cdca1d-2ab3-4ba9-848f-dcbe32d4b893",
   "metadata": {},
   "outputs": [],
   "source": []
  }
 ],
 "metadata": {
  "kernelspec": {
   "display_name": "Python 3 (ipykernel)",
   "language": "python",
   "name": "python3"
  },
  "language_info": {
   "codemirror_mode": {
    "name": "ipython",
    "version": 3
   },
   "file_extension": ".py",
   "mimetype": "text/x-python",
   "name": "python",
   "nbconvert_exporter": "python",
   "pygments_lexer": "ipython3",
   "version": "3.11.8"
  }
 },
 "nbformat": 4,
 "nbformat_minor": 5
}
