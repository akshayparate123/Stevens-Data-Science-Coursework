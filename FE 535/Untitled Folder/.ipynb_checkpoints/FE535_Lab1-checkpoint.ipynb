{
 "cells": [
  {
   "cell_type": "markdown",
   "metadata": {
    "id": "Hq2AfDcPjxQM"
   },
   "source": [
    "# FE 535 Lab 1\n",
    "### Authors: Tejas Appana, Akshay Parate\n",
    "### I pledge my honor that I have abided by the Stevens Honor System"
   ]
  },
  {
   "cell_type": "markdown",
   "metadata": {
    "id": "KHjFbvuDksAi"
   },
   "source": [
    "## Task 1.\n",
    "\n",
    "Tejas Appana is in the last semester of his Quantitative Finance Undergraduate degree. He interned this past summer in a Market Liquidity Risk Management role. Tejas has always been passionate about applying mathematial techniques to real world scenarios, and given his creative problem solving skills, took it upon himself to self-teach the nuances of computer science and advanced programming techniques. Now, he enjoys challenging his capabilities to the highest extent and continues to broaden his scope in financial modeling, forecasting, data science, machine learning, time series analysis and any form of alpha-generation.\n",
    "\n",
    "Akshay Parate, currently in the second semester of his Data Science graduate degree, brings a wealth of practical experience with 2 years in IT as a senior consultant at a reputable firm. Passionate about coding, finance, and statistics, he has successfully deployed two algorithmic strategies, showcasing his expertise in both data science and financial analytics. With a strong academic foundation and a proven track record in the industry, Akshay is a dedicated professional who seamlessly blends theoretical knowledge with hands-on experience in the field of data science and finance."
   ]
  },
  {
   "cell_type": "markdown",
   "metadata": {
    "id": "LW4Vol3olNnb"
   },
   "source": [
    "## Task 2.\n",
    "\n",
    "Our team's preferred programming languages in the following order are:\n",
    "1. Python\n",
    "2. R\n",
    "\n",
    "We chose Python for the purpose of this class as it may be easier to collaborate on the labs through Google Colab."
   ]
  },
  {
   "cell_type": "markdown",
   "metadata": {
    "id": "pmumDRN6leiI"
   },
   "source": [
    "## Task 3."
   ]
  },
  {
   "cell_type": "markdown",
   "metadata": {
    "id": "cuUozU6ouzGX"
   },
   "source": [
    "Here we are trying to prove: ${E}[R_A] = 52 * {E}[R_w]$.\n",
    "Since $R_A = \\sum_{n=1}^{52}R_w$, then ${E}[R_A] = {E}[\\sum_{n=1}^{52}R_w]$.\n",
    "Under the assumption that $R_w$ is i.i.d., we can pull the expectation inside the summation and get the expression ${E}[R_A] = \\sum_{n=1}^{52}{E}[R_w]$.\n",
    "Then, since $R_w$ is i.i.d., the expected value of each $R_w$ is equal to every $R_w$ making $\\sum_{n=1}^{52}{E}[R_w] = 52 * {E}[R_w]$ and by the transitive property, ${E}[R_A] = 52 * {E}[R_w]$.\n",
    "\n",
    "Here we are trying to prove: $\\sqrt{{V}[R_A]} = \\sqrt{52{V}[R_w]}$.\n",
    "Since $R_A = \\sum_{n=1}^{52}R_w$, then $\\sqrt{{V}[R_A]} = \\sqrt{{V}[\\sum_{n=1}^{52}R_w]}$.\n",
    "Under the assumption that $R_w$ is i.i.d., we can pull the variance inside the summation and get the expression ${V}[R_A] = \\sqrt{\\sum_{n=1}^{52}{V}[R_w]}$.\n",
    "Then, since $R_w$ is i.i.d., the variance value of each $R_w$ is equal to every $R_w$ making $\\sqrt{\\sum_{n=1}^{52}{V}[R_w]} = \\sqrt{52{V}[R_w]}$ and by the transitive property, $\\sqrt{{V}[R_A]} = \\sqrt{52{V}[R_w]}$."
   ]
  },
  {
   "cell_type": "markdown",
   "metadata": {
    "id": "CrZvwxvgkU2w"
   },
   "source": [
    "2\\. Also, **what is the assumption behind this to hold true**? (1 point)\n",
    "\n",
    "The above scales assume that the stock returns are normally distributed, which in conjunction assumes that the stock prices are log-normal."
   ]
  },
  {
   "cell_type": "markdown",
   "metadata": {
    "id": "P92gG38nWOVn"
   },
   "source": [
    "## Task 4.\n",
    "\n",
    "Go to Yahoo Finance and download weekly historical data for SPY and GLD ETFs, dating from 2010 to 2022. Compute the weekly log returns using the adjusted close price column. This should result in two time series (two columns). Based on this, report the annual mean return and volatility for each ETF.\n",
    "\n",
    "1. The first approach to answer this is to scale weekly average returns and volatility (standard deviation) to reflect annual values - same as above (1 point)\n",
    "2. The other approach is to compute annual rather than weekly returns. Given the annual return time series, compute the average and volatility (1 point)\n",
    "3. How do both results compare? (1 point)"
   ]
  },
  {
   "cell_type": "code",
   "execution_count": null,
   "metadata": {
    "id": "ym6ONYh4WVOo"
   },
   "outputs": [],
   "source": [
    "import yfinance as yf\n",
    "import pandas as pd\n",
    "import numpy as np\n",
    "import matplotlib.pyplot as plt\n",
    "import warnings\n",
    "\n",
    "warnings.filterwarnings(\"ignore\")"
   ]
  },
  {
   "cell_type": "markdown",
   "metadata": {
    "id": "JgERY2d4XdMd"
   },
   "source": [
    "### Approach 1."
   ]
  },
  {
   "cell_type": "code",
   "execution_count": null,
   "metadata": {
    "id": "v0ut-uz9WXDA"
   },
   "outputs": [],
   "source": [
    "df = yf.download([\"SPY\", \"GLD\"], start=\"2010-01-01\", end=\"2022-12-31\", interval=\"1wk\", progress=False)\n",
    "df = df[\"Adj Close\"]"
   ]
  },
  {
   "cell_type": "code",
   "execution_count": null,
   "metadata": {
    "id": "9MLCceqqWw12"
   },
   "outputs": [],
   "source": [
    "df = np.log1p(df.pct_change().dropna())"
   ]
  },
  {
   "cell_type": "code",
   "execution_count": null,
   "metadata": {
    "colab": {
     "base_uri": "https://localhost:8080/"
    },
    "id": "y_gkpjEiXP-m",
    "outputId": "e44a74bc-6e9c-437e-b1cc-a4c0bc31880d"
   },
   "outputs": [
    {
     "data": {
      "text/plain": [
       "Ticker\n",
       "GLD    0.032655\n",
       "SPY    0.111708\n",
       "dtype: float64"
      ]
     },
     "execution_count": 58,
     "metadata": {},
     "output_type": "execute_result"
    }
   ],
   "source": [
    "np.mean(df, axis=0) * 52"
   ]
  },
  {
   "cell_type": "markdown",
   "metadata": {
    "id": "oo6ernPyXqaM"
   },
   "source": [
    "The annualized mean of GLD is 3.265%, and for SPY it is 11.17%"
   ]
  },
  {
   "cell_type": "code",
   "execution_count": null,
   "metadata": {
    "colab": {
     "base_uri": "https://localhost:8080/"
    },
    "id": "V5oTKLCcXzbt",
    "outputId": "573fcc77-feb5-4f0f-a2b7-252135b3aa83"
   },
   "outputs": [
    {
     "data": {
      "text/plain": [
       "Ticker\n",
       "GLD    0.158665\n",
       "SPY    0.163628\n",
       "dtype: float64"
      ]
     },
     "execution_count": 59,
     "metadata": {},
     "output_type": "execute_result"
    }
   ],
   "source": [
    "np.std(df, axis=0) * np.sqrt(52)"
   ]
  },
  {
   "cell_type": "markdown",
   "metadata": {
    "id": "JeuYPuiNZwKW"
   },
   "source": [
    "The annualized volatility of GLD is 15.86%, and for SPY it is 16.36%"
   ]
  },
  {
   "cell_type": "markdown",
   "metadata": {
    "id": "vH_wsnjYYImJ"
   },
   "source": [
    "### Approach 2."
   ]
  },
  {
   "cell_type": "code",
   "execution_count": null,
   "metadata": {
    "id": "g0WoEX-_YKgD"
   },
   "outputs": [],
   "source": [
    "df = yf.download([\"SPY\", \"GLD\"], start=\"2010-01-01\", end=\"2022-12-31\", interval=\"3mo\", progress=False)  # 3-month is the largest interval supported by yfinance\n",
    "df = df[\"Adj Close\"].resample(\"Y\").first()"
   ]
  },
  {
   "cell_type": "code",
   "execution_count": null,
   "metadata": {
    "id": "nk-mRBTMY7m7"
   },
   "outputs": [],
   "source": [
    "df = np.log1p(df.pct_change().dropna())"
   ]
  },
  {
   "cell_type": "code",
   "execution_count": null,
   "metadata": {
    "colab": {
     "base_uri": "https://localhost:8080/"
    },
    "id": "mvWXV1pgZWmm",
    "outputId": "b6a2d606-3b4c-4db5-efff-8e6f5a9a2433"
   },
   "outputs": [
    {
     "data": {
      "text/plain": [
       "Ticker\n",
       "GLD    0.042139\n",
       "SPY    0.131870\n",
       "dtype: float64"
      ]
     },
     "execution_count": 62,
     "metadata": {},
     "output_type": "execute_result"
    }
   ],
   "source": [
    "np.mean(df, axis=0)"
   ]
  },
  {
   "cell_type": "code",
   "execution_count": null,
   "metadata": {
    "colab": {
     "base_uri": "https://localhost:8080/"
    },
    "id": "g44G7irpZaRP",
    "outputId": "0172012c-90f5-4fad-a2d7-ed9563fb320b"
   },
   "outputs": [
    {
     "data": {
      "text/plain": [
       "Ticker\n",
       "GLD    0.124377\n",
       "SPY    0.117470\n",
       "dtype: float64"
      ]
     },
     "execution_count": 63,
     "metadata": {},
     "output_type": "execute_result"
    }
   ],
   "source": [
    "np.std(df, axis=0)"
   ]
  },
  {
   "cell_type": "markdown",
   "metadata": {
    "id": "oNt5eoRZZxeW"
   },
   "source": [
    "The annualized volatility of GLD is 12.44%, and for SPY it is 11.74%"
   ]
  },
  {
   "cell_type": "markdown",
   "metadata": {
    "id": "XvWxp_TcZ5DX"
   },
   "source": [
    "### Compare Results\n",
    "\n",
    "We found that by using weekly data and annualizing the moments based on that data, there were some discrepancies than by calculating the moments straight from the annual time series.\n",
    "\n",
    "The annual means for example, were a little higher when calculated from the annual time series. The volatilities however, were lower for both ETFs when calculated from the annual time series. Overall though, the values were fairly similar."
   ]
  },
  {
   "cell_type": "markdown",
   "metadata": {
    "id": "VnmD50p7UFhC"
   },
   "source": [
    "### **Task 5**\n",
    "Follow the first approach, compute the correlation coefficient between the two ETFs, and report the covariance matrix. (1 point)"
   ]
  },
  {
   "cell_type": "code",
   "execution_count": null,
   "metadata": {
    "id": "Sv22Jbwalxsy"
   },
   "outputs": [],
   "source": [
    "df = yf.download([\"SPY\", \"GLD\"], start=\"2010-01-01\", end=\"2022-12-31\", interval=\"1wk\", progress=False)\n",
    "df = df[\"Adj Close\"]\n",
    "df = np.log1p(df.pct_change().dropna())"
   ]
  },
  {
   "cell_type": "code",
   "execution_count": null,
   "metadata": {
    "colab": {
     "base_uri": "https://localhost:8080/",
     "height": 143
    },
    "id": "_by8OVq4l0CE",
    "outputId": "05e63f92-8563-4a48-a92b-2358780cda98"
   },
   "outputs": [
    {
     "data": {
      "text/html": [
       "\n",
       "  <div id=\"df-14516913-8a70-4ed7-be1b-f711d90849cc\" class=\"colab-df-container\">\n",
       "    <div>\n",
       "<style scoped>\n",
       "    .dataframe tbody tr th:only-of-type {\n",
       "        vertical-align: middle;\n",
       "    }\n",
       "\n",
       "    .dataframe tbody tr th {\n",
       "        vertical-align: top;\n",
       "    }\n",
       "\n",
       "    .dataframe thead th {\n",
       "        text-align: right;\n",
       "    }\n",
       "</style>\n",
       "<table border=\"1\" class=\"dataframe\">\n",
       "  <thead>\n",
       "    <tr style=\"text-align: right;\">\n",
       "      <th>Ticker</th>\n",
       "      <th>GLD</th>\n",
       "      <th>SPY</th>\n",
       "    </tr>\n",
       "    <tr>\n",
       "      <th>Ticker</th>\n",
       "      <th></th>\n",
       "      <th></th>\n",
       "    </tr>\n",
       "  </thead>\n",
       "  <tbody>\n",
       "    <tr>\n",
       "      <th>GLD</th>\n",
       "      <td>1.000000</td>\n",
       "      <td>0.190306</td>\n",
       "    </tr>\n",
       "    <tr>\n",
       "      <th>SPY</th>\n",
       "      <td>0.190306</td>\n",
       "      <td>1.000000</td>\n",
       "    </tr>\n",
       "  </tbody>\n",
       "</table>\n",
       "</div>\n",
       "    <div class=\"colab-df-buttons\">\n",
       "\n",
       "  <div class=\"colab-df-container\">\n",
       "    <button class=\"colab-df-convert\" onclick=\"convertToInteractive('df-14516913-8a70-4ed7-be1b-f711d90849cc')\"\n",
       "            title=\"Convert this dataframe to an interactive table.\"\n",
       "            style=\"display:none;\">\n",
       "\n",
       "  <svg xmlns=\"http://www.w3.org/2000/svg\" height=\"24px\" viewBox=\"0 -960 960 960\">\n",
       "    <path d=\"M120-120v-720h720v720H120Zm60-500h600v-160H180v160Zm220 220h160v-160H400v160Zm0 220h160v-160H400v160ZM180-400h160v-160H180v160Zm440 0h160v-160H620v160ZM180-180h160v-160H180v160Zm440 0h160v-160H620v160Z\"/>\n",
       "  </svg>\n",
       "    </button>\n",
       "\n",
       "  <style>\n",
       "    .colab-df-container {\n",
       "      display:flex;\n",
       "      gap: 12px;\n",
       "    }\n",
       "\n",
       "    .colab-df-convert {\n",
       "      background-color: #E8F0FE;\n",
       "      border: none;\n",
       "      border-radius: 50%;\n",
       "      cursor: pointer;\n",
       "      display: none;\n",
       "      fill: #1967D2;\n",
       "      height: 32px;\n",
       "      padding: 0 0 0 0;\n",
       "      width: 32px;\n",
       "    }\n",
       "\n",
       "    .colab-df-convert:hover {\n",
       "      background-color: #E2EBFA;\n",
       "      box-shadow: 0px 1px 2px rgba(60, 64, 67, 0.3), 0px 1px 3px 1px rgba(60, 64, 67, 0.15);\n",
       "      fill: #174EA6;\n",
       "    }\n",
       "\n",
       "    .colab-df-buttons div {\n",
       "      margin-bottom: 4px;\n",
       "    }\n",
       "\n",
       "    [theme=dark] .colab-df-convert {\n",
       "      background-color: #3B4455;\n",
       "      fill: #D2E3FC;\n",
       "    }\n",
       "\n",
       "    [theme=dark] .colab-df-convert:hover {\n",
       "      background-color: #434B5C;\n",
       "      box-shadow: 0px 1px 3px 1px rgba(0, 0, 0, 0.15);\n",
       "      filter: drop-shadow(0px 1px 2px rgba(0, 0, 0, 0.3));\n",
       "      fill: #FFFFFF;\n",
       "    }\n",
       "  </style>\n",
       "\n",
       "    <script>\n",
       "      const buttonEl =\n",
       "        document.querySelector('#df-14516913-8a70-4ed7-be1b-f711d90849cc button.colab-df-convert');\n",
       "      buttonEl.style.display =\n",
       "        google.colab.kernel.accessAllowed ? 'block' : 'none';\n",
       "\n",
       "      async function convertToInteractive(key) {\n",
       "        const element = document.querySelector('#df-14516913-8a70-4ed7-be1b-f711d90849cc');\n",
       "        const dataTable =\n",
       "          await google.colab.kernel.invokeFunction('convertToInteractive',\n",
       "                                                    [key], {});\n",
       "        if (!dataTable) return;\n",
       "\n",
       "        const docLinkHtml = 'Like what you see? Visit the ' +\n",
       "          '<a target=\"_blank\" href=https://colab.research.google.com/notebooks/data_table.ipynb>data table notebook</a>'\n",
       "          + ' to learn more about interactive tables.';\n",
       "        element.innerHTML = '';\n",
       "        dataTable['output_type'] = 'display_data';\n",
       "        await google.colab.output.renderOutput(dataTable, element);\n",
       "        const docLink = document.createElement('div');\n",
       "        docLink.innerHTML = docLinkHtml;\n",
       "        element.appendChild(docLink);\n",
       "      }\n",
       "    </script>\n",
       "  </div>\n",
       "\n",
       "\n",
       "<div id=\"df-ec8e293c-2f18-4846-96ab-1aecbb1ba331\">\n",
       "  <button class=\"colab-df-quickchart\" onclick=\"quickchart('df-ec8e293c-2f18-4846-96ab-1aecbb1ba331')\"\n",
       "            title=\"Suggest charts\"\n",
       "            style=\"display:none;\">\n",
       "\n",
       "<svg xmlns=\"http://www.w3.org/2000/svg\" height=\"24px\"viewBox=\"0 0 24 24\"\n",
       "     width=\"24px\">\n",
       "    <g>\n",
       "        <path d=\"M19 3H5c-1.1 0-2 .9-2 2v14c0 1.1.9 2 2 2h14c1.1 0 2-.9 2-2V5c0-1.1-.9-2-2-2zM9 17H7v-7h2v7zm4 0h-2V7h2v10zm4 0h-2v-4h2v4z\"/>\n",
       "    </g>\n",
       "</svg>\n",
       "  </button>\n",
       "\n",
       "<style>\n",
       "  .colab-df-quickchart {\n",
       "      --bg-color: #E8F0FE;\n",
       "      --fill-color: #1967D2;\n",
       "      --hover-bg-color: #E2EBFA;\n",
       "      --hover-fill-color: #174EA6;\n",
       "      --disabled-fill-color: #AAA;\n",
       "      --disabled-bg-color: #DDD;\n",
       "  }\n",
       "\n",
       "  [theme=dark] .colab-df-quickchart {\n",
       "      --bg-color: #3B4455;\n",
       "      --fill-color: #D2E3FC;\n",
       "      --hover-bg-color: #434B5C;\n",
       "      --hover-fill-color: #FFFFFF;\n",
       "      --disabled-bg-color: #3B4455;\n",
       "      --disabled-fill-color: #666;\n",
       "  }\n",
       "\n",
       "  .colab-df-quickchart {\n",
       "    background-color: var(--bg-color);\n",
       "    border: none;\n",
       "    border-radius: 50%;\n",
       "    cursor: pointer;\n",
       "    display: none;\n",
       "    fill: var(--fill-color);\n",
       "    height: 32px;\n",
       "    padding: 0;\n",
       "    width: 32px;\n",
       "  }\n",
       "\n",
       "  .colab-df-quickchart:hover {\n",
       "    background-color: var(--hover-bg-color);\n",
       "    box-shadow: 0 1px 2px rgba(60, 64, 67, 0.3), 0 1px 3px 1px rgba(60, 64, 67, 0.15);\n",
       "    fill: var(--button-hover-fill-color);\n",
       "  }\n",
       "\n",
       "  .colab-df-quickchart-complete:disabled,\n",
       "  .colab-df-quickchart-complete:disabled:hover {\n",
       "    background-color: var(--disabled-bg-color);\n",
       "    fill: var(--disabled-fill-color);\n",
       "    box-shadow: none;\n",
       "  }\n",
       "\n",
       "  .colab-df-spinner {\n",
       "    border: 2px solid var(--fill-color);\n",
       "    border-color: transparent;\n",
       "    border-bottom-color: var(--fill-color);\n",
       "    animation:\n",
       "      spin 1s steps(1) infinite;\n",
       "  }\n",
       "\n",
       "  @keyframes spin {\n",
       "    0% {\n",
       "      border-color: transparent;\n",
       "      border-bottom-color: var(--fill-color);\n",
       "      border-left-color: var(--fill-color);\n",
       "    }\n",
       "    20% {\n",
       "      border-color: transparent;\n",
       "      border-left-color: var(--fill-color);\n",
       "      border-top-color: var(--fill-color);\n",
       "    }\n",
       "    30% {\n",
       "      border-color: transparent;\n",
       "      border-left-color: var(--fill-color);\n",
       "      border-top-color: var(--fill-color);\n",
       "      border-right-color: var(--fill-color);\n",
       "    }\n",
       "    40% {\n",
       "      border-color: transparent;\n",
       "      border-right-color: var(--fill-color);\n",
       "      border-top-color: var(--fill-color);\n",
       "    }\n",
       "    60% {\n",
       "      border-color: transparent;\n",
       "      border-right-color: var(--fill-color);\n",
       "    }\n",
       "    80% {\n",
       "      border-color: transparent;\n",
       "      border-right-color: var(--fill-color);\n",
       "      border-bottom-color: var(--fill-color);\n",
       "    }\n",
       "    90% {\n",
       "      border-color: transparent;\n",
       "      border-bottom-color: var(--fill-color);\n",
       "    }\n",
       "  }\n",
       "</style>\n",
       "\n",
       "  <script>\n",
       "    async function quickchart(key) {\n",
       "      const quickchartButtonEl =\n",
       "        document.querySelector('#' + key + ' button');\n",
       "      quickchartButtonEl.disabled = true;  // To prevent multiple clicks.\n",
       "      quickchartButtonEl.classList.add('colab-df-spinner');\n",
       "      try {\n",
       "        const charts = await google.colab.kernel.invokeFunction(\n",
       "            'suggestCharts', [key], {});\n",
       "      } catch (error) {\n",
       "        console.error('Error during call to suggestCharts:', error);\n",
       "      }\n",
       "      quickchartButtonEl.classList.remove('colab-df-spinner');\n",
       "      quickchartButtonEl.classList.add('colab-df-quickchart-complete');\n",
       "    }\n",
       "    (() => {\n",
       "      let quickchartButtonEl =\n",
       "        document.querySelector('#df-ec8e293c-2f18-4846-96ab-1aecbb1ba331 button');\n",
       "      quickchartButtonEl.style.display =\n",
       "        google.colab.kernel.accessAllowed ? 'block' : 'none';\n",
       "    })();\n",
       "  </script>\n",
       "</div>\n",
       "    </div>\n",
       "  </div>\n"
      ],
      "text/plain": [
       "Ticker       GLD       SPY\n",
       "Ticker                    \n",
       "GLD     1.000000  0.190306\n",
       "SPY     0.190306  1.000000"
      ]
     },
     "execution_count": 65,
     "metadata": {},
     "output_type": "execute_result"
    }
   ],
   "source": [
    "df.corr()"
   ]
  },
  {
   "cell_type": "code",
   "execution_count": null,
   "metadata": {
    "colab": {
     "base_uri": "https://localhost:8080/",
     "height": 143
    },
    "id": "Q5bsD_pBmAZZ",
    "outputId": "aa568fbc-d352-46bc-a0b6-db23f77bdb56"
   },
   "outputs": [
    {
     "data": {
      "text/html": [
       "\n",
       "  <div id=\"df-72e65352-e566-4e88-b2ac-ab0c0bd28511\" class=\"colab-df-container\">\n",
       "    <div>\n",
       "<style scoped>\n",
       "    .dataframe tbody tr th:only-of-type {\n",
       "        vertical-align: middle;\n",
       "    }\n",
       "\n",
       "    .dataframe tbody tr th {\n",
       "        vertical-align: top;\n",
       "    }\n",
       "\n",
       "    .dataframe thead th {\n",
       "        text-align: right;\n",
       "    }\n",
       "</style>\n",
       "<table border=\"1\" class=\"dataframe\">\n",
       "  <thead>\n",
       "    <tr style=\"text-align: right;\">\n",
       "      <th>Ticker</th>\n",
       "      <th>GLD</th>\n",
       "      <th>SPY</th>\n",
       "    </tr>\n",
       "    <tr>\n",
       "      <th>Ticker</th>\n",
       "      <th></th>\n",
       "      <th></th>\n",
       "    </tr>\n",
       "  </thead>\n",
       "  <tbody>\n",
       "    <tr>\n",
       "      <th>GLD</th>\n",
       "      <td>0.000485</td>\n",
       "      <td>0.000095</td>\n",
       "    </tr>\n",
       "    <tr>\n",
       "      <th>SPY</th>\n",
       "      <td>0.000095</td>\n",
       "      <td>0.000516</td>\n",
       "    </tr>\n",
       "  </tbody>\n",
       "</table>\n",
       "</div>\n",
       "    <div class=\"colab-df-buttons\">\n",
       "\n",
       "  <div class=\"colab-df-container\">\n",
       "    <button class=\"colab-df-convert\" onclick=\"convertToInteractive('df-72e65352-e566-4e88-b2ac-ab0c0bd28511')\"\n",
       "            title=\"Convert this dataframe to an interactive table.\"\n",
       "            style=\"display:none;\">\n",
       "\n",
       "  <svg xmlns=\"http://www.w3.org/2000/svg\" height=\"24px\" viewBox=\"0 -960 960 960\">\n",
       "    <path d=\"M120-120v-720h720v720H120Zm60-500h600v-160H180v160Zm220 220h160v-160H400v160Zm0 220h160v-160H400v160ZM180-400h160v-160H180v160Zm440 0h160v-160H620v160ZM180-180h160v-160H180v160Zm440 0h160v-160H620v160Z\"/>\n",
       "  </svg>\n",
       "    </button>\n",
       "\n",
       "  <style>\n",
       "    .colab-df-container {\n",
       "      display:flex;\n",
       "      gap: 12px;\n",
       "    }\n",
       "\n",
       "    .colab-df-convert {\n",
       "      background-color: #E8F0FE;\n",
       "      border: none;\n",
       "      border-radius: 50%;\n",
       "      cursor: pointer;\n",
       "      display: none;\n",
       "      fill: #1967D2;\n",
       "      height: 32px;\n",
       "      padding: 0 0 0 0;\n",
       "      width: 32px;\n",
       "    }\n",
       "\n",
       "    .colab-df-convert:hover {\n",
       "      background-color: #E2EBFA;\n",
       "      box-shadow: 0px 1px 2px rgba(60, 64, 67, 0.3), 0px 1px 3px 1px rgba(60, 64, 67, 0.15);\n",
       "      fill: #174EA6;\n",
       "    }\n",
       "\n",
       "    .colab-df-buttons div {\n",
       "      margin-bottom: 4px;\n",
       "    }\n",
       "\n",
       "    [theme=dark] .colab-df-convert {\n",
       "      background-color: #3B4455;\n",
       "      fill: #D2E3FC;\n",
       "    }\n",
       "\n",
       "    [theme=dark] .colab-df-convert:hover {\n",
       "      background-color: #434B5C;\n",
       "      box-shadow: 0px 1px 3px 1px rgba(0, 0, 0, 0.15);\n",
       "      filter: drop-shadow(0px 1px 2px rgba(0, 0, 0, 0.3));\n",
       "      fill: #FFFFFF;\n",
       "    }\n",
       "  </style>\n",
       "\n",
       "    <script>\n",
       "      const buttonEl =\n",
       "        document.querySelector('#df-72e65352-e566-4e88-b2ac-ab0c0bd28511 button.colab-df-convert');\n",
       "      buttonEl.style.display =\n",
       "        google.colab.kernel.accessAllowed ? 'block' : 'none';\n",
       "\n",
       "      async function convertToInteractive(key) {\n",
       "        const element = document.querySelector('#df-72e65352-e566-4e88-b2ac-ab0c0bd28511');\n",
       "        const dataTable =\n",
       "          await google.colab.kernel.invokeFunction('convertToInteractive',\n",
       "                                                    [key], {});\n",
       "        if (!dataTable) return;\n",
       "\n",
       "        const docLinkHtml = 'Like what you see? Visit the ' +\n",
       "          '<a target=\"_blank\" href=https://colab.research.google.com/notebooks/data_table.ipynb>data table notebook</a>'\n",
       "          + ' to learn more about interactive tables.';\n",
       "        element.innerHTML = '';\n",
       "        dataTable['output_type'] = 'display_data';\n",
       "        await google.colab.output.renderOutput(dataTable, element);\n",
       "        const docLink = document.createElement('div');\n",
       "        docLink.innerHTML = docLinkHtml;\n",
       "        element.appendChild(docLink);\n",
       "      }\n",
       "    </script>\n",
       "  </div>\n",
       "\n",
       "\n",
       "<div id=\"df-2daef94d-3ca0-4d7c-b027-55f8b10cf159\">\n",
       "  <button class=\"colab-df-quickchart\" onclick=\"quickchart('df-2daef94d-3ca0-4d7c-b027-55f8b10cf159')\"\n",
       "            title=\"Suggest charts\"\n",
       "            style=\"display:none;\">\n",
       "\n",
       "<svg xmlns=\"http://www.w3.org/2000/svg\" height=\"24px\"viewBox=\"0 0 24 24\"\n",
       "     width=\"24px\">\n",
       "    <g>\n",
       "        <path d=\"M19 3H5c-1.1 0-2 .9-2 2v14c0 1.1.9 2 2 2h14c1.1 0 2-.9 2-2V5c0-1.1-.9-2-2-2zM9 17H7v-7h2v7zm4 0h-2V7h2v10zm4 0h-2v-4h2v4z\"/>\n",
       "    </g>\n",
       "</svg>\n",
       "  </button>\n",
       "\n",
       "<style>\n",
       "  .colab-df-quickchart {\n",
       "      --bg-color: #E8F0FE;\n",
       "      --fill-color: #1967D2;\n",
       "      --hover-bg-color: #E2EBFA;\n",
       "      --hover-fill-color: #174EA6;\n",
       "      --disabled-fill-color: #AAA;\n",
       "      --disabled-bg-color: #DDD;\n",
       "  }\n",
       "\n",
       "  [theme=dark] .colab-df-quickchart {\n",
       "      --bg-color: #3B4455;\n",
       "      --fill-color: #D2E3FC;\n",
       "      --hover-bg-color: #434B5C;\n",
       "      --hover-fill-color: #FFFFFF;\n",
       "      --disabled-bg-color: #3B4455;\n",
       "      --disabled-fill-color: #666;\n",
       "  }\n",
       "\n",
       "  .colab-df-quickchart {\n",
       "    background-color: var(--bg-color);\n",
       "    border: none;\n",
       "    border-radius: 50%;\n",
       "    cursor: pointer;\n",
       "    display: none;\n",
       "    fill: var(--fill-color);\n",
       "    height: 32px;\n",
       "    padding: 0;\n",
       "    width: 32px;\n",
       "  }\n",
       "\n",
       "  .colab-df-quickchart:hover {\n",
       "    background-color: var(--hover-bg-color);\n",
       "    box-shadow: 0 1px 2px rgba(60, 64, 67, 0.3), 0 1px 3px 1px rgba(60, 64, 67, 0.15);\n",
       "    fill: var(--button-hover-fill-color);\n",
       "  }\n",
       "\n",
       "  .colab-df-quickchart-complete:disabled,\n",
       "  .colab-df-quickchart-complete:disabled:hover {\n",
       "    background-color: var(--disabled-bg-color);\n",
       "    fill: var(--disabled-fill-color);\n",
       "    box-shadow: none;\n",
       "  }\n",
       "\n",
       "  .colab-df-spinner {\n",
       "    border: 2px solid var(--fill-color);\n",
       "    border-color: transparent;\n",
       "    border-bottom-color: var(--fill-color);\n",
       "    animation:\n",
       "      spin 1s steps(1) infinite;\n",
       "  }\n",
       "\n",
       "  @keyframes spin {\n",
       "    0% {\n",
       "      border-color: transparent;\n",
       "      border-bottom-color: var(--fill-color);\n",
       "      border-left-color: var(--fill-color);\n",
       "    }\n",
       "    20% {\n",
       "      border-color: transparent;\n",
       "      border-left-color: var(--fill-color);\n",
       "      border-top-color: var(--fill-color);\n",
       "    }\n",
       "    30% {\n",
       "      border-color: transparent;\n",
       "      border-left-color: var(--fill-color);\n",
       "      border-top-color: var(--fill-color);\n",
       "      border-right-color: var(--fill-color);\n",
       "    }\n",
       "    40% {\n",
       "      border-color: transparent;\n",
       "      border-right-color: var(--fill-color);\n",
       "      border-top-color: var(--fill-color);\n",
       "    }\n",
       "    60% {\n",
       "      border-color: transparent;\n",
       "      border-right-color: var(--fill-color);\n",
       "    }\n",
       "    80% {\n",
       "      border-color: transparent;\n",
       "      border-right-color: var(--fill-color);\n",
       "      border-bottom-color: var(--fill-color);\n",
       "    }\n",
       "    90% {\n",
       "      border-color: transparent;\n",
       "      border-bottom-color: var(--fill-color);\n",
       "    }\n",
       "  }\n",
       "</style>\n",
       "\n",
       "  <script>\n",
       "    async function quickchart(key) {\n",
       "      const quickchartButtonEl =\n",
       "        document.querySelector('#' + key + ' button');\n",
       "      quickchartButtonEl.disabled = true;  // To prevent multiple clicks.\n",
       "      quickchartButtonEl.classList.add('colab-df-spinner');\n",
       "      try {\n",
       "        const charts = await google.colab.kernel.invokeFunction(\n",
       "            'suggestCharts', [key], {});\n",
       "      } catch (error) {\n",
       "        console.error('Error during call to suggestCharts:', error);\n",
       "      }\n",
       "      quickchartButtonEl.classList.remove('colab-df-spinner');\n",
       "      quickchartButtonEl.classList.add('colab-df-quickchart-complete');\n",
       "    }\n",
       "    (() => {\n",
       "      let quickchartButtonEl =\n",
       "        document.querySelector('#df-2daef94d-3ca0-4d7c-b027-55f8b10cf159 button');\n",
       "      quickchartButtonEl.style.display =\n",
       "        google.colab.kernel.accessAllowed ? 'block' : 'none';\n",
       "    })();\n",
       "  </script>\n",
       "</div>\n",
       "    </div>\n",
       "  </div>\n"
      ],
      "text/plain": [
       "Ticker       GLD       SPY\n",
       "Ticker                    \n",
       "GLD     0.000485  0.000095\n",
       "SPY     0.000095  0.000516"
      ]
     },
     "execution_count": 66,
     "metadata": {},
     "output_type": "execute_result"
    }
   ],
   "source": [
    "df.cov()"
   ]
  },
  {
   "cell_type": "markdown",
   "metadata": {
    "id": "RHgkzj1gmzhd"
   },
   "source": [
    "### Task 6"
   ]
  },
  {
   "cell_type": "code",
   "execution_count": null,
   "metadata": {
    "id": "a8ONZhhrT_iM"
   },
   "outputs": [],
   "source": [
    "#Downloading the data\n",
    "df = yf.download([\"SPY\", \"GLD\"], start=\"2010-01-01\", end=\"2022-12-31\", interval=\"1wk\", progress=False)\n",
    "df = df[\"Adj Close\"]\n",
    "portfolioDict = {\"SPYW\":[],\"GLDW\":[],\"portfolioRet\":[],\"portfolioVol\":[],\"sharpe_ratio\":[]}\n"
   ]
  },
  {
   "cell_type": "code",
   "execution_count": null,
   "metadata": {
    "id": "EeQc7BjttS37"
   },
   "outputs": [],
   "source": [
    "#Simulation of 100 portfolios\n",
    "numPortfolio = 100\n",
    "interval = 1/numPortfolio\n",
    "#Sequentially increasing the weights by predefined interval\n",
    "for i in range(0,numPortfolio+1):\n",
    "  tempDf = pd.DataFrame()\n",
    "  SPYW = i*interval\n",
    "  GLDW = 1-SPYW\n",
    "  #Assigining weights to the asset values\n",
    "  tempDf[\"GLD\"] = df[\"GLD\"] * GLDW\n",
    "  tempDf[\"SPY\"] = df[\"SPY\"] * SPYW\n",
    "  #Calculating the Total Profit by adding the asset values\n",
    "  tempDf[\"total_profit\"] = tempDf[\"GLD\"] + tempDf[\"SPY\"]\n",
    "  portfolioDict[\"SPYW\"].append(SPYW)\n",
    "  portfolioDict[\"GLDW\"].append(GLDW)\n",
    "  #Calculating the percent change using log returns\n",
    "  tempDf[\"pct_change\"] = np.log1p(tempDf[\"total_profit\"].pct_change().dropna())\n",
    "  #Calculating annualized average mean and standard deviation\n",
    "  portfolioDict[\"portfolioRet\"].append(np.mean(tempDf[\"pct_change\"]) * 52)\n",
    "  portfolioDict[\"portfolioVol\"].append(np.std(tempDf[\"pct_change\"]) * np.sqrt(52))\n",
    "  #Assuming risk free rate as 0\n",
    "  portfolioDict[\"sharpe_ratio\"].append((np.mean(tempDf[\"pct_change\"]) * 52)/(np.std(tempDf[\"pct_change\"]) * np.sqrt(52)))"
   ]
  },
  {
   "cell_type": "code",
   "execution_count": null,
   "metadata": {
    "id": "6C7VGz8ftGjb"
   },
   "outputs": [],
   "source": [
    "portfolioDf = pd.DataFrame.from_dict(portfolioDict)\n",
    "# print(portfolioDf)"
   ]
  },
  {
   "cell_type": "code",
   "execution_count": null,
   "metadata": {
    "colab": {
     "base_uri": "https://localhost:8080/",
     "height": 472
    },
    "id": "tw8d3cEptXzB",
    "outputId": "e3d68702-843e-4078-811f-0fd6147a51e6"
   },
   "outputs": [
    {
     "data": {
      "image/png": "[encoded data removed]",
      "text/plain": [
       "<Figure size 640x480 with 1 Axes>"
      ]
     },
     "metadata": {},
     "output_type": "display_data"
    }
   ],
   "source": [
    "#Plot the efficient frontier graph\n",
    "# plt.scatter(list(portfolioDf[\"portfolioVol\"]),list(portfolioDf[\"portfolioRet\"]))\n",
    "# plt.scatter(portfolioDf[\"portfolioVol\"][0], portfolioDf[\"portfolioRet\"][0], color='red', marker='o', s=100, label='Holding GLD Alone')\n",
    "import seaborn as sns\n",
    "sns.scatterplot(x='portfolioVol', y='portfolioRet', data=portfolioDf, hue='sharpe_ratio')\n",
    "plt.scatter(portfolioDf[\"portfolioVol\"][0], portfolioDf[\"portfolioRet\"][0], color='red', marker='x', s=20, label='Holding GLD Alone')\n",
    "plt.scatter(portfolioDf.iloc[92][\"portfolioVol\"], portfolioDf.iloc[92][\"portfolioRet\"], color='blue', marker='x', s=40, label='Best Sharpe Ratio')\n",
    "plt.title('Efficient Fontier')\n",
    "plt.xlabel('Volatility')\n",
    "plt.ylabel('Returns')\n",
    "plt.legend();"
   ]
  },
  {
   "cell_type": "code",
   "execution_count": null,
   "metadata": {
    "colab": {
     "base_uri": "https://localhost:8080/"
    },
    "id": "Z56N1JoirUZC",
    "outputId": "6510d07d-6fe8-403d-e687-6bfe2f7e7daa"
   },
   "outputs": [
    {
     "data": {
      "text/plain": [
       "SPYW            0.920000\n",
       "GLDW            0.080000\n",
       "portfolioRet    0.106666\n",
       "portfolioVol    0.155735\n",
       "sharpe_ratio    0.684922\n",
       "Name: 92, dtype: float64"
      ]
     },
     "execution_count": 71,
     "metadata": {},
     "output_type": "execute_result"
    }
   ],
   "source": [
    "portfolioDf.iloc[92]"
   ]
  },
  {
   "cell_type": "markdown",
   "metadata": {
    "id": "neqfZj4np5dD"
   },
   "source": [
    "**What does the frontier tell us about holding the GLD alone versus a combination of the two?**\n",
    "\n",
    "\n",
    "Analyzing the aforementioned investment frontier reveals that holding GLD alone (marked by the red X) would result in a portfolio characterized by high risk and volatility, coupled with relatively low returns. Specifically, it exhibits a 15% volatility and meager 1.5% returns, resulting in a Sharpe ratio of 0.2, indicative of poor performance. However, by strategically combining GLD and SPY, with appropriate adjustments in weights, one can attain a balanced portfolio marked by stable returns and consistent volatility. This optimized combination yields a Sharpe ratio as high as 0.68, which is considered average within a weekly timeframe, showcasing a more favorable risk-return profile.\n",
    "\n",
    "**Which point from the frontier would you choose?**\n",
    "\n",
    "Based on my analysis, I would opt for the weightings that resulted in the highest Sharpe ratio. Specifically, when allocating 92% to SPY and 8% to GLD, the portfolio achieved a Sharpe ratio of 0.68.\n"
   ]
  },
  {
   "cell_type": "markdown",
   "metadata": {
    "id": "5Yjni-4EQDBN"
   },
   "source": [
    "### Task7\n",
    "\n",
    "Note that in the case of two assets any value of $\\omega \\in (0, 1)$\n",
    " results in an efficient portfolio. This is mainly due to the fact that the budget constraint is binding in this case. Nonetheless, given the mean-variance optimization solution, we know that the optimal portfolio can be written as an optional combination between a GMV portfolio $w_0$\n",
    " and a self-financing portfolio $w_1$ (see slides from Session 01). Compute these two portfolios and consider arbitrary values for the risk aversion level to create 100 mean-variance efficient portfolios. For each portfolio, compute their mean and variance. As a summary, plot the former as a function of the latter. How does the plot compare with the previous task? (2 points)"
   ]
  },
  {
   "cell_type": "code",
   "execution_count": null,
   "metadata": {
    "id": "1HpO2ZdTp8v5"
   },
   "outputs": [],
   "source": [
    "df1 = yf.download([\"GLD\", \"SPY\"], start=\"2010-01-01\", end=\"2022-12-31\", interval=\"1wk\", progress=False)\n",
    "df = np.log1p(df1[\"Adj Close\"].pct_change().dropna())"
   ]
  },
  {
   "cell_type": "markdown",
   "metadata": {
    "id": "SQukRbdGdLlO"
   },
   "source": [
    "Calculating GMV portfolio and Sharpe Ratio portfolio"
   ]
  },
  {
   "cell_type": "code",
   "execution_count": null,
   "metadata": {
    "colab": {
     "base_uri": "https://localhost:8080/"
    },
    "id": "H6mEjv2ZSMIY",
    "outputId": "073deff5-4461-4ef6-d22f-c1779c40fef0"
   },
   "outputs": [
    {
     "data": {
      "text/plain": [
       "array([[0.51901284],\n",
       "       [0.48098716]])"
      ]
     },
     "execution_count": 73,
     "metadata": {},
     "output_type": "execute_result"
    }
   ],
   "source": [
    "siginv = np.linalg.inv(df.cov())\n",
    "ones = np.ones((2,1), dtype=int)\n",
    "w_gmv = siginv @ ones / (ones.T @ siginv @ ones)\n",
    "w_gmv"
   ]
  },
  {
   "cell_type": "code",
   "execution_count": null,
   "metadata": {
    "colab": {
     "base_uri": "https://localhost:8080/"
    },
    "id": "mzsPYGBFi9iy",
    "outputId": "9a5f4494-1976-43c9-8976-d00a21a53e10"
   },
   "outputs": [
    {
     "data": {
      "text/plain": [
       "array([[0.10843069],\n",
       "       [0.89156931]])"
      ]
     },
     "execution_count": 74,
     "metadata": {},
     "output_type": "execute_result"
    }
   ],
   "source": [
    "mu = df.mean().to_numpy().reshape(2, 1)\n",
    "w_sr = siginv @ mu / (ones.T @ siginv @ mu)\n",
    "w_sr"
   ]
  },
  {
   "cell_type": "markdown",
   "metadata": {
    "id": "C2USgfSRgK75"
   },
   "source": [
    "$$w_{MV}(\\alpha) = \\alpha \\cdot w_{GMV} + (1-\\alpha) \\cdot w_{SR}$$"
   ]
  },
  {
   "cell_type": "code",
   "execution_count": null,
   "metadata": {
    "id": "toZrClfFgKZw"
   },
   "outputs": [],
   "source": [
    "alpha = np.arange(0.01, 1.01, 0.01)\n",
    "MV = pd.DataFrame(index=alpha, columns=[\"GLD Weight\", \"SPY Weight\", \"Mean\", \"Volatility\"])\n",
    "MV[\"GLD Weight\"], MV[\"SPY Weight\"] = alpha * w_gmv + (1-alpha) * w_sr\n",
    "# MV.reset_index(inplace = True)"
   ]
  },
  {
   "cell_type": "code",
   "execution_count": null,
   "metadata": {
    "id": "gArtZVAqC43_"
   },
   "outputs": [],
   "source": [
    "df = df1[\"Adj Close\"]\n",
    "SR = []\n",
    "for i in range(0,len(MV[\"Mean\"])):\n",
    "  tempDf = pd.DataFrame()\n",
    "  SPYW = MV.iloc[i][\"SPY Weight\"]\n",
    "  GLDW = MV.iloc[i][\"GLD Weight\"]\n",
    "  #Assigining weights to the asset values\n",
    "  tempDf[\"GLD\"] = df[\"GLD\"] * GLDW\n",
    "  tempDf[\"SPY\"] = df[\"SPY\"] * SPYW\n",
    "  #Calculating the Total Profit by adding the asset values\n",
    "  tempDf[\"total_profit\"] = tempDf[\"GLD\"] + tempDf[\"SPY\"]\n",
    "  #Calculating the percent change using log returns\n",
    "  tempDf[\"pct_change\"] = np.log1p(tempDf[\"total_profit\"].pct_change().dropna())\n",
    "  #Calculating annualized average mean and standard deviation\n",
    "  MV.iloc[i,2] = np.mean(tempDf[\"pct_change\"]) * 52\n",
    "  MV.iloc[i,3] = np.std(tempDf[\"pct_change\"]) * np.sqrt(52)\n",
    "  #Assuming risk free rate as 0\n",
    "  SR.append((np.mean(tempDf[\"pct_change\"]) * 52)/(np.std(tempDf[\"pct_change\"]) * np.sqrt(52)))\n",
    "MV[\"sharpe_ratio\"] = SR"
   ]
  },
  {
   "cell_type": "code",
   "execution_count": null,
   "metadata": {
    "colab": {
     "base_uri": "https://localhost:8080/"
    },
    "id": "Gv29JB3zFUW1",
    "outputId": "c681c7fe-b992-4e72-aafe-b9f81d962aa9"
   },
   "outputs": [
    {
     "name": "stdout",
     "output_type": "stream",
     "text": [
      "      GLD Weight  SPY Weight      Mean Volatility  sharpe_ratio\n",
      "0.01    0.112537    0.887463  0.104579   0.152813      0.684361\n",
      "0.02    0.116642    0.883358  0.104314   0.152456      0.684227\n",
      "0.03    0.120748    0.879252  0.104049   0.152101      0.684078\n",
      "0.04    0.124854    0.875146  0.103784   0.151749      0.683915\n",
      "0.05    0.128960    0.871040  0.103517   0.151399      0.683737\n",
      "Max Sharpe Ratio 0.6843605628907762\n",
      "Index of max value of sharpe ratio sharpe_ratio    0.01\n",
      "dtype: float64\n"
     ]
    }
   ],
   "source": [
    "print(MV.head())\n",
    "print(\"Max Sharpe Ratio\",MV.max()[\"sharpe_ratio\"])\n",
    "print(\"Index of max value of sharpe ratio\",MV[[\"sharpe_ratio\"]].idxmax())"
   ]
  },
  {
   "cell_type": "code",
   "execution_count": null,
   "metadata": {
    "colab": {
     "base_uri": "https://localhost:8080/",
     "height": 472
    },
    "id": "j9V3-T_7J5Qc",
    "outputId": "190ef9d0-1fdd-4387-ca87-8a856c13086e"
   },
   "outputs": [
    {
     "data": {
      "image/png": "[encoded data removed]",
      "text/plain": [
       "<Figure size 640x480 with 1 Axes>"
      ]
     },
     "metadata": {},
     "output_type": "display_data"
    }
   ],
   "source": [
    "import seaborn as sns\n",
    "sns.scatterplot(x='Volatility', y='Mean', data=MV, hue='sharpe_ratio')\n",
    "# plt.scatter(portfolioDf[\"portfolioVol\"][0], portfolioDf[\"portfolioRet\"][0], color='red', marker='x', s=20, label='Holding GLD Alone')\n",
    "plt.scatter(MV.iloc[0][\"Volatility\"], MV.iloc[0][\"Mean\"], color='blue', marker='x', s=60, label='Best Sharpe Ratio')\n",
    "plt.title('Mean-Variance Risk-Aversion')\n",
    "plt.xlabel('Volatility')\n",
    "plt.ylabel('Returns')\n",
    "plt.legend();"
   ]
  },
  {
   "cell_type": "markdown",
   "metadata": {
    "id": "MW8PcXERVB8M"
   },
   "source": [
    "We see that the Mean-Variance portfolio when measured at different risk-aversion levels creates a plot of 100 efficient portfolios with varying levels of risk-adjusted return, mimicing the Markowitz Efficient Frontier. Here, we just see the top half of the curve since, instead of exploring all possible allocations between the assets GLD and SPY, we are just exploring all possible combinations between the min-variance and sharpe-ratio weightings."
   ]
  }
 ],
 "metadata": {
  "colab": {
   "provenance": []
  },
  "kernelspec": {
   "display_name": "Python 3 (ipykernel)",
   "language": "python",
   "name": "python3"
  },
  "language_info": {
   "codemirror_mode": {
    "name": "ipython",
    "version": 3
   },
   "file_extension": ".py",
   "mimetype": "text/x-python",
   "name": "python",
   "nbconvert_exporter": "python",
   "pygments_lexer": "ipython3",
   "version": "3.11.4"
  }
 },
 "nbformat": 4,
 "nbformat_minor": 1
}
