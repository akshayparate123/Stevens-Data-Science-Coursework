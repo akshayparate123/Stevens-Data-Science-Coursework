{
 "cells": [
  {
   "cell_type": "markdown",
   "id": "221a4712",
   "metadata": {},
   "source": [
    "## Homework 2 MA 574 - Python\n",
    "---"
   ]
  },
  {
   "cell_type": "markdown",
   "id": "d4db99c1",
   "metadata": {},
   "source": [
    "## Numerical Differentiation\n",
    "---\n",
    "How to find the derivative of a function numerically?\n",
    "\n",
    ". Forward Difference Formula\n",
    "$$\n",
    "f'(a) \\approx \\frac{f(a+h)-f(a)}{h}\n",
    "$$\n",
    ". Backward Difference Formula\n",
    "$$\n",
    "f'(a) \\approx \\frac{f(a)-f(a-h)}{h}\n",
    "$$\n",
    ". Central Difference Formula\n",
    "$$\n",
    "f'(a) \\approx \\frac{f(a+h)-f(a-h)}{2h}\n",
    "$$\n",
    "See [this book](https://pythonnumericalmethods.berkeley.edu/notebooks/chapter20.02-Finite-Difference-Approximating-Derivatives.html) for more details and Python implementation."
   ]
  },
  {
   "cell_type": "code",
   "execution_count": 4,
   "id": "eb4eaac2",
   "metadata": {},
   "outputs": [],
   "source": [
    "# Forward Difference Formula\n",
    "def fdiff(f,a,h):\n",
    "    derivative_forward_diff = (f(a+h)-f(a))/h\n",
    "    return derivative_forward_diff"
   ]
  },
  {
   "cell_type": "code",
   "execution_count": 5,
   "id": "c30a2fa1",
   "metadata": {},
   "outputs": [],
   "source": [
    "def bdiff(f,a,h):\n",
    "    derivative_backward_diff = (f(a)-f(a-h))/h\n",
    "    return derivative_backward_diff"
   ]
  },
  {
   "cell_type": "code",
   "execution_count": 6,
   "id": "d16b6bd3",
   "metadata": {},
   "outputs": [],
   "source": [
    "def cdiff(f,a,h):\n",
    "    derivative_central_diff = (f(a+h)-f(a-h))/(2*h)\n",
    "    return derivative_central_diff"
   ]
  },
  {
   "cell_type": "markdown",
   "id": "7fce0706",
   "metadata": {},
   "source": [
    "## Numerical Integration\n",
    "---\n",
    "### General Riemann Sum\n",
    "$$\\bbox[10px, border: 1px solid blue]{\n",
    "\\int_a^b f(x) \\;dx \\approx \\sum_{i = 1}^{n} f(x_i^*)\\; \\Delta x,\n",
    "}$$\n",
    "where $x^*_i$ is the leftmost point of the $i$-th subinterval for left Riemann sum, rightmost point for right Riemann sum and middle-point for the mid-point sum."
   ]
  },
  {
   "cell_type": "code",
   "execution_count": null,
   "id": "d8ea6006",
   "metadata": {},
   "outputs": [],
   "source": []
  },
  {
   "cell_type": "code",
   "execution_count": 7,
   "id": "1fd47ea3",
   "metadata": {},
   "outputs": [],
   "source": [
    "'''\n",
    "Following function could be used to find all kinds of Riemann Sums by adjuting the shift\n",
    "argument. Set it = 0 for left sum, =1 for right sum and 0.5 for mid point sum.\n",
    "'''\n",
    "def RiemannSum(f,a,b,n,shift=0):\n",
    "    if shift < 0 or shift > 1:\n",
    "        print(\"Please provide appropriate value for the shift  from 0 to 1.0.\")\n",
    "        return\n",
    "    \n",
    "    deltax = (b-a)/n\n",
    "    sum=0.0\n",
    "    a = a+shift*deltax\n",
    "    for i in range(n):\n",
    "        sum = sum + f(a+i*deltax)\n",
    "    return sum*deltax"
   ]
  },
  {
   "cell_type": "code",
   "execution_count": 10,
   "id": "941f5f3e",
   "metadata": {},
   "outputs": [
    {
     "name": "stdout",
     "output_type": "stream",
     "text": [
      "8.020011111111119\n"
     ]
    }
   ],
   "source": [
    "## Example\n",
    "f = lambda x: 3*x**2\n",
    "L40 = RiemannSum(f,0,2,600, shift=1.0)\n",
    "print(L40)"
   ]
  },
  {
   "cell_type": "markdown",
   "id": "1749c4db",
   "metadata": {},
   "source": [
    "### Trapezoidal Rule\n",
    "---\n",
    "The trapezoidal rule for numerical approximation of a definite integral could be thought as the average fo the leftand right Riemann sums.\n",
    "$$\n",
    "\\int_a^b f(x) dx \\approx \\sum_{i=0}^{n-1} \\frac{f(x_i) + f(x_{i+1})}{2} \\Delta x.\n",
    "$$\n",
    "Or more efficiently as\n",
    "$$\n",
    "\\bbox[10px, border: 1px solid blue]{\n",
    "\\int_a^b f(x) dx \\approx \\frac{\\Delta x}{2} \\left(f(x_0) + 2 \\left(\\sum_{i=1}^{n-1} f(x_i)\\right) + f(x_n)\\right).\n",
    "}\n",
    "$$"
   ]
  },
  {
   "cell_type": "code",
   "execution_count": 11,
   "id": "d9f56657",
   "metadata": {},
   "outputs": [],
   "source": [
    "def Trapezoidal(f,a,b,n):\n",
    "    deltax = (b-a)/n\n",
    "    sum=0.0\n",
    "    for i in range(1,n):\n",
    "        sum = sum + f(a+i*deltax)\n",
    "    sum = f(a)+2*sum+f(b)\n",
    "    return sum*deltax/2"
   ]
  },
  {
   "cell_type": "code",
   "execution_count": 12,
   "id": "bdaee671",
   "metadata": {},
   "outputs": [
    {
     "name": "stdout",
     "output_type": "stream",
     "text": [
      "8.002500000000003\n"
     ]
    }
   ],
   "source": [
    "## Examples\n",
    "f = lambda x: 3*x**2\n",
    "T40 = Trapezoidal(f,0,2,40)\n",
    "print(T40)"
   ]
  },
  {
   "cell_type": "markdown",
   "id": "89ac2946",
   "metadata": {},
   "source": [
    "### Simpson's $1/3$-rule\n",
    "Number of subintervals $n$ of $[a,b]$ must be even. Let $n=2m$, then\n",
    "\n",
    "$$\n",
    "\\bbox[10px, border: 1px solid blue]{\n",
    "\\int_a^b f(x) dx \\approx \\frac{\\Delta x}{3} \\left[f(x_0)+4 \\left(\\sum_{i=1}^{m}f(x_{2i-1})\\right)+2 \\left(\\sum_{i=1}^{m-1}f(x_{2i})\\right)+f(x_{2m})\\right].\n",
    "}\n",
    "$$\n",
    "\n",
    "If you are interested to find more about Simpson's method and its implimentation in Python, check this [online book](https://pythonnumericalmethods.berkeley.edu/notebooks/chapter21.04-Simpsons-Rule.html)."
   ]
  },
  {
   "cell_type": "markdown",
   "id": "9825d053",
   "metadata": {},
   "source": [
    "---\n",
    "**Question 1** Consider the sigmoid function given by $f(x) = \\tanh(x)$. Create a tabular comparison of its exact derivative at $x=0.5$ with the approximations by the three numerical differentiation formulas provided above for $h=0.1,\\ 0.01,\\ 0.001,\\ 0.0001,\\ 0.00001$.\n"
   ]
  },
  {
   "cell_type": "code",
   "execution_count": 88,
   "id": "5b8fdf85",
   "metadata": {},
   "outputs": [
    {
     "name": "stdout",
     "output_type": "stream",
     "text": [
      "+-----------+----------------------+-----------------------+----------------------+\n",
      "|   H Value |   Forward Difference |   Backward Difference |   Central Difference |\n",
      "+===========+======================+=======================+======================+\n",
      "|    0.1    |             0.749324 |              0.749324 |             0.749324 |\n",
      "+-----------+----------------------+-----------------------+----------------------+\n",
      "|    0.01   |             0.782804 |              0.782804 |             0.782804 |\n",
      "+-----------+----------------------+-----------------------+----------------------+\n",
      "|    0.001  |             0.786084 |              0.786084 |             0.786084 |\n",
      "+-----------+----------------------+-----------------------+----------------------+\n",
      "|    0.0001 |             0.786411 |              0.786411 |             0.786411 |\n",
      "+-----------+----------------------+-----------------------+----------------------+\n",
      "|    1e-05  |             0.786444 |              0.786444 |             0.786444 |\n",
      "+-----------+----------------------+-----------------------+----------------------+\n"
     ]
    }
   ],
   "source": [
    "import math\n",
    "from tabulate import tabulate\n",
    "import pandas as pd\n",
    "\n",
    "hList = [0.1, 0.01, 0.001, 0.0001, 0.00001]\n",
    "dictDiff = {\"forwardDifference\":[],\"backwardDifference\":[],\"centralDifference\":[]}\n",
    "\n",
    "def fdiff(f,a,h):\n",
    "    derivative_forward_diff = (math.tanh(a+h)-math.tanh(a))/h\n",
    "    return derivative_forward_diff\n",
    "\n",
    "def bdiff(f,a,h):\n",
    "    derivative_backward_diff = (math.tanh(a)-math.tanh(a-h))/h\n",
    "    return derivative_backward_diff\n",
    "\n",
    "def cdiff(f,a,h):\n",
    "    derivative_central_diff = (math.tanh(a+h)-math.tanh(a-h))/(2*h)\n",
    "    return derivative_central_diff\n",
    "\n",
    "for h in hList:\n",
    "#     print(fdiff(f,0.5,h))\n",
    "#     print(bdiff(f,0.5,h))\n",
    "#     print(cdiff(f,0.5,h))\n",
    "    dictDiff[\"forwardDifference\"].append(fdiff(f,0.5,h))\n",
    "    dictDiff[\"backwardDifference\"].append(fdiff(f,0.5,h))\n",
    "    dictDiff[\"centralDifference\"].append(fdiff(f,0.5,h))\n",
    "# print(dictDiff)\n",
    "\n",
    "# df = pd.DataFrame(dictDiff)\n",
    "# df.index = hList\n",
    "# df.index.name = \"h\"\n",
    "\n",
    "# print(df)\n",
    "\n",
    "\n",
    "mydata = [\n",
    "    [\"0.1\", dictDiff[\"forwardDifference\"][0],dictDiff[\"backwardDifference\"][0],dictDiff[\"centralDifference\"][0]],\n",
    "    [\"0.01\", dictDiff[\"forwardDifference\"][1],dictDiff[\"backwardDifference\"][1],dictDiff[\"centralDifference\"][1]],\n",
    "    [\"0.001\", dictDiff[\"forwardDifference\"][2],dictDiff[\"backwardDifference\"][2],dictDiff[\"centralDifference\"][2]],\n",
    "    [\"0.0001\", dictDiff[\"forwardDifference\"][3],dictDiff[\"backwardDifference\"][3],dictDiff[\"centralDifference\"][3]],\n",
    "    [\"0.00001\", dictDiff[\"forwardDifference\"][4],dictDiff[\"backwardDifference\"][4],dictDiff[\"centralDifference\"][4]]\n",
    "]\n",
    "# create header\n",
    "head = [\"H Value\",\"Forward Difference\", \"Backward Difference\",\"Central Difference\"]\n",
    "# display table\n",
    "print(tabulate(mydata, headers=head, tablefmt=\"grid\"))\n"
   ]
  },
  {
   "cell_type": "markdown",
   "id": "7bd6c9e8",
   "metadata": {},
   "source": [
    "**Question 2** Understand the example of implementation of Trapezoidal rule. Modify this code to find the definite integral by Simpson's rule. \n",
    "\n",
    "Evaluate the integral of $\\int\\limits_{-1}^{1} \\frac{1}{1+x^2}$ exactly and compare this with the approximations by \n",
    "\n",
    "1. Mid-point Riemann sum.\n",
    "1. Trapezoidal Rule\n",
    "1. Simpson's Rule\n",
    "\n",
    "Take n=20 above."
   ]
  },
  {
   "cell_type": "code",
   "execution_count": 86,
   "id": "8ca2fea6",
   "metadata": {},
   "outputs": [
    {
     "name": "stdout",
     "output_type": "stream",
     "text": [
      "Integration of 1/(1+x**2) from -1 to 1 is -----> 1.5707963267948968\n",
      "+--------------------------------+-----------------+\n",
      "| Name                           |   Approximation |\n",
      "+================================+=================+\n",
      "| Riemann sum approximation      |         1.57121 |\n",
      "+--------------------------------+-----------------+\n",
      "| Trapezoidal Rule approximation |         1.56996 |\n",
      "+--------------------------------+-----------------+\n",
      "| Simpson's  1/3-rule            |         1.5708  |\n",
      "+--------------------------------+-----------------+\n"
     ]
    }
   ],
   "source": [
    "#Evaluate the integral using scipy (Referance - https://scipy.org/)\n",
    "from tabulate import tabulate\n",
    "import math\n",
    "from scipy import integrate\n",
    "limit = [-1,1]\n",
    "\n",
    "def indegrand(x):\n",
    "    return 1/(1+x**2)\n",
    "\n",
    "ans = integrate.quad(indegrand,limit[0],limit[1])\n",
    "print(\"Integration of 1/(1+x**2) from -1 to 1 is ----->\",ans[0])\n",
    "\n",
    "#Evaluate using Mid-point Riemann sum approximation\n",
    "\n",
    "def RiemannSum(f,a,b,n,shift):\n",
    "    if shift < 0 or shift > 1:\n",
    "        print(\"Please provide appropriate value for the shift  from 0 to 1.0.\")\n",
    "        return\n",
    "    \n",
    "    deltax = (b-a)/n\n",
    "    sum=0.0\n",
    "    a = a+shift*deltax\n",
    "    for i in range(n):\n",
    "        sum = sum + f(a+i*deltax)\n",
    "    return sum*deltax\n",
    "\n",
    "\n",
    "f = lambda x: 1/(1+x**2)\n",
    "RS = RiemannSum(f,limit[0],limit[1],20, shift=0.5)\n",
    "\n",
    "#Evaluate using Trapezoidal Rule approximation\n",
    "def Trapezoidal(f,a,b,n):\n",
    "    deltax = (b-a)/n\n",
    "    sum=0.0\n",
    "    for i in range(1,n):\n",
    "        sum = sum + f(a+i*deltax)\n",
    "    sum = f(a)+2*sum+f(b)\n",
    "    return sum*deltax/2\n",
    "\n",
    "## Examples\n",
    "f = lambda x: 1/(1+x**2)\n",
    "T20 = Trapezoidal(f,limit[0],limit[1],20)\n",
    "\n",
    "#Evaluate using Simpson Rule approximation\n",
    "\n",
    "\n",
    "def Simpson(f,a,b,n):\n",
    "    deltax = (b-a)/n\n",
    "    m = n/2\n",
    "    sum1=0.0;sum2 = 0.0;sum = 0.0\n",
    "    for i in range(1,int(m)):\n",
    "        sum1 = sum1 + f(a+((2*i)-1)*deltax)\n",
    "        sum2 = sum2 + f(a+(2*i)*deltax)\n",
    "    sum1 = sum1 + f(a+((2*m)-1)*deltax)\n",
    "    sum = f(a)+4*sum1+2*sum2+f(b)\n",
    "    return sum*(deltax/3)\n",
    "\n",
    "f = lambda x: 1/(1+x**2)\n",
    "S20 = Simpson(f,limit[0],limit[1],20)\n",
    "\n",
    "# print(RS)\n",
    "# print(T20)\n",
    "# print(S20)\n",
    "\n",
    "mydata = [\n",
    "    [\"Riemann sum approximation\", RS],\n",
    "    [\"Trapezoidal Rule approximation\", T20],\n",
    "    [\"Simpson's  1/3-rule\", S20]\n",
    "]\n",
    "# create header\n",
    "head = [\"Name\", \"Approximation\"]\n",
    " \n",
    "# display table\n",
    "print(tabulate(mydata, headers=head, tablefmt=\"grid\"))"
   ]
  },
  {
   "cell_type": "code",
   "execution_count": 83,
   "id": "6bd811bc",
   "metadata": {},
   "outputs": [],
   "source": []
  },
  {
   "cell_type": "code",
   "execution_count": null,
   "id": "a1e7c428",
   "metadata": {},
   "outputs": [],
   "source": []
  }
 ],
 "metadata": {
  "kernelspec": {
   "display_name": "Python 3 (ipykernel)",
   "language": "python",
   "name": "python3"
  },
  "language_info": {
   "codemirror_mode": {
    "name": "ipython",
    "version": 3
   },
   "file_extension": ".py",
   "mimetype": "text/x-python",
   "name": "python",
   "nbconvert_exporter": "python",
   "pygments_lexer": "ipython3",
   "version": "3.11.4"
  }
 },
 "nbformat": 4,
 "nbformat_minor": 5
}
