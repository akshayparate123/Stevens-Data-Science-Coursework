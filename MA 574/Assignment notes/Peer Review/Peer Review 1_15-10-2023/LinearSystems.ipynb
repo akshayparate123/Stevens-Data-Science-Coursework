{
 "cells": [
  {
   "cell_type": "code",
   "execution_count": 2,
   "id": "8757224e",
   "metadata": {},
   "outputs": [],
   "source": [
    "import numpy as np"
   ]
  },
  {
   "cell_type": "markdown",
   "id": "75507271",
   "metadata": {},
   "source": [
    "### Gauss-Jordan Elimination \n",
    "---\n",
    "See the textbook or [this link](https://brilliant.org/wiki/gaussian-elimination/) for explanation of terminology and examples."
   ]
  },
  {
   "cell_type": "code",
   "execution_count": 19,
   "id": "66332b5c",
   "metadata": {},
   "outputs": [],
   "source": [
    "# Gauss-Jordan Elimination (without row-swapping)\n",
    "def findRREF(A):\n",
    "    '''\n",
    "    Input: a general rectangular matrix\n",
    "    Output: the row reduced echelon form of the matrix A \n",
    "    by using Gauss-Jordan elimination\n",
    "    '''\n",
    "    augA = np.copy(A)\n",
    "    m,n=augA.shape\n",
    "    print(\"Augmented matrix: \",augA)\n",
    "    determinant = 1.0\n",
    "    for k in range(m):\n",
    "        # Check that the matrix is not rank deficient\n",
    "        if np.abs(augA[k,k]) < 10**(-15):\n",
    "            exit(\"The given matrix is singular or requires row swapping\")\n",
    "        # Convert the pivot element to 1\n",
    "        determinant *= augA[k, k]\n",
    "        augA[k,:] = augA[k,:] /augA[k,k]\n",
    "\n",
    "        for i in range(m):\n",
    "            if i==k:\n",
    "                continue\n",
    "            z = -augA[i,k]\n",
    "            # Change the entire rows (k+1)st onward\n",
    "            augA[i,:] = augA[i,:] + z*augA[k,:] \n",
    "        print(\"Pass {}:\\n\".format(k+1))\n",
    "        print(augA)\n",
    "    return augA,determinant"
   ]
  },
  {
   "cell_type": "code",
   "execution_count": 18,
   "id": "9d3b53a7",
   "metadata": {},
   "outputs": [],
   "source": [
    "def invByRREF(A):\n",
    "    m,n=A.shape\n",
    "    if m!=n:\n",
    "        exit(\"To find inverse, please provide a square matrix only.\")\n",
    "    # Appropriate augmented matrix. One line\n",
    "    augA = # Your code here \n",
    "    modified_augA = findRREF(augA)\n",
    "    # Take appropriate slice of modified_augA for inverse\n",
    "    invA = # Your code here\n",
    "    return invA"
   ]
  },
  {
   "cell_type": "markdown",
   "id": "a4528bc6",
   "metadata": {},
   "source": [
    "#### Example: Solve the following system\n",
    "$$\n",
    "\\begin{bmatrix}\n",
    "2 & 4 & 0 \\\\\n",
    "5 & -2 & 6 \\\\\n",
    "3 & 1 & -2 \\\\\n",
    "\\end{bmatrix}\\ \\begin{bmatrix}\n",
    "x_1\\\\x_2\\\\x_3\n",
    "\\end{bmatrix}=\\begin{bmatrix}\n",
    "6\\\\9\\\\2\n",
    "\\end{bmatrix}\n",
    "$$"
   ]
  },
  {
   "cell_type": "code",
   "execution_count": 14,
   "id": "2cdd9b67",
   "metadata": {},
   "outputs": [
    {
     "name": "stdout",
     "output_type": "stream",
     "text": [
      "Pass 1:\n",
      "\n",
      "[[ 1.  2.  0.  3.]\n",
      " [ 5. -2.  6.  9.]\n",
      " [ 3.  1. -2.  2.]]\n",
      "Pass 2:\n",
      "\n",
      "[[ 1.   2.   0.   3. ]\n",
      " [-0.   1.  -0.5  0.5]\n",
      " [ 0.  -5.  -2.  -7. ]]\n",
      "Pass 3:\n",
      "\n",
      "[[ 1.   0.   1.   2. ]\n",
      " [-0.   1.  -0.5  0.5]\n",
      " [-0.  -0.   1.   1. ]]\n",
      "\n",
      " The Solution is \n",
      " [[1.]\n",
      " [1.]\n",
      " [1.]]\n"
     ]
    }
   ],
   "source": [
    "np.set_printoptions(precision=4)\n",
    "A = np.array([[2,4,0,6],\n",
    "             [5,-2,6,9],\n",
    "             [3,1,-2,2]],dtype=float)\n",
    "augA_modified = findRREF(A)\n",
    "# The last column is the solution\n",
    "soln = augA_modified[:,3:]\n",
    "print(\"\\n The Solution is \\n\",soln)"
   ]
  },
  {
   "cell_type": "code",
   "execution_count": 6,
   "id": "95657778",
   "metadata": {},
   "outputs": [
    {
     "name": "stdout",
     "output_type": "stream",
     "text": [
      "Pass 1:\n",
      "\n",
      "[[1.  2.  0.  0.5 0.  0. ]\n",
      " [0.  3.  6.  0.  1.  0. ]\n",
      " [0.  0.  1.  0.  0.  1. ]]\n",
      "Pass 2:\n",
      "\n",
      "[[1.     2.     0.     0.5    0.     0.    ]\n",
      " [0.     1.     2.     0.     0.3333 0.    ]\n",
      " [0.     0.     1.     0.     0.     1.    ]]\n",
      "Pass 3:\n",
      "\n",
      "[[ 1.      0.     -4.      0.5    -0.6667  0.    ]\n",
      " [ 0.      1.      2.      0.      0.3333  0.    ]\n",
      " [ 0.      0.      1.      0.      0.      1.    ]]\n",
      "\n",
      " The Inverse is \n",
      " [[ 0.5    -0.6667  4.    ]\n",
      " [ 0.      0.3333 -2.    ]\n",
      " [ 0.      0.      1.    ]]\n"
     ]
    }
   ],
   "source": [
    "np.set_printoptions(precision=4)\n",
    "A = np.array([[2,4,0, 1, 0, 0],\n",
    "             [0,3,6,0,1,0],\n",
    "             [0,0,1,0,0,1]],dtype=float)\n",
    "print(\"\\n The Inverse is \\n\",findRREF(A)[:,3:])"
   ]
  },
  {
   "cell_type": "markdown",
   "id": "3fa11e85",
   "metadata": {},
   "source": [
    "**Question**: Can you modify the code for Gauss-Jordan elimination to do the following?\n",
    "1. Solve a square system $A{\\bf x}={\\bf b}$\n",
    "1. Find the inverse of a matrix\n",
    "1. Find the determinant of a matrix\n",
    "1. Find the rank of a matrix"
   ]
  },
  {
   "cell_type": "code",
   "execution_count": null,
   "id": "5cf4baa0",
   "metadata": {},
   "outputs": [],
   "source": []
  }
 ],
 "metadata": {
  "kernelspec": {
   "display_name": "Python 3 (ipykernel)",
   "language": "python",
   "name": "python3"
  },
  "language_info": {
   "codemirror_mode": {
    "name": "ipython",
    "version": 3
   },
   "file_extension": ".py",
   "mimetype": "text/x-python",
   "name": "python",
   "nbconvert_exporter": "python",
   "pygments_lexer": "ipython3",
   "version": "3.11.4"
  }
 },
 "nbformat": 4,
 "nbformat_minor": 5
}
