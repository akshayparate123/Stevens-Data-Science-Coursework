{
 "cells": [
  {
   "cell_type": "code",
   "execution_count": 81,
   "id": "ab7f2593",
   "metadata": {},
   "outputs": [
    {
     "name": "stdout",
     "output_type": "stream",
     "text": [
      "Linear fit: y = 1.93x + 1.64\n",
      "Cubic fit: y = -0.05x^3 + 1.89x^2 + 0.68x + 0.30\n",
      "Linear fit SSR: 10.12\n",
      "Cubic fit SSR: 624.75\n"
     ]
    }
   ],
   "source": [
    "import numpy as np\n",
    "\n",
    "# Dataset\n",
    "data = np.array([[-2,-3], [-1,1], [0,2], [1,3], [2,5], [3,7], [4,10]])\n",
    "\n",
    "# Linear fit\n",
    "n = len(data)\n",
    "x = data[:,0]\n",
    "y = data[:,1]\n",
    "A = np.vstack([x, np.ones(n)]).T\n",
    "b = y\n",
    "m, c = np.linalg.lstsq(A, b, rcond=None)[0]\n",
    "print(\"Linear fit: y = {:.2f}x + {:.2f}\".format(m, c))\n",
    "\n",
    "# Cubic fit\n",
    "X = np.vstack([np.ones(n), x, x**3, x**4]).T\n",
    "Y = y.reshape(-1, 1)\n",
    "coeffs, residuals, _, _ = np.linalg.lstsq(X, Y, rcond=None)\n",
    "b, c, d, a = coeffs.flatten()\n",
    "print(\"Cubic fit: y = {:.2f}x^3 + {:.2f}x^2 + {:.2f}x + {:.2f}\".format(a, b, c, d))\n",
    " \n",
    "\n",
    "# Linear fit SSR\n",
    "y_pred_lin = m*x + c\n",
    "ssr_lin = np.sum((y - y_pred_lin)**2)\n",
    "print(\"Linear fit SSR: {:.2f}\".format(ssr_lin))\n",
    "\n",
    "# Cubic fit SSR\n",
    "y_pred_cub = a*x**3 + b*x**2 + c*x + d\n",
    "ssr_cub = np.sum((y - y_pred_cub)**2)\n",
    "print(\"Cubic fit SSR: {:.2f}\".format(ssr_cub))"
   ]
  },
  {
   "cell_type": "code",
   "execution_count": null,
   "id": "a2f96a65",
   "metadata": {},
   "outputs": [],
   "source": []
  }
 ],
 "metadata": {
  "kernelspec": {
   "display_name": "Python 3 (ipykernel)",
   "language": "python",
   "name": "python3"
  },
  "language_info": {
   "codemirror_mode": {
    "name": "ipython",
    "version": 3
   },
   "file_extension": ".py",
   "mimetype": "text/x-python",
   "name": "python",
   "nbconvert_exporter": "python",
   "pygments_lexer": "ipython3",
   "version": "3.11.4"
  }
 },
 "nbformat": 4,
 "nbformat_minor": 5
}
