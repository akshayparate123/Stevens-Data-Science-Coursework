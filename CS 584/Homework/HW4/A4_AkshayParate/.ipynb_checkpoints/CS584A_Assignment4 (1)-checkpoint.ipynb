{
  "cells": [
    {
      "cell_type": "markdown",
      "id": "8ba6cfda",
      "metadata": {
        "id": "8ba6cfda"
      },
      "source": [
        "# CS 584 Assignment 4 -- Sequence to Sequence Models\n",
        "\n",
        "#### Name: Akshay Parate\n",
        "#### Stevens ID: 20032008"
      ]
    },
    {
      "cell_type": "code",
      "source": [
        "from google.colab import drive\n",
        "drive.mount('/content/drive')"
      ],
      "metadata": {
        "id": "u-3mMwGSEE7K",
        "colab": {
          "base_uri": "https://localhost:8080/"
        },
        "outputId": "d7413880-65a1-4773-dab7-72274ebe05dc"
      },
      "id": "u-3mMwGSEE7K",
      "execution_count": 1,
      "outputs": [
        {
          "output_type": "stream",
          "name": "stdout",
          "text": [
            "Mounted at /content/drive\n"
          ]
        }
      ]
    },
    {
      "cell_type": "code",
      "source": [],
      "metadata": {
        "id": "ZsvuIwI-EFnt"
      },
      "id": "ZsvuIwI-EFnt",
      "execution_count": null,
      "outputs": []
    },
    {
      "cell_type": "markdown",
      "id": "6b106027",
      "metadata": {
        "id": "6b106027"
      },
      "source": [
        "## In this assignment, you are required to follow the steps below:\n",
        "1. Review the lecture slides.\n",
        "2. Implement the seq2seq (translation) model.\n",
        "\n",
        "**Before you start**\n",
        "- Please read the code very carefully.\n",
        "- Install these packages using the following command.\n",
        "```console\n",
        "pip install -r requirements.txt\n",
        "```\n",
        "- It's better to train the Tensorflow model with GPU and CUDA. If they are not available on your local machine, please consider Google CoLab. You can check `CoLab.md` in this assignments.\n",
        "- You are **NOT** allowed to use other packages unless otherwise specified.\n",
        "- You are **ONLY** allowed to edit the code between `# Start your code here` and `# End` for each block."
      ]
    },
    {
      "cell_type": "code",
      "source": [
        "import os\n",
        "\n",
        "cwd = os.getcwd()\n",
        "print(\"Current working directory:\", cwd)"
      ],
      "metadata": {
        "id": "Ui39hn2aF4PI",
        "colab": {
          "base_uri": "https://localhost:8080/"
        },
        "outputId": "d41ce1cf-3458-4f16-912f-cb72f836eb3f"
      },
      "id": "Ui39hn2aF4PI",
      "execution_count": 2,
      "outputs": [
        {
          "output_type": "stream",
          "name": "stdout",
          "text": [
            "Current working directory: /content\n"
          ]
        }
      ]
    },
    {
      "cell_type": "code",
      "execution_count": 3,
      "id": "951ed7ae-2ed9-44a8-b253-e06d4a567c66",
      "metadata": {
        "id": "951ed7ae-2ed9-44a8-b253-e06d4a567c66",
        "colab": {
          "base_uri": "https://localhost:8080/"
        },
        "outputId": "be2f845e-c0f3-4402-9362-c4f707e7f6f9"
      },
      "outputs": [
        {
          "output_type": "stream",
          "name": "stdout",
          "text": [
            "Collecting datasets (from -r ./drive/MyDrive/a4-data/requirements.txt (line 1))\n",
            "  Downloading datasets-2.19.0-py3-none-any.whl (542 kB)\n",
            "\u001b[?25l     \u001b[90m━━━━━━━━━━━━━━━━━━━━━━━━━━━━━━━━━━━━━━━━\u001b[0m \u001b[32m0.0/542.0 kB\u001b[0m \u001b[31m?\u001b[0m eta \u001b[36m-:--:--\u001b[0m\r\u001b[2K     \u001b[91m━━━━━━━━━━━━━━━━━━━━━\u001b[0m\u001b[90m╺\u001b[0m\u001b[90m━━━━━━━━━━━━━━━━━━\u001b[0m \u001b[32m286.7/542.0 kB\u001b[0m \u001b[31m8.5 MB/s\u001b[0m eta \u001b[36m0:00:01\u001b[0m\r\u001b[2K     \u001b[90m━━━━━━━━━━━━━━━━━━━━━━━━━━━━━━━━━━━━━━━━\u001b[0m \u001b[32m542.0/542.0 kB\u001b[0m \u001b[31m9.0 MB/s\u001b[0m eta \u001b[36m0:00:00\u001b[0m\n",
            "\u001b[?25hCollecting evaluate (from -r ./drive/MyDrive/a4-data/requirements.txt (line 2))\n",
            "  Downloading evaluate-0.4.1-py3-none-any.whl (84 kB)\n",
            "\u001b[2K     \u001b[90m━━━━━━━━━━━━━━━━━━━━━━━━━━━━━━━━━━━━━━━━\u001b[0m \u001b[32m84.1/84.1 kB\u001b[0m \u001b[31m10.9 MB/s\u001b[0m eta \u001b[36m0:00:00\u001b[0m\n",
            "\u001b[?25hCollecting jupyterlab (from -r ./drive/MyDrive/a4-data/requirements.txt (line 3))\n",
            "  Downloading jupyterlab-4.1.6-py3-none-any.whl (11.4 MB)\n",
            "\u001b[2K     \u001b[90m━━━━━━━━━━━━━━━━━━━━━━━━━━━━━━━━━━━━━━━━\u001b[0m \u001b[32m11.4/11.4 MB\u001b[0m \u001b[31m35.3 MB/s\u001b[0m eta \u001b[36m0:00:00\u001b[0m\n",
            "\u001b[?25hRequirement already satisfied: matplotlib in /usr/local/lib/python3.10/dist-packages (from -r ./drive/MyDrive/a4-data/requirements.txt (line 4)) (3.7.1)\n",
            "Requirement already satisfied: numpy in /usr/local/lib/python3.10/dist-packages (from -r ./drive/MyDrive/a4-data/requirements.txt (line 5)) (1.25.2)\n",
            "Collecting sacrebleu (from -r ./drive/MyDrive/a4-data/requirements.txt (line 6))\n",
            "  Downloading sacrebleu-2.4.2-py3-none-any.whl (106 kB)\n",
            "\u001b[2K     \u001b[90m━━━━━━━━━━━━━━━━━━━━━━━━━━━━━━━━━━━━━━━━\u001b[0m \u001b[32m106.7/106.7 kB\u001b[0m \u001b[31m7.4 MB/s\u001b[0m eta \u001b[36m0:00:00\u001b[0m\n",
            "\u001b[?25hRequirement already satisfied: tensorflow in /usr/local/lib/python3.10/dist-packages (from -r ./drive/MyDrive/a4-data/requirements.txt (line 7)) (2.15.0)\n",
            "Collecting tensorflow-addons (from -r ./drive/MyDrive/a4-data/requirements.txt (line 8))\n",
            "  Downloading tensorflow_addons-0.23.0-cp310-cp310-manylinux_2_17_x86_64.manylinux2014_x86_64.whl (611 kB)\n",
            "\u001b[2K     \u001b[90m━━━━━━━━━━━━━━━━━━━━━━━━━━━━━━━━━━━━━━━━\u001b[0m \u001b[32m611.8/611.8 kB\u001b[0m \u001b[31m48.9 MB/s\u001b[0m eta \u001b[36m0:00:00\u001b[0m\n",
            "\u001b[?25hRequirement already satisfied: tokenizers in /usr/local/lib/python3.10/dist-packages (from -r ./drive/MyDrive/a4-data/requirements.txt (line 9)) (0.15.2)\n",
            "Requirement already satisfied: filelock in /usr/local/lib/python3.10/dist-packages (from datasets->-r ./drive/MyDrive/a4-data/requirements.txt (line 1)) (3.13.4)\n",
            "Requirement already satisfied: pyarrow>=12.0.0 in /usr/local/lib/python3.10/dist-packages (from datasets->-r ./drive/MyDrive/a4-data/requirements.txt (line 1)) (14.0.2)\n",
            "Requirement already satisfied: pyarrow-hotfix in /usr/local/lib/python3.10/dist-packages (from datasets->-r ./drive/MyDrive/a4-data/requirements.txt (line 1)) (0.6)\n",
            "Collecting dill<0.3.9,>=0.3.0 (from datasets->-r ./drive/MyDrive/a4-data/requirements.txt (line 1))\n",
            "  Downloading dill-0.3.8-py3-none-any.whl (116 kB)\n",
            "\u001b[2K     \u001b[90m━━━━━━━━━━━━━━━━━━━━━━━━━━━━━━━━━━━━━━━━\u001b[0m \u001b[32m116.3/116.3 kB\u001b[0m \u001b[31m15.2 MB/s\u001b[0m eta \u001b[36m0:00:00\u001b[0m\n",
            "\u001b[?25hRequirement already satisfied: pandas in /usr/local/lib/python3.10/dist-packages (from datasets->-r ./drive/MyDrive/a4-data/requirements.txt (line 1)) (2.0.3)\n",
            "Requirement already satisfied: requests>=2.19.0 in /usr/local/lib/python3.10/dist-packages (from datasets->-r ./drive/MyDrive/a4-data/requirements.txt (line 1)) (2.31.0)\n",
            "Requirement already satisfied: tqdm>=4.62.1 in /usr/local/lib/python3.10/dist-packages (from datasets->-r ./drive/MyDrive/a4-data/requirements.txt (line 1)) (4.66.2)\n",
            "Collecting xxhash (from datasets->-r ./drive/MyDrive/a4-data/requirements.txt (line 1))\n",
            "  Downloading xxhash-3.4.1-cp310-cp310-manylinux_2_17_x86_64.manylinux2014_x86_64.whl (194 kB)\n",
            "\u001b[2K     \u001b[90m━━━━━━━━━━━━━━━━━━━━━━━━━━━━━━━━━━━━━━━━\u001b[0m \u001b[32m194.1/194.1 kB\u001b[0m \u001b[31m25.7 MB/s\u001b[0m eta \u001b[36m0:00:00\u001b[0m\n",
            "\u001b[?25hCollecting multiprocess (from datasets->-r ./drive/MyDrive/a4-data/requirements.txt (line 1))\n",
            "  Downloading multiprocess-0.70.16-py310-none-any.whl (134 kB)\n",
            "\u001b[2K     \u001b[90m━━━━━━━━━━━━━━━━━━━━━━━━━━━━━━━━━━━━━━━━\u001b[0m \u001b[32m134.8/134.8 kB\u001b[0m \u001b[31m15.2 MB/s\u001b[0m eta \u001b[36m0:00:00\u001b[0m\n",
            "\u001b[?25hRequirement already satisfied: fsspec[http]<=2024.3.1,>=2023.1.0 in /usr/local/lib/python3.10/dist-packages (from datasets->-r ./drive/MyDrive/a4-data/requirements.txt (line 1)) (2023.6.0)\n",
            "Requirement already satisfied: aiohttp in /usr/local/lib/python3.10/dist-packages (from datasets->-r ./drive/MyDrive/a4-data/requirements.txt (line 1)) (3.9.5)\n",
            "Collecting huggingface-hub>=0.21.2 (from datasets->-r ./drive/MyDrive/a4-data/requirements.txt (line 1))\n",
            "  Downloading huggingface_hub-0.22.2-py3-none-any.whl (388 kB)\n",
            "\u001b[2K     \u001b[90m━━━━━━━━━━━━━━━━━━━━━━━━━━━━━━━━━━━━━━━━\u001b[0m \u001b[32m388.9/388.9 kB\u001b[0m \u001b[31m44.5 MB/s\u001b[0m eta \u001b[36m0:00:00\u001b[0m\n",
            "\u001b[?25hRequirement already satisfied: packaging in /usr/local/lib/python3.10/dist-packages (from datasets->-r ./drive/MyDrive/a4-data/requirements.txt (line 1)) (24.0)\n",
            "Requirement already satisfied: pyyaml>=5.1 in /usr/local/lib/python3.10/dist-packages (from datasets->-r ./drive/MyDrive/a4-data/requirements.txt (line 1)) (6.0.1)\n",
            "Collecting responses<0.19 (from evaluate->-r ./drive/MyDrive/a4-data/requirements.txt (line 2))\n",
            "  Downloading responses-0.18.0-py3-none-any.whl (38 kB)\n",
            "Collecting async-lru>=1.0.0 (from jupyterlab->-r ./drive/MyDrive/a4-data/requirements.txt (line 3))\n",
            "  Downloading async_lru-2.0.4-py3-none-any.whl (6.1 kB)\n",
            "Collecting httpx>=0.25.0 (from jupyterlab->-r ./drive/MyDrive/a4-data/requirements.txt (line 3))\n",
            "  Downloading httpx-0.27.0-py3-none-any.whl (75 kB)\n",
            "\u001b[2K     \u001b[90m━━━━━━━━━━━━━━━━━━━━━━━━━━━━━━━━━━━━━━━━\u001b[0m \u001b[32m75.6/75.6 kB\u001b[0m \u001b[31m10.5 MB/s\u001b[0m eta \u001b[36m0:00:00\u001b[0m\n",
            "\u001b[?25hCollecting ipykernel>=6.5.0 (from jupyterlab->-r ./drive/MyDrive/a4-data/requirements.txt (line 3))\n",
            "  Downloading ipykernel-6.29.4-py3-none-any.whl (117 kB)\n",
            "\u001b[2K     \u001b[90m━━━━━━━━━━━━━━━━━━━━━━━━━━━━━━━━━━━━━━━━\u001b[0m \u001b[32m117.1/117.1 kB\u001b[0m \u001b[31m18.0 MB/s\u001b[0m eta \u001b[36m0:00:00\u001b[0m\n",
            "\u001b[?25hRequirement already satisfied: jinja2>=3.0.3 in /usr/local/lib/python3.10/dist-packages (from jupyterlab->-r ./drive/MyDrive/a4-data/requirements.txt (line 3)) (3.1.3)\n",
            "Requirement already satisfied: jupyter-core in /usr/local/lib/python3.10/dist-packages (from jupyterlab->-r ./drive/MyDrive/a4-data/requirements.txt (line 3)) (5.7.2)\n",
            "Collecting jupyter-lsp>=2.0.0 (from jupyterlab->-r ./drive/MyDrive/a4-data/requirements.txt (line 3))\n",
            "  Downloading jupyter_lsp-2.2.5-py3-none-any.whl (69 kB)\n",
            "\u001b[2K     \u001b[90m━━━━━━━━━━━━━━━━━━━━━━━━━━━━━━━━━━━━━━━━\u001b[0m \u001b[32m69.1/69.1 kB\u001b[0m \u001b[31m10.7 MB/s\u001b[0m eta \u001b[36m0:00:00\u001b[0m\n",
            "\u001b[?25hCollecting jupyter-server<3,>=2.4.0 (from jupyterlab->-r ./drive/MyDrive/a4-data/requirements.txt (line 3))\n",
            "  Downloading jupyter_server-2.14.0-py3-none-any.whl (383 kB)\n",
            "\u001b[2K     \u001b[90m━━━━━━━━━━━━━━━━━━━━━━━━━━━━━━━━━━━━━━━━\u001b[0m \u001b[32m383.3/383.3 kB\u001b[0m \u001b[31m47.5 MB/s\u001b[0m eta \u001b[36m0:00:00\u001b[0m\n",
            "\u001b[?25hCollecting jupyterlab-server<3,>=2.19.0 (from jupyterlab->-r ./drive/MyDrive/a4-data/requirements.txt (line 3))\n",
            "  Downloading jupyterlab_server-2.26.0-py3-none-any.whl (59 kB)\n",
            "\u001b[2K     \u001b[90m━━━━━━━━━━━━━━━━━━━━━━━━━━━━━━━━━━━━━━━━\u001b[0m \u001b[32m59.1/59.1 kB\u001b[0m \u001b[31m9.0 MB/s\u001b[0m eta \u001b[36m0:00:00\u001b[0m\n",
            "\u001b[?25hRequirement already satisfied: notebook-shim>=0.2 in /usr/local/lib/python3.10/dist-packages (from jupyterlab->-r ./drive/MyDrive/a4-data/requirements.txt (line 3)) (0.2.4)\n",
            "Requirement already satisfied: tomli>=1.2.2 in /usr/local/lib/python3.10/dist-packages (from jupyterlab->-r ./drive/MyDrive/a4-data/requirements.txt (line 3)) (2.0.1)\n",
            "Requirement already satisfied: tornado>=6.2.0 in /usr/local/lib/python3.10/dist-packages (from jupyterlab->-r ./drive/MyDrive/a4-data/requirements.txt (line 3)) (6.3.3)\n",
            "Requirement already satisfied: traitlets in /usr/local/lib/python3.10/dist-packages (from jupyterlab->-r ./drive/MyDrive/a4-data/requirements.txt (line 3)) (5.7.1)\n",
            "Requirement already satisfied: contourpy>=1.0.1 in /usr/local/lib/python3.10/dist-packages (from matplotlib->-r ./drive/MyDrive/a4-data/requirements.txt (line 4)) (1.2.1)\n",
            "Requirement already satisfied: cycler>=0.10 in /usr/local/lib/python3.10/dist-packages (from matplotlib->-r ./drive/MyDrive/a4-data/requirements.txt (line 4)) (0.12.1)\n",
            "Requirement already satisfied: fonttools>=4.22.0 in /usr/local/lib/python3.10/dist-packages (from matplotlib->-r ./drive/MyDrive/a4-data/requirements.txt (line 4)) (4.51.0)\n",
            "Requirement already satisfied: kiwisolver>=1.0.1 in /usr/local/lib/python3.10/dist-packages (from matplotlib->-r ./drive/MyDrive/a4-data/requirements.txt (line 4)) (1.4.5)\n",
            "Requirement already satisfied: pillow>=6.2.0 in /usr/local/lib/python3.10/dist-packages (from matplotlib->-r ./drive/MyDrive/a4-data/requirements.txt (line 4)) (9.4.0)\n",
            "Requirement already satisfied: pyparsing>=2.3.1 in /usr/local/lib/python3.10/dist-packages (from matplotlib->-r ./drive/MyDrive/a4-data/requirements.txt (line 4)) (3.1.2)\n",
            "Requirement already satisfied: python-dateutil>=2.7 in /usr/local/lib/python3.10/dist-packages (from matplotlib->-r ./drive/MyDrive/a4-data/requirements.txt (line 4)) (2.8.2)\n",
            "Collecting portalocker (from sacrebleu->-r ./drive/MyDrive/a4-data/requirements.txt (line 6))\n",
            "  Downloading portalocker-2.8.2-py3-none-any.whl (17 kB)\n",
            "Requirement already satisfied: regex in /usr/local/lib/python3.10/dist-packages (from sacrebleu->-r ./drive/MyDrive/a4-data/requirements.txt (line 6)) (2023.12.25)\n",
            "Requirement already satisfied: tabulate>=0.8.9 in /usr/local/lib/python3.10/dist-packages (from sacrebleu->-r ./drive/MyDrive/a4-data/requirements.txt (line 6)) (0.9.0)\n",
            "Collecting colorama (from sacrebleu->-r ./drive/MyDrive/a4-data/requirements.txt (line 6))\n",
            "  Downloading colorama-0.4.6-py2.py3-none-any.whl (25 kB)\n",
            "Requirement already satisfied: lxml in /usr/local/lib/python3.10/dist-packages (from sacrebleu->-r ./drive/MyDrive/a4-data/requirements.txt (line 6)) (4.9.4)\n",
            "Requirement already satisfied: absl-py>=1.0.0 in /usr/local/lib/python3.10/dist-packages (from tensorflow->-r ./drive/MyDrive/a4-data/requirements.txt (line 7)) (1.4.0)\n",
            "Requirement already satisfied: astunparse>=1.6.0 in /usr/local/lib/python3.10/dist-packages (from tensorflow->-r ./drive/MyDrive/a4-data/requirements.txt (line 7)) (1.6.3)\n",
            "Requirement already satisfied: flatbuffers>=23.5.26 in /usr/local/lib/python3.10/dist-packages (from tensorflow->-r ./drive/MyDrive/a4-data/requirements.txt (line 7)) (24.3.25)\n",
            "Requirement already satisfied: gast!=0.5.0,!=0.5.1,!=0.5.2,>=0.2.1 in /usr/local/lib/python3.10/dist-packages (from tensorflow->-r ./drive/MyDrive/a4-data/requirements.txt (line 7)) (0.5.4)\n",
            "Requirement already satisfied: google-pasta>=0.1.1 in /usr/local/lib/python3.10/dist-packages (from tensorflow->-r ./drive/MyDrive/a4-data/requirements.txt (line 7)) (0.2.0)\n",
            "Requirement already satisfied: h5py>=2.9.0 in /usr/local/lib/python3.10/dist-packages (from tensorflow->-r ./drive/MyDrive/a4-data/requirements.txt (line 7)) (3.9.0)\n",
            "Requirement already satisfied: libclang>=13.0.0 in /usr/local/lib/python3.10/dist-packages (from tensorflow->-r ./drive/MyDrive/a4-data/requirements.txt (line 7)) (18.1.1)\n",
            "Requirement already satisfied: ml-dtypes~=0.2.0 in /usr/local/lib/python3.10/dist-packages (from tensorflow->-r ./drive/MyDrive/a4-data/requirements.txt (line 7)) (0.2.0)\n",
            "Requirement already satisfied: opt-einsum>=2.3.2 in /usr/local/lib/python3.10/dist-packages (from tensorflow->-r ./drive/MyDrive/a4-data/requirements.txt (line 7)) (3.3.0)\n",
            "Requirement already satisfied: protobuf!=4.21.0,!=4.21.1,!=4.21.2,!=4.21.3,!=4.21.4,!=4.21.5,<5.0.0dev,>=3.20.3 in /usr/local/lib/python3.10/dist-packages (from tensorflow->-r ./drive/MyDrive/a4-data/requirements.txt (line 7)) (3.20.3)\n",
            "Requirement already satisfied: setuptools in /usr/local/lib/python3.10/dist-packages (from tensorflow->-r ./drive/MyDrive/a4-data/requirements.txt (line 7)) (67.7.2)\n",
            "Requirement already satisfied: six>=1.12.0 in /usr/local/lib/python3.10/dist-packages (from tensorflow->-r ./drive/MyDrive/a4-data/requirements.txt (line 7)) (1.16.0)\n",
            "Requirement already satisfied: termcolor>=1.1.0 in /usr/local/lib/python3.10/dist-packages (from tensorflow->-r ./drive/MyDrive/a4-data/requirements.txt (line 7)) (2.4.0)\n",
            "Requirement already satisfied: typing-extensions>=3.6.6 in /usr/local/lib/python3.10/dist-packages (from tensorflow->-r ./drive/MyDrive/a4-data/requirements.txt (line 7)) (4.11.0)\n",
            "Requirement already satisfied: wrapt<1.15,>=1.11.0 in /usr/local/lib/python3.10/dist-packages (from tensorflow->-r ./drive/MyDrive/a4-data/requirements.txt (line 7)) (1.14.1)\n",
            "Requirement already satisfied: tensorflow-io-gcs-filesystem>=0.23.1 in /usr/local/lib/python3.10/dist-packages (from tensorflow->-r ./drive/MyDrive/a4-data/requirements.txt (line 7)) (0.36.0)\n",
            "Requirement already satisfied: grpcio<2.0,>=1.24.3 in /usr/local/lib/python3.10/dist-packages (from tensorflow->-r ./drive/MyDrive/a4-data/requirements.txt (line 7)) (1.62.1)\n",
            "Requirement already satisfied: tensorboard<2.16,>=2.15 in /usr/local/lib/python3.10/dist-packages (from tensorflow->-r ./drive/MyDrive/a4-data/requirements.txt (line 7)) (2.15.2)\n",
            "Requirement already satisfied: tensorflow-estimator<2.16,>=2.15.0 in /usr/local/lib/python3.10/dist-packages (from tensorflow->-r ./drive/MyDrive/a4-data/requirements.txt (line 7)) (2.15.0)\n",
            "Requirement already satisfied: keras<2.16,>=2.15.0 in /usr/local/lib/python3.10/dist-packages (from tensorflow->-r ./drive/MyDrive/a4-data/requirements.txt (line 7)) (2.15.0)\n",
            "Collecting typeguard<3.0.0,>=2.7 (from tensorflow-addons->-r ./drive/MyDrive/a4-data/requirements.txt (line 8))\n",
            "  Downloading typeguard-2.13.3-py3-none-any.whl (17 kB)\n",
            "Requirement already satisfied: wheel<1.0,>=0.23.0 in /usr/local/lib/python3.10/dist-packages (from astunparse>=1.6.0->tensorflow->-r ./drive/MyDrive/a4-data/requirements.txt (line 7)) (0.43.0)\n",
            "Requirement already satisfied: aiosignal>=1.1.2 in /usr/local/lib/python3.10/dist-packages (from aiohttp->datasets->-r ./drive/MyDrive/a4-data/requirements.txt (line 1)) (1.3.1)\n",
            "Requirement already satisfied: attrs>=17.3.0 in /usr/local/lib/python3.10/dist-packages (from aiohttp->datasets->-r ./drive/MyDrive/a4-data/requirements.txt (line 1)) (23.2.0)\n",
            "Requirement already satisfied: frozenlist>=1.1.1 in /usr/local/lib/python3.10/dist-packages (from aiohttp->datasets->-r ./drive/MyDrive/a4-data/requirements.txt (line 1)) (1.4.1)\n",
            "Requirement already satisfied: multidict<7.0,>=4.5 in /usr/local/lib/python3.10/dist-packages (from aiohttp->datasets->-r ./drive/MyDrive/a4-data/requirements.txt (line 1)) (6.0.5)\n",
            "Requirement already satisfied: yarl<2.0,>=1.0 in /usr/local/lib/python3.10/dist-packages (from aiohttp->datasets->-r ./drive/MyDrive/a4-data/requirements.txt (line 1)) (1.9.4)\n",
            "Requirement already satisfied: async-timeout<5.0,>=4.0 in /usr/local/lib/python3.10/dist-packages (from aiohttp->datasets->-r ./drive/MyDrive/a4-data/requirements.txt (line 1)) (4.0.3)\n",
            "Requirement already satisfied: anyio in /usr/local/lib/python3.10/dist-packages (from httpx>=0.25.0->jupyterlab->-r ./drive/MyDrive/a4-data/requirements.txt (line 3)) (3.7.1)\n",
            "Requirement already satisfied: certifi in /usr/local/lib/python3.10/dist-packages (from httpx>=0.25.0->jupyterlab->-r ./drive/MyDrive/a4-data/requirements.txt (line 3)) (2024.2.2)\n",
            "Collecting httpcore==1.* (from httpx>=0.25.0->jupyterlab->-r ./drive/MyDrive/a4-data/requirements.txt (line 3))\n",
            "  Downloading httpcore-1.0.5-py3-none-any.whl (77 kB)\n",
            "\u001b[2K     \u001b[90m━━━━━━━━━━━━━━━━━━━━━━━━━━━━━━━━━━━━━━━━\u001b[0m \u001b[32m77.9/77.9 kB\u001b[0m \u001b[31m12.2 MB/s\u001b[0m eta \u001b[36m0:00:00\u001b[0m\n",
            "\u001b[?25hRequirement already satisfied: idna in /usr/local/lib/python3.10/dist-packages (from httpx>=0.25.0->jupyterlab->-r ./drive/MyDrive/a4-data/requirements.txt (line 3)) (3.7)\n",
            "Requirement already satisfied: sniffio in /usr/local/lib/python3.10/dist-packages (from httpx>=0.25.0->jupyterlab->-r ./drive/MyDrive/a4-data/requirements.txt (line 3)) (1.3.1)\n",
            "Collecting h11<0.15,>=0.13 (from httpcore==1.*->httpx>=0.25.0->jupyterlab->-r ./drive/MyDrive/a4-data/requirements.txt (line 3))\n",
            "  Downloading h11-0.14.0-py3-none-any.whl (58 kB)\n",
            "\u001b[2K     \u001b[90m━━━━━━━━━━━━━━━━━━━━━━━━━━━━━━━━━━━━━━━━\u001b[0m \u001b[32m58.3/58.3 kB\u001b[0m \u001b[31m8.5 MB/s\u001b[0m eta \u001b[36m0:00:00\u001b[0m\n",
            "\u001b[?25hCollecting comm>=0.1.1 (from ipykernel>=6.5.0->jupyterlab->-r ./drive/MyDrive/a4-data/requirements.txt (line 3))\n",
            "  Downloading comm-0.2.2-py3-none-any.whl (7.2 kB)\n",
            "Requirement already satisfied: debugpy>=1.6.5 in /usr/local/lib/python3.10/dist-packages (from ipykernel>=6.5.0->jupyterlab->-r ./drive/MyDrive/a4-data/requirements.txt (line 3)) (1.6.6)\n",
            "Requirement already satisfied: ipython>=7.23.1 in /usr/local/lib/python3.10/dist-packages (from ipykernel>=6.5.0->jupyterlab->-r ./drive/MyDrive/a4-data/requirements.txt (line 3)) (7.34.0)\n",
            "Requirement already satisfied: jupyter-client>=6.1.12 in /usr/local/lib/python3.10/dist-packages (from ipykernel>=6.5.0->jupyterlab->-r ./drive/MyDrive/a4-data/requirements.txt (line 3)) (6.1.12)\n",
            "Requirement already satisfied: matplotlib-inline>=0.1 in /usr/local/lib/python3.10/dist-packages (from ipykernel>=6.5.0->jupyterlab->-r ./drive/MyDrive/a4-data/requirements.txt (line 3)) (0.1.7)\n",
            "Requirement already satisfied: nest-asyncio in /usr/local/lib/python3.10/dist-packages (from ipykernel>=6.5.0->jupyterlab->-r ./drive/MyDrive/a4-data/requirements.txt (line 3)) (1.6.0)\n",
            "Requirement already satisfied: psutil in /usr/local/lib/python3.10/dist-packages (from ipykernel>=6.5.0->jupyterlab->-r ./drive/MyDrive/a4-data/requirements.txt (line 3)) (5.9.5)\n",
            "Collecting pyzmq>=24 (from ipykernel>=6.5.0->jupyterlab->-r ./drive/MyDrive/a4-data/requirements.txt (line 3))\n",
            "  Downloading pyzmq-26.0.2-cp310-cp310-manylinux_2_28_x86_64.whl (919 kB)\n",
            "\u001b[2K     \u001b[90m━━━━━━━━━━━━━━━━━━━━━━━━━━━━━━━━━━━━━━━━\u001b[0m \u001b[32m920.0/920.0 kB\u001b[0m \u001b[31m45.6 MB/s\u001b[0m eta \u001b[36m0:00:00\u001b[0m\n",
            "\u001b[?25hRequirement already satisfied: MarkupSafe>=2.0 in /usr/local/lib/python3.10/dist-packages (from jinja2>=3.0.3->jupyterlab->-r ./drive/MyDrive/a4-data/requirements.txt (line 3)) (2.1.5)\n",
            "Requirement already satisfied: platformdirs>=2.5 in /usr/local/lib/python3.10/dist-packages (from jupyter-core->jupyterlab->-r ./drive/MyDrive/a4-data/requirements.txt (line 3)) (4.2.0)\n",
            "Requirement already satisfied: argon2-cffi>=21.1 in /usr/local/lib/python3.10/dist-packages (from jupyter-server<3,>=2.4.0->jupyterlab->-r ./drive/MyDrive/a4-data/requirements.txt (line 3)) (23.1.0)\n",
            "Collecting jupyter-client>=6.1.12 (from ipykernel>=6.5.0->jupyterlab->-r ./drive/MyDrive/a4-data/requirements.txt (line 3))\n",
            "  Downloading jupyter_client-8.6.1-py3-none-any.whl (105 kB)\n",
            "\u001b[2K     \u001b[90m━━━━━━━━━━━━━━━━━━━━━━━━━━━━━━━━━━━━━━━━\u001b[0m \u001b[32m105.9/105.9 kB\u001b[0m \u001b[31m16.4 MB/s\u001b[0m eta \u001b[36m0:00:00\u001b[0m\n",
            "\u001b[?25hCollecting jupyter-events>=0.9.0 (from jupyter-server<3,>=2.4.0->jupyterlab->-r ./drive/MyDrive/a4-data/requirements.txt (line 3))\n",
            "  Downloading jupyter_events-0.10.0-py3-none-any.whl (18 kB)\n",
            "Collecting jupyter-server-terminals>=0.4.4 (from jupyter-server<3,>=2.4.0->jupyterlab->-r ./drive/MyDrive/a4-data/requirements.txt (line 3))\n",
            "  Downloading jupyter_server_terminals-0.5.3-py3-none-any.whl (13 kB)\n",
            "Requirement already satisfied: nbconvert>=6.4.4 in /usr/local/lib/python3.10/dist-packages (from jupyter-server<3,>=2.4.0->jupyterlab->-r ./drive/MyDrive/a4-data/requirements.txt (line 3)) (6.5.4)\n",
            "Requirement already satisfied: nbformat>=5.3.0 in /usr/local/lib/python3.10/dist-packages (from jupyter-server<3,>=2.4.0->jupyterlab->-r ./drive/MyDrive/a4-data/requirements.txt (line 3)) (5.10.4)\n",
            "Collecting overrides>=5.0 (from jupyter-server<3,>=2.4.0->jupyterlab->-r ./drive/MyDrive/a4-data/requirements.txt (line 3))\n",
            "  Downloading overrides-7.7.0-py3-none-any.whl (17 kB)\n",
            "Requirement already satisfied: prometheus-client>=0.9 in /usr/local/lib/python3.10/dist-packages (from jupyter-server<3,>=2.4.0->jupyterlab->-r ./drive/MyDrive/a4-data/requirements.txt (line 3)) (0.20.0)\n",
            "Requirement already satisfied: send2trash>=1.8.2 in /usr/local/lib/python3.10/dist-packages (from jupyter-server<3,>=2.4.0->jupyterlab->-r ./drive/MyDrive/a4-data/requirements.txt (line 3)) (1.8.3)\n",
            "Requirement already satisfied: terminado>=0.8.3 in /usr/local/lib/python3.10/dist-packages (from jupyter-server<3,>=2.4.0->jupyterlab->-r ./drive/MyDrive/a4-data/requirements.txt (line 3)) (0.18.1)\n",
            "Requirement already satisfied: websocket-client>=1.7 in /usr/local/lib/python3.10/dist-packages (from jupyter-server<3,>=2.4.0->jupyterlab->-r ./drive/MyDrive/a4-data/requirements.txt (line 3)) (1.7.0)\n",
            "Requirement already satisfied: babel>=2.10 in /usr/local/lib/python3.10/dist-packages (from jupyterlab-server<3,>=2.19.0->jupyterlab->-r ./drive/MyDrive/a4-data/requirements.txt (line 3)) (2.14.0)\n",
            "Collecting json5>=0.9.0 (from jupyterlab-server<3,>=2.19.0->jupyterlab->-r ./drive/MyDrive/a4-data/requirements.txt (line 3))\n",
            "  Downloading json5-0.9.25-py3-none-any.whl (30 kB)\n",
            "Requirement already satisfied: jsonschema>=4.18.0 in /usr/local/lib/python3.10/dist-packages (from jupyterlab-server<3,>=2.19.0->jupyterlab->-r ./drive/MyDrive/a4-data/requirements.txt (line 3)) (4.19.2)\n",
            "Requirement already satisfied: charset-normalizer<4,>=2 in /usr/local/lib/python3.10/dist-packages (from requests>=2.19.0->datasets->-r ./drive/MyDrive/a4-data/requirements.txt (line 1)) (3.3.2)\n",
            "Requirement already satisfied: urllib3<3,>=1.21.1 in /usr/local/lib/python3.10/dist-packages (from requests>=2.19.0->datasets->-r ./drive/MyDrive/a4-data/requirements.txt (line 1)) (2.0.7)\n",
            "Requirement already satisfied: google-auth<3,>=1.6.3 in /usr/local/lib/python3.10/dist-packages (from tensorboard<2.16,>=2.15->tensorflow->-r ./drive/MyDrive/a4-data/requirements.txt (line 7)) (2.27.0)\n",
            "Requirement already satisfied: google-auth-oauthlib<2,>=0.5 in /usr/local/lib/python3.10/dist-packages (from tensorboard<2.16,>=2.15->tensorflow->-r ./drive/MyDrive/a4-data/requirements.txt (line 7)) (1.2.0)\n",
            "Requirement already satisfied: markdown>=2.6.8 in /usr/local/lib/python3.10/dist-packages (from tensorboard<2.16,>=2.15->tensorflow->-r ./drive/MyDrive/a4-data/requirements.txt (line 7)) (3.6)\n",
            "Requirement already satisfied: tensorboard-data-server<0.8.0,>=0.7.0 in /usr/local/lib/python3.10/dist-packages (from tensorboard<2.16,>=2.15->tensorflow->-r ./drive/MyDrive/a4-data/requirements.txt (line 7)) (0.7.2)\n",
            "Requirement already satisfied: werkzeug>=1.0.1 in /usr/local/lib/python3.10/dist-packages (from tensorboard<2.16,>=2.15->tensorflow->-r ./drive/MyDrive/a4-data/requirements.txt (line 7)) (3.0.2)\n",
            "Requirement already satisfied: pytz>=2020.1 in /usr/local/lib/python3.10/dist-packages (from pandas->datasets->-r ./drive/MyDrive/a4-data/requirements.txt (line 1)) (2023.4)\n",
            "Requirement already satisfied: tzdata>=2022.1 in /usr/local/lib/python3.10/dist-packages (from pandas->datasets->-r ./drive/MyDrive/a4-data/requirements.txt (line 1)) (2024.1)\n",
            "Requirement already satisfied: exceptiongroup in /usr/local/lib/python3.10/dist-packages (from anyio->httpx>=0.25.0->jupyterlab->-r ./drive/MyDrive/a4-data/requirements.txt (line 3)) (1.2.0)\n",
            "Requirement already satisfied: argon2-cffi-bindings in /usr/local/lib/python3.10/dist-packages (from argon2-cffi>=21.1->jupyter-server<3,>=2.4.0->jupyterlab->-r ./drive/MyDrive/a4-data/requirements.txt (line 3)) (21.2.0)\n",
            "Requirement already satisfied: cachetools<6.0,>=2.0.0 in /usr/local/lib/python3.10/dist-packages (from google-auth<3,>=1.6.3->tensorboard<2.16,>=2.15->tensorflow->-r ./drive/MyDrive/a4-data/requirements.txt (line 7)) (5.3.3)\n",
            "Requirement already satisfied: pyasn1-modules>=0.2.1 in /usr/local/lib/python3.10/dist-packages (from google-auth<3,>=1.6.3->tensorboard<2.16,>=2.15->tensorflow->-r ./drive/MyDrive/a4-data/requirements.txt (line 7)) (0.4.0)\n",
            "Requirement already satisfied: rsa<5,>=3.1.4 in /usr/local/lib/python3.10/dist-packages (from google-auth<3,>=1.6.3->tensorboard<2.16,>=2.15->tensorflow->-r ./drive/MyDrive/a4-data/requirements.txt (line 7)) (4.9)\n",
            "Requirement already satisfied: requests-oauthlib>=0.7.0 in /usr/local/lib/python3.10/dist-packages (from google-auth-oauthlib<2,>=0.5->tensorboard<2.16,>=2.15->tensorflow->-r ./drive/MyDrive/a4-data/requirements.txt (line 7)) (1.3.1)\n",
            "Collecting jedi>=0.16 (from ipython>=7.23.1->ipykernel>=6.5.0->jupyterlab->-r ./drive/MyDrive/a4-data/requirements.txt (line 3))\n",
            "  Downloading jedi-0.19.1-py2.py3-none-any.whl (1.6 MB)\n",
            "\u001b[2K     \u001b[90m━━━━━━━━━━━━━━━━━━━━━━━━━━━━━━━━━━━━━━━━\u001b[0m \u001b[32m1.6/1.6 MB\u001b[0m \u001b[31m59.7 MB/s\u001b[0m eta \u001b[36m0:00:00\u001b[0m\n",
            "\u001b[?25hRequirement already satisfied: decorator in /usr/local/lib/python3.10/dist-packages (from ipython>=7.23.1->ipykernel>=6.5.0->jupyterlab->-r ./drive/MyDrive/a4-data/requirements.txt (line 3)) (4.4.2)\n",
            "Requirement already satisfied: pickleshare in /usr/local/lib/python3.10/dist-packages (from ipython>=7.23.1->ipykernel>=6.5.0->jupyterlab->-r ./drive/MyDrive/a4-data/requirements.txt (line 3)) (0.7.5)\n",
            "Requirement already satisfied: prompt-toolkit!=3.0.0,!=3.0.1,<3.1.0,>=2.0.0 in /usr/local/lib/python3.10/dist-packages (from ipython>=7.23.1->ipykernel>=6.5.0->jupyterlab->-r ./drive/MyDrive/a4-data/requirements.txt (line 3)) (3.0.43)\n",
            "Requirement already satisfied: pygments in /usr/local/lib/python3.10/dist-packages (from ipython>=7.23.1->ipykernel>=6.5.0->jupyterlab->-r ./drive/MyDrive/a4-data/requirements.txt (line 3)) (2.16.1)\n",
            "Requirement already satisfied: backcall in /usr/local/lib/python3.10/dist-packages (from ipython>=7.23.1->ipykernel>=6.5.0->jupyterlab->-r ./drive/MyDrive/a4-data/requirements.txt (line 3)) (0.2.0)\n",
            "Requirement already satisfied: pexpect>4.3 in /usr/local/lib/python3.10/dist-packages (from ipython>=7.23.1->ipykernel>=6.5.0->jupyterlab->-r ./drive/MyDrive/a4-data/requirements.txt (line 3)) (4.9.0)\n",
            "Requirement already satisfied: jsonschema-specifications>=2023.03.6 in /usr/local/lib/python3.10/dist-packages (from jsonschema>=4.18.0->jupyterlab-server<3,>=2.19.0->jupyterlab->-r ./drive/MyDrive/a4-data/requirements.txt (line 3)) (2023.12.1)\n",
            "Requirement already satisfied: referencing>=0.28.4 in /usr/local/lib/python3.10/dist-packages (from jsonschema>=4.18.0->jupyterlab-server<3,>=2.19.0->jupyterlab->-r ./drive/MyDrive/a4-data/requirements.txt (line 3)) (0.34.0)\n",
            "Requirement already satisfied: rpds-py>=0.7.1 in /usr/local/lib/python3.10/dist-packages (from jsonschema>=4.18.0->jupyterlab-server<3,>=2.19.0->jupyterlab->-r ./drive/MyDrive/a4-data/requirements.txt (line 3)) (0.18.0)\n",
            "Collecting python-json-logger>=2.0.4 (from jupyter-events>=0.9.0->jupyter-server<3,>=2.4.0->jupyterlab->-r ./drive/MyDrive/a4-data/requirements.txt (line 3))\n",
            "  Downloading python_json_logger-2.0.7-py3-none-any.whl (8.1 kB)\n",
            "Collecting rfc3339-validator (from jupyter-events>=0.9.0->jupyter-server<3,>=2.4.0->jupyterlab->-r ./drive/MyDrive/a4-data/requirements.txt (line 3))\n",
            "  Downloading rfc3339_validator-0.1.4-py2.py3-none-any.whl (3.5 kB)\n",
            "Collecting rfc3986-validator>=0.1.1 (from jupyter-events>=0.9.0->jupyter-server<3,>=2.4.0->jupyterlab->-r ./drive/MyDrive/a4-data/requirements.txt (line 3))\n",
            "  Downloading rfc3986_validator-0.1.1-py2.py3-none-any.whl (4.2 kB)\n",
            "Requirement already satisfied: beautifulsoup4 in /usr/local/lib/python3.10/dist-packages (from nbconvert>=6.4.4->jupyter-server<3,>=2.4.0->jupyterlab->-r ./drive/MyDrive/a4-data/requirements.txt (line 3)) (4.12.3)\n",
            "Requirement already satisfied: bleach in /usr/local/lib/python3.10/dist-packages (from nbconvert>=6.4.4->jupyter-server<3,>=2.4.0->jupyterlab->-r ./drive/MyDrive/a4-data/requirements.txt (line 3)) (6.1.0)\n",
            "Requirement already satisfied: defusedxml in /usr/local/lib/python3.10/dist-packages (from nbconvert>=6.4.4->jupyter-server<3,>=2.4.0->jupyterlab->-r ./drive/MyDrive/a4-data/requirements.txt (line 3)) (0.7.1)\n",
            "Requirement already satisfied: entrypoints>=0.2.2 in /usr/local/lib/python3.10/dist-packages (from nbconvert>=6.4.4->jupyter-server<3,>=2.4.0->jupyterlab->-r ./drive/MyDrive/a4-data/requirements.txt (line 3)) (0.4)\n",
            "Requirement already satisfied: jupyterlab-pygments in /usr/local/lib/python3.10/dist-packages (from nbconvert>=6.4.4->jupyter-server<3,>=2.4.0->jupyterlab->-r ./drive/MyDrive/a4-data/requirements.txt (line 3)) (0.3.0)\n",
            "Requirement already satisfied: mistune<2,>=0.8.1 in /usr/local/lib/python3.10/dist-packages (from nbconvert>=6.4.4->jupyter-server<3,>=2.4.0->jupyterlab->-r ./drive/MyDrive/a4-data/requirements.txt (line 3)) (0.8.4)\n",
            "Requirement already satisfied: nbclient>=0.5.0 in /usr/local/lib/python3.10/dist-packages (from nbconvert>=6.4.4->jupyter-server<3,>=2.4.0->jupyterlab->-r ./drive/MyDrive/a4-data/requirements.txt (line 3)) (0.10.0)\n",
            "Requirement already satisfied: pandocfilters>=1.4.1 in /usr/local/lib/python3.10/dist-packages (from nbconvert>=6.4.4->jupyter-server<3,>=2.4.0->jupyterlab->-r ./drive/MyDrive/a4-data/requirements.txt (line 3)) (1.5.1)\n",
            "Requirement already satisfied: tinycss2 in /usr/local/lib/python3.10/dist-packages (from nbconvert>=6.4.4->jupyter-server<3,>=2.4.0->jupyterlab->-r ./drive/MyDrive/a4-data/requirements.txt (line 3)) (1.2.1)\n",
            "Requirement already satisfied: fastjsonschema>=2.15 in /usr/local/lib/python3.10/dist-packages (from nbformat>=5.3.0->jupyter-server<3,>=2.4.0->jupyterlab->-r ./drive/MyDrive/a4-data/requirements.txt (line 3)) (2.19.1)\n",
            "Requirement already satisfied: ptyprocess in /usr/local/lib/python3.10/dist-packages (from terminado>=0.8.3->jupyter-server<3,>=2.4.0->jupyterlab->-r ./drive/MyDrive/a4-data/requirements.txt (line 3)) (0.7.0)\n",
            "Requirement already satisfied: parso<0.9.0,>=0.8.3 in /usr/local/lib/python3.10/dist-packages (from jedi>=0.16->ipython>=7.23.1->ipykernel>=6.5.0->jupyterlab->-r ./drive/MyDrive/a4-data/requirements.txt (line 3)) (0.8.4)\n",
            "Collecting fqdn (from jsonschema>=4.18.0->jupyterlab-server<3,>=2.19.0->jupyterlab->-r ./drive/MyDrive/a4-data/requirements.txt (line 3))\n",
            "  Downloading fqdn-1.5.1-py3-none-any.whl (9.1 kB)\n",
            "Collecting isoduration (from jsonschema>=4.18.0->jupyterlab-server<3,>=2.19.0->jupyterlab->-r ./drive/MyDrive/a4-data/requirements.txt (line 3))\n",
            "  Downloading isoduration-20.11.0-py3-none-any.whl (11 kB)\n",
            "Collecting jsonpointer>1.13 (from jsonschema>=4.18.0->jupyterlab-server<3,>=2.19.0->jupyterlab->-r ./drive/MyDrive/a4-data/requirements.txt (line 3))\n",
            "  Downloading jsonpointer-2.4-py2.py3-none-any.whl (7.8 kB)\n",
            "Collecting uri-template (from jsonschema>=4.18.0->jupyterlab-server<3,>=2.19.0->jupyterlab->-r ./drive/MyDrive/a4-data/requirements.txt (line 3))\n",
            "  Downloading uri_template-1.3.0-py3-none-any.whl (11 kB)\n",
            "Requirement already satisfied: webcolors>=1.11 in /usr/local/lib/python3.10/dist-packages (from jsonschema>=4.18.0->jupyterlab-server<3,>=2.19.0->jupyterlab->-r ./drive/MyDrive/a4-data/requirements.txt (line 3)) (1.13)\n",
            "Requirement already satisfied: wcwidth in /usr/local/lib/python3.10/dist-packages (from prompt-toolkit!=3.0.0,!=3.0.1,<3.1.0,>=2.0.0->ipython>=7.23.1->ipykernel>=6.5.0->jupyterlab->-r ./drive/MyDrive/a4-data/requirements.txt (line 3)) (0.2.13)\n",
            "Requirement already satisfied: pyasn1<0.7.0,>=0.4.6 in /usr/local/lib/python3.10/dist-packages (from pyasn1-modules>=0.2.1->google-auth<3,>=1.6.3->tensorboard<2.16,>=2.15->tensorflow->-r ./drive/MyDrive/a4-data/requirements.txt (line 7)) (0.6.0)\n",
            "Requirement already satisfied: oauthlib>=3.0.0 in /usr/local/lib/python3.10/dist-packages (from requests-oauthlib>=0.7.0->google-auth-oauthlib<2,>=0.5->tensorboard<2.16,>=2.15->tensorflow->-r ./drive/MyDrive/a4-data/requirements.txt (line 7)) (3.2.2)\n",
            "Requirement already satisfied: cffi>=1.0.1 in /usr/local/lib/python3.10/dist-packages (from argon2-cffi-bindings->argon2-cffi>=21.1->jupyter-server<3,>=2.4.0->jupyterlab->-r ./drive/MyDrive/a4-data/requirements.txt (line 3)) (1.16.0)\n",
            "Requirement already satisfied: soupsieve>1.2 in /usr/local/lib/python3.10/dist-packages (from beautifulsoup4->nbconvert>=6.4.4->jupyter-server<3,>=2.4.0->jupyterlab->-r ./drive/MyDrive/a4-data/requirements.txt (line 3)) (2.5)\n",
            "Requirement already satisfied: webencodings in /usr/local/lib/python3.10/dist-packages (from bleach->nbconvert>=6.4.4->jupyter-server<3,>=2.4.0->jupyterlab->-r ./drive/MyDrive/a4-data/requirements.txt (line 3)) (0.5.1)\n",
            "Requirement already satisfied: pycparser in /usr/local/lib/python3.10/dist-packages (from cffi>=1.0.1->argon2-cffi-bindings->argon2-cffi>=21.1->jupyter-server<3,>=2.4.0->jupyterlab->-r ./drive/MyDrive/a4-data/requirements.txt (line 3)) (2.22)\n",
            "Collecting arrow>=0.15.0 (from isoduration->jsonschema>=4.18.0->jupyterlab-server<3,>=2.19.0->jupyterlab->-r ./drive/MyDrive/a4-data/requirements.txt (line 3))\n",
            "  Downloading arrow-1.3.0-py3-none-any.whl (66 kB)\n",
            "\u001b[2K     \u001b[90m━━━━━━━━━━━━━━━━━━━━━━━━━━━━━━━━━━━━━━━━\u001b[0m \u001b[32m66.4/66.4 kB\u001b[0m \u001b[31m10.2 MB/s\u001b[0m eta \u001b[36m0:00:00\u001b[0m\n",
            "\u001b[?25hCollecting types-python-dateutil>=2.8.10 (from arrow>=0.15.0->isoduration->jsonschema>=4.18.0->jupyterlab-server<3,>=2.19.0->jupyterlab->-r ./drive/MyDrive/a4-data/requirements.txt (line 3))\n",
            "  Downloading types_python_dateutil-2.9.0.20240316-py3-none-any.whl (9.7 kB)\n",
            "Installing collected packages: xxhash, uri-template, types-python-dateutil, typeguard, rfc3986-validator, rfc3339-validator, pyzmq, python-json-logger, portalocker, overrides, jsonpointer, json5, jedi, h11, fqdn, dill, comm, colorama, async-lru, tensorflow-addons, sacrebleu, responses, multiprocess, jupyter-server-terminals, jupyter-client, huggingface-hub, httpcore, arrow, isoduration, ipykernel, httpx, datasets, jupyter-events, evaluate, jupyter-server, jupyterlab-server, jupyter-lsp, jupyterlab\n",
            "  Attempting uninstall: pyzmq\n",
            "    Found existing installation: pyzmq 23.2.1\n",
            "    Uninstalling pyzmq-23.2.1:\n",
            "      Successfully uninstalled pyzmq-23.2.1\n",
            "  Attempting uninstall: jupyter-client\n",
            "    Found existing installation: jupyter-client 6.1.12\n",
            "    Uninstalling jupyter-client-6.1.12:\n",
            "      Successfully uninstalled jupyter-client-6.1.12\n",
            "  Attempting uninstall: huggingface-hub\n",
            "    Found existing installation: huggingface-hub 0.20.3\n",
            "    Uninstalling huggingface-hub-0.20.3:\n",
            "      Successfully uninstalled huggingface-hub-0.20.3\n",
            "  Attempting uninstall: ipykernel\n",
            "    Found existing installation: ipykernel 5.5.6\n",
            "    Uninstalling ipykernel-5.5.6:\n",
            "      Successfully uninstalled ipykernel-5.5.6\n",
            "  Attempting uninstall: jupyter-server\n",
            "    Found existing installation: jupyter-server 1.24.0\n",
            "    Uninstalling jupyter-server-1.24.0:\n",
            "      Successfully uninstalled jupyter-server-1.24.0\n",
            "\u001b[31mERROR: pip's dependency resolver does not currently take into account all the packages that are installed. This behaviour is the source of the following dependency conflicts.\n",
            "google-colab 1.0.0 requires ipykernel==5.5.6, but you have ipykernel 6.29.4 which is incompatible.\n",
            "notebook 6.5.5 requires jupyter-client<8,>=5.3.4, but you have jupyter-client 8.6.1 which is incompatible.\n",
            "notebook 6.5.5 requires pyzmq<25,>=17, but you have pyzmq 26.0.2 which is incompatible.\u001b[0m\u001b[31m\n",
            "\u001b[0mSuccessfully installed arrow-1.3.0 async-lru-2.0.4 colorama-0.4.6 comm-0.2.2 datasets-2.19.0 dill-0.3.8 evaluate-0.4.1 fqdn-1.5.1 h11-0.14.0 httpcore-1.0.5 httpx-0.27.0 huggingface-hub-0.22.2 ipykernel-6.29.4 isoduration-20.11.0 jedi-0.19.1 json5-0.9.25 jsonpointer-2.4 jupyter-client-8.6.1 jupyter-events-0.10.0 jupyter-lsp-2.2.5 jupyter-server-2.14.0 jupyter-server-terminals-0.5.3 jupyterlab-4.1.6 jupyterlab-server-2.26.0 multiprocess-0.70.16 overrides-7.7.0 portalocker-2.8.2 python-json-logger-2.0.7 pyzmq-26.0.2 responses-0.18.0 rfc3339-validator-0.1.4 rfc3986-validator-0.1.1 sacrebleu-2.4.2 tensorflow-addons-0.23.0 typeguard-2.13.3 types-python-dateutil-2.9.0.20240316 uri-template-1.3.0 xxhash-3.4.1\n"
          ]
        }
      ],
      "source": [
        "pip install -r ./drive/MyDrive/a4-data/requirements.txt"
      ]
    },
    {
      "cell_type": "code",
      "execution_count": 6,
      "id": "9f9a9bad",
      "metadata": {
        "id": "9f9a9bad"
      },
      "outputs": [],
      "source": [
        "import sys\n",
        "import os\n",
        "\n",
        "\n",
        "def print_line(*args):\n",
        "    \"\"\" Inline print and go to the begining of line\n",
        "    \"\"\"\n",
        "    args1 = [str(arg) for arg in args]\n",
        "    str_ = ' '.join(args1)\n",
        "    print('\\r' + str_, end='')"
      ]
    },
    {
      "cell_type": "code",
      "execution_count": 7,
      "id": "9ffd6958",
      "metadata": {
        "id": "9ffd6958",
        "colab": {
          "base_uri": "https://localhost:8080/"
        },
        "outputId": "3aa89fe3-6812-40f2-ec94-8dbc1b723f13"
      },
      "outputs": [
        {
          "output_type": "execute_result",
          "data": {
            "text/plain": [
              "[PhysicalDevice(name='/physical_device:GPU:0', device_type='GPU')]"
            ]
          },
          "metadata": {},
          "execution_count": 7
        }
      ],
      "source": [
        "import tensorflow as tf\n",
        "\n",
        "\n",
        "# If you are going to use GPU, make sure the GPU in in the output\n",
        "tf.config.list_physical_devices('GPU')"
      ]
    },
    {
      "cell_type": "code",
      "execution_count": 8,
      "id": "63d226bd",
      "metadata": {
        "id": "63d226bd"
      },
      "outputs": [],
      "source": [
        "from typing import List, Tuple, Union, Dict\n",
        "\n",
        "import numpy as np"
      ]
    },
    {
      "cell_type": "markdown",
      "id": "9441930a",
      "metadata": {
        "id": "9441930a"
      },
      "source": [
        "## 1. Data preparation (5 Points)"
      ]
    },
    {
      "cell_type": "markdown",
      "id": "0745adba",
      "metadata": {
        "id": "0745adba"
      },
      "source": [
        "### 1.1 Load and describe data"
      ]
    },
    {
      "cell_type": "markdown",
      "id": "eb159ef8",
      "metadata": {
        "id": "eb159ef8"
      },
      "source": [
        "Here, we use the [iwslt2017](https://huggingface.co/datasets/iwslt2017) dataset. More specifically, this translation task is from French to English: fr-en."
      ]
    },
    {
      "cell_type": "code",
      "execution_count": 9,
      "id": "a2326b71",
      "metadata": {
        "id": "a2326b71",
        "colab": {
          "base_uri": "https://localhost:8080/"
        },
        "outputId": "cca94aec-2a2f-4d28-e6e3-a5f46bb23c38"
      },
      "outputs": [
        {
          "output_type": "stream",
          "name": "stderr",
          "text": [
            "/usr/local/lib/python3.10/dist-packages/datasets/load.py:2555: FutureWarning: 'ignore_verifications' was deprecated in favor of 'verification_mode' in version 2.9.1 and will be removed in 3.0.0.\n",
            "You can remove this warning by passing 'verification_mode=no_checks' instead.\n",
            "  warnings.warn(\n",
            "/usr/local/lib/python3.10/dist-packages/huggingface_hub/utils/_token.py:89: UserWarning: \n",
            "The secret `HF_TOKEN` does not exist in your Colab secrets.\n",
            "To authenticate with the Hugging Face Hub, create a token in your settings tab (https://huggingface.co/settings/tokens), set it as secret in your Google Colab and restart your session.\n",
            "You will be able to reuse this secret in all of your notebooks.\n",
            "Please note that authentication is recommended but still optional to access public models or datasets.\n",
            "  warnings.warn(\n"
          ]
        }
      ],
      "source": [
        "from datasets import load_dataset\n",
        "# The load_dataset function is provided by the huggingface datasets\n",
        "# https://huggingface.co/docs/datasets/index\n",
        "\n",
        "\n",
        "dataset_path = os.path.join('./drive/MyDrive/a4-data', 'dataset')\n",
        "dataset = load_dataset('iwslt2017', 'iwslt2017-en-fr', cache_dir=dataset_path, ignore_verifications=True)"
      ]
    },
    {
      "cell_type": "markdown",
      "id": "4da78bb3",
      "metadata": {
        "id": "4da78bb3"
      },
      "source": [
        "Let's first print some basic statistics of this dataset"
      ]
    },
    {
      "cell_type": "code",
      "execution_count": 10,
      "id": "a0f96c96",
      "metadata": {
        "id": "a0f96c96",
        "colab": {
          "base_uri": "https://localhost:8080/"
        },
        "outputId": "cc01a92f-fad3-4911-caf5-0f72aebe686d"
      },
      "outputs": [
        {
          "output_type": "stream",
          "name": "stdout",
          "text": [
            "DatasetDict({\n",
            "    train: Dataset({\n",
            "        features: ['translation'],\n",
            "        num_rows: 232825\n",
            "    })\n",
            "    test: Dataset({\n",
            "        features: ['translation'],\n",
            "        num_rows: 8597\n",
            "    })\n",
            "    validation: Dataset({\n",
            "        features: ['translation'],\n",
            "        num_rows: 890\n",
            "    })\n",
            "})\n",
            "232825 890 8597\n"
          ]
        }
      ],
      "source": [
        "print(dataset)\n",
        "print(len(dataset['train']['translation']), len(dataset['validation']['translation']), len(dataset['test']['translation']))"
      ]
    },
    {
      "cell_type": "code",
      "source": [
        "# dataset['train']['translation'][0]"
      ],
      "metadata": {
        "id": "3r_Y0ruDVUSL"
      },
      "id": "3r_Y0ruDVUSL",
      "execution_count": 11,
      "outputs": []
    },
    {
      "cell_type": "code",
      "execution_count": 12,
      "id": "e65f0a1d",
      "metadata": {
        "id": "e65f0a1d",
        "colab": {
          "base_uri": "https://localhost:8080/"
        },
        "outputId": "7bfb95f8-2e42-41de-c182-44b63a708cf1"
      },
      "outputs": [
        {
          "output_type": "stream",
          "name": "stdout",
          "text": [
            "{'en': \"Thank you so much, Chris. And it's truly a great honor to have the opportunity to come to this stage twice; I'm extremely grateful.\", 'fr': \"Merci beaucoup, Chris. C'est vraiment un honneur de pouvoir venir sur cette scène une deuxième fois. Je suis très reconnaissant.\"}\n"
          ]
        }
      ],
      "source": [
        "print(dataset['train']['translation'][0])"
      ]
    },
    {
      "cell_type": "code",
      "execution_count": 13,
      "id": "1471b654",
      "metadata": {
        "id": "1471b654"
      },
      "outputs": [],
      "source": [
        "from tokenizers import Tokenizer\n",
        "# The tokenizer is provided by the huggingface tokenizers\n",
        "# https://huggingface.co/docs/tokenizers/index\n",
        "# Here, I already pretrained a BPE tokenizer and you can simply load the json\n",
        "# The token numbers of both English and French are 10,000\n",
        "# All tokens should be lower-case.\n",
        "en_tokenizer = Tokenizer.from_file('./drive/MyDrive/a4-data/en_tokenizer.json')\n",
        "fr_tokenizer = Tokenizer.from_file('./drive/MyDrive/a4-data/fr_tokenizer.json')"
      ]
    },
    {
      "cell_type": "code",
      "execution_count": 14,
      "id": "0ade73b8",
      "metadata": {
        "id": "0ade73b8",
        "colab": {
          "base_uri": "https://localhost:8080/"
        },
        "outputId": "7c7742b6-02c4-4caa-8613-6020b8f2ff18"
      },
      "outputs": [
        {
          "output_type": "stream",
          "name": "stdout",
          "text": [
            "[0, 122, 279, 4987, 17, 1]\n",
            "['<s>', 'Ġi', 'Ġlike', 'Ġsports', '.', '</s>']\n"
          ]
        }
      ],
      "source": [
        "encoding = en_tokenizer.encode(\"i like sports.\")\n",
        "print(encoding.ids)\n",
        "print(encoding.tokens)\n",
        "# >>> [0, 122, 279, 4987, 17, 1]\n",
        "# >>> ['<s>', 'Ġi', 'Ġlike', 'Ġsports', '.', '</s>']"
      ]
    },
    {
      "cell_type": "markdown",
      "id": "80dd9b4c",
      "metadata": {
        "id": "80dd9b4c"
      },
      "source": [
        "Extract English and French sentences for training, validation, and test sets.\n",
        "\n",
        "Note: Every sentence is lower-case."
      ]
    },
    {
      "cell_type": "code",
      "execution_count": 15,
      "id": "a1608b13",
      "metadata": {
        "id": "a1608b13"
      },
      "outputs": [],
      "source": [
        "train_en_sentences, train_fr_sentences = zip(*[(pair['en'].lower(), pair['fr'].lower()) for pair in dataset['train']['translation']])\n",
        "valid_en_sentences, valid_fr_sentences = zip(*[(pair['en'].lower(), pair['fr'].lower()) for pair in dataset['validation']['translation']])\n",
        "test_en_sentences, test_fr_sentences = zip(*[(pair['en'].lower(), pair['fr'].lower()) for pair in dataset['test']['translation']])"
      ]
    },
    {
      "cell_type": "code",
      "source": [
        "test_en_sentences[0]"
      ],
      "metadata": {
        "colab": {
          "base_uri": "https://localhost:8080/",
          "height": 35
        },
        "id": "Jw5Qk7fcV8_K",
        "outputId": "135058e7-2c66-4164-d538-4b513672a877"
      },
      "id": "Jw5Qk7fcV8_K",
      "execution_count": 16,
      "outputs": [
        {
          "output_type": "execute_result",
          "data": {
            "text/plain": [
              "'several years ago here at ted, peter skillman  introduced a design challenge  called the marshmallow challenge.'"
            ],
            "application/vnd.google.colaboratory.intrinsic+json": {
              "type": "string"
            }
          },
          "metadata": {},
          "execution_count": 16
        }
      ]
    },
    {
      "cell_type": "code",
      "source": [
        "test_fr_sentences[0]"
      ],
      "metadata": {
        "colab": {
          "base_uri": "https://localhost:8080/",
          "height": 53
        },
        "id": "NxJsfIMjWJM1",
        "outputId": "aa35e909-b48b-4f31-bce2-3bcdd19312c4"
      },
      "id": "NxJsfIMjWJM1",
      "execution_count": 17,
      "outputs": [
        {
          "output_type": "execute_result",
          "data": {
            "text/plain": [
              "\"il y a plusieurs années, ici à ted, peter skillman a présenté une épreuve de conception appelée l'épreuve du marshmallow.\""
            ],
            "application/vnd.google.colaboratory.intrinsic+json": {
              "type": "string"
            }
          },
          "metadata": {},
          "execution_count": 17
        }
      ]
    },
    {
      "cell_type": "markdown",
      "id": "4486e49b",
      "metadata": {
        "id": "4486e49b"
      },
      "source": [
        "### 1.2 Encode data (5 Points)"
      ]
    },
    {
      "cell_type": "code",
      "execution_count": 18,
      "id": "9ccb3e5d",
      "metadata": {
        "id": "9ccb3e5d"
      },
      "outputs": [],
      "source": [
        "def encode(tokenizer: 'Tokenizer', sentences: List[str]) -> List[List[int]]:\n",
        "    \"\"\" Encode the sentences with the pretrained tokenizer.\n",
        "        You can directly call `tokenizer.encode()` to encode the sentences.\n",
        "        It will automatically add the <s> and </s> token.\n",
        "\n",
        "        Note: Please be carefull with the return value of the encode function.\n",
        "\n",
        "    Args:\n",
        "        tokenizer: A pretrained en/fr tokenizer\n",
        "        sentences: A list of strings\n",
        "    Return:\n",
        "        sent_token_ids: A list of token ids\n",
        "    \"\"\"\n",
        "    sent_token_ids = []\n",
        "    n = len(sentences)\n",
        "    for i, sentence in enumerate(sentences):\n",
        "        if i % 100 == 0 or i == n - 1:\n",
        "            print_line('Encoding with Tokenizer:', (i + 1), '/', n)\n",
        "        # Start your code here\n",
        "        sent_token_ids.append(tokenizer.encode(sentence).ids)\n",
        "        # End\n",
        "    print_line('\\n')\n",
        "    return sent_token_ids"
      ]
    },
    {
      "cell_type": "code",
      "execution_count": 19,
      "id": "771ab620",
      "metadata": {
        "id": "771ab620",
        "colab": {
          "base_uri": "https://localhost:8080/"
        },
        "outputId": "7b878d04-a000-4bc6-b902-540a5e95a01b"
      },
      "outputs": [
        {
          "output_type": "stream",
          "name": "stdout",
          "text": [
            "en\n",
            "Encoding with Tokenizer: 232825 / 232825\n",
            "Encoding with Tokenizer: 890 / 890\n",
            "Encoding with Tokenizer: 8597 / 8597\n",
            "fr\n",
            "Encoding with Tokenizer: 232825 / 232825\n",
            "Encoding with Tokenizer: 890 / 890\n",
            "Encoding with Tokenizer: 8597 / 8597\n"
          ]
        }
      ],
      "source": [
        "print('en')\n",
        "train_en = encode(en_tokenizer, train_en_sentences)\n",
        "valid_en = encode(en_tokenizer, valid_en_sentences)\n",
        "test_en = encode(en_tokenizer, test_en_sentences)\n",
        "print('fr')\n",
        "train_fr = encode(fr_tokenizer, train_fr_sentences)\n",
        "valid_fr = encode(fr_tokenizer, valid_fr_sentences)\n",
        "test_fr = encode(fr_tokenizer, test_fr_sentences)"
      ]
    },
    {
      "cell_type": "markdown",
      "id": "e910335c",
      "metadata": {
        "id": "e910335c"
      },
      "source": [
        "Check your implementation with an example"
      ]
    },
    {
      "cell_type": "code",
      "execution_count": 20,
      "id": "763287e4",
      "metadata": {
        "id": "763287e4",
        "colab": {
          "base_uri": "https://localhost:8080/"
        },
        "outputId": "3f19bccf-5207-4e25-b391-fe31302172bf"
      },
      "outputs": [
        {
          "output_type": "stream",
          "name": "stdout",
          "text": [
            "{'en': \"Thank you so much, Chris. And it's truly a great honor to have the opportunity to come to this stage twice; I'm extremely grateful.\", 'fr': \"Merci beaucoup, Chris. C'est vraiment un honneur de pouvoir venir sur cette scène une deuxième fois. Je suis très reconnaissant.\"}\n",
            "[0, 658, 162, 188, 494, 15, 2843, 17, 138, 165, 178, 2775, 121, 630, 4502, 140, 222, 124, 1930, 140, 625, 140, 185, 2122, 3446, 30, 122, 400, 2576, 5818, 17, 1] [0, 763, 478, 15, 3016, 17, 145, 10, 178, 487, 169, 8981, 152, 1038, 2055, 266, 323, 2425, 220, 1760, 586, 17, 214, 459, 378, 9952, 17, 1]\n",
            " thank you so much, chris. and it's truly a great honor to have the opportunity to come to this stage twice; i'm extremely grateful.  merci beaucoup, chris. c'est vraiment un honneur de pouvoir venir sur cette scène une deuxième fois. je suis très reconnaissant.\n"
          ]
        }
      ],
      "source": [
        "print(dataset['train']['translation'][0])\n",
        "print(train_en[0], train_fr[0])\n",
        "print(en_tokenizer.decode(train_en[0]), fr_tokenizer.decode(train_fr[0]))"
      ]
    },
    {
      "cell_type": "markdown",
      "id": "8e4bd4aa",
      "metadata": {
        "id": "8e4bd4aa"
      },
      "source": [
        "## 2. Sequence to sequence model (40 Points)"
      ]
    },
    {
      "cell_type": "markdown",
      "id": "2f9202d2",
      "metadata": {
        "id": "2f9202d2"
      },
      "source": [
        "### 2.1 Encoder (10 Points)"
      ]
    },
    {
      "cell_type": "code",
      "execution_count": 21,
      "id": "9db70c22",
      "metadata": {
        "id": "9db70c22"
      },
      "outputs": [],
      "source": [
        "from tensorflow.keras.models import Model\n",
        "from tensorflow.keras.layers import Layer, GRU, Dense, Embedding, Dropout\n",
        "from tensorflow.keras.initializers import GlorotUniform\n",
        "\n",
        "\n",
        "class Encoder(Model):\n",
        "    def __init__(self, vocab_size: int, embedding_size: int, units: int):\n",
        "        \"\"\" The encoder model for the src sentences.\n",
        "            It contains an embedding part and a GRU part.\n",
        "\n",
        "        Args:\n",
        "            vocab_size: The src vocabulary size\n",
        "            embedding_size: The embedding size for the embedding layer\n",
        "            units: Number of hidden units in the RNN (GRU) layer\n",
        "        \"\"\"\n",
        "        super().__init__()\n",
        "        # Start your code here\n",
        "        # Note: Please know what the decoder needs from encoder. This determines the parameters of the GRU layer\n",
        "        self.embedding = Embedding(vocab_size, embedding_size)\n",
        "        self.gru = GRU(units, return_sequences=True, return_state=True, recurrent_initializer='glorot_uniform')\n",
        "        # End\n",
        "\n",
        "    def call(self, src_ids, src_mask):\n",
        "        \"\"\" Encoder forward\n",
        "        Args:\n",
        "            src_ids: Tensor, (batch_size x max_len), the token ids of input sentences in a batch\n",
        "            src_mask: Tensor, (batch_size x max_len), the mask of the src input. True value in the mask means this timestep is valid, otherwise this timestep is ignored\n",
        "        Returns:\n",
        "            enc_output: Tensor, (batch_size x max_len x units), the output of GRU for all timesteps\n",
        "            final_state: Tensor, (batch_size x units), the state of the final valid timestep\n",
        "        \"\"\"\n",
        "        # Start your code here\n",
        "        # Step 1. Retrieve embedding\n",
        "        #      2. GRU\n",
        "        # Please refer to the calling arguments of GRU: https://www.tensorflow.org/api_docs/python/tf/keras/layers/GRU#call-arguments\n",
        "        # print(src_ids)\n",
        "        # print(src_ids[0])\n",
        "        # print()\n",
        "        embedded = self.embedding(src_ids)\n",
        "        # print(embedded)\n",
        "        enc_outputs, final_state = self.gru(embedded, mask=src_mask)\n",
        "        # End\n",
        "        return enc_outputs, final_state"
      ]
    },
    {
      "cell_type": "markdown",
      "id": "a312246f",
      "metadata": {
        "id": "a312246f"
      },
      "source": [
        "### 2.2 Decoder (15 Points)"
      ]
    },
    {
      "cell_type": "code",
      "execution_count": 22,
      "id": "607e79c2",
      "metadata": {
        "id": "607e79c2"
      },
      "outputs": [],
      "source": [
        "class Decoder(Model):\n",
        "    def __init__(self, vocab_size: int, embedding_size: int, units: int, dropout_rate: float):\n",
        "        \"\"\" The decoder model for the tgt sentences.\n",
        "            It contains an embedding part, a GRU part, a dropout part, and a classifier part.\n",
        "\n",
        "        Args:\n",
        "            vocab_size: The tgt vocabulary size\n",
        "            embedding_size: The embedding size for the embedding layer\n",
        "            units: Number of hidden units in the RNN (GRU) layer\n",
        "            dropout_rate: The classifier has a (units x vocab_size) weight. This is a large weight matrix. We apply a dropout layer to avoid overfitting.\n",
        "        \"\"\"\n",
        "        super().__init__()\n",
        "        # Start your code here\n",
        "        # Note: 1. Please correctly set the parameter of GRU\n",
        "        #       2. No softmax here because we will need the sequence to sequence loss later\n",
        "        self.embedding = Embedding(vocab_size, embedding_size)\n",
        "        self.gru = GRU(units, return_sequences=True, return_state=True, recurrent_initializer='glorot_uniform')\n",
        "        self.dropout = Dropout(dropout_rate)\n",
        "        self.classifier = Dense(vocab_size)\n",
        "        # End\n",
        "\n",
        "    def call(self, tgt_ids, initial_state, tgt_mask):\n",
        "        \"\"\" Decoder forward.\n",
        "            It is called by decoder(tgt_ids=..., initial_state=..., tgt_mask=...)\n",
        "\n",
        "        Args:\n",
        "            tgt_ids: Tensor, (batch_size x max_len), the token ids of input sentences in a batch\n",
        "            initial_state: Tensor, (batch_size x units), the state of the final valid timestep from the encoder\n",
        "            tgt_mask: Tensor, (batch_size x max_len), the mask of the tgt input. True value in the mask means this timestep is valid, otherwise this timestep is ignored\n",
        "        Return:\n",
        "            dec_outputs: Tensor, (batch_size x max_len x vocab_size), the output of GRU for all timesteps\n",
        "        \"\"\"\n",
        "        # Start your code here\n",
        "        # Step 1. Retrieve embedding\n",
        "        #      2. GRU\n",
        "        #      3. Apply dropout to the GRU output\n",
        "        #      4. Classifier\n",
        "        # Note: Please refer to the calling arguments of GRU: https://www.tensorflow.org/api_docs/python/tf/keras/layers/GRU#call-arguments\n",
        "        embedded = self.embedding(tgt_ids)\n",
        "        dec_output, final_state = self.gru(embedded, initial_state=initial_state, mask=tgt_mask)\n",
        "        dec_outputs = self.dropout(dec_output)\n",
        "        dec_outputs = self.classifier(dec_outputs)\n",
        "        # End\n",
        "        return dec_outputs\n",
        "\n",
        "    def predict(self, tgt_ids, initial_state):\n",
        "        \"\"\" Decoder prediction.\n",
        "            This is a step in recursive prediction. We use the previous prediction and state to predict current token.\n",
        "            Note that we only need to use the gru_cell instead of GRU becasue we only need to calculate one timestep.\n",
        "\n",
        "        Args:\n",
        "            tgt_ids: Tensor, (batch_size, ) -> (1, ), the token id of the current timestep in the current sentence.\n",
        "            initial_state: Tensor, (batch_size x units) -> (1 x units), the state of the final valid timestep from the encoder or the previous hidden state in prediction.\n",
        "        Return:\n",
        "            dec_outputs: Tensor, (batch_size x vocab_size) -> (1 x vocab_size), the output of GRU for this timestep.\n",
        "            state: Tensor, (batch_size x units) -> (1 x units), the state of this timestep.\n",
        "        \"\"\"\n",
        "        gru_cell = self.gru.cell\n",
        "        # Start your code here\n",
        "        # Step 1. Retrieve embedding\n",
        "        #      2. GRU Cell, see https://www.tensorflow.org/api_docs/python/tf/keras/layers/GRUCell#call-arguments\n",
        "        #      3. Classifier (No dropout)\n",
        "        embedded = self.embedding(tgt_ids)\n",
        "        dec_output, state = self.gru(embedded, initial_state=initial_state)\n",
        "        dec_outputs = self.classifier(dec_output)\n",
        "        # End\n",
        "        return dec_outputs, state"
      ]
    },
    {
      "cell_type": "markdown",
      "id": "f2570e4c",
      "metadata": {
        "id": "f2570e4c"
      },
      "source": [
        "### 2.3 Seq2seq (10 Points)"
      ]
    },
    {
      "cell_type": "code",
      "execution_count": 23,
      "id": "c7be2a3c",
      "metadata": {
        "id": "c7be2a3c"
      },
      "outputs": [],
      "source": [
        "class Seq2seq(Model):\n",
        "    def __init__(self, src_vocab_size: int, tgt_vocab_size: int, embedding_size: int, units: int, dropout_rate: float):\n",
        "        \"\"\" The sequence to sequence model.\n",
        "            It contains an encoder and a decoder.\n",
        "\n",
        "        Args:\n",
        "            src_vocab_size: The src vocabulary size\n",
        "            tgt_vocab_size: The tgt vocabulary size\n",
        "            embedding_size: The embedding size for the embedding layer\n",
        "            units: Number of hidden units in the RNN (GRU) layer\n",
        "            dropout_rate: The dropout rate used in the decoder.\n",
        "        \"\"\"\n",
        "        super().__init__()\n",
        "        # Start your code here\n",
        "        self.encoder = Encoder(src_vocab_size, embedding_size, units)\n",
        "        self.decoder = Decoder(tgt_vocab_size, embedding_size, units, dropout_rate)\n",
        "        # End\n",
        "\n",
        "    def call(self, src_ids, src_seq_lens, tgt_ids, tgt_seq_lens):\n",
        "        \"\"\" Seq2seq forward (for the loss calculation in training/validation only).\n",
        "            It is called by model(src_ids=..., src_seq_lens=..., tgt_ids=..., tgt_seq_lens=)\n",
        "            Note: In prediction, we will also need to set `training=False`.\n",
        "\n",
        "        Args:\n",
        "            src_ids: Tensor, (batch_size x max_len), the token ids of src sentences in a batch\n",
        "            src_seq_lens: Tensor, (batch_size, ), the length of src sentences in a batch\n",
        "            tgt_ids: Tensor, (batch_size x max_len), the token ids of tgt sentences in a batch\n",
        "            tgt_seq_lens: Tensor, (batch_size, ), the length of src sentences in a batch\n",
        "        Returns:\n",
        "            dec_outputs: Tensor, (batch_size x max_len x units), the decoder predictions\n",
        "        \"\"\"\n",
        "        # Start your code here\n",
        "        # Step 1. build mask for src and tgt\n",
        "        #      2. encoder forward\n",
        "        #      3. decoder forward\n",
        "        src_mask = tf.sequence_mask(src_seq_lens)\n",
        "        tgt_mask = tf.sequence_mask(tgt_seq_lens)\n",
        "        # print(src_ids[0])\n",
        "        # print()\n",
        "        enc_output, enc_state = self.encoder(src_ids, src_mask)\n",
        "        dec_outputs = self.decoder(tgt_ids, enc_state, tgt_mask)\n",
        "        # End\n",
        "        return dec_outputs"
      ]
    },
    {
      "cell_type": "markdown",
      "id": "0c0de39f",
      "metadata": {
        "id": "0c0de39f"
      },
      "source": [
        "### 2.4 Seq2seq loss (5 Points)"
      ]
    },
    {
      "cell_type": "code",
      "execution_count": 24,
      "id": "56185972",
      "metadata": {
        "id": "56185972",
        "colab": {
          "base_uri": "https://localhost:8080/"
        },
        "outputId": "2526ebdc-be69-4116-b3fc-248249357daf"
      },
      "outputs": [
        {
          "output_type": "stream",
          "name": "stderr",
          "text": [
            "/usr/local/lib/python3.10/dist-packages/tensorflow_addons/utils/tfa_eol_msg.py:23: UserWarning: \n",
            "\n",
            "TensorFlow Addons (TFA) has ended development and introduction of new features.\n",
            "TFA has entered a minimal maintenance and release mode until a planned end of life in May 2024.\n",
            "Please modify downstream libraries to take dependencies from other repositories in our TensorFlow community (e.g. Keras, Keras-CV, and Keras-NLP). \n",
            "\n",
            "For more information see: https://github.com/tensorflow/addons/issues/2807 \n",
            "\n",
            "  warnings.warn(\n"
          ]
        }
      ],
      "source": [
        "from tensorflow_addons.seq2seq import sequence_loss\n",
        "\n",
        "\n",
        "def seq2seq_loss(logits, target, seq_lens):\n",
        "    \"\"\" Calculate the sequence to sequence loss using the sequence_loss from tensorflow\n",
        "\n",
        "    Args:\n",
        "        logits: Tensor (batch_size x max_seq_len x vocab_size). The output of the RNN model.\n",
        "        target: Tensor (batch_size x max_seq_len). The groud-truth of words.\n",
        "        seq_lens: Tensor (batch_size, ). The real sequence length before padding.\n",
        "    \"\"\"\n",
        "    loss = 0\n",
        "    # Start your code here\n",
        "    # 1. make a sequence mask (batch_size x max_seq_len) using tf.sequence_mask. This is to build a mask with 1 and 0.\n",
        "    mask = tf.sequence_mask(seq_lens, maxlen=tf.shape(target)[1], dtype=tf.float32)\n",
        "    #    Entry with 1 is the valid time step without padding. Entry with 0 is the time step with padding. We need to exclude this time step.\n",
        "    # 2. calculate the loss with sequence_loss. Carefully read the documentation of each parameter\n",
        "    loss = sequence_loss(logits, target,mask,average_across_timesteps = True,average_across_batch = True)\n",
        "    # End\n",
        "    return loss"
      ]
    },
    {
      "cell_type": "markdown",
      "id": "8343fbf8",
      "metadata": {
        "id": "8343fbf8"
      },
      "source": [
        "## 3. Training (50 Points)"
      ]
    },
    {
      "cell_type": "markdown",
      "id": "bce39702",
      "metadata": {
        "id": "bce39702"
      },
      "source": [
        "### 3.1 Pad batch (15 Points)\n",
        "\n",
        "`pad_src_batch`: 5 Points\n",
        "`pad_tgt_batch`: 10 Points\n",
        "\n",
        "Pad the batch to the equal length and make tensors."
      ]
    },
    {
      "cell_type": "code",
      "execution_count": 25,
      "id": "be42f754",
      "metadata": {
        "id": "be42f754"
      },
      "outputs": [],
      "source": [
        "def pad_src_batch(src_batch: List[List[int]], src_seq_lens: List[int], pad_val: int):\n",
        "    \"\"\" Pad the batch for src sentences.\n",
        "        Note: Do not use append/extend that can modify the input inplace.\n",
        "\n",
        "    Args:\n",
        "        src_batch: A list of src token ids\n",
        "        src_seq_lens: A list of src lens\n",
        "        pad_val: The padding value\n",
        "\n",
        "    Returns:\n",
        "        src_batch: Tensor, (batch_size x max_len)\n",
        "        src_seq_lens_batch: Tensor, (batch_size, )\n",
        "    \"\"\"\n",
        "    max_src_len = max(src_seq_lens)\n",
        "    # Start your code here\n",
        "    num_sent = len(src_seq_lens)\n",
        "    # Please refer to tf.convert_to_tensor. The dtype should be tf.int64\n",
        "    # Padding\n",
        "    src_batch_padded = [sentence + [pad_val] * (max_src_len - len(sentence)) for sentence in src_batch]\n",
        "    # Convert to tensor\n",
        "    src_batch = tf.convert_to_tensor(src_batch_padded, dtype=tf.int64)\n",
        "    src_seq_lens_batch = tf.convert_to_tensor(src_seq_lens, dtype=tf.int64)\n",
        "    # End\n",
        "    return src_batch, src_seq_lens_batch"
      ]
    },
    {
      "cell_type": "code",
      "execution_count": 26,
      "id": "9dfa26ac",
      "metadata": {
        "id": "9dfa26ac"
      },
      "outputs": [],
      "source": [
        "def pad_tgt_batch(tgt_batch: List[List[int]], tgt_seq_lens: List[int], pad_val: int):\n",
        "    \"\"\" Pad the batch for tgt sentences.\n",
        "        Note: 1. Do not use append/extend that can modify the input inplace.\n",
        "              2. We need to build the x (feature) and y (label) for tgt sentences.\n",
        "                 Please understand what the feature and label are in translation.\n",
        "\n",
        "    Args:\n",
        "        tgt_batch: A list of src token ids\n",
        "        tgt_seq_lens: A list of src lens\n",
        "        pad_val: The padding value\n",
        "\n",
        "    Returns:\n",
        "        tgt_x_batch: Tensor, (batch_size x max_len)\n",
        "        tgt_y_batch: Tensor, (batch_size x max_len)\n",
        "        src_seq_lens_batch: Tensor, (batch_size, )\n",
        "    \"\"\"\n",
        "    tgt_x_batch, tgt_y_batch, tgt_seq_lens_batch = [], [], []\n",
        "    for sent, seq_len in zip(tgt_batch, tgt_seq_lens):\n",
        "        # Start your code here\n",
        "        # Append x, y, and seq_len\n",
        "        tgt_x_batch.append(sent[:-1])  # Exclude last token for y\n",
        "        tgt_y_batch.append(sent[1:])   # Exclude first token for x\n",
        "        tgt_seq_lens_batch.append(seq_len - 1)  # Reduce sequence length by 1 for y\n",
        "        # End\n",
        "\n",
        "    max_tgt_len = max(tgt_seq_lens_batch)\n",
        "    # Start your code here\n",
        "    # Please refer to tf.convert_to_tensor. The dtype should be tf.int64\n",
        "    # Padding\n",
        "    tgt_x_batch = [sentence + [pad_val] * (max_tgt_len - len(sentence)) for sentence in tgt_x_batch]\n",
        "    tgt_y_batch = [sentence + [pad_val] * (max_tgt_len - len(sentence)) for sentence in tgt_y_batch]\n",
        "\n",
        "    # Convert to tensor\n",
        "    tgt_x_batch = tf.convert_to_tensor(tgt_x_batch, dtype=tf.int64)\n",
        "    tgt_y_batch = tf.convert_to_tensor(tgt_y_batch, dtype=tf.int64)\n",
        "    tgt_seq_lens_batch = tf.convert_to_tensor(tgt_seq_lens_batch, dtype=tf.int64)\n",
        "    # End\n",
        "    return tgt_x_batch, tgt_y_batch, tgt_seq_lens_batch"
      ]
    },
    {
      "cell_type": "code",
      "execution_count": 27,
      "id": "7bdfff87",
      "metadata": {
        "id": "7bdfff87"
      },
      "outputs": [],
      "source": [
        "def pad_batch(src_batch: List[List[int]], src_seq_lens: List[int], tgt_batch: List[List[int]], tgt_seq_lens: List[int], pad_val: int):\n",
        "    src_batch, src_seq_lens_batch = pad_src_batch(src_batch, src_seq_lens, pad_val)\n",
        "    tgt_x_batch, tgt_y_batch, tgt_seq_lens_batch = pad_tgt_batch(tgt_batch, tgt_seq_lens, pad_val)\n",
        "    return src_batch, src_seq_lens_batch, tgt_x_batch, tgt_y_batch, tgt_seq_lens_batch"
      ]
    },
    {
      "cell_type": "markdown",
      "id": "83129bde",
      "metadata": {
        "id": "83129bde"
      },
      "source": [
        "### 3.2 Batch Index Sampler (10 Points)\n",
        "\n",
        "Create a index sampler to sample data index for each batch.\n",
        "\n",
        "This is to make the sentences in each batch have similar lengths to speed up training.\n",
        "\n",
        "Example:\n",
        "```\n",
        "Assume the sentence lengths are: [5, 2, 3, 6, 2, 3, 6] and batch_size is 2.\n",
        "We can make the indices in the batches as follows:\n",
        "[1, 4] of length 2\n",
        "[2, 5] of length 3\n",
        "[0, 3] of lengths 5 and 6\n",
        "[6] of length 6\n",
        "```"
      ]
    },
    {
      "cell_type": "code",
      "execution_count": 28,
      "id": "d7954420",
      "metadata": {
        "id": "d7954420"
      },
      "outputs": [],
      "source": [
        "class SeqLenBatchSampler:\n",
        "    def __init__(self, seq_lens: List[int], batch_size: int, seed: int = 6666):\n",
        "        \"\"\" The index sampler.\n",
        "            It can be used with iteration:\n",
        "            ```\n",
        "            n_batch = len(sampler)\n",
        "            for indices in sampler:\n",
        "                ...\n",
        "            ```\n",
        "\n",
        "            Args:\n",
        "                seq_lens: A list training sequence lengths (src)\n",
        "                batch_size: .\n",
        "                seed: .\n",
        "        \"\"\"\n",
        "        np.random.seed(seed)\n",
        "        self.seq_lens = seq_lens\n",
        "        self.batch_size = batch_size\n",
        "        self.batches = self._make_batch_index()\n",
        "\n",
        "        self.n_batch = len(self.batches)\n",
        "        self.counter = -1\n",
        "\n",
        "    def _make_batch_index(self) -> List[List[int]]:\n",
        "        \"\"\" Build the indexes in each batch.\n",
        "\n",
        "            Return:\n",
        "                batches: A list of indices batch, e.g., [[0, 2, 8], [3, 6, 4], [5, 1, 7], ...]\n",
        "        \"\"\"\n",
        "        n = len(self.seq_lens)\n",
        "        n_batch = int(np.ceil(n / self.batch_size))\n",
        "        batches = []\n",
        "        # Start your code here\n",
        "        # Step 1. Use np.argsort to get all indices with sorted length\n",
        "        #      2. Split the indices into batches using a for loop: `for i in range(n_batch):`\n",
        "        sorted_indices = np.argsort(self.seq_lens)\n",
        "        batches = [sorted_indices[i::n_batch] for i in range(n_batch)]\n",
        "        # End\n",
        "        return batches\n",
        "\n",
        "    def __len__(self):\n",
        "        return self.n_batch\n",
        "\n",
        "    def __item__(self, index):\n",
        "        return self.batches[index]\n",
        "\n",
        "    def __iter__(self):\n",
        "        np.random.shuffle(self.batches)\n",
        "        self.counter = -1\n",
        "        return self\n",
        "\n",
        "    def __next__(self):\n",
        "        self.counter += 1\n",
        "        if self.counter < self.n_batch:\n",
        "            return self.batches[self.counter]\n",
        "        raise StopIteration"
      ]
    },
    {
      "cell_type": "markdown",
      "id": "e78e8f1e",
      "metadata": {
        "id": "e78e8f1e"
      },
      "source": [
        "### 3.3 Running the model"
      ]
    },
    {
      "cell_type": "markdown",
      "id": "0bd73f9b",
      "metadata": {
        "id": "0bd73f9b"
      },
      "source": [
        "Generate the length"
      ]
    },
    {
      "cell_type": "code",
      "execution_count": 29,
      "id": "7e8c8ad7",
      "metadata": {
        "id": "7e8c8ad7"
      },
      "outputs": [],
      "source": [
        "np.random.seed(6666)\n",
        "train_seq_lens_en = [len(en_sent) for en_sent in train_en]\n",
        "train_seq_lens_fr = [len(fr_sent) for fr_sent in train_fr]\n",
        "valid_seq_lens_en = [len(en_sent) for en_sent in valid_en]\n",
        "valid_seq_lens_fr = [len(fr_sent) for fr_sent in valid_fr]\n",
        "test_seq_lens_en = [len(en_sent) for en_sent in test_en]\n",
        "test_seq_lens_fr = [len(fr_sent) for fr_sent in test_fr]"
      ]
    },
    {
      "cell_type": "markdown",
      "id": "038af815",
      "metadata": {
        "id": "038af815"
      },
      "source": [
        "Create np array"
      ]
    },
    {
      "cell_type": "code",
      "execution_count": 30,
      "id": "affa5645",
      "metadata": {
        "id": "affa5645"
      },
      "outputs": [],
      "source": [
        "train_en = np.array(train_en, dtype=object)\n",
        "train_seq_lens_en = np.array(train_seq_lens_en)\n",
        "train_fr = np.array(train_fr, dtype=object)\n",
        "train_seq_lens_fr = np.array(train_seq_lens_fr)"
      ]
    },
    {
      "cell_type": "markdown",
      "id": "bc38e14b",
      "metadata": {
        "id": "bc38e14b"
      },
      "source": [
        "Model parameters"
      ]
    },
    {
      "cell_type": "code",
      "execution_count": 31,
      "id": "5baa89ed",
      "metadata": {
        "id": "5baa89ed"
      },
      "outputs": [],
      "source": [
        "import random\n",
        "\n",
        "\n",
        "seed = 6666\n",
        "random.seed(seed)\n",
        "np.random.seed(seed)\n",
        "tf.random.set_seed(seed)"
      ]
    },
    {
      "cell_type": "code",
      "execution_count": 32,
      "id": "d1407ae0",
      "metadata": {
        "id": "d1407ae0"
      },
      "outputs": [],
      "source": [
        "src_vocab_size = len(fr_tokenizer.get_vocab())\n",
        "tgt_vocab_size = len(en_tokenizer.get_vocab())\n",
        "hidden_units = 256\n",
        "embedding_dim = 128\n",
        "dropout_rate = 0.0"
      ]
    },
    {
      "cell_type": "code",
      "execution_count": 33,
      "id": "7f48a9b3",
      "metadata": {
        "id": "7f48a9b3"
      },
      "outputs": [],
      "source": [
        "model = Seq2seq(src_vocab_size, tgt_vocab_size, embedding_dim, hidden_units, dropout_rate)"
      ]
    },
    {
      "cell_type": "code",
      "execution_count": 36,
      "id": "053d5167",
      "metadata": {
        "id": "053d5167"
      },
      "outputs": [],
      "source": [
        "num_epoch = 15\n",
        "# batch_size = 256\n",
        "# num_epoch = 1\n",
        "batch_size = 128\n",
        "learning_rate = 1e-3"
      ]
    },
    {
      "cell_type": "code",
      "execution_count": 37,
      "id": "0f91b82a",
      "metadata": {
        "id": "0f91b82a"
      },
      "outputs": [],
      "source": [
        "optimizer = tf.keras.optimizers.Adam(learning_rate=learning_rate)\n",
        "train_batch_sampler = SeqLenBatchSampler(train_seq_lens_fr, batch_size)"
      ]
    },
    {
      "cell_type": "code",
      "execution_count": 38,
      "id": "48cff587",
      "metadata": {
        "colab": {
          "base_uri": "https://localhost:8080/"
        },
        "id": "48cff587",
        "outputId": "8919b8d9-2067-4e5f-c337-0c096b1ce0b8"
      },
      "outputs": [
        {
          "metadata": {
            "tags": null
          },
          "name": "stdout",
          "output_type": "stream",
          "text": [
            "\rEpoch 1 / 15 - Step 1 / 1819 - loss: 9.2102"
          ]
        },
        {
          "metadata": {
            "tags": null
          },
          "name": "stderr",
          "output_type": "stream",
          "text": [
            "WARNING:tensorflow:5 out of the last 5 calls to <function _BaseOptimizer._update_step_xla at 0x79683e386a70> triggered tf.function retracing. Tracing is expensive and the excessive number of tracings could be due to (1) creating @tf.function repeatedly in a loop, (2) passing tensors with different shapes, (3) passing Python objects instead of tensors. For (1), please define your @tf.function outside of the loop. For (2), @tf.function has reduce_retracing=True option that can avoid unnecessary retracing. For (3), please refer to https://www.tensorflow.org/guide/function#controlling_retracing and https://www.tensorflow.org/api_docs/python/tf/function for  more details.\n",
            "WARNING:tensorflow:6 out of the last 6 calls to <function _BaseOptimizer._update_step_xla at 0x79683e386a70> triggered tf.function retracing. Tracing is expensive and the excessive number of tracings could be due to (1) creating @tf.function repeatedly in a loop, (2) passing tensors with different shapes, (3) passing Python objects instead of tensors. For (1), please define your @tf.function outside of the loop. For (2), @tf.function has reduce_retracing=True option that can avoid unnecessary retracing. For (3), please refer to https://www.tensorflow.org/guide/function#controlling_retracing and https://www.tensorflow.org/api_docs/python/tf/function for  more details.\n"
          ]
        },
        {
          "output_type": "stream",
          "name": "stdout",
          "text": [
            "Epoch 1 / 15 - Step 1819 / 1819 - train loss: 5.4878 - valid loss: 4.9498\n",
            "Epoch 2 / 15 - Step 1819 / 1819 - train loss: 4.3137 - valid loss: 4.5075\n",
            "Epoch 3 / 15 - Step 1819 / 1819 - train loss: 3.9013 - valid loss: 4.3086\n",
            "Epoch 4 / 15 - Step 1819 / 1819 - train loss: 3.6566 - valid loss: 4.1862\n",
            "Epoch 5 / 15 - Step 1819 / 1819 - train loss: 3.4837 - valid loss: 4.1290\n",
            "Epoch 6 / 15 - Step 1819 / 1819 - train loss: 3.3492 - valid loss: 4.0775\n",
            "Epoch 7 / 15 - Step 1819 / 1819 - train loss: 3.2404 - valid loss: 4.0347\n",
            "Epoch 8 / 15 - Step 1819 / 1819 - train loss: 3.1506 - valid loss: 3.9806\n",
            "Epoch 9 / 15 - Step 1819 / 1819 - train loss: 3.0738 - valid loss: 3.9735\n",
            "Epoch 10 / 15 - Step 1819 / 1819 - train loss: 3.0070 - valid loss: 3.9730\n",
            "Epoch 11 / 15 - Step 1819 / 1819 - train loss: 2.9476 - valid loss: 3.9786\n",
            "Epoch 12 / 15 - Step 1819 / 1819 - train loss: 2.8940 - valid loss: 3.9840\n",
            "Epoch 13 / 15 - Step 1819 / 1819 - train loss: 2.8459 - valid loss: 3.9963\n",
            "Epoch 14 / 15 - Step 1819 / 1819 - train loss: 2.8023 - valid loss: 3.9791\n",
            "Epoch 15 / 15 - Step 1819 / 1819 - train loss: 2.7636 - valid loss: 3.9982\n"
          ]
        }
      ],
      "source": [
        "n_training_samples = len(train_fr)\n",
        "n_valid_batch = int(np.ceil(len(valid_fr) / batch_size))\n",
        "pad_token_id = fr_tokenizer.token_to_id('<pad>')\n",
        "train_losses, valid_losses = [], []\n",
        "for epoch in range(num_epoch):\n",
        "    epoch_loss = 0.0\n",
        "    for batch_idx, data_index in enumerate(train_batch_sampler):\n",
        "        src_batch, src_seq_lens = train_fr[data_index], train_seq_lens_fr[data_index]\n",
        "\n",
        "        tgt_batch, tgt_seq_lens = train_en[data_index], train_seq_lens_en[data_index]\n",
        "        real_batch_size = len(src_batch)\n",
        "        (src_batch, src_seq_lens_batch,\n",
        "         tgt_x_batch, tgt_y_batch, tgt_seq_lens_batch) = pad_batch(src_batch, src_seq_lens,\n",
        "                                                                   tgt_batch, tgt_seq_lens,\n",
        "                                                                   pad_val=pad_token_id)\n",
        "        with tf.GradientTape() as tape:\n",
        "            # print(src_batch[0])\n",
        "            # print()\n",
        "            output = model(src_batch, src_seq_lens_batch, tgt_x_batch, tgt_seq_lens_batch)\n",
        "            loss = seq2seq_loss(output, tgt_y_batch, tgt_seq_lens_batch)\n",
        "\n",
        "        print_line(f'Epoch {epoch + 1} / {num_epoch} - Step {batch_idx + 1} / {len(train_batch_sampler)} - loss: {loss:.4f}')\n",
        "\n",
        "        trainable_vars = model.trainable_variables\n",
        "        gradients = tape.gradient(loss, trainable_vars)\n",
        "\n",
        "        # Update weights\n",
        "        optimizer.apply_gradients(zip(gradients, trainable_vars))\n",
        "        epoch_loss += loss * real_batch_size\n",
        "\n",
        "    valid_loss = 0.0\n",
        "    for batch_idx in range(n_valid_batch):\n",
        "        start = batch_idx * batch_size\n",
        "        end = start + batch_size\n",
        "        src_batch, src_seq_lens = valid_fr[start:end], valid_seq_lens_fr[start:end]\n",
        "        tgt_batch, tgt_seq_lens = valid_en[start:end], valid_seq_lens_en[start:end]\n",
        "        real_batch_size = len(src_batch)\n",
        "        (src_batch, src_seq_lens_batch,\n",
        "         tgt_x_batch, tgt_y_batch, tgt_seq_lens_batch) = pad_batch(src_batch, src_seq_lens,\n",
        "                                                                   tgt_batch, tgt_seq_lens,\n",
        "                                                                   pad_val=pad_token_id)\n",
        "        output = model(src_batch, src_seq_lens_batch, tgt_x_batch, tgt_seq_lens_batch, training=False)\n",
        "        loss = seq2seq_loss(output, tgt_y_batch, tgt_seq_lens_batch)\n",
        "\n",
        "        if batch_idx % 1 == 0 or batch_idx == len(valid_en) - 1:\n",
        "            print_line(f'Epoch {epoch + 1} / {num_epoch} - Step {batch_idx + 1} / {n_valid_batch} - loss: {loss:.4f}')\n",
        "\n",
        "        valid_loss += loss * real_batch_size\n",
        "    train_epoch_loss = epoch_loss / n_training_samples\n",
        "    valid_epoch_loss = valid_loss / len(valid_en)\n",
        "    train_losses.append(train_epoch_loss)\n",
        "    valid_losses.append(valid_epoch_loss)\n",
        "    print(f'\\rEpoch {epoch + 1} / {num_epoch} - Step {len(train_batch_sampler)} / {len(train_batch_sampler)} - train loss: {train_epoch_loss:.4f} - valid loss: {valid_epoch_loss:.4f}')"
      ]
    },
    {
      "cell_type": "markdown",
      "id": "a9cf29ac",
      "metadata": {
        "id": "a9cf29ac"
      },
      "source": [
        "If you implement everything correctly, the valid loss will be around 4."
      ]
    },
    {
      "cell_type": "code",
      "execution_count": 39,
      "id": "a5605580",
      "metadata": {
        "id": "a5605580",
        "colab": {
          "base_uri": "https://localhost:8080/"
        },
        "outputId": "dc101e23-954d-41f8-9a1a-92449b0059e3"
      },
      "outputs": [
        {
          "output_type": "stream",
          "name": "stdout",
          "text": [
            "Model: \"seq2seq\"\n",
            "_________________________________________________________________\n",
            " Layer (type)                Output Shape              Param #   \n",
            "=================================================================\n",
            " encoder (Encoder)           multiple                  1576448   \n",
            "|¯¯¯¯¯¯¯¯¯¯¯¯¯¯¯¯¯¯¯¯¯¯¯¯¯¯¯¯¯¯¯¯¯¯¯¯¯¯¯¯¯¯¯¯¯¯¯¯¯¯¯¯¯¯¯¯¯¯¯¯¯¯¯|\n",
            "| embedding (Embedding)      multiple                  1280000  |\n",
            "|                                                               |\n",
            "| gru (GRU)                  multiple                  296448   |\n",
            "¯¯¯¯¯¯¯¯¯¯¯¯¯¯¯¯¯¯¯¯¯¯¯¯¯¯¯¯¯¯¯¯¯¯¯¯¯¯¯¯¯¯¯¯¯¯¯¯¯¯¯¯¯¯¯¯¯¯¯¯¯¯¯¯¯\n",
            " decoder (Decoder)           multiple                  4146448   \n",
            "|¯¯¯¯¯¯¯¯¯¯¯¯¯¯¯¯¯¯¯¯¯¯¯¯¯¯¯¯¯¯¯¯¯¯¯¯¯¯¯¯¯¯¯¯¯¯¯¯¯¯¯¯¯¯¯¯¯¯¯¯¯¯¯|\n",
            "| embedding_1 (Embedding)    multiple                  1280000  |\n",
            "|                                                               |\n",
            "| gru_1 (GRU)                multiple                  296448   |\n",
            "|                                                               |\n",
            "| dropout (Dropout)          multiple                  0        |\n",
            "|                                                               |\n",
            "| dense (Dense)              multiple                  2570000  |\n",
            "¯¯¯¯¯¯¯¯¯¯¯¯¯¯¯¯¯¯¯¯¯¯¯¯¯¯¯¯¯¯¯¯¯¯¯¯¯¯¯¯¯¯¯¯¯¯¯¯¯¯¯¯¯¯¯¯¯¯¯¯¯¯¯¯¯\n",
            "=================================================================\n",
            "Total params: 5722896 (21.83 MB)\n",
            "Trainable params: 5722896 (21.83 MB)\n",
            "Non-trainable params: 0 (0.00 Byte)\n",
            "_________________________________________________________________\n"
          ]
        }
      ],
      "source": [
        "model.summary(expand_nested=True)"
      ]
    },
    {
      "cell_type": "code",
      "execution_count": 40,
      "id": "52a3977b",
      "metadata": {
        "id": "52a3977b",
        "colab": {
          "base_uri": "https://localhost:8080/",
          "height": 449
        },
        "outputId": "dad54d98-9eb9-4618-8e41-411936963a6a"
      },
      "outputs": [
        {
          "output_type": "display_data",
          "data": {
            "text/plain": [
              "<Figure size 640x480 with 1 Axes>"
            ],
            "image/png": "[encoded data removed]"
          },
          "metadata": {}
        }
      ],
      "source": [
        "%matplotlib inline\n",
        "from matplotlib import pyplot as plt\n",
        "\n",
        "\n",
        "x = np.arange(1, len(train_losses) + 1)\n",
        "plt.plot(x, train_losses, label='Train loss')\n",
        "plt.plot(x, valid_losses, label='Valid loss')\n",
        "plt.legend()\n",
        "plt.ylabel('Loss')\n",
        "plt.xlabel('Epoch')\n",
        "plt.xticks(x)\n",
        "plt.show()"
      ]
    },
    {
      "cell_type": "markdown",
      "id": "ea11461f",
      "metadata": {
        "id": "ea11461f"
      },
      "source": [
        "### 3.4 Translate French to English (15 Points)"
      ]
    },
    {
      "cell_type": "code",
      "execution_count": 41,
      "id": "8fc85ae8",
      "metadata": {
        "id": "8fc85ae8"
      },
      "outputs": [],
      "source": [
        "sos_token_id = en_tokenizer.token_to_id('<s>')\n",
        "eos_token_id = en_tokenizer.token_to_id('</s>')\n",
        "max_pred_len = 200\n",
        "def translate(encoder: 'Encoder', decoder: 'Decoder', fr_sentences: List[List[int]]):\n",
        "    \"\"\" Translate the src (French) sentences to English sentences.\n",
        "        This is a recursive translation.\n",
        "\n",
        "    Args:\n",
        "        encoder: The encoder part in seq2seq\n",
        "        decoder: The decoder part in seq2seq\n",
        "        fr_sentences: The src token ids of all sentences\n",
        "    Returns:\n",
        "        pred_sentences: The predicted string sentences\n",
        "    \"\"\"\n",
        "    n = len(fr_sentences)\n",
        "    pred_sentences = []\n",
        "    for i, src_ids in enumerate(fr_sentences):\n",
        "        print_line(f'{i + 1} / {n}')\n",
        "        # Shape of src_ids: (1 x seq_len)\n",
        "        src_ids = tf.expand_dims(tf.convert_to_tensor(src_ids, dtype=tf.int64), axis=0)\n",
        "        # pred is the prediction token ids. It starts with <s>\n",
        "        pred = [sos_token_id]\n",
        "        # Start your code here\n",
        "        # Step 1. Calculate the encoder outputs and hidden states (similar to seq2seq2 model)\n",
        "        # Step 2. Run a while loop when the last token in pred is not eos_token_id and the length of pred is less than max_pred_len\n",
        "        # Step 3.     In the while loop, build the input (cur_token) of decoder: the last token of pred. Shape (batch_size, ) -> (1, )\n",
        "        #             For example, if the current pred is [1, 50, 21, 8], the cur_token is [8]\n",
        "        # Step 4.     In the while loop, use decoder.predict to get the decoder output\n",
        "        # Step 5.     In the while loop, find the index with the maximum value. Then you can call tf.squeeze and numpy() to get the index\n",
        "        # Step 6.     In the while loop, append the predicted token to pred\n",
        "        # Step 7. Use en_tokenizer to decode the id to strings: pred_sentence\n",
        "        enc_output, enc_hidden = encoder(src_ids, None)\n",
        "        dec_hidden = enc_hidden\n",
        "        while pred[-1] != eos_token_id and len(pred) < max_pred_len:\n",
        "    #         # Prepare input for decoder\n",
        "            cur_token = np.array([pred[-1]])  # Shape: (1,)\n",
        "    #         # Get decoder output for the current token\n",
        "            dec_output, dec_hidden = decoder.predict(tf.expand_dims(cur_token, axis=0), dec_hidden)\n",
        "    #         # Get index of predicted token with maximum probability\n",
        "            predicted_index = int(tf.argmax(dec_output[0], axis=-1)[-1])\n",
        "    #         # Append predicted token to pred\n",
        "            pred.append(predicted_index)\n",
        "    #     # Decode predicted sentence using English tokenizer\n",
        "        pred_sentence = en_tokenizer.decode(pred)\n",
        "    #     # End\n",
        "        pred_sentences.append(pred_sentence)\n",
        "    print_line('\\n')\n",
        "    return pred_sentences"
      ]
    },
    {
      "cell_type": "code",
      "execution_count": 42,
      "id": "761c0472",
      "metadata": {
        "id": "761c0472",
        "colab": {
          "base_uri": "https://localhost:8080/"
        },
        "outputId": "02611373-f22f-4f7c-cba5-8d353942fa7a"
      },
      "outputs": [
        {
          "output_type": "stream",
          "name": "stdout",
          "text": [
            "8597 / 8597\n"
          ]
        }
      ],
      "source": [
        "test_pred = translate(model.encoder, model.decoder, fr_sentences=test_fr)"
      ]
    },
    {
      "cell_type": "markdown",
      "id": "50aae118",
      "metadata": {
        "id": "50aae118"
      },
      "source": [
        "### 3.5 Demonstrate 10 translation examples (5 Points)"
      ]
    },
    {
      "cell_type": "markdown",
      "id": "d7c91c9b",
      "metadata": {
        "id": "d7c91c9b"
      },
      "source": [
        "### 3.6 Compute the bleu score (5 Points)"
      ]
    },
    {
      "cell_type": "code",
      "source": [
        "test_pred"
      ],
      "metadata": {
        "id": "MEblPzOvdHAc",
        "outputId": "711359c6-1165-476c-e20b-1668bc4fb674",
        "colab": {
          "base_uri": "https://localhost:8080/"
        }
      },
      "id": "MEblPzOvdHAc",
      "execution_count": 47,
      "outputs": [
        {
          "output_type": "execute_result",
          "data": {
            "text/plain": [
              "[\" there's a few years ago, teddy roosevelt was a photograph of the first synthetic sampling of the titanic.\",\n",
              " \" and the idea is, it's more difficult to get these two ideas: the four-foot-between-size, the two-six, the water, the windows of the tank, and the new foot of the truck, a little bit of a truck.\",\n",
              " ' marshall had a windmill.',\n",
              " \" and although it seems that really, it's really difficult, because it's a lot of people who are trying to make a lot of work.\",\n",
              " ' i thought that was a really interesting idea, i was trying to build a virtual reality.',\n",
              " ' and it was a huge success.',\n",
              " \" since i've been in the old age of the art of the universities, i started working with the media, and i've been working on a lot of the research, and the artist's research, and that's what we do, and it's a lot of people who are trying to create the kind of creative commons, and that's what they're doing, and they're going to be able to create the kind of cultural heritage sites.\",\n",
              " ' now, most people are looking at the people who are using the same games.',\n",
              " ' they\\'re talking about, \"well, they\\'re going to look at what they\\'re going to do, and they\\'re going to be the light.\"',\n",
              " \" and then they go back to a very ambitious goal, they're building, they're also putting their pipes and they are.\",\n",
              " ' they spend more time with their own nature of the same as a smaller.',\n",
              " \" and then finally, when the end of the day, they'll be a little bit of the next letter, and then they come back to the end, and then they'll get a little bit of the end, and then they come back, and they're going to go back to the end.\",\n",
              " \" but in fact, the fact that the last time, the same thing, is that it's going to be 40, because it's the same time, the wind and the sun is the source of the fact that the light comes out of the ground.\",\n",
              " \" there are many other examples that are more than the boys, and they're more likely to be married, and they're young, in the prisons.\",\n",
              " ' they say, \"look, they\\'re building these boxes, they\\'re very different, they\\'re going to be flat.',\n",
              " \" and of course, they're more innovative than they're going to be more than a few of them, and they're young, they're more young, more friendly teams.\",\n",
              " \" and it's really amazing.\",\n",
              " \" as the other, they also have the same structures that are not the most important ones, but they're also the smartest structures.\",\n",
              " ' so the question is, how do you do that? what is it? how do we really do?',\n",
              " ' peter says, \"i want to wait for the first time, to be a child who\\'s been trained to be a professional man who\\'s not going to be a very specialist.',\n",
              " \" they're not going to spend the time they're working on.\",\n",
              " \" but there's also another reason.\",\n",
              " \" it's the students that are building schools for a very high school.\",\n",
              " ' and then it takes action.',\n",
              " \" and then what happens when they're in the middle of the last 50, they're all the same ones, and they're going to go back.\",\n",
              " \" that's the crisis.\",\n",
              " ' do you remember that? perfect.',\n",
              " \" the stories that they're working on is the new ones that are beginning to happen, and they're going to be able to slow down, and they're going to launch the first steps, and they're going to fast speed up, they're going to be able to slow down, and they're working on the speed of the boatload, and they're going to be able to fly.\",\n",
              " ' designers will be very interested in the complex system of engaging with this.',\n",
              " ' every single week, or the next generation, which is how to make it happen.',\n",
              " ' so, the hard work of the work of the data is that they are able to do the same thing, but they have a lot of data.',\n",
              " \" the fastest way to do is the most expensive people in the world, but the kids are six, a half, they're more likely to be younger than doctors, and they're very much more likely to be a patient.\",\n",
              " ' who are the best ones?',\n",
              " ' the engineers and engineers, yes.',\n",
              " ' four is a half-in-a-half-inch i think.',\n",
              " \" and why? because they're so curious that they're all the same principles, and they're putting their patterns in the structure of the pattern of the gravitational waves.\",\n",
              " ' now, the managers, but then, one of them is a very simple task, which is the same thing that happens.',\n",
              " ' if you add a new set of rules to make progress, the results are more important.',\n",
              " \" it's amazing, you know, you're going to see the guy, and you'll see it, it's going to be a little bit of the team.\",\n",
              " ' you can do it, and what is the answer?',\n",
              " \" because they have the skills that they're willing to do.\",\n",
              " \" they're doing it, they understand that it's process.\",\n",
              " ' and all of this work and his job, a little bit more important, and then the task of putting this up to the top of the labor demand.',\n",
              " ' robust skills and abilities are skillful and to give them a success.',\n",
              " ' if you have 10,000 people on the ground, they can take a look at a very simple pattern.',\n",
              " ' and i had to look at something interesting.',\n",
              " ' i thought, \"well, let\\'s look at the pictures.\"',\n",
              " ' so i paid a money to pay a $10,000-dollar software.',\n",
              " ' and what do you do when you do this, they were students in a laboratory.',\n",
              " ' what was the result?',\n",
              " \" this is what happened. there was a team that didn't have any other structures.\",\n",
              " ' if one was a model, a model that was built, it would be a little bit of the quad, which would be used to be sold.',\n",
              " ' so, interestingly, there are many different types of health care that they did.',\n",
              " ' we did the same with the same students.',\n",
              " \" what do you think that's what happened?\",\n",
              " ' and that was the way that the protocols was to protect.',\n",
              " ' and the last few people have been the most successful in the world.',\n",
              " \" they've found the most important element of the surface of the past.\",\n",
              " ' there are many problems of the kinds of things that we have and our expertise and the effort.',\n",
              " ' now, you might ask, \"why is it that the next time is a new hammer in the next time, it\\'s going to be a giant leap of time.\"',\n",
              " \" and the reason i'm able to do is to build tools and techniques that enable you to design them, you can actually start with a lot of funnels.\",\n",
              " ' and what the currentsman comes from the east is that the sahara is actually going to be able to do that.',\n",
              " \" because, as all of the big, big changes, the four-somethings didn't go to the right place.\",\n",
              " ' so, the social worker is a language, a language, a very complex computer, a game-class.',\n",
              " ' and that is the way that this works, is that simple, as simple as painful.',\n",
              " ' and those of the things that will be able to go to the united states is going to be supermann.',\n",
              " ' it\\'s a blog that you can see as a \"figureka\" as the next ice shelf.',\n",
              " ' there are instructions not to follow them.',\n",
              " ' there are lots of people who are looking at the people, and the idea of the internet, the local people are doing their own.',\n",
              " \" there's the world record.\",\n",
              " \" and the lesson i think is, i think it's a self-organizing design.\",\n",
              " ' we demanded that all our responsibilities and then we put them together, and we thought that the best way to do it is to take our attention to the end of our lives.',\n",
              " ' and, a few of this little piece of this technology that\\'s going to be a little bit of what we\\'re going to do with a little bit of the letter \"fem\" to the next.',\n",
              " ' and that can make a difference.',\n",
              " ' thank you very much.',\n",
              " ' suppose we have a machine here.',\n",
              " \" a big machine, a machine that's been photographed before the machine.\",\n",
              " ' each one of us here is a place.',\n",
              " \" you can go anywhere, or you can't go anywhere. you don't.\",\n",
              " ' i thought i\\'d asked them to give me a job, \"i love them, i would have chosen to ask.\"',\n",
              " ' they wanted to wait for the first words or \"the tv or spanish.\"',\n",
              " \" i don't know.\",\n",
              " \" there's a kind of pathway to our own plutocracy, which means you're like a pong.\",\n",
              " ' i understand it.',\n",
              " \" i have to say that i'm not really interested in.\",\n",
              " \" i don't want to be a limited burden to begin to mind.\",\n",
              " \" but to make them what we're doing, they're not going to be the ones.\",\n",
              " ' so i want to take this machine and turn it back.',\n",
              " \" it's the biggest consequence of that last year, which is that the more productive lives, the health care, the more energy, the health, the rich ones, the ones, the growth of life.\",\n",
              " \" there's never been a period of time.\",\n",
              " ' my brothers were all dead-time-led-of-the-living life expectancy.',\n",
              " ' my grandparents were completely wiped out.',\n",
              " ' my parents got 80.',\n",
              " \" so i'd like to think about it in the last 30 years, and it's my death.\",\n",
              " \" but it's not just because people are much more important than the fact that we are.\",\n",
              " \" a young woman can take a few years to think about it as a new year, and it's a lot more than the world of living in the world.\",\n",
              " \" think about it. it's a wonderful thing.\",\n",
              " ' so why is that true?',\n",
              " ' smallpox: it was a hundred billion people in the world.',\n",
              " ' it has zones the demographics of the world war ii never heard about.',\n",
              " \" it's gone. she's gone.\",\n",
              " ' we have failed.',\n",
              " \" in africa, the rich countries have been born, we have a huge amount of death that we've developed.\",\n",
              " ' the u.s. was 19,2,000 years.',\n",
              " \" does anybody know what's the point?\",\n",
              " ' civilian cancer, we have to be able to use the human genome, we have to use the data from a lot of the human health.',\n",
              " ' in my mind, to try to understand, \"the technology of this is not really important, it\\'s going to be the potential to be solved.\"',\n",
              " \" that's the good news.\",\n",
              " \" unfortunately, it's the same number of people who have been very good at all, but also in new ways.\",\n",
              " ' and one of the biggest estimates that we have, is that we all have a billionth of the world, the whole thing is, every single day, the family of the world.',\n",
              " \" this number is very fast, and it's very predictable.\",\n",
              " ' and worst of our attempt to use our immune system to look at this.',\n",
              " ' the water supply, the oil, the oil, the oceans, the oil, and the oceans, and we have to stop that, and we have to start to get the first thing that we have.',\n",
              " \" the question is, can we do that? i think it's true.\",\n",
              " \" it's clear that we can feed the world of the 80 percent of the world's need to do with no living.\",\n",
              " ' i think we can make a billion gun energy without any energy.',\n",
              " \" i really believe that's not a good thing.  it's a p.m.\",\n",
              " \" this is what the sunny day, or in a minute, i don't know what i'm going to do to tell you about what we've learned earlier.\",\n",
              " \" we've never been able to use more of our own experience as we can now.\",\n",
              " \" we've been a lot of the great events that we've been talking about earlier today, in the last few years, we're going to have to be able to find out how to do that, because we have to stop the next generation of the time, and we're going to have to go back to the end of the journey.\",\n",
              " ' people have to worry about how to make the decisions that are not worth caring about.',\n",
              " ' even the truth is not the case of the koran.',\n",
              " ' each of them is the source of all of the ideas, which means that it will be possible.',\n",
              " ' but you know what can you do?',\n",
              " \" we can't be the ones that are not. we're sorry.\",\n",
              " ' it took me to the time that i understood.',\n",
              " \" ten years ago, i was a scientist in the early '90s.\",\n",
              " ' i was surprised by the fact that the more people were removed from the fact that they were born, and the majority of the human being had to be more than the last four years.',\n",
              " ' i didn\\'t know what i was doing, and i thought, \"i\\'ve never seen anything.',\n",
              " ' later, i wrote a little bit about a nuclear weapon of the gene.',\n",
              " ' even worse, worse.',\n",
              " ' people were terrified.',\n",
              " ' so, i wrote a story that i thought, and i thought, \"why can\\'t we figure out how to understand the nature of the nature of the supernatural, the nature of the fences of the veins, they\\'re not going to be the same asylumatic goods.\"',\n",
              " ' you know, i work with me, and i write this book.',\n",
              " \" i mean, i'm a journalist.\",\n",
              " \" we get it, we're going to be the right, you're going to be here, right?\",\n",
              " ' but these stories i kept telling me, i realized that science is not.',\n",
              " \" well, because these birds were not building me that they're all familiar with.\",\n",
              " ' it was kind of like people, like, we have to be educated.',\n",
              " ' just like this in the room.',\n",
              " ' that was all me-fulled.',\n",
              " \" and then i thought, well, it's good.\",\n",
              " \" we're in a world where we have the same situation that we have now not in the past.\",\n",
              " \" we're talking about how to deal with.\",\n",
              " ' i mean, you\\'re talking about how old medicine is, \"oh, you\\'re going to be doing it.\"',\n",
              " \" there's reasons that i think and we have the same facts.\",\n",
              " \" we've always struggled with authority and the same as the most important, because the men who have never been in trouble.\",\n",
              " \" you just have to look at some of these names and names, that's what people have.\",\n",
              " ' buckminster, a giraffe, a nuclear weapon, the destruction of the bakery, was a bit of dust.',\n",
              " ' you can do your list.',\n",
              " ' there are questions and problems that we have problems, and we have no answers.',\n",
              " ' ask questions, is that the evidence is.',\n",
              " ' nothing to do with money for nothing.',\n",
              " \" but here's the thing: you're going to believe that you're not the right thing. you know, you're going to accept that.\",\n",
              " \" the reason is that we're in a state of despair that i never really have to be able to get a chance to never before.\",\n",
              " \" there was a 20-year-old story that's been published by the fact that the epidemic of the disease was the result of the death of the u.s. and the drug industry.\",\n",
              " ' happy.',\n",
              " ' dozens of years later he tried to figure out how to look at it.',\n",
              " ' they have to be, very, very serious.',\n",
              " ' the results were coming back.',\n",
              " ' in india, sweden, 400,000 times -- all the time, the same thing, the same thing, is not the same, the red line, the same thing.',\n",
              " \" it doesn't matter because you believe that you're going to talk about the things that you see, you're going to see that you're not going to be a real society, you know what it is.\",\n",
              " \" we don't believe a lot of a national tv that we all know about, and it's all about the idea that we have to understand.\",\n",
              " ' you know what?',\n",
              " ' the result was a lot of money.',\n",
              " \" because here's the united states: the world's population is about to reduce the risk of the united states of the united states.\",\n",
              " \" it's just as we. we should be unhappy.\",\n",
              " \" it's terrible.\",\n",
              " ' what could it be done to go to this?',\n",
              " ' i really understand it.',\n",
              " ' anyone here has red wine?',\n",
              " \" anyone heard anyone who's seen in the red star?\",\n",
              " ' not very, very.',\n",
              " \" it's only happened because it happened in the united states, but it was only 20 years old, in the last two days.\",\n",
              " \" it's a lot of deaths per year in every 20,000.\",\n",
              " \" and that's not what happens, and i'm going to take our own people, and i'm going to talk about the laws of physics, and i'm afraid of the 99,000-year-old boys who are trying to hide the moral compass.\",\n",
              " \" they can't do that because they vary enormously and correlation.\",\n",
              " \" they don't understand that these are the same things that are not even worse, but they're still not.\",\n",
              " \" it's something we need to learn more about.\",\n",
              " ' this guy was a father, jonas.',\n",
              " ' he clearly lost the worst of humanity.',\n",
              " \" without fear and failure, it's never been affecting the growth.\",\n",
              " ' this guy, in the middle of the same.',\n",
              " ' his name is paulo.',\n",
              " ' it has only a few other parts of the lung capacity.',\n",
              " ' it will save millions of lives, 25 million people in the developing world.',\n",
              " ' no, right?',\n",
              " \" it's that long, that's about 40 years ago, and people are trying to get their money or their interests.\",\n",
              " \" he says that's what it looks like.\",\n",
              " ' so, james, he was a terrorist.',\n",
              " \" when ford motorry can't read, he's not allowed to dance.\",\n",
              " \" he's the instructor of the people who say they can tell you that they're going to spend their time in school.\",\n",
              " ' why? because paulo has a vaccine.',\n",
              " \" i don't need to know, but it's the case of vaccines.\",\n",
              " \" you put them, every year, every year, the risk of depression, that's absolutely horrible.\",\n",
              " ' we have red dot in this country.',\n",
              " \" it's getting worse, but it's going to be a little bit more about the statistics that it is.\",\n",
              " \" they're not going to die in red.\",\n",
              " \" who polio is, why? what's it?\",\n",
              " ' a magazine club gave me a couple of weeks later, he said, \"i\\'m going to get a little bit of trouble.\"',\n",
              " ' nobody told me that before i was told.',\n",
              " ' she vaccinated her to the aids of the first year, no problem.',\n",
              " ' okay.',\n",
              " \" why? because we've already done that?\",\n",
              " \" we didn't have the last century that we've been doing.\",\n",
              " \" now, i don't know. there's a few years ago, and this is a ship of the car, and he was going to fly the car in a very remote place.\",\n",
              " \" he's going to go to a car, and it will be a little bit of a ride for a long-term television show, and it's a fantastic teddy bear.\",\n",
              " \" he doesn't have a lot of toxinity in the same way that we can do it, and it's a part of the same thing as a community.\",\n",
              " \" it's the world we're not in the middle, you know.\",\n",
              " \" you're tired of deception. we're playing.\",\n",
              " ' everybody had a bowl of pretzels?',\n",
              " ' eg: a lot of small, a little bit of oil, you can get it out.',\n",
              " ' i know you know that every day is the percentage of americans spend on that day.',\n",
              " \" and they get in marketing, and there's no variation in rationality, they don't have to be easily disgusted.\",\n",
              " ' the data is made.',\n",
              " \" they're losing their eggs, which is rarely else.\",\n",
              " \" that's why you're going to have a million dollars a year in the u.s.\",\n",
              " \" i'm a bit of fun.\",\n",
              " ' the baton is a black hole.',\n",
              " ' why do we do that?',\n",
              " \" i mean, i'm sorry, you're going to be a big mess.\",\n",
              " \" we hate the government. we don't trust it.\",\n",
              " \" we shouldn't be our health. it's our fault.\",\n",
              " \" it's clearly a million people.\",\n",
              " ' it\\'s incredibly cold and it\\'s not the way we have to have the most successful and so-called \"how many people are going to be there.\"',\n",
              " ' so we get it up.',\n",
              " \" we're moving to the green bang.\",\n",
              " \" it's great. i love it. it's a beautiful thing.\",\n",
              " \" you know, it's really bad because we're all doing it, it's a cost of 50 billion dollars.\",\n",
              " ' i have lots of examples here.',\n",
              " \" gmw. hg: okay.  so, in the '40s, it's not a cost of our money, but i've been doing it, and that's why it's not the cost of the first.\",\n",
              " ' and what you know? i mean, when people say, \"what are people doing their homework?\" they said, \"what do they do?\"',\n",
              " ' they feel like they\\'re.\"',\n",
              " ' you know? what you are wrong.',\n",
              " ' now, i don\\'t think that the heart says, \"i\\'m not sure that i\\'m going to have a lot of the data that i\\'m going to have to say, \"i\\'m going to be able to cure the cancer of the word \"feminist,\" or the other way to get married, as well as a child.',\n",
              " \" when you look at the magic of the magician and the future, you need to be able to get a hint of what you're going to do.\",\n",
              " ' you can see it in south africa, south africa.',\n",
              " \" they killed seven,000 dollars a year, and the fda helped us find the same as the oil companies have been paying attention to the ebola vaccine, and that's the result of the greenhouse gases.\",\n",
              " ' hundreds of thousands of deaths per capita income has not been infected with a single disease.',\n",
              " \" please tell me that you don't have to know what they're doing.\",\n",
              " \" there's always one.\",\n",
              " ' the most basic epidemic that we know is that we have the right to be able to be in the very dry and the disadvantaged and the rise of the violence.',\n",
              " \" it's a false debate about the opponent.\",\n",
              " \" it's a subject to mystery for language.\",\n",
              " \" it's the science and art.\",\n",
              " ' all we eat, every single flower, every single night, is a little bit of the heart of the ancient greeks.',\n",
              " ' there was no protection in the garden of the comet.',\n",
              " \" there was no santa claus, there were no christmas trees. we've all been there.\",\n",
              " \" we've been doing these same as the last, the 11th century.\",\n",
              " ' time, sometimes, time is not.',\n",
              " \" we've got rid of that product.\",\n",
              " \" now, we can be very different, and we have to be able to eat something that's going to be very expensive to make a living and a little bit of these things that are going to be healthy.\",\n",
              " \" don't you want to do this?\",\n",
              " \" i have to admit that i don't understand.\",\n",
              " ' we have food waste.',\n",
              " ' why do we do that?',\n",
              " \" and what i often say, i'm tired of chemok, or the vegetative use of oil, which is why we're not using these chemicals, so you're not going to be very sensitive.\",\n",
              " \" we don't want africa to be able to do that.\",\n",
              " \" we don't want to be farmers' markets.\",\n",
              " ' you know how much my answer to this?',\n",
              " \" you're right. it's the issue.\",\n",
              " \" it's a problem that we have a lot of money, but it's not a science revolution.\",\n",
              " \" it's nothing to do with science.\",\n",
              " \" it's legal, political, moral intellectual property.\",\n",
              " ' science is not a business.',\n",
              " \" that's not a country.\",\n",
              " \" it's not a real concept, it's a process.\",\n",
              " \" sometimes it's time, and it's not because it's really difficult to understand that we have a lot of people who are not going to be the most effective, but we're also afraid of the fact that we're going to be able to get a lot of the work of the human race.\",\n",
              " \" in the next 50 years, we've got to increase the growth rate of the growth rate of the country, the rate of 70 percent.\",\n",
              " \" it's africa for 30 years.\",\n",
              " ' rude.',\n",
              " \" they need us, and they don't.\",\n",
              " ' why? what corn did have nutrition?',\n",
              " \" you don't want to encourage people to eat the things that are just like to do with these kinds of insects.\",\n",
              " ' and the locavore was there in a lot of a billion people.',\n",
              " \" it's like a diamond.\",\n",
              " \" it's just a little bit of calories. it's painful.\",\n",
              " \" it's not geneticist, but it's all about molecular graphics and so forth.\",\n",
              " ' people could eat and be able to do it with a blind.',\n",
              " ' they could be hungry and what would you do?',\n",
              " ' it would be that it would be, but not just a little bit of the way.',\n",
              " ' all i can tell is, why are we fighting?',\n",
              " ' ask us why, why do we have this?',\n",
              " \" because we don't want to compare the genes?\",\n",
              " \" it's about going to genes, not just chemical molecules.\",\n",
              " \" it's not just our fear of our psychological, our feelings, our families, even more importantly, we have more energy.\",\n",
              " \" it's not about the kosovo, it's about how to do it, and it's going to be able to understand what happens to life.\",\n",
              " ' because you know what?',\n",
              " \" if we're going to do anything we want to do, we don't have to be a little bit of the same thing we're going to do, we're going to be a nuclear reactor.\",\n",
              " \" you can't just describe what's going on.\",\n",
              " \" it's so clear, it's a mess, and it's going to stop us. we're going to stop it.\",\n",
              " ' so after the conversation with the sound, you can hear, \"oh, you\\'re going to be able to get this back and then you\\'ll get the perfect wave of the machine.\"',\n",
              " ' just. i want.',\n",
              " \" it's gone, but it's actually a huge opportunity.\",\n",
              " ' we can put this machine into this machine, and we want to know what to do.',\n",
              " \" it can happen where we're going to -- we want to see where it gets.\",\n",
              " \" we have to have these conversations and we have to do it, and we're going to do it, and we want to go back to the next step, and we want to do it.\",\n",
              " \" i know that there is, i know that there's a real world to change what it is.\",\n",
              " ' thank you.  thank you.',\n",
              " \" one of the time was in the caribbean in the caribbean, in washington, dave a day, a photo of the family's eyes closed.\",\n",
              " ' she had a man, a man who was born in a black-sircle, a cellphone, not only in a single house, to be able to get a little boy.',\n",
              " ' this story, you know, is a very interesting story of the boreal, which is the beginning of the book, but also the story of the fusiform gyrus, which is a series of books that were published in the journal of the book, a very famous quote from the university of michigan, and the journalist was to take a picture of the naziary of the new york times that i had a call from the first time, the first-generation of medicine.',\n",
              " ' nathan was invited to become a fourth grader, and i ended up in the street, and he was not going to be a 30-year-old, and he was in the middle of the street, and he was in the midwest.',\n",
              " \" now, i encourage you to read all the articles in the book, but i was going to show you what's going on, and it was the only way that music was, and it was a wonderful way to communicate with the idea of what it was, and it's been a movie, and it's not just about the music that was going to be in the movies, and that's why it was so much fun to work with the people who were in the audience and the ones who were going to be the\",\n",
              " ' i met in a couple of years ago, in 2008, a theater of the navy.',\n",
              " \" he just had just heard the wonderful video of the hollywood and the celebration, and the great thing we've been talking about, and the war is going to be the right.\",\n",
              " \" he was like a lot of the guerrilla and the arts in the united states, and i'm not sure that the answer to the modern, the most famous example of the laws of physics, the same as a victory of the united states senate, is a victory of the same as a teenager.\",\n",
              " ' and we wrote a book, and i was surprised to hear a tedtalk about a new jacksonian joke. i never forget.',\n",
              " \" now, i'd like to think that cancer was a nightmare that it was not meant to be used, and it was also painful, and it was devastating, and it was called deep fear of anxiety.\",\n",
              " \" but now, if there is a revolution in these books, it's been reminded of the men and the victims of the war, and the signs of the pastor has been to be the same as the chapters, and the signs of the death of the fussell was going to be the first line of the old-drenched of the old horse.\",\n",
              " ' and he was a geographically speaking event in the us navy\\'s mission of the night, because he was a kicking of the kangar, which he said, \"i\\'ve never seen the firewallows.\"',\n",
              " ' and he was deaf-picked brain and yelling, \"sucks that way, you know, you\\'re sleeping with a sleeping bag.\"',\n",
              " \" and i was afraid, but i was afraid to be honest, i would have to be honest with the bloody, and i was able to get a little bit of the secret to the monument to the east, and i'm going to show you the fact that there's a lot of contradiction in the culture of the dormant of the art that i'm going to talk about.\",\n",
              " ' so i just started playing.',\n",
              " ' i was the first of the guestrian who used to be the harry of a veteran.',\n",
              " ' and as i was like, i was able to see a huge change in the painting, and she was stunned by the celebration.',\n",
              " ' it was like he was diagnosed with a chemical weapon that was the body, and i was completely sympathetic to the music.',\n",
              " ' and the tapeworm daniel opened up a completely different artistic experience, and he began to wonder.',\n",
              " ' and as a result, he had a stroke, and he took his head to a party, and he started to sing, and he said, \"oh, i\\'m going to try to get rid of the cartoonists of the kleano, søhole, hehed, he said, \"oh, i\\'m going to go to the ketchup.\"',\n",
              " ' and we started talking about listening, like john locke, who was sitting in the middle of the night, like kurz, dude, baham, kansas, dairy.',\n",
              " ' and i realized that there was no way that i had a cochlear implant, but it was a music that was all about, which is a whole world, which is a musical instrument.',\n",
              " \" he talked to me with the passion and i appreciate the public's collection of the public with my collaborators and jackson.\",\n",
              " ' music, music, music and music, the same thing, was a place of the sun, a man, and his son was a very, very long time, his name was a rude stein, and he was also the captain of the orchestra.',\n",
              " ' music is music. we all have the power.',\n",
              " \" and music is no music, it's all about professional.\",\n",
              " \" because music allows her to allow her to communicate and his imagination and his imagination and understand it, and it's amazing.\",\n",
              " \" and that's a very violent state of his time.\",\n",
              " ' and i realized that it was the essence of my art.',\n",
              " \" it's the reason that we have the music that we have, as we can, as a whole, we can understand the emotions, the things that we have, as we've all experienced, in the process of imagination and imagination and culture and all of us.\",\n",
              " ' and the reality of the narrative of the narrative of our suffering and our minds, we are all connected.',\n",
              " ' and as a christian artist, he was painting by the orchestra, she was singing.',\n",
              " ' the power of the music of the musicians that his friends were in his hands, and they were taught to her communities and women who were conscious of them.',\n",
              " ' and i still continue to keep singing my music, i\\'m not writing, but i was trying to play a movie \"the lion\\'s song,\" because i\\'m not sure, i\\'m still a photographer.',\n",
              " ' thank you.',\n",
              " ' bruno giussani: thank you. thank you.',\n",
              " \" robert's time.\",\n",
              " \" robert's: i want to give you a funny thing about the harry potter.\",\n",
              " ' so please, please.',\n",
              " ' my name is mr. jagger. i was a designer.',\n",
              " \" i'm trying to use the news for the past 15 years, because it's a good way to get people to change the way that they're going to be able to get the next big data.\",\n",
              " \" for me, i have a job that has more people than a lot of times, and more importantly, they're playing a game with more people.\",\n",
              " ' today, we spend three hours in a weekly basis for every single week.',\n",
              " \" some people think there's a long time to listen to.\",\n",
              " \" perhaps more often, there are still more places in the world, and it's going to be more difficult to solve the problems of the robots.\",\n",
              " ' but in fact, in the past, the research of the middle east, the truth is to change the reality.',\n",
              " \" three billion hours there are no longer going to be able to do it in the most hours, and the only way we can do is to create the world's population.\",\n",
              " ' instead, i think if we risk the future of death, we will have to take a hundred percent of our species.',\n",
              " \" i calculated the fastest of the individual's life in the hotel room.\",\n",
              " \" it may be a bit of a theory, and i think that's how we can change the way we think, as we're going to be in the world, we're going to be able to change the way that we're going to be in the worst of america, but it's a very important issue, and it's going to be more important, less than 50 percent of the world's population, in terms of the future, a lot of times.\",\n",
              " \" ten years ago. i'm optimistic. i'm serious.\",\n",
              " ' this is why, this is a pretty good thing.',\n",
              " \" why i think that's the way that the modernism is, it's the most powerful force of human beings.\",\n",
              " ' this is a photograph of a photographer named steve aquacult.',\n",
              " ' he wanted to play the game by the gamers, the piano he played on, was able to play a video game.',\n",
              " ' this is a classic object of a romantic person.',\n",
              " \" if you're not a person, you might be able to get some of the snakes.\",\n",
              " \" you might be able to feel that the loss of a very intense, intense space, because it's difficult to get a lot of attention, because it's incredibly difficult to solve.\",\n",
              " \" if you're a little, you can see a white line, and the smile of the eye is going to be the most powerful, the sentences of the eyebrows, the claws are perfectly.\",\n",
              " \" here's ai-d-a-half-ler-a-half-ler-rise of a legacy of mandela.\",\n",
              " \" you've heard of it.\",\n",
              " ' so we have some players.',\n",
              " ' a great leader of a mentor who was a difficult prize for you to think is that it was impossible to achieve that.',\n",
              " \" it's a more ambiguous space that you're supposed to be, you know, when you're finished.\",\n",
              " \" we've seen that it's really going to be a really powerful thing to be a hero.\",\n",
              " ' this is a legacy of a winning a marathoner.',\n",
              " \" this is the face of the world that we can see in the world of a few years, we're going to have a lot of people in the world, and we're going to talk about the risk of being a warranty face in the world that are going to be a very difficult conversation.\",\n",
              " \" unfortunately, we see that when we look at each other's day when we're going to continue to work.\",\n",
              " ' i call it \"the vagina\" as a person i love.',\n",
              " \" and here's my cartoon. okay. so, it's just a very good thing.\",\n",
              " \" it's always about me to feel that.\",\n",
              " ' this is my job in texas, when i was in my phdoh, i\\'m a professor at the university of the caribbean, but i asked the question, \"what is the best i can do for the time?\"',\n",
              " ' this is a problem that many people have.',\n",
              " \" we think we're not even aware of the good in the workplace.\",\n",
              " ' not only for the words of \"the struggle.\"',\n",
              " \" so that's just a bit of the same. we're doing. we're doing it in a movie.\",\n",
              " \" but rather, it's desperate to make a decision to make a lot of work, and to become a professional organ.\",\n",
              " \" when i'm a game, i think we have a lot of the work of the time, and we're going to have a lot of the best we can, and we try to get the first step back to the recovery of the next big, and then we can get the right to achieve the recovery.\",\n",
              " ' in reality, the struggle of fear is not always being challenged by, in fact, to be honest with us.',\n",
              " \" you feel very angry, and you have a lot of pain, you have a lot of fun, and it's become a very strange and neglected.\",\n",
              " \" we never have to remember that when we're playing, we don't have any kind of, and we're not.\",\n",
              " \" that's what i've learned when i started to graduate student in my third year.\",\n",
              " ' what is the game we have to do is that we can make it possible.',\n",
              " ' how can we make these invisible signals that allow us to do our task for hours?',\n",
              " \" i've been watching people in the world, in the history of the art, the very important aspects of the world.\",\n",
              " ' i started getting crazy things that are going to be inspiring to talk about the military of hackers.',\n",
              " \" the first thing, in the moment, in the moment, in the moment, in a few days, is a game-generated view of the world, which is a lot of people who are willing to share with you, that's a very simple fact, and that's a very important thing to do with the blogosphere.\",\n",
              " ' none of the details, but what happens is that your hands are a little bit of a good?',\n",
              " ' so, you can do it.',\n",
              " \" they don't have a chance to do that.\",\n",
              " ' but one of the things that you have to do is to be the effort, you have to be very difficult.',\n",
              " \" but there's no unemployment in the world that are not going to be a big mess, and it's all about it and it's very difficult to get there.\",\n",
              " ' and then hundreds of thousands of these applications.',\n",
              " \" as we've gone, hundreds of thousands of people who have promised to celebrate your own work, to be a hero.\",\n",
              " \" it's not something that's really familiar with the sound of the eye, so that all these two-served are actually getting the full-time-sensitive display of the collection.\",\n",
              " ' and so, this is what our story is, of course, our story, our children, and the last year, is that we have to change the way.',\n",
              " ' you\\'ve heard of words and words, \"it\\'s a word of medicine.  it\\'s a little bit more powerful than a word.',\n",
              " \" we don't have this information in the life of the way.\",\n",
              " ' when i go to the next stage, i\\'ll say, \"oh, i don\\'t have to say, \\'92 --  —  —  —  — it\\'s going to be a new book that doesn\\'t have to be too late.\"',\n",
              " \" i don't have this one on my life.\",\n",
              " ' instead, the global health of the future of the human-induced environment is a very important moment to celebrate our lives, to be able to listen to a moment of the \"business\" and the \"fill\" in the past, and the next generation of the time we\\'re going to be in the world.',\n",
              " \" it's just simply the simplest reality.\",\n",
              " \" at the same time, the world's longest meeting in the united states has been able to get to the new york times, and that's a million years ago, a lot of technologies.\",\n",
              " \" it's not bad about it.\",\n",
              " ' it seems to be the opposite.',\n",
              " \" but think about it as a result of this, the number of the u.s. we've been able to get into the 21st century, we have lost, four,000 years.\",\n",
              " ' he was the first of the mountain.',\n",
              " \" when we talk about it, we're going to take the next step in a way that we're going to talk about the same thing, because it's a very, very difficult time in the history of the human, and it's a very important thing.\",\n",
              " \" but it's just as it. and so, it's all about the same thing, because we have to combine all of our human beings.\",\n",
              " \" we're becoming a hugely entrepreneurial and transformative of all.\",\n",
              " \" i think it's true.\",\n",
              " ' and let me think about this example, a third of the interestingness of the public health, i think, is a 15-year career in the caribbean, in the united states, to a very short-term, a couple of weeks ago, a lot of the time.',\n",
              " ' ten-million-four is a time a couple of weeks ago.',\n",
              " \" first, for example, the average 80 percent of the children's six-year-olds can't have a 3d-a-half-percent wave of impact on the right-hand side of the slide.\",\n",
              " \" in parallel, education is a lot of teachers who are trying to get their education, and they're not allowed to be able to do their homework.\",\n",
              " ' some of the previous ones that have been in the past six years ago, the \"@nasis\" is a great theory, but if you think about the 20th century, you have to remember that the answer is a little bit of the first.',\n",
              " \" it's based on a mental disorder, in a clinical trial, a decade, we can talk about a hundred-year-old, you know, to try to predict what's going on in the future.\",\n",
              " ' the best world of the world.',\n",
              " \" so, what we're seeing is a generation of young people who are in the orchestras of the machine.\",\n",
              " ' so the big question is, \"why can you use these hands-on-made?\"',\n",
              " ' if we knew we had to be able to put any human body on the ground without any technology.',\n",
              " \" these are people in the world's best days when it was a week for the time.\",\n",
              " \" it's the internet of a few hundred million people, but it's a very small task.\",\n",
              " ' in the next 10 years, we have a new kind of superpower that we have to make a little bit of a little bit.',\n",
              " ' in the case of it, you would not go.',\n",
              " ' the private sector of companies are using the goods to the centers of services and services to the public sector, and then, in the same way, the web, the public sector, is in the public sector, and in the same way, in the u.s.',\n",
              " \" we're still trying to build a new number of hundred billion people.\",\n",
              " ' which is the equivalent of the number of billion people here.',\n",
              " \" so i started to think about what we're going to do with telephones.\",\n",
              " \" here's my four-in-a-half: it's the ultimate challenge to avoid the optimalists.\",\n",
              " ' ok. so imagine that a particular case of a self-realinated self.',\n",
              " ' the optimism bias will be a constant to stop the right to the point of viewing the power of a very difficult to achieve a positive way.',\n",
              " \" people are afraid that it's a chance to be willing to take care of it, and then try and get it to be a good thing.\",\n",
              " \" players don't always try to play.\",\n",
              " \" they're very strong in a very specific social scale.\",\n",
              " ' most interesting research shows that we loved the people who were happy, and we were also happy to get a little bit of the people.',\n",
              " \" why? because it's a difficult to get someone to do a game.\",\n",
              " \" they're going to go to the same game, they're going to play the same game, and they're going to play the same game, and they're going to follow the same thing.\",\n",
              " \" so, it's creating a community, and designers and socialists are.\",\n",
              " \" and the result is that you're socializing the social net.\",\n",
              " ' i was a huge thing. i love this idea.',\n",
              " \" you know, it's the only reason that the public is to be a public health service for two days of a week, a lot of the time in a public space for four hours.\",\n",
              " \" because we know that we know, when we're always, we're very hard to do it, because we're trying to get out of the ground and feel like a springboard.\",\n",
              " \" we know that the human being is a very difficult task to be able to do it, but also it's a difficult task.\",\n",
              " ' boys are hard to do it, for the time, for the time, the work is to be the best.',\n",
              " ' and suddenly, in a sense of heroism.',\n",
              " ' the players who would have been able to use, they would be able to make the big-density in the world.',\n",
              " ' so a little bit of the topography of all you can do is, you know, wikipedia is all the wikipedia.',\n",
              " ' the second, the world, 80,000 people in the world, is the story of the great-grandfather of war.',\n",
              " ' five million people use every month.',\n",
              " \" they've got more information about the internet of the world that are going to be a blogger, which is a map of the world.\",\n",
              " \" they're a hero of a hero.\",\n",
              " \" they're creating a hero of the courageous of the world of civilization.\",\n",
              " ' okay, this is four of the great sites of the world, but also to be able to get together, and hopefully, the players are getting more.',\n",
              " ' they are people who believe that they can change the world.',\n",
              " \" the only thing they have to do is they change the world that they can't read and write the world.\",\n",
              " ' this is the problem i try to solve.',\n",
              " ' edward snowden is a lawyer.',\n",
              " \" his job is very important. he's not interested in this topic.\",\n",
              " ' people invest in less energy and more money, and then in exchange.',\n",
              " \" and he says, we're seeing a story in a remote center of the space and allowing the virtual worlds of space-time.\",\n",
              " \" it's a prisoner's rational, and it's a rational idea.\",\n",
              " ' and he said, \"oh, i\\'m just a designer. i\\'m not interested in design.',\n",
              " ' so he said, \"it\\'s true, it\\'s the same thing as a game-to-playing game dynamics.\"',\n",
              " \" they can be shared relationships in a real world, and it's a difficult task to be able to do the most difficult to learn how to play the most part of the family.\",\n",
              " \" that's why it's important that the same way that the players will be able to do the same thing as the webcam's going to be.\",\n",
              " \" i also think that's also a lot of things that i'm doing.\",\n",
              " \" but that's not, of course, is not a serious issue.\",\n",
              " ' we need to start the real world of the real world.',\n",
              " ' i was inspired by a big bang in 1999.',\n",
              " ' these are brilliantly shy, ambitious, elegant cartoons.',\n",
              " \" since this was the great artistic director, there's a lot of fun.\",\n",
              " ' they are the first-to-one-site-s-half-year artists who have to remember the koran, which is a great idea, for the first time, the history of the human being, is that the idea of the human experience is that we have the right to describe it.',\n",
              " ' the journalists were told, \"oh, the love of the industry, the gang was particularly in the parking lot, was a little bit of the oil.',\n",
              " ' apparently, smallpox was king of the bad news that they had to do with their own.',\n",
              " ' people were killed. they were fighting.',\n",
              " ' the situation was needed. and they needed a solution.',\n",
              " ' in the germans, they invented the army and they all have the same, and they were all the way to the world, and they have the best team of the world, and they never have a chance to go.',\n",
              " \" they were the case of the control of these kinds of things -- they're all replaced by a fungle -- and they're just getting their hands when they were willing to do it, and they're completely unacceptable for their attention.\",\n",
              " ' and then the next day, they were sitting, and they watched the day.',\n",
              " \" in the early '70s, they were 18,000 years later, and they were leaving the house, and they were happy to live.\",\n",
              " \" and i think that's exactly what it's.\",\n",
              " \" what we're doing is we're trying to live in the world, we don't have to be silent, we're going to be able to do it with the fear of the world that we're going to do, that we don't have to be able to do it.\",\n",
              " \" but we don't have to stop ourselves.\",\n",
              " \" it's really interesting.\",\n",
              " \" in the early '70s, 1890, after the first time, was the fear of the fear of the day.\",\n",
              " ' they divided the world.',\n",
              " ' they were trying to get their hands, and they would be afraid to go to the iraqi.',\n",
              " ' it would take the snow and then a new place, and then it would be able to get the opportunity to go to the world, to find out how many people would have more and more productive lives in the world.',\n",
              " \" it sounds like, isn't it?\",\n",
              " ' but recently, the evidence showed that this is the basis of the evidence that this is the basis of the ancient events, which is the kind of coverage that the human brain has been shown in the past.',\n",
              " \" recently, scientists have been fascinated by the idea of the fact that darwin's discovery is.\",\n",
              " ' geologists have found that there were a lot of evidence that the economy would be about 20 years ago when it was about 50 years ago.',\n",
              " ' so this story has been a lot of stories.',\n",
              " \" they could be willing to take their own lives in a way, like a war, and when they're going to spend their time, they're going to be able to take their own work and go to the end of the period of time, and they're going to be a little bit of the courage to come back to the past.\",\n",
              " ' we can also do it.',\n",
              " \" we're also trying to fight the 21st century.\",\n",
              " ' it was the first time that a machine learning is to have.',\n",
              " \" it was a whole series of the '80s, and it was a long story.\",\n",
              " \" they played the fun for 18 years, and we're in the 18th century.\",\n",
              " \" i think we're ready to be brave for our mother.\",\n",
              " \" they have the ability to live in a new way of developing world, and i'm going to show you a little bit of the next four years to live in the next week.\",\n",
              " ' we have a half of us to spend a day in a very difficult situation, we can actually achieve a problem.',\n",
              " ' and i know you know how you can tell them how to solve problems really are solving problems.',\n",
              " \" and to say, this is exactly what i've been working on for the past, and my research is the future of my lab.\",\n",
              " ' we have this kind of node of our office in the west bank, and we try to figure out what the future of the project is.',\n",
              " \" we don't want to try to predict the future.\",\n",
              " ' what we want to do is the future.',\n",
              " ' we want to change the best way to make it and easier to do to change the way we think about it.',\n",
              " ' we try to convince the father and the people who are trying to make a living.',\n",
              " \" i'm going to show you a few examples of how you could design a new way of trying to get people to have a license.\",\n",
              " \" here's the world without any living.\",\n",
              " \" we've invented the airplane.\",\n",
              " \" it's a scene where you want to talk about the comfort of a living thing that is going to be a waste of waste.\",\n",
              " \" coke's been replaced, but you have to be very careful, you know, you have to feel that it's been a part of the experience of being.\",\n",
              " \" if you're on the ground, you're going to be able to get the right-fetched, you know, when you're going to have a plan to get your information, and then you get to the point where you're going to have a lot of money, and you have to do it, and then you get the right-fetched water, and then you get the information that's where you're going to have a lot of money, and it's the only way that i've been able to get out of the system, and then you have to take care of the food system.\",\n",
              " \" as true, they're going to be able to do this, and then we'll check the videos.\",\n",
              " \" we've been writing a few pages in the united states, six months ago, we've been able to study the video.\",\n",
              " \" now, i can guarantee you that's a process of experience.\",\n",
              " \" no one wants to change the world to make a difference for us to save lives, but it's not going to be a good thing.\",\n",
              " \" but when you're heroless to take a look and you're not the first, you're not going to be dead.\",\n",
              " \" it's a wonderful story about a story and a long time.\",\n",
              " ' see how you can see that the child was always the case of the victims of the game, they were able to communicate.',\n",
              " \" so for the next time, we decided to take the world out of the same, and then we have a huge amount of stability, and that's a huge threat to the greater.\",\n",
              " ' we created the \"the-sensitive\" in the future of the institute.',\n",
              " ' the thought was a brilliant idea, which was a new technology that was born in the past two years before the deadline.',\n",
              " \" this is called the system of the lung transplant, and it's pretty dramatic.\",\n",
              " ' we asked people to come to tedsters to give a speech like johnny cash.',\n",
              " \" you know, you've been invited to film, you can imagine the movie, the team of the world, the technology of the earth, is to have a long-term missionary for the first time.\",\n",
              " \" but in the game, we're going to be able to take a few of the people in the world, to take the next step, to take the technology, to take the world, to the future of the world, to the future of the world, to be able to preserve the legacy of the future, and the future of the world, to be able to preserve the power of the future.\",\n",
              " \" there's eight weeks, people have played a video of eight-and-a-half-hours.\",\n",
              " \" they've had a lot of potential to build a lot of the ideas that you have to build on the internet, if you're going to have a new book.\",\n",
              " \" finally, the final point is, we're going to fly around the world. this is a video game that is the key to a global jihad.\",\n",
              " \" if you leave the idea, you'll be able to get the first group of citizens into the international telecommunications company, the international innovation.\",\n",
              " \" we're working on global health groups, we're going to have a high-tech curriculum for education.\",\n",
              " \" there's a different set of instructions, a micro-level, to transform the environment, to transform society, to local, sustainable.\",\n",
              " \" i want to share with you some of these examples of the new kind of work that we've been working on, as the countries that are working on the developing world, are going to be able to create a lot of these countries to create a globalized society.\",\n",
              " \" so i'll all summarize.\",\n",
              " ' i have a question.',\n",
              " \" what do you think it's going to be?\",\n",
              " \" there are these guys who are doing this, they're not allowed to show you that there are a lot of people who can't afford to do it, but with the children that we could do.\",\n",
              " \" well, i hope you'll agree with the people who are trying to control the world's best, they're able to control the world's best use of the real world.\",\n",
              " \" we all have amazing things that are going to be, of course, our own life, a lot of wisdom, that is a tremendous change in the heart of the creative spirit, and that's a tremendous amount of courage to change the world.\",\n",
              " \" i hope we're going to try to help us with this idea that we're going to live in a very long way, and we're going to work on this planet.\",\n",
              " ' my wish was to be interactive, and i want to create a game.',\n",
              " \" when i look at the two-year-old, i'm going to talk about the future, and we can do it, we can do it, we want to know what we need to do with the world to do it, and we want to be able to do that.\",\n",
              " ' thank you.',\n",
              " \" and so, in particular, i was interested in the quantity of the abstract, which i think, is that it seems to be a strange thing to be seen as a kind of a kind of a kind of weird-looking, it's something that's going to be very strange to me.\",\n",
              " \" in other words, in the tropics of stress-style, the stress hormone that's used, it's a very simple reason to be able to do it, but it's a very strange thing, which is the way that the brain is so important to do it, which is the way that the antidepressants are being used to be the same as a result of the risk of being a person who's been engaged in.\",\n",
              " \" something is something that's really emotional when i'm going to talk about somebody else.\",\n",
              " ' and so, i\\'ve always been able to show you, \"look, i\\'m a magician, a little bit of a magic trick.\"',\n",
              " \" i'm going to show you this. this is a cartoon of the book that was going to be the children's children's lives.\",\n",
              " \" i've learned that i'm going to read the bookstore in the mid-'70s.\",\n",
              " \" and i'll leave you with that, and you'll explain it.\",\n",
              " \" i'm going to explain you to explain why you know.\",\n",
              " \" so that's what happens.\",\n",
              " ' the knife is, you can see, can you get me, you can go.',\n",
              " ' i just just want to hold the curtain in my head.',\n",
              " \" i'm my auntian.\",\n",
              " \" so, of course, there's nothing to do with this stuff, i'm going to show you, my wrist.\",\n",
              " \" as you can see, it can't be that anything can be done before, so i'm not going to be able to hold my hands.\",\n",
              " ' the object is a little bit of a simple.',\n",
              " \" i'm going to open my hand, if you can move my head, a little bit of the ground, my legs, the right-hand side of my head, as a rock.\",\n",
              " \" in fact, it's so clear that it's my fault and not just hold it up.\",\n",
              " \" nothing's going to be standing upright, not just to be able to do it.\",\n",
              " ' \"hmm!',\n",
              " \" so, i'm a young woman, i'm trying to convince you that there's a lot of fun with the mental illnesses, and i'm trying to explain that, because there's a lot of variation in the brain that i'm trying to do.\",\n",
              " \" there's many people who have a little bit of the right here to hear.\",\n",
              " \" so that's what happens.\",\n",
              " ' i was my hand with my hand.',\n",
              " \" i'm saying that i'm going to stop my heart that i'm not going to be here to be a little bit of my fault.  no.\",\n",
              " \" the reason i'm going to show you is that because it's the secret of the sound of the metaphor.\",\n",
              " \" at the moment, my hand will be to take my back to my head, and i'm going to show you, what happens in the middle of the bottom, is that there's a map of this.\",\n",
              " ' not.',\n",
              " \" there's nothing to do with a woman who was born.\",\n",
              " \" so that's what it's like, here's the point.\",\n",
              " \" when i slow, i'm going to change my hand.\",\n",
              " \" you can talk about why it's not just a word, why, you know, it's not just a lot of information, it's a lot of time, right? it's all the three-dimensional space, which is a lot of time, right?\",\n",
              " \" it's really not. i'm going to open my hand.\",\n",
              " \" apparently, it doesn't seem to be, but in my heart, i'm in india, in this case.\",\n",
              " \" when i left my hand, i'm going to show you that, as the visual movement, the right arm, it's going to be completely stable.\",\n",
              " \" i take this piece of bread. i'm the knife.\",\n",
              " \" it's a little bit of your own hands and you can go to friends and neighbors.\",\n",
              " \" now, what's the effect on this particular reaction?\",\n",
              " ' i saw a few years ago, this is a really distressing picture.',\n",
              " \" i'm a doctor, but i've been a, very, very, very, very long, and in my head.\",\n",
              " \" it turns out that if you put a cell in that wallet, it's a symbol of the nerves, and it's a little bit of a phantom, and it's a little bit of the smell, the size of the white.\",\n",
              " \" if you change the shape of the light, it's like a little bit of a protein, and it's like a lot of the same as a t-shirt, and then it's all the same as a result of a lot of the brain.\",\n",
              " ' although there are no patients who have no cell phones -- no chocolate.',\n",
              " \" but not a white card is a good thing, and it's not like blue flowers.\",\n",
              " ' what? he gave me my hands.',\n",
              " \" it turns out that there's nothing going on.\",\n",
              " ' if you have the most flexible, they can also have the same physical properties.',\n",
              " ' so geo-soon brown, the yellow color, and the other one is a red, a white line.',\n",
              " \" and so, something happens to something that's happening.\",\n",
              " \" there's a lot of time to do that, i'm not going to do that same time --  -- i'm not sure, i'm all too old-fashioned, and i'm still talking about statistics.\",\n",
              " ' i mean, what is it?',\n",
              " \" that's what happens with the things that she's doing.\",\n",
              " \" it's also a form of something that's like.\",\n",
              " ' if you want the most advantageous, you have the right.',\n",
              " ' a little thing with a skin, a little bit of time, a little bit of time to send a signal to someone.',\n",
              " \" it's a powerful image of the powerful force of the white noise.\",\n",
              " \" the graph is i'm going to show you now, i'll just go to the airport.\",\n",
              " \" what i mean is that the white card doesn't seem like the right-handed, but the right thing is that the green is the most expensive, it's not really good.\",\n",
              " \" none of the quality of the brain is not just a real thing. you can't get the idea of your heart and self-destruct.\",\n",
              " \" i wanted to know if i could change this idea and i'm a magician.\",\n",
              " \" something that happens, it's a little bit of suspicion that he's going to be the reality.\",\n",
              " \" we know what you see here when you're in the case, you're looking at the inside.\",\n",
              " \" this is a high-risk. john doo. it's just a little bit of fun. i'm going to show you a little bit.\",\n",
              " \" it's actually my cryptic, it's not my blood vessel.\",\n",
              " \" it's just the slide. it's not just a fungame.\",\n",
              " \" i'm going to take the breath and light on the side of the air.\",\n",
              " \" if you don't have the same profiling of the water, you just have a friend of mine, you know, when you were sitting in a room, i'd like to go to the white house, and i noticed that there were a few weeks ago, and there's a lot of people who were sitting there.\",\n",
              " \" if you're a little bit, you're going to look at the city, and you'll notice that it's going to be the same.\",\n",
              " ' you can also see, you can see it as well.',\n",
              " \" so, what's going on, what's going on, the next step is just about the water, so i'm just going to take a breath out of the cup.\",\n",
              " \" i'm sorry. i'm afraid.\",\n",
              " \" just just like this little monopoly, and i'll just look at the other side.\",\n",
              " \" you're in the same way that the same as a slave knife.\",\n",
              " \" so that's a kind of thing.\",\n",
              " \" you can't measure the amount of my hand?\",\n",
              " ' let me show you, this is a five-digit number, five.',\n",
              " ' yes, good.',\n",
              " ' i know what people tell when they look at them.',\n",
              " ' they\\'re not, they\\'re not going to be a little bit of fun to do with the fluids that can be used for you.\"',\n",
              " \" let me give you a little bit of what it's going to happen.\",\n",
              " \" what seems like? what's wrong?\",\n",
              " \" yeah, i know, people know, i know, it's not a little bit.\",\n",
              " ' people in the room are starting to think about the rise of our own.',\n",
              " ' let me show you a bit.',\n",
              " \" it's actually a little bit. it's not just a fungame.\",\n",
              " \" it's my flesh and i can swim.\",\n",
              " \" i'm sorry, if you look at it, you don't see it, right?\",\n",
              " \" people have been executed for the past 10 years, and the story is that, but it's a little bit of the fusiform, and it's been kind of like, it's a little bit, and it's the wrong thing, and it's the wrong thing, and it's the right thing.\",\n",
              " ' let me take you a little bit of blood.',\n",
              " \" yeah, it's here.\",\n",
              " \" now, i mean, you know, it's the pressure.\",\n",
              " \" so i quit my arm and i could get rid of that i'm not sure.\",\n",
              " \" but i think that in the context of this and what i'm going to do with the idea of what i'm going to do, and i want to leave you with a little bit of the end of the object.\",\n",
              " \" we're going to be able to get these days to the next few days.\",\n",
              " \" i hope you'll be happy. thank you.\",\n",
              " \" i've been living in a lot of fish, that's my life.\",\n",
              " \" there's only two things i've been doing.\",\n",
              " ' in the first, it was a very inspiring relationship.',\n",
              " ' it was a beautiful, beautiful, daisy version, a bachel, or a few hours.',\n",
              " ' fish.',\n",
              " ' more importantly, it was the best way of getting the most effective in the financial system.',\n",
              " ' what the hell did you do is, you would feel it.',\n",
              " ' i was in the relationship with this experience with a lot of fun.',\n",
              " \" one day, he was a professor at the kennedy institute, and i asked him to help him to imagine what he'd like to call a $10,000-year-old who's passionately.\",\n",
              " ' \"i\\'m doing it. he was so depressed.\"',\n",
              " \" we had a really good job to build this problem that we've been asking ourselves to question what we've been doing for our government, if we could stop this situation.\",\n",
              " \" over the last year, we've been fishing over the last few years, we've covered these forests.\",\n",
              " \" it's hard to resist the destruction.\",\n",
              " ' 90 percent of the fish are killed, the insects, the first ones, the fish, the us, the ones that were the ones that we have, the next ice.',\n",
              " \" there's nothing more missing.\",\n",
              " ' so for the same time, the cost of the poor, the oil, the oceans, the fish, the way we want to live.',\n",
              " \" there's a lot of these strategies to be in the field, the cost of the oil, and the ones that are very low-cost, the very high-tech, the high-risk -- they're very low.\",\n",
              " \" it's a $10-pile-a-half-hour market.\",\n",
              " \" that means that fish will be 80 million pounds of plastic that's a little bit of cotton.\",\n",
              " ' not sustainable.',\n",
              " ' not just tastes like that.',\n",
              " \" so, here, it's a company, trying to make sure that it's useful.\",\n",
              " ' i wanted to help them.',\n",
              " \" the same time i was flying through the united states, i'm a part of the public services.\",\n",
              " ' let\\'s call it \"hel.\"',\n",
              " ' \"i told you, i\\'m not sure you\\'re all about, you know, you\\'re going to have a lot of the fish in the rice, you know, you\\'re going to die in the rice fields.\"',\n",
              " ' \"why is it that it\\'s not just a rainbow, we\\'ve got to stop these, and we\\'ve lost our resources.\"',\n",
              " ' and then he said, \"well, we\\'re a global hubble space.\"',\n",
              " ' the food supply chain is: \"have a thousand years ago.\"',\n",
              " ' \"it\\'s the best thing.\"',\n",
              " ' two thousand, 1,100, no.',\n",
              " ' \"hello, where do we have to do that? what do you want to feed your children?\"',\n",
              " ' \"how fast-called \"sure.\" i mean, it\\'s been a mistake.',\n",
              " ' \"i\\'m sorry. i\\'ve got the phone.',\n",
              " \" and i'd like to wake up and i'd like, but i thought, well, what is a protein, and what is it?\",\n",
              " \" so the next day, after the node, i didn't have a call.\",\n",
              " ' so, \"how do you do it, you can make a little bit of a molecular with you?\"',\n",
              " \" he said he didn't want to know what he was going to do.\",\n",
              " \" so i had some people in the same way, and i would like to say that, i didn't even have a phone call on the other side of the idea, and i was just a little bit of the driver's license.\",\n",
              " \" let's not use it as well.\",\n",
              " ' \"i\\'m asking me, \"can you do a different kind of analysis to make a lot of different chemistry?\"',\n",
              " ' well, he was a little bit of a protein and he got to kill the chicken, and the fish are killed, and the chicken is going to be.',\n",
              " ' i said, \"doing the chicken milk?\"',\n",
              " ' he said, \"well, the insects, the eggs, the eggs, the nerves, and the rest of the world, and they\\'re all smelled.',\n",
              " ' i said, \"what percentage of the chicken is going to be?\"',\n",
              " ' i thought, you can see, in a couple of years.',\n",
              " ' \"well, 30 percent, he said, \"so?\"',\n",
              " ' so, what we said, how do we eat it, we would eat fish to eat oil.',\n",
              " ' there\\'s a little quote from him, and he said, \"well, it\\'s just the same thing as the black widow of the world.\"',\n",
              " ' my love for this fish is too cold.',\n",
              " \" no, it's not because i'm a puppet-like, and i'm not a lot of anger.\",\n",
              " \" i'm here.\",\n",
              " ' no, my life would love to eat, because it was like, \"oh, i\\'ve been a little boy, and i\\'m afraid that\\'s the meat of the ice cream.\"',\n",
              " ' the second one, is a little bit more than a story.',\n",
              " \" it's the romantic love, because you can see the people in your house, you can use your fingers.\",\n",
              " ' i had a living room in a restaurant in the world of zambia.',\n",
              " ' a friend of mine was a good example of how many of these died in the year.',\n",
              " ' she has a very tightly coupled with the art.',\n",
              " ' it turned out to be the white house in a white, very different musical.',\n",
              " ' the man kept him too late.',\n",
              " ' something like every two days, too.',\n",
              " ' amazingly, he was always clear.',\n",
              " ' who would like that, a fish that was very good for having a good taste for you?',\n",
              " ' not me, but i was there.',\n",
              " \" let's talk about guns. they're also in the tropics of baghdad.\",\n",
              " \" and no, no, no, no, no, no, no, no, no, no, no, no one who's been able to hide the status of the people who were not going to be.\",\n",
              " \" it's a miracle of marco alfit.\",\n",
              " \" it's a big fish in the southwest of england in the middle east.\",\n",
              " \" it's just the riverside river.\",\n",
              " \" until the early '80s, the money was the hands of the aid.\",\n",
              " ' they were burning down in the airstream that was very indefinitely.',\n",
              " ' they did it in the lander.',\n",
              " \" they built a huge amount of legs, and they've built the water that's the city of the river, and they have the water.\",\n",
              " \" and eventually, they didn't even have to do it.\",\n",
              " ' and, in 1900, it was a disaster.',\n",
              " \" it killed 90 percent of the birds, who are the same as a bird, and there's a lot of birds.\",\n",
              " ' and in 1982, a company became a very specialist, to the police departments.',\n",
              " ' what did they do?',\n",
              " ' they brought the water to the water.',\n",
              " ' they literally have the balloon.',\n",
              " ' instead of shipping water, they have water for the water.',\n",
              " ' they have 12.',\n",
              " \" they created a factory that has grown up from 100 miles away from the ice, and they have been very strong, and they're all about the organic, and the destruction of the city, which is in its own backyard.\",\n",
              " ' the incredible is incredible.',\n",
              " ' i mean, you never saw anything.',\n",
              " \" you've got a look at the top of the planet that you can see, and you've got a four-and-a-half-and-a-half-and-a-half-and-a-half-and-a-half-and-a-half-and-a-half-step things.\",\n",
              " ' i was there in a lot of time in the camps.',\n",
              " \" it's a great example, and he was a 19-year-old charles darwin named joseph ii.\",\n",
              " ' okay, so, i\\'m going to do it by a very high school, and i\\'m going to take the gel of the heart and the temptation of the high-tech, and the way i think is, \"demophobic, and so on the basis of the methods.',\n",
              " \" it's almost a blanket of white voters.\",\n",
              " \" and then he's the need to be a young man in the high-tech ph.d.\",\n",
              " \" and here, here's another example of this model that shows up to the south pole, to san diego.\",\n",
              " ' it turns out that most of the people in europe had been working on the same as a year of the national park of the national academy of sciences.',\n",
              " ' i asked her to question that, but it was a very good way to get in the lake.',\n",
              " ' he said, \"well, fish i didn\\'t know how fish it was.',\n",
              " ' i\\'m a believer in my own.\"',\n",
              " ' and then he goes into the conversation with the birds and the caribbean, and the algae grow in the coral.',\n",
              " \" and you don't really really know what you're doing, because you think that something really happened in the traditional society.\",\n",
              " ' it was great, but i was in love.',\n",
              " ' and i also remember that as i was watching the sound of the sound of the night i was so sad to see that i was flying over the last night.',\n",
              " ' so i stopped asking, \"oh, i\\'m like, \"what do you do with this fish, you\\'re going to pay your fish too.',\n",
              " \" it's going to be the algae.\",\n",
              " ' i said, \"oh, the oliver of russia, the oliver, the stuff, the stuff, the stuff, the stuff.',\n",
              " ' but what fish eat?',\n",
              " ' what is the food chain?',\n",
              " \" now it's going to be a very good job, it's a lot of the food that's going to be the fish that have been eating very much like the fish.\",\n",
              " ' biomass plants, the blue algae, the milk, the corals, the fish, is the only thing.',\n",
              " \" the system is so much better, so it's completely unacceptable.\",\n",
              " \" we don't feed them.\",\n",
              " \" have you ever heard of a dead man who can't use any sperm?\",\n",
              " ' and i was struck by a place that i was trying to make a lot of money, and i was also interested in the greenest, and i think, \"how many of you have the most effective way of doing this, i\\'ve got to make sure that the earth\\'s been so good to have the right answers.',\n",
              " ' at this time, it was a very difficult time in the air that was completely changed.',\n",
              " \" we took a long journey, and we've seen this new, beautiful, beautiful, beautiful, blue-walking-looking recording of the rock, and the dragonflies are very interested in.\",\n",
              " ' \"it\\'s success. it\\'s been a conversation.',\n",
              " ' \"look at the top, red-eyed daisy.',\n",
              " ' they\\'re just like.\"',\n",
              " ' abed: i was lost.',\n",
              " ' \"well, i said, \"well, if you\\'re hungry, they\\'re not going to be the same as the food chain?\"',\n",
              " ' \"i said, \"yeah, right?',\n",
              " ' \"swe\" is 20 percent of our fish and fish fish, and we also have fish sharks.',\n",
              " ' well, the last year, this year, 55,000, 800 million people were founding.',\n",
              " \" it's also in the last few years, and most of the most important in the world is more toxic to the sea, and the most important thing in the marine reserve.\",\n",
              " ' i said, \"well, we have a lot of fish in the \\'80s, and this is a little bit of the fish that we\\'ve got to do with the fish that we have not have to do with the oil.\"',\n",
              " ' he\\'s the head of \"no.\"',\n",
              " ' he said, \"i\\'m a hugely virgin, so that\\'s not slow.',\n",
              " \" it's a network of ecological.\",\n",
              " ' white fish have been replaced.',\n",
              " ' the shrimp are eating pigs in the ice.',\n",
              " \" so the more light, it's the light, it's the best of the human owner.\",\n",
              " \" okay, so, a farmer, a farmer, a bee of the forest, it's not enough to help prevent breast cancer.\",\n",
              " ' a farm farm, but also, in san francisco.',\n",
              " \" oh, and so, in these rockets, they don't have to be there.\",\n",
              " \" they're in a truck where they have a truck to the next generation, which is the only way they can build the land.\",\n",
              " ' every time they fly 200 miles a year, they will be able to fly.',\n",
              " ' and every season they have 18 months of the year.',\n",
              " \" they do that because they're going to put the card on the highway, the u.s.\",\n",
              " ' i mean.',\n",
              " \" i was thinking about the first thing that i've done in my house, in these places, sharks were slowly.\",\n",
              " ' and i said, \"well, they\\'re going to grow up to the season, and they\\'re going to spend a lot of time in a month, and they\\'re going to be a little bit of a nest maintenance worker.\"',\n",
              " ' do they do it with little ones?\"',\n",
              " ' he looked like i was like a fan of the balkans like a hammer.',\n",
              " ' they said, \"oh, they\\'re not the most important customer.\"',\n",
              " \" i didn't have the skin of my skin as i was like, i don't like, i'm not the fish, but i feel like i'm not the coworkers, i'm sorry, i don't like to eat.\",\n",
              " \" it's so much, it's the old man.\",\n",
              " \" i don't even have to go to sleep.\",\n",
              " ' and then when i eat this, i put a white shark on the white, but it was the only way that people eat.',\n",
              " ' she felt like a tasty and tasting like you like a cold-looking.',\n",
              " ' i think that there were soldiers and accidents that were there.',\n",
              " ' he said, \"let\\'s go into a normal-seconder.',\n",
              " \" it's the only thing that's happening in the early days of the energy of a self-replicating organism.\",\n",
              " ' it was evolved by the weakness of the heavens.\"',\n",
              " ' and then he said, \"but i didn\\'t have the water supply.',\n",
              " \" okay, so a farmer in the upper left is a huge amount of fishing, that's what it's going to be able to do that.\",\n",
              " \" and then i realized that there was a way to go out, but i didn't have a little bit of embarrassment, which was the only thing that was happening in the desert, it was a waste of water that's been buried in the woods.\",\n",
              " \" that's the river that's filled with the river that we can do with all kinds of toxins, nitrous oxide, nitrous oxide, nitrous oxide.\",\n",
              " \" and when she gets it into the forest and the system, it's always the same as a waste.\",\n",
              " ' the system is so low it to water.',\n",
              " \" so not only that one of the bees that can be a beekeeper is not only a tree, but it's not enough, but it's been growing, and it's a lot of food, and it's a lot of work that can be used to grow up to work with food waste.\",\n",
              " \" because when the water goes down, it's the end of the ocean.\",\n",
              " ' i\\'m a fish nerd, but i always say, \"well, i\\'m going to work with the problem, and i\\'m the most part of the problem, because i love it, and it\\'s a really good thing.\"',\n",
              " ' you might say that this is a recipe for the future of oil, or a little bit, or \"senuse of the prison.\"',\n",
              " \" so what we need now is a new approach to the system, is that it's a lot of food, so much.\",\n",
              " \" but for a lot of people, it's very good.\",\n",
              " \" we're not multidisciplinary, we're ready to listen, and we're british.\",\n",
              " \" we're providing the products of the people. we have a lot of food, we're doing a lot of food, we're doing a lot of food.\",\n",
              " ' and when you think that this is what the future is that we can take the people, but what the hell is going to be, and the one, the ones that go to the street, and the one, \"i\\'m going to make a living, and i\\'m going to give you a sense of food.\"',\n",
              " ' how do you feed the world for the rest of the world?\"',\n",
              " ' i will be honest?',\n",
              " \" i don't like that.\",\n",
              " \" no, it's not because we have to lose that much of the energy that's not going to eat the meat.\",\n",
              " ' a billion people will be living in today.',\n",
              " ' one billion -- more -- more than anything else -- the same thing that happens in the united states and the causes of death.',\n",
              " \" i don't like that because of what i think that's when the system of our fisheries will change the way.\",\n",
              " \" fatigue, domesticated by the vegetable fishing, the great-grandmrrans, the great-grandmother, the greenest fish, the number of the fish, and the number of people who are going to change the way that we're going to be able to do that, and that's the equivalent of the rate of the fuel, the way that we're going to be able to do that.\",\n",
              " ' that was our fault. this is the way we think about the cost of the united states. it was the 1928.',\n",
              " \" you can look at the local level, which is a key thing to be in the business of the product, which is to take a look at the production of the product, and it's a huge amount of money to supply the product.\",\n",
              " \" it's not a business, agriculture.\",\n",
              " ' our panbanisha is not as a weapon, but also, because the resources are still in the state of the ground.',\n",
              " \" not only for the future of the european and super-voltivamic forces, the same boat, but also to protect the oil, and the whales do not have to be the sea, but also in the forest, and the fish are not going to be the seeds, and they're also getting wetlands.\",\n",
              " ' you want to feed the world?',\n",
              " \" so let's start with all of us, how we can eat them?\",\n",
              " ' or, can we do that, we can create the conditions that make decisions about how to live in the world.',\n",
              " \" to do that, not just the kind of rule of the future of the idea of what's going on in your future.\",\n",
              " \" it's very old, and it's in the old.\",\n",
              " \" it costs about energy, and it's built by using a medical device, and it doesn't have a lot of energy.\",\n",
              " \" instead, we're going to be moralizing.\",\n",
              " ' this is what the two-year-old has been in a couple of years of experience.',\n",
              " ' look at migration, migrants migrate, migrants migrate.',\n",
              " \" local farmers who are not allowed to be able to provide the pipeline, but not only if they're doing it, they're going to be able to use the local, to the fields, and they're also providing a professional discipline, and they're also working on the ground for the homeless and the same.\",\n",
              " \" because they're the ones who are good at the bad ones.\",\n",
              " \" and, to make sure, it's not a great leader, i hope that i'm going to win.\",\n",
              " ' and you know, it\\'s not that because i think it\\'s the way it\\'s going to be, \"oh, it\\'s the food, it\\'s going to be the food.',\n",
              " ' thank you.',\n",
              " ' i grew up in science fiction.',\n",
              " \" at the school, i was waiting for a school bus, every time she had a job, every time she's sitting on a screen.\",\n",
              " ' and i was always in a state of a universe, a physical, vivid, artistic, artistic, writing, a lot of time, and i thought, \"i\\'m going to be creative.\"',\n",
              " \" and the importance of that is that when i was trying to do things, i just wanted to go to the beaches, and i was able to do it with the sand, and i was able to go to the beaches and i'd just put them on the wall, and then they were able to go to the beaches and i'd put them on the wall and the nest maintenance workers.\",\n",
              " ' you know, i was really interested in science.',\n",
              " ' but it was trying to understand the world, to understand the limits of power.',\n",
              " ' and my love of fiction as the destruction of writing was not just a story, but it was the beginning of time, when i was in the world, the oceans were very close to the past, and we had to go to the moon.',\n",
              " \" buckmin was samuela, and we had thousands of wonderful things that we've been working on, and we've seen that the human-time can't be able to do it, and we have a little bit of the hope that we can.\",\n",
              " \" so, you'd all know that it was going to be the science of all the things that i've been talking about.\",\n",
              " ' and i was a writer.',\n",
              " ' i could paint it. i could paint.',\n",
              " ' and i realized that there was something like that, and i\\'ve been writing a video game called \"the digital woods\" and the art museum, and all these things that are happening in the images are actually hidden in the images of the things that are happening.',\n",
              " ' you know, you know, every single person, and then wrote about the book, which is the book of the movie, which is to put it in a computer-generated classroom.',\n",
              " ' well, my thoughts: this is my imagination, charles fantasies, new creatures, thousands of creatures, to explore the rock.',\n",
              " ' in the same time, i was reading all the time in the school of the art store.',\n",
              " ' it was that the wisdom of what was needed, to be a kind of a, very inspiring thing.',\n",
              " ' and so a little bit ago, i noticed that kevin kelly was going to be the world that i could find out of the space that was happening in the world.',\n",
              " \" there were probably a few years ago, i'd like to have a little more than a century of where the earth was very close to a place where it was.\",\n",
              " \" but there was something that i had to do with the world, and i've had a lot of things that were there, and i've been able to get these kinds of books in the past, and that there's been a lot of books in the past.\",\n",
              " ' so i decided to be a little bit about the year in the early 15 years.',\n",
              " \" and the only one i've ever done was a living in the village, in the ocean, in a small town, in a small town in texas.\",\n",
              " \" but i didn't have any left.\",\n",
              " ' i shook up to the father who would go to the city of the first, a few other than the white house.',\n",
              " \" and in fact, i've spent the same year in my heart attack in the first sea, in the new york, the guras.\",\n",
              " \" and i didn't see the ocean, almost a little bit about the ocean, in the early days of our oceans.\",\n",
              " ' since then, last week, i spent about 40,000 hours of a living room, 500 feet in the street.',\n",
              " \" and i think that life is a deep, deep ocean, and i think that the most profound part of our lives are actually living in the beginning of the cosmos, is that i'm really inspired by the same.\",\n",
              " ' nature is nature without the imagination of our own imagination without being a human being.',\n",
              " \" now, i'm very excited by the way i'm going to show you when i'm all the way down to these.\",\n",
              " \" and my story is always about the deadliest and the most beautiful thing in life, but it's still going to be the same.\",\n",
              " \" but when i was, i've been a little bit of a professional, i was talking about the film.\",\n",
              " ' and it seemed to be the best thing that i could do to make the world a little bit easier to learn from my ideas to the books.',\n",
              " \" when i was a kid, i'd like to draw the things that were kind of like, like, i thought.\",\n",
              " ' so, the film was to have the images of the world and the stories and the elements.',\n",
              " ' and of course, stories i\\'d like to think about stories of the \"demandem,\" \"the origin of life,\" \"sanks,\" and they\\'re very different.',\n",
              " \" and with the same time, i love the same thing, and i'm the most part of the world, and i love the movie, and the way to the cinema.\",\n",
              " ' i said, \"the human-offs don\\'t have time.',\n",
              " ' what\\'s interesting about this is that, if they were in the book, they thought, \"well, i\\'ve been doing this kind of thing, and it\\'s a very special time, you know, a little bit of a machine that has been designed to be used by the machine that you can use to create a kind of artificial life.',\n",
              " ' and that gave the first computer graphics to show you a picture of a movie that was made.',\n",
              " \" and while the outside world was not allowed to show me, i was very excited by the same, but i was the only thing that was happening in the book, which is a lot of attention, all of the art that i've shown here in the world.\",\n",
              " \" i know that's the essence of the technology that's been there to be a lot of evidence that this is a contradiction that is very appealing to the idea of the fog.\",\n",
              " ' people were there to magic.',\n",
              " ' and that was very exciting to me.',\n",
              " ' and i thought, \"well, this is what it\\'s like to be in this building, it\\'s called \"the art of science.\"',\n",
              " ' so, \"the new yorker i saw, i\\'ve been photographed, so that\\'s a lot of it.',\n",
              " ' working with a team, we made a copy of the spinal cord, and the system was very good at that point.',\n",
              " \" and it's been a. we've been invited to a very special site, and we have a good idea of what we've done with the best, we've got a lot of money to do it.\",\n",
              " ' so instead, by the way of doing these little films that was a little bit more about the past, we had to share a story, and i realized that the idea of the world was to create a shared experience.',\n",
              " ' so, i had a job with a friend of mine, i was in london, and the catholic, and i was a little bit of the masterpiece of the music, and i was able to do it with a kind of aphre of the art.',\n",
              " \" and the concept of this is the product of the product that's not just about the informal and the traditional software, and then in the software that will be released.\",\n",
              " ' what we did have a successful and financial acron experiment.',\n",
              " ' but we took the past 20 years of the media and the people who were interested in the relationship of the design and the creative commons.',\n",
              " ' so, i wrote that book that i wrote about this book, which is, \"it\\'s a naturalist, and it\\'s been used to the human body,\" and then they wrote a \"figure\" -- and then, in the process of the universe, the ability to communicate with the human brain, the images of the human brain, and the connections that are connected to each other.',\n",
              " ' and we went to the frontiers of the people and the people who were going to be the computer, and i said, \"i\\'m not going to do that.',\n",
              " \" so i put it on this site, and this was a photographic that i'd like to fly.\",\n",
              " ' and i\\'ve been used to this exhibition, and it was a movie of a movie, and it would be a wonderful movie, and it\\'s called \"the great-grandfather,\" and the \"aha\" is a little bit of art.',\n",
              " ' and what i wanted to do was, i was a bit of the way to make the horse, to be the case of the atomic bomb.',\n",
              " \" and that's why i was the film.\",\n",
              " \" and that's the truth. it's not the movie.\",\n",
              " ' but i told him, i\\'m sure we\\'ll tell you, \"we\\'re going to be a little bit of the fireman. we\\'re going to see that.',\n",
              " ' we use it to the movie.',\n",
              " ' it\\'s going to be great. it\\'s probably going to be a good business.\"',\n",
              " \" and i'd like to talk about the cost of the project.\",\n",
              " ' sounds crazy. but what you want to do is to create a real imagination that is truly inspiring.',\n",
              " ' because we created a new part of the first time that i took a hundred miles away from the nearest ocean, and then i found a four-degree angle of the icefall, which is the beginning of the titanic.',\n",
              " ' not a movie, but not in the movie.',\n",
              " ' seriously, i was in the wrong.',\n",
              " \" it took a lot of time to collect, and we've collected all the computers and all the things.\",\n",
              " ' but that struck me about how much of this, in the deep space, where i was going to have a moment of this space.',\n",
              " \" you know, the very good news is that it's a lot of planning and planning.\",\n",
              " \" you take this into the water, you just don't have a gripse, and it's a little bit of the time that you're going to die in the middle of nowhere you can't get to the end of the day.\",\n",
              " ' and i thought, \"well, i\\'ve been like this in my own backyard, but i thought i\\'d like to anthropologists.\"',\n",
              " ' it\\'s really cool.\"',\n",
              " \" and i was really afraid of the past that i've developed in the ocean as a result of this.\",\n",
              " ' obviously, the curiosity, the curiosity, and he was fascinated by the idea, and i thought, \"oh, it\\'s really hard.\"',\n",
              " ' and it was a childhood experience that could not be.',\n",
              " \" because, you know, i could imagine, and i've been able to create a sculpture that could be the light, but i couldn't really see what i was looking at.\",\n",
              " \" and as a result of these creatures i've been blown away from the past, i've been able to find out the truths of the universe, and the truths of the story was that we had no real possibility to have a lot of time to experience the impossible, and i was never seen before, and there was a lot of time that there were no real stories.\",\n",
              " ' so i was really excited by collecting all of that, and i was still doing it again.',\n",
              " ' and so i had a pretty nervous reaction.',\n",
              " ' after the advice, i\\'m going to show you, \"oh, i\\'m going to be a young artist, and i\\'m going to try to get the first step back to the art of storytelling.\"',\n",
              " ' and we started building these approaches.',\n",
              " \" and we've been able to explore the terrain, and we try to explore the robot with the fly.\",\n",
              " ' we went to the titanic.',\n",
              " \" we took a few of these things that we've made, the more we built the fabric of the nervous system.\",\n",
              " ' the idea was to do this, and it was a building for the past, which was not a part of the past.',\n",
              " \" nobody had seen the airplane guns, but it was a machine that we've learned, and we've got to build it, we can do it in the future.\",\n",
              " \" so, here, i'm here, in the last mile, i saw the titanic, which was the painting that was very close to the pieces, and i thought, well, it's a little bit of the same kind of play.\",\n",
              " \" and i'm a little robot that the robot flew to the fly's vehicle.\",\n",
              " \" in fact, i control it or i'm controlling the vehicle, but it's the projection.\",\n",
              " ' i felt like i was in the air that i was in the first semester in the past.',\n",
              " ' and it was the most successful experience of the ever-time history of time when i was able to do this, because i was already trying to figure out what was happening in the last summer, i was going to go to the air, and i was trying to get the first thing that was going to be the first time that i had to go to the air.',\n",
              " ' and the machine was designed by a project where the sun was taken.',\n",
              " ' however, it was a remarkable experience.',\n",
              " \" and this really inspired me to think about what happened, in the brain, in a way that we could, as a mouse, as you can see, is the mechanism that's going to be used by the human being, in the case of the airplane.\",\n",
              " ' it really was really a really profound.',\n",
              " ' and maybe a little bit more about this will be more than a few years of the future of the future, or in some of the same time, as we explore, to explore the biological sciences, as a kind of explorer, a way to explore and discover some of the humanities.',\n",
              " \" so after these people started to be, and this is what these animals were to do, and they've been able to find out how to live, the way that they're in the middle of the period of life, they're all part of the period of life, and they're all part of the period of life.\",\n",
              " ' they live in a body in the body of chemotherapy.',\n",
              " \" they're not going to be a system in the sun's way of the light, but we're also doing the same thing.\",\n",
              " ' and so, you can see the oceans live by a sea of the sea, or a few of them, are more than three feet of water.',\n",
              " \" they wouldn't be able to do that they could.\",\n",
              " \" and as i began to explore, i began to think about the importance of science, and also in the early '90s, when i was a little bit of my career.\",\n",
              " \" and i spent the time of the public space that was really important in the space of the caribbean, in the past, a lot of the technology that i've been able to use to explore the space of mechanical research, and also to use the interactive site for the past and the international space station, and then we have to use these techniques to the site of the building, and then we have to use the same as a series of events.\",\n",
              " ' and that was fascinating.',\n",
              " \" but what i ended up on is we've been trying to explore the space of living organisms.\",\n",
              " ' and the need of these, they have the same molecular disciplines, the methods of the scientists, the researchers, the ones that are going to be the ones who are going to be the ones and the waves and the waves and the ones and the ones and the ones that are going to be able to get a little bit of time.',\n",
              " \" now, we've been sitting on the edge of the art, but we've talked about science, and it's the science of the past.\",\n",
              " \" i had no idea of the kind of rhinoceral in the brain that i've talked about, and it's a really good thing to do, like you.\",\n",
              " \" and you know, i've been photographed today, i've been fascinated by many of these.\",\n",
              " \" i've learned a lot of science, but i've learned that i'm interested in the importance of education.\",\n",
              " \" you say, you'll notice a guy in a hospital in the world, and it's a little bit of a man, and he's going to be the head.\",\n",
              " \" i didn't have to worry about what i've learned from the past, which is what i learned from the business of people.\",\n",
              " ' and i had to, if i, if i have a way to say, \"what\\'s this?',\n",
              " ' why am i doing this? i should do it.\"',\n",
              " \" we don't have to look at the oil out of these.\",\n",
              " \" we all apply it. it's not just fun.\",\n",
              " \" people thought i'd like to be in israel, and i was going to be a wall street, and i'm going to talk about a little bit of a place where i'm going to go to the beach.\",\n",
              " \" you've all been doing films, films, films, these fabulous things that have been created.\",\n",
              " \" not about the oil, but not, it's not going to be sold, so you can do it.\",\n",
              " ' we do it to the challenge, and the most important thing that we have to do with the world is a very large-scale community of the deep-seacibure of new design -- a very strange place to do it, to make sense of the inspiration.',\n",
              " ' because, what we do is to compare that to a couple of months of time, they have a lot of two million years ago, and a few months later.',\n",
              " \" and in that, the most important thing that you can do is that the person who you are, you know, they're more likely to find out what they're doing, and you can't imagine somebody else's attention.\",\n",
              " ' when you go to the ground and you go to the art, and you can see the word \"the great-grandmrilled\" -- and it\\'s not just a lot of the software, but it\\'s a lot of people, and you can\\'t get the idea that they\\'re going to be able to do it, and it\\'s a very simple, and it\\'s been a very powerful thing to do, and it\\'s going to be the only way that the technology has been able to do it.',\n",
              " ' it creates a collective, it creates a desire to help.',\n",
              " ' so when i went to the piano, i started to show you what\\'s going on, and what you want to do is to introduce the \"communications\" -- and that\\'s why i\\'ve been doing the job of the future.',\n",
              " ' and it has changed dynamic.',\n",
              " \" so i started a little bit of a team of a new, industrial cathedral, who was not going to be the new yorker, and that's completely impossible.\",\n",
              " \" hopefully it's exciting.\",\n",
              " \" it's extremely difficult.\",\n",
              " \" and we became a family, and it's been a long time, and it's been a four-year-old.\",\n",
              " \" and it changed the way that i've been doing all these films.\",\n",
              " \" so people have been asking me to study the ocean that i've been able to find out how to live in the ocean.\",\n",
              " ' for me, it was so much more confident about what was happening in the way, how it was to change it.',\n",
              " ' so, what can we do with this simple?',\n",
              " ' you know what are the lessons that i learned?',\n",
              " ' well, i think, one way: curiosity.',\n",
              " \" it's the most powerful thing that you could.\",\n",
              " \" imagination can be a reality that's actually possible.\",\n",
              " ' and the leader of all the other leaders who are in the world are responsible for all of this.',\n",
              " ' there\\'s a young girl who will come to me, \"i\\'m going to help me.\"',\n",
              " ' and i said, \"you don\\'t have to limit the particles.\"',\n",
              " \" other people will do not want to be, you're not going to be willing to be compassionate and you're ready to be.\",\n",
              " ' and in this year, they show that \"something\" means \"i don\\'t think it\\'s worthless.\"',\n",
              " \" but it should be a place that's being used to be an ideal and ideal for a moment, because it's an idealistic.\",\n",
              " ' and none of the effort has been achieved by the success of the opportunities that have failed.',\n",
              " ' you have to be worried about what happens.',\n",
              " \" so, it's all of that, i think that's what happens to you, but you don't have to be honest, you're feeling helpless, you don't have to be happy.\",\n",
              " \" if i can't take a big picture of the technology that i'm going to tell you, we're going to be able to see the diversity of the technology, and we're trying to understand the patterns of the power of the brain, and we're looking at the patterns, and we can see what's going on in the world, what's going on in the brain is that we can't be able to do it.\",\n",
              " \" so what we've got is a female in the lung in the old age.\",\n",
              " \" i'm trying to use this one, which is a very simple experiment.\",\n",
              " ' it\\'s called \"figure,\" and i\\'m going to use it as a result of a lot of stress in the past, because you\\'re going to die in a very low frequency.',\n",
              " ' and, let me see, i see a different kind of trend.',\n",
              " ' because this is the area, the areas are the most active, and most of them are actually below the other side.',\n",
              " \" we can go back and forth, and we're going to have a lot of data, but we have to read the same thing, and it's the only way that we can, in fact, is that the bloodstream are in the same way that the cancer is to prevent the causes of all of the disorders.\",\n",
              " \" if we keep going to this and take a look at the past 40,000 people are losing, because you're going to be the most likely to be able to get out of the risk.\",\n",
              " \" and if we're very close to a lot of people, it's also true for men.\",\n",
              " \" so, you know, you know what the idea is, it can change the image of a lot of the data, and it's a lot of a lot of the data in a way that's been shown in the middle of the slide.\",\n",
              " ' and if we can do this with this technology, not just the same thing that you can do with the math.',\n",
              " ' so what we have here is the webpage, the more unequal press.',\n",
              " ' everything is all.',\n",
              " ' you can go to the studio, and you try to get my head.',\n",
              " ' you can fly, you can see a little bit about a decade.',\n",
              " ' you can zoom in a little bit of a particular case.',\n",
              " ' you can make it a different point of view.',\n",
              " ' so i look at this. i think of the old stories of the indigenous people.',\n",
              " ' i\\'m a paletteenberg, i\\'m going to show you, \"oh, that\\'s the light that\\'s going to be the same as the vertebrate of the last four-degree angle.\"',\n",
              " ...]"
            ]
          },
          "metadata": {},
          "execution_count": 47
        }
      ]
    },
    {
      "cell_type": "code",
      "source": [
        "np.random.seed(6666)\n",
        "sample_num = 10\n",
        "# Start your code here\n",
        "# Use np.random.choice to sample 10 sentence indices. Remember to set correct replace\n",
        "# Print format:\n",
        "# 1.\n",
        "# French: ...\n",
        "# True English: ...\n",
        "# Translated English: ...\n",
        "# ------------------\n",
        "sampled_indices = np.random.choice(len(test_en_sentences), size=sample_num, replace=False)\n",
        "# Print the format for each sampled sentence\n",
        "for i, idx in enumerate(sampled_indices):\n",
        "    print(f\"{i + 1}.\")\n",
        "    print(\"True English:\", test_en_sentences[idx])\n",
        "    print(\"French:\", test_fr_sentences[idx])\n",
        "    # print(\"Translated French:\", translated_en_sentences[idx])\n",
        "    print(\"------------------\")\n",
        "# End"
      ],
      "metadata": {
        "id": "-Zs-IJrAdWel",
        "outputId": "34af59a7-c1b8-4e2c-c58b-d3be181c34e8",
        "colab": {
          "base_uri": "https://localhost:8080/"
        }
      },
      "id": "-Zs-IJrAdWel",
      "execution_count": 48,
      "outputs": [
        {
          "output_type": "stream",
          "name": "stdout",
          "text": [
            "1.\n",
            "True English: the good teams stream it in a way that the players can use.\n",
            "French: les bonnes équipes envoient ces informations de façon à ce que les joueurs puissent s'en servir.\n",
            "------------------\n",
            "2.\n",
            "True English: thank you.\n",
            "French: merci.\n",
            "------------------\n",
            "3.\n",
            "True English: there have been several close calls.\n",
            "French: il y a eu plusieurs cas où c'était vraiment juste.\n",
            "------------------\n",
            "4.\n",
            "True English: my prayers are with you for your fight.\n",
            "French: mes prières vous accompagnent dans votre combat.\n",
            "------------------\n",
            "5.\n",
            "True English: and the question was: how could technology, new technology,  be added to that?\n",
            "French: et la question était : comment la technologie pourrait, les nouvelles technologies, y être ajoutée ?\n",
            "------------------\n",
            "6.\n",
            "True English: i mean, how many of you saw the winning of jeopardy  by ibm's watson?\n",
            "French: combien d'entre vous ont vu l'ordinateur watson d'ibm gagner à jeopardy ?\n",
            "------------------\n",
            "7.\n",
            "True English: i worked in a coal mine --  dangerous.\n",
            "French: j'ai travaillé dans une mine de charbon -- dangereux.\n",
            "------------------\n",
            "8.\n",
            "True English: somebody else would love about this woman.\n",
            "French: n'importe qui d'autre l'aimerait aussi.\n",
            "------------------\n",
            "9.\n",
            "True English: it's tragic that north koreans have to hide their identities  and struggle so hard just to survive.\n",
            "French: c'est tragique que les nord-coréens aient à cacher leurs identités et affronter tant de choses seulement pour survivre.\n",
            "------------------\n",
            "10.\n",
            "True English: some of the ice in the icebergs that i photograph is very young --  a couple thousand years old.\n",
            "French: la glace que je photographie dans les icebergs est parfois très jeune -- deux milles ans.\n",
            "------------------\n"
          ]
        }
      ]
    },
    {
      "cell_type": "code",
      "execution_count": 46,
      "id": "d07c2cf5",
      "metadata": {
        "id": "d07c2cf5",
        "colab": {
          "base_uri": "https://localhost:8080/",
          "height": 193
        },
        "outputId": "e5a76782-d5af-4a41-b80d-c3d610ae65a0"
      },
      "outputs": [
        {
          "output_type": "error",
          "ename": "NameError",
          "evalue": "name 'results' is not defined",
          "traceback": [
            "\u001b[0;31m---------------------------------------------------------------------------\u001b[0m",
            "\u001b[0;31mNameError\u001b[0m                                 Traceback (most recent call last)",
            "\u001b[0;32m<ipython-input-46-7a87342eff31>\u001b[0m in \u001b[0;36m<cell line: 10>\u001b[0;34m()\u001b[0m\n\u001b[1;32m      8\u001b[0m \u001b[0;34m\u001b[0m\u001b[0m\n\u001b[1;32m      9\u001b[0m \u001b[0;31m# End\u001b[0m\u001b[0;34m\u001b[0m\u001b[0;34m\u001b[0m\u001b[0m\n\u001b[0;32m---> 10\u001b[0;31m \u001b[0mscore\u001b[0m \u001b[0;34m=\u001b[0m \u001b[0mresults\u001b[0m\u001b[0;34m[\u001b[0m\u001b[0;34m'score'\u001b[0m\u001b[0;34m]\u001b[0m\u001b[0;34m\u001b[0m\u001b[0;34m\u001b[0m\u001b[0m\n\u001b[0m\u001b[1;32m     11\u001b[0m \u001b[0mprint\u001b[0m\u001b[0;34m(\u001b[0m\u001b[0mround\u001b[0m\u001b[0;34m(\u001b[0m\u001b[0mscore\u001b[0m\u001b[0;34m,\u001b[0m \u001b[0;36m2\u001b[0m\u001b[0;34m)\u001b[0m\u001b[0;34m)\u001b[0m\u001b[0;34m\u001b[0m\u001b[0;34m\u001b[0m\u001b[0m\n",
            "\u001b[0;31mNameError\u001b[0m: name 'results' is not defined"
          ]
        }
      ],
      "source": [
        "import evaluate\n",
        "\n",
        "\n",
        "sacrebleu = evaluate.load('sacrebleu', cache_dir=dataset_path)\n",
        "# Start your code here\n",
        "# see https://huggingface.co/spaces/evaluate-metric/sacrebleu\n",
        "# Note: please understand the format and meaning of references.\n",
        "\n",
        "# End\n",
        "score = results['score']\n",
        "print(round(score, 2))"
      ]
    },
    {
      "cell_type": "markdown",
      "id": "1118a02c",
      "metadata": {
        "id": "1118a02c"
      },
      "source": [
        "If you implement everything correctly, the BLEU score will be around 7."
      ]
    },
    {
      "cell_type": "markdown",
      "id": "18e5471d",
      "metadata": {
        "id": "18e5471d"
      },
      "source": [
        "## Conclusion (5 Points)\n",
        "\n",
        "Including but not limited to: translation example analysis (case study), bleu score analysis, model structure / parameter analysis, etc."
      ]
    },
    {
      "cell_type": "markdown",
      "id": "d9537daf",
      "metadata": {
        "id": "d9537daf"
      },
      "source": [
        "Answer:"
      ]
    },
    {
      "cell_type": "code",
      "source": [],
      "metadata": {
        "id": "E7zPJPNtGq1e"
      },
      "id": "E7zPJPNtGq1e",
      "execution_count": null,
      "outputs": []
    }
  ],
  "metadata": {
    "kernelspec": {
      "display_name": "Python 3",
      "name": "python3"
    },
    "language_info": {
      "codemirror_mode": {
        "name": "ipython",
        "version": 3
      },
      "file_extension": ".py",
      "mimetype": "text/x-python",
      "name": "python",
      "nbconvert_exporter": "python",
      "pygments_lexer": "ipython3",
      "version": "3.10.13"
    },
    "colab": {
      "provenance": [],
      "gpuType": "T4"
    },
    "accelerator": "GPU"
  },
  "nbformat": 4,
  "nbformat_minor": 5
}