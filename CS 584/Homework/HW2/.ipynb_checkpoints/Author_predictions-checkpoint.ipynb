{
 "cells": [
  {
   "cell_type": "code",
   "execution_count": 372,
   "id": "ed636c8f",
   "metadata": {},
   "outputs": [],
   "source": [
    "import pandas as pd\n",
    "import numpy as np\n",
    "import matplotlib.pyplot as plt"
   ]
  },
  {
   "cell_type": "code",
   "execution_count": 373,
   "id": "cbc57d57-a16f-4ebc-9822-33da80d5cc95",
   "metadata": {},
   "outputs": [],
   "source": [
    "sentences = [];labels=[]\n",
    "file = open('./Archive/Archive/a2-data/books.txt', \"r\", encoding='utf-8')  \n",
    "fileData = file.readlines()\n",
    "file.close()\n",
    "for data in fileData:\n",
    "    splitData = data.split(\"\t\")\n",
    "    sentences.append(splitData[1].split(\"\\n\")[0])\n",
    "    labels.append(splitData[0])"
   ]
  },
  {
   "cell_type": "code",
   "execution_count": 374,
   "id": "29fc8586-f676-4f57-8bec-c59b0da55241",
   "metadata": {},
   "outputs": [],
   "source": [
    "df = pd.DataFrame()\n",
    "df[\"sentences\"] = sentences\n",
    "df[\"labels\"] = labels"
   ]
  },
  {
   "cell_type": "code",
   "execution_count": 375,
   "id": "23b6b4ac-82f8-4bd9-bf61-c8b19e33ee16",
   "metadata": {},
   "outputs": [
    {
     "data": {
      "text/html": [
       "<div>\n",
       "<style scoped>\n",
       "    .dataframe tbody tr th:only-of-type {\n",
       "        vertical-align: middle;\n",
       "    }\n",
       "\n",
       "    .dataframe tbody tr th {\n",
       "        vertical-align: top;\n",
       "    }\n",
       "\n",
       "    .dataframe thead th {\n",
       "        text-align: right;\n",
       "    }\n",
       "</style>\n",
       "<table border=\"1\" class=\"dataframe\">\n",
       "  <thead>\n",
       "    <tr style=\"text-align: right;\">\n",
       "      <th></th>\n",
       "      <th>sentences</th>\n",
       "      <th>labels</th>\n",
       "    </tr>\n",
       "  </thead>\n",
       "  <tbody>\n",
       "    <tr>\n",
       "      <th>19531</th>\n",
       "      <td>“Certainly we shall all rise again, certainly ...</td>\n",
       "      <td>Fyodor Dostoyevsky</td>\n",
       "    </tr>\n",
       "    <tr>\n",
       "      <th>19532</th>\n",
       "      <td>“Ah, how splendid it will be!” broke from Kolya.</td>\n",
       "      <td>Fyodor Dostoyevsky</td>\n",
       "    </tr>\n",
       "    <tr>\n",
       "      <th>19533</th>\n",
       "      <td>“Well, now we will finish talking and go to hi...</td>\n",
       "      <td>Fyodor Dostoyevsky</td>\n",
       "    </tr>\n",
       "    <tr>\n",
       "      <th>19534</th>\n",
       "      <td>“And always so, all our lives hand in hand! Hu...</td>\n",
       "      <td>Fyodor Dostoyevsky</td>\n",
       "    </tr>\n",
       "    <tr>\n",
       "      <th>19535</th>\n",
       "      <td>THE END</td>\n",
       "      <td>Fyodor Dostoyevsky</td>\n",
       "    </tr>\n",
       "  </tbody>\n",
       "</table>\n",
       "</div>"
      ],
      "text/plain": [
       "                                               sentences              labels\n",
       "19531  “Certainly we shall all rise again, certainly ...  Fyodor Dostoyevsky\n",
       "19532   “Ah, how splendid it will be!” broke from Kolya.  Fyodor Dostoyevsky\n",
       "19533  “Well, now we will finish talking and go to hi...  Fyodor Dostoyevsky\n",
       "19534  “And always so, all our lives hand in hand! Hu...  Fyodor Dostoyevsky\n",
       "19535                                            THE END  Fyodor Dostoyevsky"
      ]
     },
     "execution_count": 375,
     "metadata": {},
     "output_type": "execute_result"
    }
   ],
   "source": [
    "df.tail()"
   ]
  },
  {
   "cell_type": "code",
   "execution_count": 376,
   "id": "48dfdb09-ffb7-44d8-8e55-641eab2c8874",
   "metadata": {},
   "outputs": [],
   "source": [
    "authorList = list(df[\"labels\"].unique())\n",
    "id = 0;labelId = []\n",
    "for data in list(df[\"labels\"]):\n",
    "    for i in range(0,len(authorList)):\n",
    "        if data == authorList[i]:\n",
    "            labelId.append(i)\n",
    "df[\"labelId\"] = labelId"
   ]
  },
  {
   "cell_type": "markdown",
   "id": "b447a9dc-afe3-4625-8b26-2b83bf4825e6",
   "metadata": {},
   "source": [
    "# Data Processing"
   ]
  },
  {
   "cell_type": "markdown",
   "id": "edb8ca76-c3bd-4e44-9bc7-26bbf98da308",
   "metadata": {},
   "source": [
    "### Pre-Processing"
   ]
  },
  {
   "cell_type": "code",
   "execution_count": 377,
   "id": "62e522d0-9031-49bb-a0c1-76d0fb9ffb3a",
   "metadata": {},
   "outputs": [],
   "source": [
    "import re\n",
    "\n",
    "\n",
    "class Preprocessor:\n",
    "    def __init__(self, punctuation=True, url=True, number=True):\n",
    "        self.punctuation = punctuation\n",
    "        self.url = url\n",
    "        self.number = number\n",
    "\n",
    "    def apply(self, sentence: str) -> str:\n",
    "        \"\"\" Apply the preprocessing rules to the sentence\n",
    "        Args:\n",
    "            sentence: raw sentence\n",
    "        Returns:\n",
    "            sentence: clean sentence\n",
    "        \"\"\"\n",
    "        sentence = sentence.lower()\n",
    "        if self.url:\n",
    "            sentence = Preprocessor.remove_url(sentence)\n",
    "        if self.punctuation:\n",
    "            sentence = Preprocessor.remove_punctuation(sentence)\n",
    "        if self.number:\n",
    "            sentence = Preprocessor.remove_number(sentence)\n",
    "        sentence = re.sub(r'\\s+', ' ', sentence)\n",
    "        return sentence\n",
    "\n",
    "    @staticmethod\n",
    "    def remove_punctuation(sentence: str) -> str:\n",
    "        \"\"\" Remove punctuations in sentence with re\n",
    "        Args:\n",
    "            sentence: sentence with possible punctuations\n",
    "        Returns:\n",
    "            sentence: sentence without punctuations\n",
    "        \"\"\"\n",
    "        # Start your code here\n",
    "        sentence = re.sub(r'[^\\w\\s]', '', sentence)\n",
    "        # End\n",
    "        return sentence\n",
    "\n",
    "    @staticmethod\n",
    "    def remove_url(sentence: str) -> str:\n",
    "        \"\"\" Remove urls in text with re\n",
    "        Args:\n",
    "            sentence: sentence with possible urls\n",
    "        Returns:\n",
    "            sentence: sentence without urls\n",
    "        \"\"\"\n",
    "        # Start your code here\n",
    "        url_pattern = re.compile(r'https?://\\S+|www\\.\\S+')\n",
    "        sentence = url_pattern.sub(\"\", sentence)\n",
    "        # End\n",
    "        return sentence\n",
    "\n",
    "    @staticmethod\n",
    "    def remove_number(sentence: str) -> str:\n",
    "        \"\"\" Remove numbers in sentence with re\n",
    "        Args:\n",
    "            sentence: sentence with possible numbers\n",
    "        Returns:\n",
    "            sentence: sentence without numbers\n",
    "        \"\"\"\n",
    "        # Start your code here\n",
    "        sentence = re.sub(r'\\d', '', sentence)\n",
    "        # End\n",
    "        return sentence"
   ]
  },
  {
   "cell_type": "code",
   "execution_count": 378,
   "id": "3afb410d-f607-415c-9b16-181e5bc270a2",
   "metadata": {},
   "outputs": [],
   "source": [
    "processor = Preprocessor()\n",
    "preprocessed_sentence_list = []\n",
    "for sentence in list(df[\"sentences\"]):\n",
    "    preprocessed_sentence_list.append(processor.apply(sentence))\n",
    "df[\"preprocessed\"] = preprocessed_sentence_list"
   ]
  },
  {
   "cell_type": "code",
   "execution_count": 379,
   "id": "6f1bcd13-b208-4111-ad59-d798ed2d9e6a",
   "metadata": {},
   "outputs": [
    {
     "data": {
      "text/html": [
       "<div>\n",
       "<style scoped>\n",
       "    .dataframe tbody tr th:only-of-type {\n",
       "        vertical-align: middle;\n",
       "    }\n",
       "\n",
       "    .dataframe tbody tr th {\n",
       "        vertical-align: top;\n",
       "    }\n",
       "\n",
       "    .dataframe thead th {\n",
       "        text-align: right;\n",
       "    }\n",
       "</style>\n",
       "<table border=\"1\" class=\"dataframe\">\n",
       "  <thead>\n",
       "    <tr style=\"text-align: right;\">\n",
       "      <th></th>\n",
       "      <th>sentences</th>\n",
       "      <th>labels</th>\n",
       "      <th>labelId</th>\n",
       "      <th>preprocessed</th>\n",
       "    </tr>\n",
       "  </thead>\n",
       "  <tbody>\n",
       "    <tr>\n",
       "      <th>0</th>\n",
       "      <td>﻿PERSUASION</td>\n",
       "      <td>Jane Austen</td>\n",
       "      <td>0</td>\n",
       "      <td>persuasion</td>\n",
       "    </tr>\n",
       "    <tr>\n",
       "      <th>1</th>\n",
       "      <td>by Jane Austen</td>\n",
       "      <td>Jane Austen</td>\n",
       "      <td>0</td>\n",
       "      <td>by jane austen</td>\n",
       "    </tr>\n",
       "    <tr>\n",
       "      <th>2</th>\n",
       "      <td>(1818)</td>\n",
       "      <td>Jane Austen</td>\n",
       "      <td>0</td>\n",
       "      <td></td>\n",
       "    </tr>\n",
       "    <tr>\n",
       "      <th>3</th>\n",
       "      <td>Chapter 1</td>\n",
       "      <td>Jane Austen</td>\n",
       "      <td>0</td>\n",
       "      <td>chapter</td>\n",
       "    </tr>\n",
       "    <tr>\n",
       "      <th>4</th>\n",
       "      <td>Sir Walter Elliot, of Kellynch Hall, in Somers...</td>\n",
       "      <td>Jane Austen</td>\n",
       "      <td>0</td>\n",
       "      <td>sir walter elliot of kellynch hall in somerset...</td>\n",
       "    </tr>\n",
       "    <tr>\n",
       "      <th>5</th>\n",
       "      <td>\"ELLIOT OF KELLYNCH HALL.</td>\n",
       "      <td>Jane Austen</td>\n",
       "      <td>0</td>\n",
       "      <td>elliot of kellynch hall</td>\n",
       "    </tr>\n",
       "    <tr>\n",
       "      <th>6</th>\n",
       "      <td>\"Walter Elliot, born March 1, 1760, married, J...</td>\n",
       "      <td>Jane Austen</td>\n",
       "      <td>0</td>\n",
       "      <td>walter elliot born march married july elizabet...</td>\n",
       "    </tr>\n",
       "    <tr>\n",
       "      <th>7</th>\n",
       "      <td>Precisely such had the paragraph originally st...</td>\n",
       "      <td>Jane Austen</td>\n",
       "      <td>0</td>\n",
       "      <td>precisely such had the paragraph originally st...</td>\n",
       "    </tr>\n",
       "    <tr>\n",
       "      <th>8</th>\n",
       "      <td>Then followed the history and rise of the anci...</td>\n",
       "      <td>Jane Austen</td>\n",
       "      <td>0</td>\n",
       "      <td>then followed the history and rise of the anci...</td>\n",
       "    </tr>\n",
       "    <tr>\n",
       "      <th>9</th>\n",
       "      <td>\"Heir presumptive, William Walter Elliot, Esq....</td>\n",
       "      <td>Jane Austen</td>\n",
       "      <td>0</td>\n",
       "      <td>heir presumptive william walter elliot esq gre...</td>\n",
       "    </tr>\n",
       "  </tbody>\n",
       "</table>\n",
       "</div>"
      ],
      "text/plain": [
       "                                           sentences       labels  labelId  \\\n",
       "0                                        ﻿PERSUASION  Jane Austen        0   \n",
       "1                                     by Jane Austen  Jane Austen        0   \n",
       "2                                             (1818)  Jane Austen        0   \n",
       "3                                          Chapter 1  Jane Austen        0   \n",
       "4  Sir Walter Elliot, of Kellynch Hall, in Somers...  Jane Austen        0   \n",
       "5                          \"ELLIOT OF KELLYNCH HALL.  Jane Austen        0   \n",
       "6  \"Walter Elliot, born March 1, 1760, married, J...  Jane Austen        0   \n",
       "7  Precisely such had the paragraph originally st...  Jane Austen        0   \n",
       "8  Then followed the history and rise of the anci...  Jane Austen        0   \n",
       "9  \"Heir presumptive, William Walter Elliot, Esq....  Jane Austen        0   \n",
       "\n",
       "                                        preprocessed  \n",
       "0                                         persuasion  \n",
       "1                                     by jane austen  \n",
       "2                                                     \n",
       "3                                           chapter   \n",
       "4  sir walter elliot of kellynch hall in somerset...  \n",
       "5                            elliot of kellynch hall  \n",
       "6  walter elliot born march married july elizabet...  \n",
       "7  precisely such had the paragraph originally st...  \n",
       "8  then followed the history and rise of the anci...  \n",
       "9  heir presumptive william walter elliot esq gre...  "
      ]
     },
     "execution_count": 379,
     "metadata": {},
     "output_type": "execute_result"
    }
   ],
   "source": [
    "df.head(10)"
   ]
  },
  {
   "cell_type": "markdown",
   "id": "ae70f72d-c186-414a-8320-a21c8c2efce2",
   "metadata": {},
   "source": [
    "## Tokenization"
   ]
  },
  {
   "cell_type": "code",
   "execution_count": 380,
   "id": "dec8482a-39ef-43cc-bdd5-dc3b3f702ed0",
   "metadata": {},
   "outputs": [
    {
     "name": "stdout",
     "output_type": "stream",
     "text": [
      "['other', 'hasn', 'very', \"you'll\", 'such', \"it's\", 'most', 'some', 'where', 'have']\n"
     ]
    }
   ],
   "source": [
    "from nltk.tokenize import word_tokenize\n",
    "from nltk import PorterStemmer\n",
    "from nltk.corpus import stopwords\n",
    "\n",
    "stopwords_set = set(stopwords.words('english'))\n",
    "stemmer = PorterStemmer()\n",
    "print(list(stopwords_set)[:10])"
   ]
  },
  {
   "cell_type": "code",
   "execution_count": 381,
   "id": "c5119444-2c9c-4554-afab-2d76677a2716",
   "metadata": {},
   "outputs": [],
   "source": [
    "tokensList = []\n",
    "for sentence in list(df[\"preprocessed\"]):\n",
    "    split_words = sentence.split()\n",
    "    stemmedWords = [stemmer.stem(words) for words in split_words]\n",
    "    tokens = [words for words in stemmedWords if words not in stopwords_set]\n",
    "    tokensList.append(tokens)"
   ]
  },
  {
   "cell_type": "code",
   "execution_count": 382,
   "id": "392dc4cd-006a-4498-ae17-07763cc40791",
   "metadata": {},
   "outputs": [
    {
     "data": {
      "text/html": [
       "<div>\n",
       "<style scoped>\n",
       "    .dataframe tbody tr th:only-of-type {\n",
       "        vertical-align: middle;\n",
       "    }\n",
       "\n",
       "    .dataframe tbody tr th {\n",
       "        vertical-align: top;\n",
       "    }\n",
       "\n",
       "    .dataframe thead th {\n",
       "        text-align: right;\n",
       "    }\n",
       "</style>\n",
       "<table border=\"1\" class=\"dataframe\">\n",
       "  <thead>\n",
       "    <tr style=\"text-align: right;\">\n",
       "      <th></th>\n",
       "      <th>sentences</th>\n",
       "      <th>labels</th>\n",
       "      <th>labelId</th>\n",
       "      <th>preprocessed</th>\n",
       "      <th>tokens</th>\n",
       "    </tr>\n",
       "  </thead>\n",
       "  <tbody>\n",
       "    <tr>\n",
       "      <th>0</th>\n",
       "      <td>﻿PERSUASION</td>\n",
       "      <td>Jane Austen</td>\n",
       "      <td>0</td>\n",
       "      <td>persuasion</td>\n",
       "      <td>[persuas]</td>\n",
       "    </tr>\n",
       "    <tr>\n",
       "      <th>1</th>\n",
       "      <td>by Jane Austen</td>\n",
       "      <td>Jane Austen</td>\n",
       "      <td>0</td>\n",
       "      <td>by jane austen</td>\n",
       "      <td>[jane, austen]</td>\n",
       "    </tr>\n",
       "    <tr>\n",
       "      <th>2</th>\n",
       "      <td>(1818)</td>\n",
       "      <td>Jane Austen</td>\n",
       "      <td>0</td>\n",
       "      <td></td>\n",
       "      <td>[]</td>\n",
       "    </tr>\n",
       "    <tr>\n",
       "      <th>3</th>\n",
       "      <td>Chapter 1</td>\n",
       "      <td>Jane Austen</td>\n",
       "      <td>0</td>\n",
       "      <td>chapter</td>\n",
       "      <td>[chapter]</td>\n",
       "    </tr>\n",
       "    <tr>\n",
       "      <th>4</th>\n",
       "      <td>Sir Walter Elliot, of Kellynch Hall, in Somers...</td>\n",
       "      <td>Jane Austen</td>\n",
       "      <td>0</td>\n",
       "      <td>sir walter elliot of kellynch hall in somerset...</td>\n",
       "      <td>[sir, walter, elliot, kellynch, hall, somerset...</td>\n",
       "    </tr>\n",
       "    <tr>\n",
       "      <th>5</th>\n",
       "      <td>\"ELLIOT OF KELLYNCH HALL.</td>\n",
       "      <td>Jane Austen</td>\n",
       "      <td>0</td>\n",
       "      <td>elliot of kellynch hall</td>\n",
       "      <td>[elliot, kellynch, hall]</td>\n",
       "    </tr>\n",
       "    <tr>\n",
       "      <th>6</th>\n",
       "      <td>\"Walter Elliot, born March 1, 1760, married, J...</td>\n",
       "      <td>Jane Austen</td>\n",
       "      <td>0</td>\n",
       "      <td>walter elliot born march married july elizabet...</td>\n",
       "      <td>[walter, elliot, born, march, marri, juli, eli...</td>\n",
       "    </tr>\n",
       "    <tr>\n",
       "      <th>7</th>\n",
       "      <td>Precisely such had the paragraph originally st...</td>\n",
       "      <td>Jane Austen</td>\n",
       "      <td>0</td>\n",
       "      <td>precisely such had the paragraph originally st...</td>\n",
       "      <td>[precis, paragraph, origin, stood, printer, ha...</td>\n",
       "    </tr>\n",
       "    <tr>\n",
       "      <th>8</th>\n",
       "      <td>Then followed the history and rise of the anci...</td>\n",
       "      <td>Jane Austen</td>\n",
       "      <td>0</td>\n",
       "      <td>then followed the history and rise of the anci...</td>\n",
       "      <td>[follow, histori, rise, ancient, respect, fami...</td>\n",
       "    </tr>\n",
       "    <tr>\n",
       "      <th>9</th>\n",
       "      <td>\"Heir presumptive, William Walter Elliot, Esq....</td>\n",
       "      <td>Jane Austen</td>\n",
       "      <td>0</td>\n",
       "      <td>heir presumptive william walter elliot esq gre...</td>\n",
       "      <td>[heir, presumpt, william, walter, elliot, esq,...</td>\n",
       "    </tr>\n",
       "  </tbody>\n",
       "</table>\n",
       "</div>"
      ],
      "text/plain": [
       "                                           sentences       labels  labelId  \\\n",
       "0                                        ﻿PERSUASION  Jane Austen        0   \n",
       "1                                     by Jane Austen  Jane Austen        0   \n",
       "2                                             (1818)  Jane Austen        0   \n",
       "3                                          Chapter 1  Jane Austen        0   \n",
       "4  Sir Walter Elliot, of Kellynch Hall, in Somers...  Jane Austen        0   \n",
       "5                          \"ELLIOT OF KELLYNCH HALL.  Jane Austen        0   \n",
       "6  \"Walter Elliot, born March 1, 1760, married, J...  Jane Austen        0   \n",
       "7  Precisely such had the paragraph originally st...  Jane Austen        0   \n",
       "8  Then followed the history and rise of the anci...  Jane Austen        0   \n",
       "9  \"Heir presumptive, William Walter Elliot, Esq....  Jane Austen        0   \n",
       "\n",
       "                                        preprocessed  \\\n",
       "0                                         persuasion   \n",
       "1                                     by jane austen   \n",
       "2                                                      \n",
       "3                                           chapter    \n",
       "4  sir walter elliot of kellynch hall in somerset...   \n",
       "5                            elliot of kellynch hall   \n",
       "6  walter elliot born march married july elizabet...   \n",
       "7  precisely such had the paragraph originally st...   \n",
       "8  then followed the history and rise of the anci...   \n",
       "9  heir presumptive william walter elliot esq gre...   \n",
       "\n",
       "                                              tokens  \n",
       "0                                          [persuas]  \n",
       "1                                     [jane, austen]  \n",
       "2                                                 []  \n",
       "3                                          [chapter]  \n",
       "4  [sir, walter, elliot, kellynch, hall, somerset...  \n",
       "5                           [elliot, kellynch, hall]  \n",
       "6  [walter, elliot, born, march, marri, juli, eli...  \n",
       "7  [precis, paragraph, origin, stood, printer, ha...  \n",
       "8  [follow, histori, rise, ancient, respect, fami...  \n",
       "9  [heir, presumpt, william, walter, elliot, esq,...  "
      ]
     },
     "execution_count": 382,
     "metadata": {},
     "output_type": "execute_result"
    }
   ],
   "source": [
    "df[\"tokens\"] = tokensList\n",
    "df.head(10)"
   ]
  },
  {
   "cell_type": "markdown",
   "id": "08ce26dc-f4da-43ad-96d4-726b5e335bfd",
   "metadata": {},
   "source": [
    "## Train test Split"
   ]
  },
  {
   "cell_type": "code",
   "execution_count": 383,
   "id": "fa2ed4ec-0679-4055-9f66-40c48efaf7d9",
   "metadata": {},
   "outputs": [],
   "source": [
    "from sklearn.model_selection import train_test_split"
   ]
  },
  {
   "cell_type": "code",
   "execution_count": 384,
   "id": "7c999b4b-f22c-4115-a95a-66b8082b02cf",
   "metadata": {},
   "outputs": [],
   "source": [
    "df[\"tokens\"] = df[\"tokens\"].apply(lambda tokens: \" \".join(tokens)) #Convert list to string for tfidf"
   ]
  },
  {
   "cell_type": "code",
   "execution_count": 385,
   "id": "d9a1b009-5380-48fa-af08-83cc858cc6cf",
   "metadata": {},
   "outputs": [],
   "source": [
    "x_train,x_test,y_train,y_test = train_test_split(df[\"tokens\"],df[\"labelId\"],random_state=104,test_size=0.3, shuffle=True)"
   ]
  },
  {
   "cell_type": "markdown",
   "id": "aaca8c0c-9c11-4ebc-857e-8a0b5e1a365e",
   "metadata": {},
   "source": [
    "## TF-IDF"
   ]
  },
  {
   "cell_type": "code",
   "execution_count": 386,
   "id": "cf8e5530-9eb8-4069-b292-a0572dacaeaf",
   "metadata": {},
   "outputs": [],
   "source": [
    "from sklearn.feature_extraction.text import TfidfVectorizer\n",
    "tfidf = TfidfVectorizer()"
   ]
  },
  {
   "cell_type": "code",
   "execution_count": 387,
   "id": "50b7177c-1bd0-4089-af82-492a81492be5",
   "metadata": {},
   "outputs": [],
   "source": [
    "x_train_tfidf = tfidf.fit_transform(x_train)\n",
    "x_test_tfidf = tfidf.transform(x_test)"
   ]
  },
  {
   "cell_type": "code",
   "execution_count": 388,
   "id": "a7c7ba5c-d691-4b7f-80d1-e6330063670a",
   "metadata": {},
   "outputs": [
    {
     "data": {
      "text/plain": [
       "(13675, 16584)"
      ]
     },
     "execution_count": 388,
     "metadata": {},
     "output_type": "execute_result"
    }
   ],
   "source": [
    "x_train_tfidf.shape"
   ]
  },
  {
   "cell_type": "code",
   "execution_count": 389,
   "id": "ce46f71e-d4fb-4b15-b429-ca67d7b9f75e",
   "metadata": {},
   "outputs": [],
   "source": [
    "distinct_tokens = tfidf.get_feature_names_out()\n",
    "feature_dim = len(distinct_tokens)"
   ]
  },
  {
   "cell_type": "code",
   "execution_count": 390,
   "id": "262c9ecc-66fb-40ed-96a5-aa49c68c0ff3",
   "metadata": {},
   "outputs": [],
   "source": [
    "y_train_tfidf = np.zeros((len(y_train), 3))\n",
    "y_test_tfidf = np.zeros((len(y_test), 3))"
   ]
  },
  {
   "cell_type": "code",
   "execution_count": 391,
   "id": "3f775a62-2ac1-4264-809f-d32a1ca36af7",
   "metadata": {},
   "outputs": [],
   "source": [
    "y_train_tfidf[np.arange(len(y_train)), y_train] = 1\n",
    "y_test_tfidf[np.arange(len(y_test)), y_test] = 1"
   ]
  },
  {
   "cell_type": "code",
   "execution_count": 392,
   "id": "f390af27-070e-44ce-9fb0-86bfa65e99bc",
   "metadata": {},
   "outputs": [
    {
     "data": {
      "text/plain": [
       "(13675, 3)"
      ]
     },
     "execution_count": 392,
     "metadata": {},
     "output_type": "execute_result"
    }
   ],
   "source": [
    "y_train_tfidf.shape"
   ]
  },
  {
   "cell_type": "code",
   "execution_count": null,
   "id": "564fc8ab-7d2d-40b8-af21-d350e46d4181",
   "metadata": {},
   "outputs": [],
   "source": []
  },
  {
   "cell_type": "markdown",
   "id": "34230ba6-76ce-40d3-9981-263e7c9fab6c",
   "metadata": {},
   "source": [
    "## Neural Network"
   ]
  },
  {
   "cell_type": "code",
   "execution_count": 402,
   "id": "f553be39-7c72-4e52-9d4d-516750ce5937",
   "metadata": {},
   "outputs": [],
   "source": [
    "def sigmoid(z):\n",
    "    return 1/(1+np.exp(-z))\n",
    "def softmax(x: np.ndarray, axis: int = -1) -> np.ndarray:\n",
    "    \"\"\" The softmax activation function\n",
    "    Args:\n",
    "        x: Input matrix or vector\n",
    "        axis: The dimension of x that needs to run softmax, default -1, i.e., the last dimension\n",
    "    Returns:\n",
    "        output: Softmax value of the specified dimension in x\n",
    "    \"\"\"\n",
    "    # Start your code here\n",
    "    exp_scores = np.exp(x - np.max(x, axis=1, keepdims=True))\n",
    "    x = exp_scores / np.sum(exp_scores, axis=1, keepdims=True)\n",
    "    # End\n",
    "    return x"
   ]
  },
  {
   "cell_type": "code",
   "execution_count": 413,
   "id": "f5331d09-e2e5-4338-b54a-63a40410b885",
   "metadata": {},
   "outputs": [],
   "source": [
    "class Adagrad:\n",
    "    def __init__(self,init_lr,mlp_model):\n",
    "        self.r_w1 = 0\n",
    "        self.r_w2 = 0\n",
    "        self.r_b1 = 0\n",
    "        self.r_b2 = 0\n",
    "        self.init_lr = init_lr\n",
    "        self.mlp_model = mlp_model\n",
    "        self.eps = 1e-8\n",
    "\n",
    "    def update_sum_sqd_gradient(self,dw1,dw2,db1,db2):\n",
    "        self.r_w1 = self.r_w1 + dw1**2\n",
    "        self.r_w2 = self.r_w2 + dw2**2\n",
    "        self.r_b1 = self.r_b1 + db1**2\n",
    "        self.r_b2 = self.r_b2 + db2**2\n",
    "        new_dw1 = dw1/np.sqrt(r_w1 + self.eps) \n",
    "        new_dw2 = dw2/np.sqrt(r_w2 + self.eps) \n",
    "        new_db1 = db1/np.sqrt(r_b1 + self.eps) \n",
    "        new_db2 = db2/np.sqrt(r_b2 + self.eps) \n",
    "        mlp_model.gradient_descent(new_dw1,new_dw2,new_db1,new_db2,self.init_lr)"
   ]
  },
  {
   "cell_type": "code",
   "execution_count": 403,
   "id": "cc5fd2b0-da88-4d33-b455-676c4ce6c050",
   "metadata": {},
   "outputs": [],
   "source": [
    "class MLP:\n",
    "    def __init__(self,feature_dim: int,hidden_dim: int, num_of_class: int, lambda_: float):\n",
    "        self.w1 = np.random.randn(feature_dim,hidden_dim)\n",
    "        self.b1 = np.zeros((1,hidden_dim))\n",
    "        self.w2 = np.random.randn(hidden_dim,num_of_class)\n",
    "        self.b2 = np.zeros((1,num_of_class))\n",
    "        self.lambda_ = lambda_\n",
    "        self.eps = 1e-9\n",
    "\n",
    "    def feedforward(self,x_train: np.ndarray):\n",
    "        z1 = x_train @ self.w1 +self.b1\n",
    "        h1 = sigmoid(z1)\n",
    "        z2 = h1 @ self.w2 + self.b2\n",
    "        h2 = y_hat = sigmoid(z2)\n",
    "        return z1,h1,z2,h2\n",
    "\n",
    "    def calculateLoss(self,softmax_output,y_train_tfidf):\n",
    "        J = -1/y_train_tfidf.shape[0] * np.sum(y_train_tfidf * np.log(softmax_output)) + self.lambda_ * np.sum(np.square(self.w1)) + np.sum(np.square(self.w2))\n",
    "        return J\n",
    "\n",
    "    def backpropogation(self,z1,z2,h1,y_hat,x,y):\n",
    "        w1, w2 = self.w1, self.w2\n",
    "        dz2 = y_hat - y\n",
    "        dw2 = np.transpose(h1) @ dz2\n",
    "        db2 = np.sum(dz2,axis = 0,keepdims = True)\n",
    "        dz1 = dz2 @ np.transpose(w2) * (h1 * (1-h1))\n",
    "        dw1 = np.transpose(x) @ dz1\n",
    "        db1 = np.sum(dz1,axis = 0,keepdims = True)\n",
    "        return dw1,dw2,db1,db2\n",
    "        \n",
    "    def gradient_descent(self,dw1,dw2,db1,db2,lr):\n",
    "        self.w1 = self.w1 - lr * dw1\n",
    "        self.b1 = self.b1 - lr * db1\n",
    "        self.w2 = self.w2 - lr * dw2\n",
    "        self.b2 = self.b2 - lr * db2\n",
    "\n",
    "    "
   ]
  },
  {
   "cell_type": "code",
   "execution_count": 436,
   "id": "095165d4-fc75-4aaf-be3f-29e3c9a41c42",
   "metadata": {},
   "outputs": [],
   "source": [
    "x_train = x_train_tfidf.toarray()"
   ]
  },
  {
   "cell_type": "code",
   "execution_count": 440,
   "id": "3d88a76a-783f-411e-b9d2-f89dd38149f5",
   "metadata": {},
   "outputs": [],
   "source": [
    "class Mini_Batch_GD:\n",
    "    def __init__(self,mlp_model,batch_size):\n",
    "        self.mlp_model = mlp_model\n",
    "        self.batch_size = batch_size\n",
    "    def fit(self,x,y,num_of_epochs):\n",
    "        lossList = []\n",
    "        for j in range(0,num_of_epochs):\n",
    "            indices = np.random.permutation(len(x))\n",
    "            x_train = x[indices]\n",
    "            y_train = y[indices]\n",
    "            #batch of 32\n",
    "            for i in range(0,x.shape[0]-self.batch_size,self.batch_size):\n",
    "                x_train = x[i:i+self.batch_size]\n",
    "                z1,h1,z2,h2 = self.mlp_model.feedforward(x_train)\n",
    "                softmax_output = softmax(h2)\n",
    "                J = self.mlp_model.calculateLoss(softmax_output,y_train)\n",
    "                lossList.append(J)\n",
    "                dw1,dw2,db1,db2 = self.mlp_model.backpropogation(z1,z2,h1,h2,x_train,y_train)\n",
    "                self.mlp_model.gradient_descent(dw1,dw2,db1,db2,lr)\n",
    "        return lossList\n",
    "                "
   ]
  },
  {
   "cell_type": "code",
   "execution_count": 441,
   "id": "6a882836-7e4e-4da2-9fc0-850bebf54a6a",
   "metadata": {},
   "outputs": [
    {
     "ename": "NameError",
     "evalue": "name 'mlp_model' is not defined",
     "output_type": "error",
     "traceback": [
      "\u001b[1;31m---------------------------------------------------------------------------\u001b[0m",
      "\u001b[1;31mNameError\u001b[0m                                 Traceback (most recent call last)",
      "Cell \u001b[1;32mIn[441], line 7\u001b[0m\n\u001b[0;32m      5\u001b[0m mlp \u001b[38;5;241m=\u001b[39m MLP(feature_dim,hidden_dim,num_of_class,lambda_)\n\u001b[0;32m      6\u001b[0m mini_batch \u001b[38;5;241m=\u001b[39m Mini_Batch_GD(mlp,\u001b[38;5;241m32\u001b[39m)\n\u001b[1;32m----> 7\u001b[0m \u001b[43mmini_batch\u001b[49m\u001b[38;5;241;43m.\u001b[39;49m\u001b[43mfit\u001b[49m\u001b[43m(\u001b[49m\u001b[43mx_train\u001b[49m\u001b[43m,\u001b[49m\u001b[43my_train_tfidf\u001b[49m\u001b[43m,\u001b[49m\u001b[38;5;241;43m10\u001b[39;49m\u001b[43m)\u001b[49m\n",
      "Cell \u001b[1;32mIn[440], line 14\u001b[0m, in \u001b[0;36mMini_Batch_GD.fit\u001b[1;34m(self, x, y, num_of_epochs)\u001b[0m\n\u001b[0;32m     12\u001b[0m \u001b[38;5;28;01mfor\u001b[39;00m i \u001b[38;5;129;01min\u001b[39;00m \u001b[38;5;28mrange\u001b[39m(\u001b[38;5;241m0\u001b[39m,x\u001b[38;5;241m.\u001b[39mshape[\u001b[38;5;241m0\u001b[39m]\u001b[38;5;241m-\u001b[39m\u001b[38;5;28mself\u001b[39m\u001b[38;5;241m.\u001b[39mbatch_size,\u001b[38;5;28mself\u001b[39m\u001b[38;5;241m.\u001b[39mbatch_size):\n\u001b[0;32m     13\u001b[0m     x_train \u001b[38;5;241m=\u001b[39m x[i:i\u001b[38;5;241m+\u001b[39m\u001b[38;5;28mself\u001b[39m\u001b[38;5;241m.\u001b[39mbatch_size]\n\u001b[1;32m---> 14\u001b[0m     z1,h1,z2,h2 \u001b[38;5;241m=\u001b[39m \u001b[43mmlp_model\u001b[49m\u001b[38;5;241m.\u001b[39mfeedforward(x_train)\n\u001b[0;32m     15\u001b[0m     softmax_output \u001b[38;5;241m=\u001b[39m softmax(h2)\n\u001b[0;32m     16\u001b[0m     J \u001b[38;5;241m=\u001b[39m mlp_model\u001b[38;5;241m.\u001b[39mcalculateLoss(softmax_output,y_train)\n",
      "\u001b[1;31mNameError\u001b[0m: name 'mlp_model' is not defined"
     ]
    }
   ],
   "source": [
    "num_of_class = 3\n",
    "lambda_ = 1e-8\n",
    "hidden_dim = 128\n",
    "lr = 1e-2\n",
    "mlp = MLP(feature_dim,hidden_dim,num_of_class,lambda_)\n",
    "mini_batch = Mini_Batch_GD(mlp,32)\n",
    "mini_batch.fit(x_train,y_train_tfidf,10)"
   ]
  },
  {
   "cell_type": "code",
   "execution_count": null,
   "id": "d76968b4-e84c-4fc3-81e7-5ac971bec2a7",
   "metadata": {},
   "outputs": [],
   "source": []
  }
 ],
 "metadata": {
  "kernelspec": {
   "display_name": "Python 3 (ipykernel)",
   "language": "python",
   "name": "python3"
  },
  "language_info": {
   "codemirror_mode": {
    "name": "ipython",
    "version": 3
   },
   "file_extension": ".py",
   "mimetype": "text/x-python",
   "name": "python",
   "nbconvert_exporter": "python",
   "pygments_lexer": "ipython3",
   "version": "3.10.13"
  }
 },
 "nbformat": 4,
 "nbformat_minor": 5
}
