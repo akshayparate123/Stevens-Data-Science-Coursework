{
 "cells": [
  {
   "cell_type": "markdown",
   "id": "3fba588f-da0f-4309-8524-b793d767e037",
   "metadata": {},
   "source": [
    "### a) Suggest a regression model that will assist SNAP administrators in providing a monthly benefit to eligible households."
   ]
  },
  {
   "cell_type": "markdown",
   "id": "dd0faaa2-381c-4575-b580-179ecbc55348",
   "metadata": {},
   "source": [
    "##### To suggest a regression model, we need to consider the predictors (independent variables) that could potentially influence the monthly SNAP benefits received by eligible households. Based on the provided data, potential predictors could include family size and gross monthly income.\n",
    "\n",
    "##### Therefore, a suggested regression model could be:\n",
    "##### Montly Benefit = b0 + b1(Family Size) + b2(Gross Monthly Income) + ei \n",
    "\n",
    "##### Where:\r",
    "##### b0 is the intercept term.\r\n",
    "##### b1 is the coefficient of the family size variable.\r\n",
    "##### b2 is the coefficient of the gross monthly income variable.\r\n",
    "##### ei represents the error term.epresents the error term."
   ]
  },
  {
   "cell_type": "markdown",
   "id": "a95803c0-dcec-4ece-be8e-4149a381e5a2",
   "metadata": {},
   "source": [
    "### b) Fit the model that you suggested in part a. Is this model useful in predicting monthly benefits? Justify your answer. (Make sure to include the following in your answers: hypotheses H0 and Ha , test statistic value, p-value, conclusion.)"
   ]
  },
  {
   "cell_type": "code",
   "execution_count": 1,
   "id": "c6f81a72-69ff-4b4d-a79b-9fd99c6d1eef",
   "metadata": {},
   "outputs": [
    {
     "name": "stdout",
     "output_type": "stream",
     "text": [
      "                            OLS Regression Results                            \n",
      "==============================================================================\n",
      "Dep. Variable:        Monthly Benefit   R-squared:                       0.949\n",
      "Model:                            OLS   Adj. R-squared:                  0.943\n",
      "Method:                 Least Squares   F-statistic:                     159.0\n",
      "Date:                Sun, 31 Mar 2024   Prob (F-statistic):           9.89e-12\n",
      "Time:                        20:58:33   Log-Likelihood:                -95.972\n",
      "No. Observations:                  20   AIC:                             197.9\n",
      "Df Residuals:                      17   BIC:                             200.9\n",
      "Df Model:                           2                                         \n",
      "Covariance Type:            nonrobust                                         \n",
      "========================================================================================\n",
      "                           coef    std err          t      P>|t|      [0.025      0.975]\n",
      "----------------------------------------------------------------------------------------\n",
      "Family Size              3.2049      3.643      0.880      0.391      -4.481      10.891\n",
      "Gross Monthly Income     0.1473      0.009     16.869      0.000       0.129       0.166\n",
      "Intercept               44.8730     26.596      1.687      0.110     -11.240     100.986\n",
      "==============================================================================\n",
      "Omnibus:                        1.146   Durbin-Watson:                   2.070\n",
      "Prob(Omnibus):                  0.564   Jarque-Bera (JB):                0.803\n",
      "Skew:                           0.029   Prob(JB):                        0.669\n",
      "Kurtosis:                       2.020   Cond. No.                     1.11e+04\n",
      "==============================================================================\n",
      "\n",
      "Notes:\n",
      "[1] Standard Errors assume that the covariance matrix of the errors is correctly specified.\n",
      "[2] The condition number is large, 1.11e+04. This might indicate that there are\n",
      "strong multicollinearity or other numerical problems.\n"
     ]
    }
   ],
   "source": [
    "import pandas as pd\n",
    "import statsmodels.api as sm\n",
    "\n",
    "# Create a DataFrame with the provided data\n",
    "data = {\n",
    "    'Monthly Benefit': [603.41, 560.69, 623.24, 416.12, 323.90, 418.78, 506.46, 552.53, 586.46, 637.18, 244.49, 507.19, 512.56, 312.89, 329.05, 243.49, 560.37, 599.90, 657.09, 394.82],\n",
    "    'Family Size': [5, 1, 6, 5, 1, 4, 2, 2, 7, 8, 2, 5, 5, 4, 4, 6, 8, 3, 5, 5],\n",
    "    'Gross Monthly Income': [3753, 3098, 3778, 2262, 1966, 2736, 3274, 3480, 3741, 3684, 1476, 2835, 2873, 1618, 1565, 1582, 3380, 3922, 3845, 2233]\n",
    "}\n",
    "\n",
    "df = pd.DataFrame(data)\n",
    "\n",
    "# Add constant term for the intercept\n",
    "df['Intercept'] = 1\n",
    "\n",
    "# Define independent variables (features)\n",
    "X = df[['Family Size', 'Gross Monthly Income', 'Intercept']]\n",
    "\n",
    "# Define dependent variable (target)\n",
    "y = df['Monthly Benefit']\n",
    "\n",
    "# Fit the regression model\n",
    "model = sm.OLS(y, X).fit()\n",
    "\n",
    "# Print the summary of the regression model\n",
    "print(model.summary())\n"
   ]
  },
  {
   "cell_type": "markdown",
   "id": "646d9dd1-9d6c-4e48-8089-44cd3668909d",
   "metadata": {},
   "source": [
    "##### To determine whether the regression model is useful in predicting monthly benefits, we need to assess the statistical significance of the coefficients, the overall fit of the model, and other relevant statistics provided in the regression summary.\n",
    "\n",
    "Let's analyze the key components of the regression results:\n",
    "\n",
    "1. **R-squared**: The R-squared value indicates the proportion of the variance in the dependent variable (Monthly Benefit) that is explained by the independent variables (Family Size and Gross Monthly Income). In this case, R-squared is 0.949, suggesting that approximately 94.9% of the variability in monthly benefits can be explained by the independent variables.\n",
    "\n",
    "2. **P-values**: The p-values associated with the coefficients indicate the probability of observing the estimated coefficient value if the true coefficient were zero (null hypothesis). Lower p-values suggest that the corresponding independent variable is statistically significant in explaining the variation in the dependent variable. In this model:\n",
    "   - The p-value for Family Size is 0.391, which is greater than the significance level of 0.05. Therefore, we fail to reject the null hypothesis that the coefficient of Family Size is zero.\n",
    "   - The p-value for Gross Monthly Income is 0.000, indicating that the coefficient is statistically significant at any reasonable significance level (e.g., 0.05 or lower). Hence, we reject the null hypothesis that the coefficient of Gross Monthly Income is zero.\n",
    "\n",
    "3. **F-statistic**: The F-statistic tests the overall significance of the regression model by comparing the fit of the model with that of a model with no independent variables (the intercept-only model). A significant F-statistic (with a small p-value) suggests that at least one of the independent variables is useful in predicting the dependent variable. In this case, the F-statistic is 159.0, with a very small p-value (9.89e-12), indicating that the regression model is statistically significant.\n",
    "\n",
    "4. **Adjusted R-squared**: The adjusted R-squared adjusts the R-squared value for the number of independent variables in the model. It penalizes the addition of unnecessary variables and provides a more accurate measure of the model's goodness of fit. In this case, the adjusted R-squared is 0.943, suggesting that the model provides a good fit to the data while accounting for the number of predictors.\n",
    "\n",
    "Based on the analysis of the regression results, we can conclude that the model is useful in predicting monthly benefits, primarily due to the significant effect of Gross Monthly Income on Monthly Benefits. However, the Family Size variable does not appear to have a statistically significant effect in this model. Therefore, while the model as a whole is useful, there may be room for improvement by considering other relevant predictors or refining the model further."
   ]
  },
  {
   "cell_type": "markdown",
   "id": "2499ddf5-5232-474b-8149-bc21e856824a",
   "metadata": {},
   "source": [
    "### c) Are all independent variables in the model helpful in explaining the variation in monthly benefits? Explain your answer."
   ]
  },
  {
   "cell_type": "markdown",
   "id": "407e50cf-58f3-4997-aefa-5262bd2f9c14",
   "metadata": {},
   "source": [
    "##### In the regression model provided, there are two independent variables: Family Size and Gross Monthly Income. To determine if all independent variables in the model are helpful in explaining the variation in monthly benefits, we need to examine the significance of each variable individually and collectively.\n",
    "\n",
    "Let's analyze the significance of each independent variable:\n",
    "\n",
    "1. **Family Size**:\n",
    "   - The coefficient of Family Size has a p-value of 0.391, which is greater than the conventional significance level of 0.05.\n",
    "   - This suggests that the variable Family Size is not statistically significant in explaining the variation in monthly benefits. The null hypothesis (H0) that the coefficient of Family Size is zero cannot be rejected at the 5% significance level.\n",
    "\n",
    "2. **Gross Monthly Income**:\n",
    "   - The coefficient of Gross Monthly Income has a very low p-value (0.000), indicating that it is statistically significant.\n",
    "   - Therefore, Gross Monthly Income is helpful in explaining the variation in monthly benefits. The null hypothesis (H0) that the coefficient of Gross Monthly Income is zero is rejected at any reasonable significance level.\n",
    "\n",
    "Based on the analysis, Gross Monthly Income is the only independent variable that is statistically significant in explaining the variation in monthly benefits. Family Size, on the other hand, does not contribute significantly to the model.\n",
    "\n",
    "In summary, while Gross Monthly Income is helpful in explaining the variation in monthly benefits, Family Size does not appear to be useful in this context. Therefore, not all independent variables in the model are helpful in explaining the variation in monthly benefits. Consideration of alternative predictors or refinement of the model may be necessary to improve its explanatory power."
   ]
  },
  {
   "cell_type": "markdown",
   "id": "9183df4f-2712-44a6-86b7-eac0a9451ddb",
   "metadata": {},
   "source": [
    "### d) Give a 95% confidence interval for average monthly benefits for a four-member household with a gross monthly income of $2500. Interpret this interval"
   ]
  },
  {
   "cell_type": "markdown",
   "id": "f442de48-b6b3-46e9-b707-bfb0715f48ee",
   "metadata": {},
   "source": [
    "##### To calculate a 95% confidence interval for the average monthly benefits for a four-member household with a gross monthly income of $2500, we will use the regression coefficients and their standard errors from the fitted model. Here's how you can compute the confidence interval:"
   ]
  },
  {
   "cell_type": "code",
   "execution_count": 3,
   "id": "350a6c8c-90e3-47b0-b343-f816afbb0552",
   "metadata": {},
   "outputs": [
    {
     "name": "stdout",
     "output_type": "stream",
     "text": [
      "95% Confidence Interval for Average Monthly Benefits for a Four-Member Household:\n",
      "(421.4713804433212, 430.41381955667873)\n"
     ]
    }
   ],
   "source": [
    "import numpy as np\n",
    "\n",
    "# Given values\n",
    "family_size = 4\n",
    "gross_monthly_income = 2500\n",
    "n = df.shape[0]  # Total number of observations\n",
    "\n",
    "# Coefficients from the regression model\n",
    "intercept = 44.8730\n",
    "coef_family_size = 3.2049\n",
    "coef_income = 0.1473\n",
    "mse = 77.682  # Mean squared error from the regression output\n",
    "\n",
    "# Mean of the predictor variable (Gross Monthly Income)\n",
    "mean_income = df['Gross Monthly Income'].mean()\n",
    "\n",
    "# Calculate the predicted value\n",
    "predicted_value = intercept + coef_family_size * family_size + coef_income * gross_monthly_income\n",
    "\n",
    "# Calculate the standard error of the prediction\n",
    "se_y_hat = np.sqrt(mse * (1/n + (gross_monthly_income - mean_income)**2 / np.sum((df['Gross Monthly Income'] - mean_income)**2)))\n",
    "\n",
    "# Calculate the margin of error (using t-distribution critical value for 95% confidence level)\n",
    "t_star = 2.093  # From t-table with n - 2 degrees of freedom\n",
    "margin_of_error = t_star * se_y_hat\n",
    "\n",
    "# Calculate the confidence interval\n",
    "confidence_interval = (predicted_value - margin_of_error, predicted_value + margin_of_error)\n",
    "\n",
    "print(\"95% Confidence Interval for Average Monthly Benefits for a Four-Member Household:\")\n",
    "print(confidence_interval)\n"
   ]
  },
  {
   "cell_type": "markdown",
   "id": "d866da04-ca0b-4b3a-b131-b9d7c3534eea",
   "metadata": {},
   "source": [
    "### e) Provide a 99% prediction interval for a four-member household with a gross monthly income of $2500. Interpret this interval."
   ]
  },
  {
   "cell_type": "markdown",
   "id": "1df43fdc-0175-4586-84a1-8694c4274cf6",
   "metadata": {},
   "source": [
    "##### To calculate a 99% prediction interval for a four-member household with a gross monthly income of $2500, we will use the regression coefficients and their standard errors from the fitted model. Here's how you can compute the prediction interval"
   ]
  },
  {
   "cell_type": "code",
   "execution_count": 4,
   "id": "54521921-522a-488e-a9bd-2008204d7a47",
   "metadata": {},
   "outputs": [
    {
     "name": "stdout",
     "output_type": "stream",
     "text": [
      "99% Prediction Interval for Monthly Benefits for a Four-Member Household:\n",
      "(419.8307227177936, 432.05447728220634)\n"
     ]
    }
   ],
   "source": [
    "# Calculate the prediction interval (using t-distribution critical value for 99% confidence level)\n",
    "t_star_99 = 2.861  # From t-table with n - 2 degrees of freedom\n",
    "prediction_interval = (predicted_value - t_star_99 * se_y_hat, predicted_value + t_star_99 * se_y_hat)\n",
    "\n",
    "print(\"99% Prediction Interval for Monthly Benefits for a Four-Member Household:\")\n",
    "print(prediction_interval)\n"
   ]
  },
  {
   "cell_type": "markdown",
   "id": "942ac4ff-cbb7-429c-9b9c-d6299b2cc661",
   "metadata": {},
   "source": [
    "### f) What is the difference between the intervals found in parts d and part e?"
   ]
  },
  {
   "cell_type": "markdown",
   "id": "e352d177-246e-4e36-b352-6c33087b691b",
   "metadata": {},
   "source": [
    "##### The difference between the intervals found in parts d and e lies in their interpretation and level of confidence:\n",
    "\n",
    "1. **95% Confidence Interval (part d)**:\n",
    "   - This interval provides an estimate of where the true average monthly benefits for a four-member household with a gross monthly income of $2500 is likely to lie, with 95% confidence.\n",
    "   - The interval (421.47, 430.41) indicates that we are 95% confident that the population mean of monthly benefits for such households falls within this range.\n",
    "\n",
    "2. **99% Prediction Interval (part e)**:\n",
    "   - This interval provides a range of plausible values for an individual household's monthly benefits with 99% confidence.\n",
    "   - The wider interval (419.83, 432.05) indicates that we are 99% confident that the monthly benefits for an individual four-member household with a gross monthly income of $2500 falls within this range.\n",
    "\n",
    "In summary, the 95% confidence interval (part d) focuses on estimating the population mean of monthly benefits, while the 99% prediction interval (part e) provides a broader range of possible values for individual household benefits, accounting for greater uncertainty and variability. Therefore, the prediction interval is wider than the confidence interval to accommodate the increased confidence level and individual variation."
   ]
  },
  {
   "cell_type": "code",
   "execution_count": null,
   "id": "e01627c4-7620-4ccf-8130-997bda80af93",
   "metadata": {},
   "outputs": [],
   "source": []
  }
 ],
 "metadata": {
  "kernelspec": {
   "display_name": "Python 3 (ipykernel)",
   "language": "python",
   "name": "python3"
  },
  "language_info": {
   "codemirror_mode": {
    "name": "ipython",
    "version": 3
   },
   "file_extension": ".py",
   "mimetype": "text/x-python",
   "name": "python",
   "nbconvert_exporter": "python",
   "pygments_lexer": "ipython3",
   "version": "3.10.13"
  }
 },
 "nbformat": 4,
 "nbformat_minor": 5
}
