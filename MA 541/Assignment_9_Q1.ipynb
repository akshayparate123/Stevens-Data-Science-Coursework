{
 "cells": [
  {
   "cell_type": "markdown",
   "id": "8e2310f0-54ce-46a2-a758-b3925b233b49",
   "metadata": {},
   "source": [
    "### a) Correlation Coefficient Sign Expectation\n",
    "Explanation: The correlation coefficient between the number of members and the median income is expected to be positive. This expectation is based on the assumption that areas with higher median incomes have residents with more disposable income, making them more likely to afford membership fees for sports clubs."
   ]
  },
  {
   "cell_type": "markdown",
   "id": "ce673ebe-7abf-4146-969b-e16b5bc4ff44",
   "metadata": {},
   "source": [
    "### b) Create three dummy variables, pool, courts, and classes, that are equal to 1 if the observation contains this feature and equal to 0 if the observation does not contain this feature"
   ]
  },
  {
   "cell_type": "code",
   "execution_count": 16,
   "id": "ca4cbf0f-79eb-4e08-95ce-4edb9a66ad4f",
   "metadata": {},
   "outputs": [],
   "source": [
    "import pandas as pd\n",
    "\n",
    "# Define the data as a list of lists\n",
    "data = [\n",
    "    [1258, 32223, 'No', 'No', 'No'],\n",
    "    [1479, 34975, 'No', 'No', 'No'],\n",
    "    [1480, 43187, 'No', 'Yes', 'No'],\n",
    "    [1701, 44337, 'No', 'No', 'No'],\n",
    "    [2014, 52167, 'No', 'No', 'Yes'],\n",
    "    [2271, 57521, 'No', 'No', 'Yes'],\n",
    "    [2615, 58347, 'No', 'Yes', 'No'],\n",
    "    [2632, 60960, 'Yes', 'No', 'No'],\n",
    "    [2737, 62201, 'Yes', 'No', 'Yes'],\n",
    "    [2810, 67993, 'No', 'No', 'Yes'],\n",
    "    [3563, 68770, 'No', 'No', 'Yes'],\n",
    "    [3765, 81289, 'Yes', 'Yes', 'Yes'],\n",
    "    [3792, 83902, 'No', 'No', 'Yes'],\n",
    "    [4069, 84594, 'Yes', 'No', 'Yes'],\n",
    "    [4393, 86855, 'Yes', 'Yes', 'Yes'],\n",
    "    [4787, 88381, 'Yes', 'Yes', 'Yes']\n",
    "]\n",
    "\n",
    "# Define the column names\n",
    "columns = ['Number of Members', 'Median Income ($)', 'Pool?', 'Racquetball Courts?', 'Fitness Classes?']\n",
    "\n",
    "# Create DataFrame\n",
    "df = pd.DataFrame(data, columns=columns)\n",
    "\n",
    "df['Pool'] = df['Pool?'].apply(lambda x: 1 if x == 'Yes' else 0)\n",
    "df['Courts'] = df['Racquetball Courts?'].apply(lambda x: 1 if x == 'Yes' else 0)\n",
    "df['Classes'] = df['Fitness Classes?'].apply(lambda x: 1 if x == 'Yes' else 0)\n",
    "\n",
    "# Drop the original categorical columns\n",
    "df.drop(columns=['Pool?', 'Racquetball Courts?', 'Fitness Classes?'], inplace=True)\n",
    "\n"
   ]
  },
  {
   "cell_type": "code",
   "execution_count": 17,
   "id": "e4437943-0a06-4cff-819b-a6aa675dbf64",
   "metadata": {},
   "outputs": [
    {
     "data": {
      "text/html": [
       "<div>\n",
       "<style scoped>\n",
       "    .dataframe tbody tr th:only-of-type {\n",
       "        vertical-align: middle;\n",
       "    }\n",
       "\n",
       "    .dataframe tbody tr th {\n",
       "        vertical-align: top;\n",
       "    }\n",
       "\n",
       "    .dataframe thead th {\n",
       "        text-align: right;\n",
       "    }\n",
       "</style>\n",
       "<table border=\"1\" class=\"dataframe\">\n",
       "  <thead>\n",
       "    <tr style=\"text-align: right;\">\n",
       "      <th></th>\n",
       "      <th>Number of Members</th>\n",
       "      <th>Median Income ($)</th>\n",
       "      <th>Pool</th>\n",
       "      <th>Courts</th>\n",
       "      <th>Classes</th>\n",
       "    </tr>\n",
       "  </thead>\n",
       "  <tbody>\n",
       "    <tr>\n",
       "      <th>0</th>\n",
       "      <td>1258</td>\n",
       "      <td>32223</td>\n",
       "      <td>0</td>\n",
       "      <td>0</td>\n",
       "      <td>0</td>\n",
       "    </tr>\n",
       "    <tr>\n",
       "      <th>1</th>\n",
       "      <td>1479</td>\n",
       "      <td>34975</td>\n",
       "      <td>0</td>\n",
       "      <td>0</td>\n",
       "      <td>0</td>\n",
       "    </tr>\n",
       "    <tr>\n",
       "      <th>2</th>\n",
       "      <td>1480</td>\n",
       "      <td>43187</td>\n",
       "      <td>0</td>\n",
       "      <td>1</td>\n",
       "      <td>0</td>\n",
       "    </tr>\n",
       "    <tr>\n",
       "      <th>3</th>\n",
       "      <td>1701</td>\n",
       "      <td>44337</td>\n",
       "      <td>0</td>\n",
       "      <td>0</td>\n",
       "      <td>0</td>\n",
       "    </tr>\n",
       "    <tr>\n",
       "      <th>4</th>\n",
       "      <td>2014</td>\n",
       "      <td>52167</td>\n",
       "      <td>0</td>\n",
       "      <td>0</td>\n",
       "      <td>1</td>\n",
       "    </tr>\n",
       "  </tbody>\n",
       "</table>\n",
       "</div>"
      ],
      "text/plain": [
       "   Number of Members  Median Income ($)  Pool  Courts  Classes\n",
       "0               1258              32223     0       0        0\n",
       "1               1479              34975     0       0        0\n",
       "2               1480              43187     0       1        0\n",
       "3               1701              44337     0       0        0\n",
       "4               2014              52167     0       0        1"
      ]
     },
     "execution_count": 17,
     "metadata": {},
     "output_type": "execute_result"
    }
   ],
   "source": [
    "df.head()"
   ]
  },
  {
   "cell_type": "markdown",
   "id": "71a3f383-3f29-46d9-b1ec-c066afe5387f",
   "metadata": {},
   "source": [
    "### c) Use statistical software to estimate the following regression models. In each case,\r\n",
    "write the estimated regression equation and state whether the coefficient of the\r\n",
    "independence variable is significant at the 0.10 level. (Make sure to include the\r\n",
    "following in your answers: hypotheses H0 and Ha , test statistic value, p-value,\r\n",
    "conclusion.)\r\n",
    "i) Members = b0 + b 1 (Pool) + ei\r\n",
    "ii) Members = b0 + b 1 (Courts) + e i\r\n",
    "iii) Members = b0 + b 1 (Classes) + e "
   ]
  },
  {
   "cell_type": "code",
   "execution_count": 18,
   "id": "aa6608ab-d6dc-4ca8-b4d3-2adb453a6703",
   "metadata": {},
   "outputs": [
    {
     "name": "stdout",
     "output_type": "stream",
     "text": [
      "Model i:\n",
      "                            OLS Regression Results                            \n",
      "==============================================================================\n",
      "Dep. Variable:      Number of Members   R-squared:                       0.413\n",
      "Model:                            OLS   Adj. R-squared:                  0.371\n",
      "Method:                 Least Squares   F-statistic:                     9.863\n",
      "Date:                Sun, 31 Mar 2024   Prob (F-statistic):            0.00723\n",
      "Time:                        20:49:05   Log-Likelihood:                -130.17\n",
      "No. Observations:                  16   AIC:                             264.3\n",
      "Df Residuals:                      14   BIC:                             265.9\n",
      "Df Model:                           1                                         \n",
      "Covariance Type:            nonrobust                                         \n",
      "==============================================================================\n",
      "                 coef    std err          t      P>|t|      [0.025      0.975]\n",
      "------------------------------------------------------------------------------\n",
      "const       2298.3000    279.269      8.230      0.000    1699.327    2897.273\n",
      "Pool        1432.2000    456.045      3.140      0.007     454.081    2410.319\n",
      "==============================================================================\n",
      "Omnibus:                        1.974   Durbin-Watson:                   0.958\n",
      "Prob(Omnibus):                  0.373   Jarque-Bera (JB):                1.067\n",
      "Skew:                           0.251   Prob(JB):                        0.587\n",
      "Kurtosis:                       1.839   Cond. No.                         2.43\n",
      "==============================================================================\n",
      "\n",
      "Notes:\n",
      "[1] Standard Errors assume that the covariance matrix of the errors is correctly specified.\n",
      "\n",
      "Model ii:\n",
      "                            OLS Regression Results                            \n",
      "==============================================================================\n",
      "Dep. Variable:      Number of Members   R-squared:                       0.128\n",
      "Model:                            OLS   Adj. R-squared:                  0.066\n",
      "Method:                 Least Squares   F-statistic:                     2.058\n",
      "Date:                Sun, 31 Mar 2024   Prob (F-statistic):              0.173\n",
      "Time:                        20:49:05   Log-Likelihood:                -133.34\n",
      "No. Observations:                  16   AIC:                             270.7\n",
      "Df Residuals:                      14   BIC:                             272.2\n",
      "Df Model:                           1                                         \n",
      "Covariance Type:            nonrobust                                         \n",
      "==============================================================================\n",
      "                 coef    std err          t      P>|t|      [0.025      0.975]\n",
      "------------------------------------------------------------------------------\n",
      "const       2575.0909    324.598      7.933      0.000    1878.897    3271.285\n",
      "Courts       832.9091    580.659      1.434      0.173    -412.480    2078.299\n",
      "==============================================================================\n",
      "Omnibus:                        1.158   Durbin-Watson:                   0.320\n",
      "Prob(Omnibus):                  0.560   Jarque-Bera (JB):                0.795\n",
      "Skew:                          -0.147   Prob(JB):                        0.672\n",
      "Kurtosis:                       1.948   Cond. No.                         2.42\n",
      "==============================================================================\n",
      "\n",
      "Notes:\n",
      "[1] Standard Errors assume that the covariance matrix of the errors is correctly specified.\n",
      "\n",
      "Model iii:\n",
      "                            OLS Regression Results                            \n",
      "==============================================================================\n",
      "Dep. Variable:      Number of Members   R-squared:                       0.490\n",
      "Model:                            OLS   Adj. R-squared:                  0.453\n",
      "Method:                 Least Squares   F-statistic:                     13.45\n",
      "Date:                Sun, 31 Mar 2024   Prob (F-statistic):            0.00254\n",
      "Time:                        20:49:05   Log-Likelihood:                -129.05\n",
      "No. Observations:                  16   AIC:                             262.1\n",
      "Df Residuals:                      14   BIC:                             263.6\n",
      "Df Model:                           1                                         \n",
      "Covariance Type:            nonrobust                                         \n",
      "==============================================================================\n",
      "                 coef    std err          t      P>|t|      [0.025      0.975]\n",
      "------------------------------------------------------------------------------\n",
      "const       1860.8333    336.179      5.535      0.000    1139.802    2581.865\n",
      "Classes     1559.2667    425.236      3.667      0.003     647.226    2471.308\n",
      "==============================================================================\n",
      "Omnibus:                        0.716   Durbin-Watson:                   0.885\n",
      "Prob(Omnibus):                  0.699   Jarque-Bera (JB):                0.632\n",
      "Skew:                          -0.061   Prob(JB):                        0.729\n",
      "Kurtosis:                       2.034   Cond. No.                         3.03\n",
      "==============================================================================\n",
      "\n",
      "Notes:\n",
      "[1] Standard Errors assume that the covariance matrix of the errors is correctly specified.\n"
     ]
    },
    {
     "name": "stderr",
     "output_type": "stream",
     "text": [
      "C:\\Users\\Akshay\\anaconda3\\envs\\tensorflow\\lib\\site-packages\\scipy\\stats\\_stats_py.py:1806: UserWarning: kurtosistest only valid for n>=20 ... continuing anyway, n=16\n",
      "  warnings.warn(\"kurtosistest only valid for n>=20 ... continuing \"\n",
      "C:\\Users\\Akshay\\anaconda3\\envs\\tensorflow\\lib\\site-packages\\scipy\\stats\\_stats_py.py:1806: UserWarning: kurtosistest only valid for n>=20 ... continuing anyway, n=16\n",
      "  warnings.warn(\"kurtosistest only valid for n>=20 ... continuing \"\n",
      "C:\\Users\\Akshay\\anaconda3\\envs\\tensorflow\\lib\\site-packages\\scipy\\stats\\_stats_py.py:1806: UserWarning: kurtosistest only valid for n>=20 ... continuing anyway, n=16\n",
      "  warnings.warn(\"kurtosistest only valid for n>=20 ... continuing \"\n"
     ]
    }
   ],
   "source": [
    "import statsmodels.api as sm\n",
    "\n",
    "# Model i) Members = b0 + b1(Pool) + ei\n",
    "model_i = sm.OLS(df['Number of Members'], sm.add_constant(df['Pool']))\n",
    "results_i = model_i.fit()\n",
    "\n",
    "# Model ii) Members = b0 + b1(Courts) + ei\n",
    "model_ii = sm.OLS(df['Number of Members'], sm.add_constant(df['Courts']))\n",
    "results_ii = model_ii.fit()\n",
    "\n",
    "# Model iii) Members = b0 + b1(Classes) + ei\n",
    "model_iii = sm.OLS(df['Number of Members'], sm.add_constant(df['Classes']))\n",
    "results_iii = model_iii.fit()\n",
    "\n",
    "# Print summary for each model\n",
    "print(\"Model i:\")\n",
    "print(results_i.summary())\n",
    "print(\"\\nModel ii:\")\n",
    "print(results_ii.summary())\n",
    "print(\"\\nModel iii:\")\n",
    "print(results_iii.summary())\n"
   ]
  },
  {
   "cell_type": "markdown",
   "id": "97dcdf16-6c4e-469f-a252-d0298926644a",
   "metadata": {},
   "source": [
    "### Now, let's interpret the results for each model and determine the significance of the coefficients:\n",
    "\n",
    "### Model i) Members = $b_0 + b_1(\\text{Pool}) + e_i$\n",
    "- **Hypotheses**:\n",
    "  - $H_0: b_1 = 0$ (The number of members is not affected by the presence of a pool)\n",
    "  - $H_a: b_1 \\neq 0$ (The number of members is affected by the presence of a pool)\n",
    "\n",
    "**Conclusion:**\n",
    "- Test Statistic Value, p-value: Look for the coefficient corresponding to 'Pool'. If its p-value is less than 0.10, we reject the null hypothesis.\n",
    "- If the p-value < 0.10, we conclude that the coefficient of 'Pool' is significant at the 0.10 level, indicating that the presence of a pool has a significant effect on the number of members.\n",
    "\n",
    "### Model ii) Members = $b_0 + b_1(\\text{Courts}) + e_i$\n",
    "- **Hypotheses**:\n",
    "  - $H_0: b_1 = 0$ (The number of members is not affected by the presence of racquetball courts)\n",
    "  - $H_a: b_1 \\neq 0$ (The number of members is affected by the presence of racquetball courts)\n",
    "\n",
    "**Conclusion:**\n",
    "- Test Statistic Value, p-value: Look for the coefficient corresponding to 'Courts'. If its p-value is less than 0.10, we reject the null hypothesis.\n",
    "- If the p-value < 0.10, we conclude that the coefficient of 'Courts' is significant at the 0.10 level, indicating that the presence of racquetball courts has a significant effect on the number of members.\n",
    "\n",
    "### Model iii) Members = $b_0 + b_1(\\text{Classes}) + e_i$\n",
    "- **Hypotheses**:\n",
    "  - $H_0: b_1 = 0$ (The number of members is not affected by the offering of fitness classes)\n",
    "  - $H_a: b_1 \\neq 0$ (The number of members is affected by the offering of fitness classes)\n",
    "\n",
    "\n",
    "**Conclusion:**\n",
    "- Test Statistic Value, p-value: Look for the coefficient corresponding to 'Classes'. If its p-value is less than 0.10, we reject the null hypothesis.\n",
    "- If the p-value < 0.10, we conclude that the coefficient of 'Classes' is significant at the 0.10 level, indicating that the presence of fitness classes has a significant effect on the number of members.\n",
    "\n",
    "This approach gives you estimated regression equations for each model and helps you determine the significance of the coefficients at the 0.10 level."
   ]
  },
  {
   "cell_type": "markdown",
   "id": "f27b0593-77bf-4ff0-a5c1-5f416f7d6469",
   "metadata": {},
   "source": [
    "### d) Estimate the following multiple regression model.\n",
    "Members = b 0 + b 1 (Income) + b2 (Pool) + b 3 (Courts) + b4 (Classes) + ei\n",
    "Write the estimated regression equation."
   ]
  },
  {
   "cell_type": "markdown",
   "id": "d93c6c1e-3d23-402b-ae7a-969266a35a18",
   "metadata": {},
   "source": [
    "### Estimated Equation : \n",
    "$b_0 + b_1(\\text{Classes}) + $b_0 + b_1(Income) + $b_0 + b_1(\\text{Courts}) + $b_0 + b_1(Pool) + e_i$"
   ]
  },
  {
   "cell_type": "code",
   "execution_count": 19,
   "id": "af58e465-9ca1-4fe4-847a-38fac920a1e3",
   "metadata": {},
   "outputs": [
    {
     "name": "stdout",
     "output_type": "stream",
     "text": [
      "                            OLS Regression Results                            \n",
      "==============================================================================\n",
      "Dep. Variable:      Number of Members   R-squared:                       0.957\n",
      "Model:                            OLS   Adj. R-squared:                  0.942\n",
      "Method:                 Least Squares   F-statistic:                     61.81\n",
      "Date:                Sun, 31 Mar 2024   Prob (F-statistic):           1.81e-07\n",
      "Time:                        20:49:05   Log-Likelihood:                -109.19\n",
      "No. Observations:                  16   AIC:                             228.4\n",
      "Df Residuals:                      11   BIC:                             232.2\n",
      "Df Model:                           4                                         \n",
      "Covariance Type:            nonrobust                                         \n",
      "=====================================================================================\n",
      "                        coef    std err          t      P>|t|      [0.025      0.975]\n",
      "-------------------------------------------------------------------------------------\n",
      "Median Income ($)     0.0579      0.008      7.491      0.000       0.041       0.075\n",
      "Pool                103.1977    182.957      0.564      0.584    -299.487     505.882\n",
      "Courts               69.9072    170.645      0.410      0.690    -305.681     445.495\n",
      "Classes             -75.5959    237.358     -0.318      0.756    -598.016     446.825\n",
      "Intercept          -822.7405    335.073     -2.455      0.032   -1560.232     -85.249\n",
      "==============================================================================\n",
      "Omnibus:                        2.834   Durbin-Watson:                   1.967\n",
      "Prob(Omnibus):                  0.242   Jarque-Bera (JB):                2.095\n",
      "Skew:                           0.854   Prob(JB):                        0.351\n",
      "Kurtosis:                       2.526   Cond. No.                     3.77e+05\n",
      "==============================================================================\n",
      "\n",
      "Notes:\n",
      "[1] Standard Errors assume that the covariance matrix of the errors is correctly specified.\n",
      "[2] The condition number is large, 3.77e+05. This might indicate that there are\n",
      "strong multicollinearity or other numerical problems.\n"
     ]
    },
    {
     "name": "stderr",
     "output_type": "stream",
     "text": [
      "C:\\Users\\Akshay\\anaconda3\\envs\\tensorflow\\lib\\site-packages\\scipy\\stats\\_stats_py.py:1806: UserWarning: kurtosistest only valid for n>=20 ... continuing anyway, n=16\n",
      "  warnings.warn(\"kurtosistest only valid for n>=20 ... continuing \"\n"
     ]
    }
   ],
   "source": [
    "# Add constant term for the intercept\n",
    "df['Intercept'] = 1\n",
    "\n",
    "# Define independent variables (features)\n",
    "X = df[['Median Income ($)', 'Pool', 'Courts', 'Classes', 'Intercept']]\n",
    "\n",
    "# Define dependent variable (target)\n",
    "y = df['Number of Members']\n",
    "\n",
    "# Fit the multiple regression model\n",
    "model = sm.OLS(y, X).fit()\n",
    "\n",
    "# Print the summary of the regression model\n",
    "print(model.summary())"
   ]
  },
  {
   "cell_type": "markdown",
   "id": "29e8c9eb-e16f-40f1-907d-f838d90df78b",
   "metadata": {},
   "source": [
    "### e) Are any of the coefficients of the indicator variables significant at the 0.10 level?"
   ]
  },
  {
   "cell_type": "markdown",
   "id": "ee920b46-3de0-465e-9a98-38c2987ba0c5",
   "metadata": {},
   "source": [
    "##### To determine if any of the coefficients of the indicator variables are significant at the 0.10 level, you would look at the p-values associated with each coefficient in the regression output. If the p-value is less than 0.10, then the coefficient is considered significant at the 0.10 level."
   ]
  },
  {
   "cell_type": "markdown",
   "id": "996e7aa2-fcee-46f8-9850-b7c1c6bcc4d4",
   "metadata": {},
   "source": [
    "### f) Explain why it is important to include the income variable in the regression model."
   ]
  },
  {
   "cell_type": "markdown",
   "id": "a8f5758b-0c3b-438a-97a6-96775b2404e1",
   "metadata": {},
   "source": [
    "##### It is important to include the income variable in the regression model because the CEO believes that median income in the area is a significant factor in determining the number of people who join a neighborhood sports club. By including income in the regression model, you can assess its impact on club membership while controlling for other factors like the presence of a pool, racquetball courts, or fitness classes. Additionally, including income allows for a more comprehensive analysis of the determinants of club membership."
   ]
  },
  {
   "cell_type": "markdown",
   "id": "746fba8d-90b9-4b99-90ff-d2fd4d3c5c17",
   "metadata": {},
   "source": [
    "### g) After studying these regression results, how would you suggest the management of the sports club chain go about building their new location? Should they use any of the regression models you have estimated? Explain why or why not."
   ]
  },
  {
   "cell_type": "markdown",
   "id": "ddd0e511-488f-4dff-8103-b06f69e33578",
   "metadata": {},
   "source": [
    "##### After studying the regression results, the management of the sports club chain should consider several factors when deciding how to build their new location:\n",
    "\n",
    "##### The coefficients of the indicator variables (pool, racquetball courts, fitness classes) and their associated p-values should be carefully examined to determine if these amenities have a significant impact on club membership.\n",
    "##### The coefficient of the income variable should also be considered to understand its effect on club membership.\n",
    "##### It's important to remember that correlation does not imply causation. Even if certain amenities or income levels are correlated with club membership, it doesn't necessarily mean that building a new location with those features will guarantee higher membership.\n",
    "##### Other factors not included in the regression model may also influence club membership, such as location, marketing strategies, competition from other clubs, etc.\n",
    "##### Ultimately, the decision on how to build the new location should be based on a combination of regression results, industry knowledge, market research, and business objectives.\n",
    "##### If the regression models provide significant evidence that amenities or income levels impact club membership, the management may consider incorporating these features into the new location. However, it's essential to carefully evaluate all factors and consider the broader context before making a decision."
   ]
  }
 ],
 "metadata": {
  "kernelspec": {
   "display_name": "Python 3 (ipykernel)",
   "language": "python",
   "name": "python3"
  },
  "language_info": {
   "codemirror_mode": {
    "name": "ipython",
    "version": 3
   },
   "file_extension": ".py",
   "mimetype": "text/x-python",
   "name": "python",
   "nbconvert_exporter": "python",
   "pygments_lexer": "ipython3",
   "version": "3.10.13"
  }
 },
 "nbformat": 4,
 "nbformat_minor": 5
}
