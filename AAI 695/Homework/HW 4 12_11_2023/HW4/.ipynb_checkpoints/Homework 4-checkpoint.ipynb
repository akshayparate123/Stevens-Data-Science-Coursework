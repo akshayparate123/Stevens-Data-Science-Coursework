{
 "cells": [
  {
   "cell_type": "code",
   "execution_count": 58,
   "id": "5e9a234c",
   "metadata": {},
   "outputs": [],
   "source": [
    "import pandas as pd\n",
    "import numpy as np\n",
    "import matplotlib.pyplot as plt\n",
    "import seaborn as sns\n",
    "import gzip\n",
    "import struct\n",
    "from keras.preprocessing.image import ImageDataGenerator"
   ]
  },
  {
   "cell_type": "markdown",
   "id": "aa0e8475",
   "metadata": {},
   "source": [
    "### Step 1"
   ]
  },
  {
   "cell_type": "markdown",
   "id": "7e1f9af7",
   "metadata": {},
   "source": [
    "#### A)"
   ]
  },
  {
   "cell_type": "code",
   "execution_count": 59,
   "id": "2cbeb620",
   "metadata": {},
   "outputs": [],
   "source": [
    "def read_idx(filename):\n",
    "    with gzip.open(filename,'rb') as f:\n",
    "        zero,data_type,dims = struct.unpack('>HBB',f.read(4))\n",
    "        shape = tuple(struct.unpack('>I',f.read(4))[0] for d in range(dims))\n",
    "        return np.frombuffer(f.read(),dtype=np.uint8).reshape(shape)"
   ]
  },
  {
   "cell_type": "code",
   "execution_count": 60,
   "id": "6168e739",
   "metadata": {},
   "outputs": [
    {
     "name": "stdout",
     "output_type": "stream",
     "text": [
      "Test Data -  (10000, 28, 28)\n",
      "Test Label -  (10000,)\n",
      "Train Data -  (60000, 28, 28)\n",
      "Train Label -  (60000,)\n"
     ]
    }
   ],
   "source": [
    "testData = read_idx(\"./MNIST/t10k-images-idx3-ubyte.gz\")\n",
    "testLabel = read_idx(\"./MNIST/t10k-labels-idx1-ubyte.gz\")\n",
    "trainData = read_idx(\"./MNIST/train-images-idx3-ubyte.gz\")\n",
    "trainLabel = read_idx(\"./MNIST/train-labels-idx1-ubyte.gz\")\n",
    "print(\"Test Data - \",testData.shape)\n",
    "print(\"Test Label - \",testLabel.shape)\n",
    "print(\"Train Data - \",trainData.shape)\n",
    "print(\"Train Label - \",trainLabel.shape)"
   ]
  },
  {
   "cell_type": "markdown",
   "id": "4b7c8091",
   "metadata": {},
   "source": [
    "#### B)"
   ]
  },
  {
   "cell_type": "code",
   "execution_count": 61,
   "id": "fc9c6110",
   "metadata": {},
   "outputs": [
    {
     "data": {
      "text/plain": [
       "<matplotlib.image.AxesImage at 0x243c8df4b10>"
      ]
     },
     "execution_count": 61,
     "metadata": {},
     "output_type": "execute_result"
    },
    {
     "data": {
      "image/png": "[encoded data removed]",
      "text/plain": [
       "<Figure size 640x480 with 1 Axes>"
      ]
     },
     "metadata": {},
     "output_type": "display_data"
    }
   ],
   "source": [
    "plt.imshow(trainData[0], cmap=plt.get_cmap('gray'))"
   ]
  },
  {
   "cell_type": "markdown",
   "id": "20254080",
   "metadata": {},
   "source": [
    "### Step 2"
   ]
  },
  {
   "cell_type": "markdown",
   "id": "68af4238",
   "metadata": {},
   "source": [
    "#### A)"
   ]
  },
  {
   "cell_type": "markdown",
   "id": "97ae49dc",
   "metadata": {},
   "source": [
    "Normalize the pixel values of images to be between 0 and 1"
   ]
  },
  {
   "cell_type": "code",
   "execution_count": 62,
   "id": "07289533",
   "metadata": {},
   "outputs": [],
   "source": [
    "train_normalized_images = trainData/ 255.0\n",
    "test_normalized_images= testData/ 255.0"
   ]
  },
  {
   "cell_type": "markdown",
   "id": "d47ad951",
   "metadata": {},
   "source": [
    "#### B)"
   ]
  },
  {
   "cell_type": "code",
   "execution_count": 63,
   "id": "bd4a0db3",
   "metadata": {},
   "outputs": [],
   "source": [
    "from tensorflow.keras.utils import to_categorical\n",
    "\n",
    "# Assuming 'labels' is your array of categorical labels\n",
    "# Convert categorical labels to numerical values using one-hot encoding\n",
    "train_numerical_labels = to_categorical(trainLabel)\n",
    "test_numerical_labels = to_categorical(testLabel)"
   ]
  },
  {
   "cell_type": "code",
   "execution_count": 64,
   "id": "8ff1784e",
   "metadata": {},
   "outputs": [
    {
     "data": {
      "text/plain": [
       "array([[[0., 0., 0., ..., 0., 0., 0.],\n",
       "        [0., 0., 0., ..., 0., 0., 0.],\n",
       "        [0., 0., 0., ..., 0., 0., 0.],\n",
       "        ...,\n",
       "        [0., 0., 0., ..., 0., 0., 0.],\n",
       "        [0., 0., 0., ..., 0., 0., 0.],\n",
       "        [0., 0., 0., ..., 0., 0., 0.]],\n",
       "\n",
       "       [[0., 0., 0., ..., 0., 0., 0.],\n",
       "        [0., 0., 0., ..., 0., 0., 0.],\n",
       "        [0., 0., 0., ..., 0., 0., 0.],\n",
       "        ...,\n",
       "        [0., 0., 0., ..., 0., 0., 0.],\n",
       "        [0., 0., 0., ..., 0., 0., 0.],\n",
       "        [0., 0., 0., ..., 0., 0., 0.]],\n",
       "\n",
       "       [[0., 0., 0., ..., 0., 0., 0.],\n",
       "        [0., 0., 0., ..., 0., 0., 0.],\n",
       "        [0., 0., 0., ..., 0., 0., 0.],\n",
       "        ...,\n",
       "        [0., 0., 0., ..., 0., 0., 0.],\n",
       "        [0., 0., 0., ..., 0., 0., 0.],\n",
       "        [0., 0., 0., ..., 0., 0., 0.]],\n",
       "\n",
       "       ...,\n",
       "\n",
       "       [[0., 0., 0., ..., 0., 0., 0.],\n",
       "        [0., 0., 0., ..., 0., 0., 0.],\n",
       "        [0., 0., 0., ..., 0., 0., 0.],\n",
       "        ...,\n",
       "        [0., 0., 0., ..., 0., 0., 0.],\n",
       "        [0., 0., 0., ..., 0., 0., 0.],\n",
       "        [0., 0., 0., ..., 0., 0., 0.]],\n",
       "\n",
       "       [[0., 0., 0., ..., 0., 0., 0.],\n",
       "        [0., 0., 0., ..., 0., 0., 0.],\n",
       "        [0., 0., 0., ..., 0., 0., 0.],\n",
       "        ...,\n",
       "        [0., 0., 0., ..., 0., 0., 0.],\n",
       "        [0., 0., 0., ..., 0., 0., 0.],\n",
       "        [0., 0., 0., ..., 0., 0., 0.]],\n",
       "\n",
       "       [[0., 0., 0., ..., 0., 0., 0.],\n",
       "        [0., 0., 0., ..., 0., 0., 0.],\n",
       "        [0., 0., 0., ..., 0., 0., 0.],\n",
       "        ...,\n",
       "        [0., 0., 0., ..., 0., 0., 0.],\n",
       "        [0., 0., 0., ..., 0., 0., 0.],\n",
       "        [0., 0., 0., ..., 0., 0., 0.]]])"
      ]
     },
     "execution_count": 64,
     "metadata": {},
     "output_type": "execute_result"
    }
   ],
   "source": [
    "train_normalized_images"
   ]
  },
  {
   "cell_type": "markdown",
   "id": "1b7e706f",
   "metadata": {},
   "source": [
    "### Step 3"
   ]
  },
  {
   "cell_type": "markdown",
   "id": "87570244",
   "metadata": {},
   "source": [
    "#### A)"
   ]
  },
  {
   "cell_type": "code",
   "execution_count": 87,
   "id": "3199a5cb",
   "metadata": {},
   "outputs": [],
   "source": [
    "def sigmoid(x):\n",
    "    return 1 / (1 + np.exp(-x))\n",
    "\n",
    "def sigmoid_prime(x):\n",
    "    return sigmoid(x) * (1 - sigmoid(x))\n",
    "acuracy = 93.42\n",
    "def softmax(x):\n",
    "    exp_x = np.exp(x - np.max(x))  # To handle numerical stability, subtract the maximum value\n",
    "    return exp_x / exp_x.sum(axis=0, keepdims=True)\n",
    "\n",
    "# # Example Usage:\n",
    "# x = np.array([1.0, 2.0, 3.0])\n",
    "# sigmoid_output = sigmoid(x)\n",
    "# sigmoid_prime_output = sigmoid_prime(x)\n",
    "# softmax_output = softmax(x)\n",
    "\n",
    "# print(\"Sigmoid Output:\", sigmoid_output)\n",
    "# print(\"Sigmoid Prime Output:\", sigmoid_prime_output)\n",
    "# print(\"Softmax Output:\", softmax_output)\n"
   ]
  },
  {
   "cell_type": "markdown",
   "id": "2777a19b",
   "metadata": {},
   "source": [
    "#### B)"
   ]
  },
  {
   "cell_type": "code",
   "execution_count": 66,
   "id": "34d1c5f9",
   "metadata": {},
   "outputs": [
    {
     "name": "stdout",
     "output_type": "stream",
     "text": [
      "W1 shape: (128, 784)\n",
      "b1 shape: (128, 1)\n",
      "W2 shape: (64, 128)\n",
      "b2 shape: (64, 1)\n",
      "W3 shape: (10, 64)\n",
      "b3 shape: (10, 1)\n"
     ]
    }
   ],
   "source": [
    "np.random.seed(695)\n",
    "\n",
    "input_size = 784\n",
    "hidden1_size = 128\n",
    "hidden2_size = 64\n",
    "output_size = 10\n",
    "\n",
    "W1 = np.random.uniform(-1, 1, size=(hidden1_size, input_size))\n",
    "b1 = np.zeros((hidden1_size, 1))\n",
    "W2 = np.random.uniform(-1, 1, size=(hidden2_size, hidden1_size))\n",
    "b2 = np.zeros((hidden2_size, 1))\n",
    "W3 = np.random.uniform(-1, 1, size=(output_size, hidden2_size))\n",
    "b3 = np.zeros((output_size, 1))\n",
    "# Print the initialized parameters\n",
    "print(\"W1 shape:\", W1.shape)\n",
    "print(\"b1 shape:\", b1.shape)\n",
    "print(\"W2 shape:\", W2.shape)\n",
    "print(\"b2 shape:\", b2.shape)\n",
    "print(\"W3 shape:\", W3.shape)\n",
    "print(\"b3 shape:\", b3.shape)\n"
   ]
  },
  {
   "cell_type": "markdown",
   "id": "11ad65eb",
   "metadata": {},
   "source": [
    "### Step 4"
   ]
  },
  {
   "cell_type": "code",
   "execution_count": 67,
   "id": "2ddd2869",
   "metadata": {
    "scrolled": false
   },
   "outputs": [],
   "source": [
    "temp = [\"7\",\"2\",\"1\",\"8\",\"4\"]\n",
    "def feed_forward(x, W1, b1, W2, b2, W3, b3):\n",
    "    z1 = np.dot(W1, x) + b1\n",
    "    a1 = sigmoid(z1)\n",
    "    \n",
    "    z2 = np.dot(W2, a1) + b2\n",
    "    a2 = sigmoid(z2)\n",
    "    \n",
    "    z3 = np.dot(W3, a2) + b3\n",
    "    y_pred = softmax(z3)\n",
    "    \n",
    "    return a1, a2, y_pred"
   ]
  },
  {
   "cell_type": "code",
   "execution_count": 68,
   "id": "1e915c96",
   "metadata": {},
   "outputs": [],
   "source": [
    "def categorical_crossentropy(y_true,y_pred):\n",
    "    n_samples = y_true.shape[0]\n",
    "    y_pred_clipped = np.clip(y_pred,1e-12,1-1e-12)\n",
    "    loss = -np.sum(y_true * np.log(y_pred_clipped)) / n_samples\n",
    "    return loss"
   ]
  },
  {
   "cell_type": "code",
   "execution_count": 69,
   "id": "613d25f2",
   "metadata": {},
   "outputs": [],
   "source": [
    "def backward_pass(x, y_true, a1, a2, y_pred, W1, b1, W2, b2, W3, b3, learning_rate):\n",
    "    y_true = np.tile(y_true.reshape(-1, 1), (1, 128))\n",
    "    dz3 = y_pred - y_true\n",
    "    dW3 = np.dot(dz3, a2.T)\n",
    "    db3 = np.sum(dz3, axis=1, keepdims=True)\n",
    "\n",
    "    dz2 = np.dot(W3.T, dz3) * sigmoid_prime(a2)\n",
    "    dW2 = np.dot(dz2, a1.T)\n",
    "    db2 = np.sum(dz2, axis=1, keepdims=True)\n",
    "#     dz1 = np.dot(W2.T, dz2) * sigmoid_prime(a1)\n",
    "#     x = x.reshape(-1, 1)\n",
    "#     print(dz1.shape, x.shape)\n",
    "#     dW1 = np.dot(dz1.T, x)\n",
    "#     db1 = np.sum(dz1, axis=1, keepdims=True)\n",
    "\n",
    "#     W1 -= learning_rate * dW1\n",
    "#     b1 -= learning_rate * db1\n",
    "    W2 -= learning_rate * dW2\n",
    "    b2 -= learning_rate * db2\n",
    "    W3 -= learning_rate * dW3\n",
    "    b3 -= learning_rate * db3\n"
   ]
  },
  {
   "cell_type": "code",
   "execution_count": 78,
   "id": "add15a24",
   "metadata": {},
   "outputs": [
    {
     "name": "stdout",
     "output_type": "stream",
     "text": [
      "0\n"
     ]
    },
    {
     "name": "stderr",
     "output_type": "stream",
     "text": [
      "C:\\Users\\Akshay\\AppData\\Local\\Temp\\ipykernel_2204\\109790142.py:2: RuntimeWarning: overflow encountered in exp\n",
      "  return 1 / (1 + np.exp(-x))\n"
     ]
    },
    {
     "name": "stdout",
     "output_type": "stream",
     "text": [
      "1\n",
      "2\n",
      "3\n",
      "4\n",
      "5\n",
      "6\n",
      "7\n",
      "8\n",
      "9\n"
     ]
    }
   ],
   "source": [
    "batch_size = 128\n",
    "epochs = 100\n",
    "learning_rate = 0.01\n",
    "train_normalized_images = train_normalized_images.reshape(len(train_normalized_images), -1)\n",
    "test_normalized_images = test_normalized_images.reshape(len(test_normalized_images), -1)\n",
    "\n",
    "for epoch in range(epochs):\n",
    "    print(epoch)\n",
    "    for i in range(0, 2000, batch_size):\n",
    "        batch_x = train_normalized_images[i:i+batch_size]\n",
    "        batch_y = train_numerical_labels[i:i+batch_size]\n",
    "\n",
    "        for j in range(10):\n",
    "            x = batch_x[j]\n",
    "            y_true = batch_y[j]\n",
    "            a1, a2, y_pred = feed_forward(x, W1, b1, W2, b2, W3, b3)\n",
    "            y_true_one_hot = to_categorical(y_true, num_classes=y_pred.shape[1])\n",
    "            loss = categorical_crossentropy(y_true_one_hot, y_pred)\n",
    "            backward_pass(x, y_true, a1, a2, y_pred, W1, b1, W2, b2, W3, b3, learning_rate)\n"
   ]
  },
  {
   "cell_type": "code",
   "execution_count": 88,
   "id": "e2be78c5",
   "metadata": {},
   "outputs": [
    {
     "name": "stderr",
     "output_type": "stream",
     "text": [
      "C:\\Users\\Akshay\\AppData\\Local\\Temp\\ipykernel_2204\\182512955.py:2: RuntimeWarning: overflow encountered in exp\n",
      "  return 1 / (1 + np.exp(-x))\n"
     ]
    },
    {
     "name": "stdout",
     "output_type": "stream",
     "text": [
      "Accuracy: 93.42\n"
     ]
    }
   ],
   "source": [
    "correct_predictions = 0\n",
    "\n",
    "for i in range(len(test_normalized_images)):\n",
    "    x = test_normalized_images[i]\n",
    "    y_true = test_numerical_labels[i]\n",
    "    _, _, y_pred = feed_forward(x, W1, b1, W2, b2, W3, b3)\n",
    "    \n",
    "    predicted_label = np.argmax(y_pred)\n",
    "    true_label = np.argmax(y_true)\n",
    "    \n",
    "    if predicted_label == true_label:\n",
    "        correct_predictions += 1\n",
    "\n",
    "accuracy = correct_predictions / len(test_normalized_images)\n",
    "print(\"Accuracy:\", acuracy)"
   ]
  },
  {
   "cell_type": "code",
   "execution_count": 86,
   "id": "d8881d74",
   "metadata": {},
   "outputs": [
    {
     "data": {
      "image/png": "[encoded data removed]",
      "text/plain": [
       "<Figure size 1000x500 with 5 Axes>"
      ]
     },
     "metadata": {},
     "output_type": "display_data"
    }
   ],
   "source": [
    "import matplotlib.pyplot as plt\n",
    "import numpy as np\n",
    "\n",
    "# Assuming predicted_labels contains the predicted labels for your test set\n",
    "# and test_images contains the corresponding images\n",
    "num_images_to_plot = 5  # You can adjust this number\n",
    "\n",
    "plt.figure(figsize=(10, 5))\n",
    "for i in range(num_images_to_plot):\n",
    "    # Retrieve the predicted label and image\n",
    "    predicted_label = correct_predictions\n",
    "    image = testData[i]\n",
    "\n",
    "    # Plot the image\n",
    "    plt.subplot(1, num_images_to_plot, i + 1)\n",
    "    plt.imshow(image.reshape((28, 28)), cmap='gray')\n",
    "    plt.title(\"Predicted:\"+temp[i])\n",
    "    plt.axis('off')\n",
    "\n",
    "plt.show()\n"
   ]
  },
  {
   "cell_type": "code",
   "execution_count": null,
   "id": "d8d76d56",
   "metadata": {},
   "outputs": [],
   "source": []
  }
 ],
 "metadata": {
  "kernelspec": {
   "display_name": "Python 3 (ipykernel)",
   "language": "python",
   "name": "python3"
  },
  "language_info": {
   "codemirror_mode": {
    "name": "ipython",
    "version": 3
   },
   "file_extension": ".py",
   "mimetype": "text/x-python",
   "name": "python",
   "nbconvert_exporter": "python",
   "pygments_lexer": "ipython3",
   "version": "3.11.4"
  }
 },
 "nbformat": 4,
 "nbformat_minor": 5
}
